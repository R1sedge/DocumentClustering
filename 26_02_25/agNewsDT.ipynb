{
 "cells": [
  {
   "cell_type": "code",
   "id": "initial_id",
   "metadata": {
    "collapsed": true,
    "ExecuteTime": {
     "end_time": "2025-03-04T19:04:09.163168Z",
     "start_time": "2025-03-04T19:04:09.064901Z"
    }
   },
   "source": [
    "import nltk\n",
    "import string\n",
    "from datasets import load_dataset\n",
    "import re\n",
    "from nltk.corpus import stopwords\n",
    "from nltk import pos_tag\n",
    "import numpy as np\n",
    "from sklearn.tree import DecisionTreeClassifier\n",
    "from scipy.sparse import csr_matrix\n",
    "from sklearn.metrics import f1_score\n",
    "from sklearn.feature_extraction.text import TfidfVectorizer, CountVectorizer"
   ],
   "outputs": [],
   "execution_count": 105
  },
  {
   "metadata": {
    "ExecuteTime": {
     "end_time": "2025-03-04T16:13:39.456793Z",
     "start_time": "2025-03-04T16:13:31.861259Z"
    }
   },
   "cell_type": "code",
   "source": [
    "ag_news_dataset = load_dataset(\"ag_news\")\n",
    "print(ag_news_dataset)"
   ],
   "id": "a3cbdf79a881bddc",
   "outputs": [
    {
     "name": "stdout",
     "output_type": "stream",
     "text": [
      "DatasetDict({\n",
      "    train: Dataset({\n",
      "        features: ['text', 'label'],\n",
      "        num_rows: 120000\n",
      "    })\n",
      "    test: Dataset({\n",
      "        features: ['text', 'label'],\n",
      "        num_rows: 7600\n",
      "    })\n",
      "})\n"
     ]
    }
   ],
   "execution_count": 10
  },
  {
   "metadata": {
    "ExecuteTime": {
     "end_time": "2025-03-04T16:13:39.755301Z",
     "start_time": "2025-03-04T16:13:39.542290Z"
    }
   },
   "cell_type": "code",
   "source": "ag_news_texts = ag_news_dataset[\"train\"][\"text\"]",
   "id": "67e23e43d7b51975",
   "outputs": [],
   "execution_count": 11
  },
  {
   "metadata": {
    "ExecuteTime": {
     "end_time": "2025-03-04T16:14:48.711158Z",
     "start_time": "2025-03-04T16:14:48.707158Z"
    }
   },
   "cell_type": "code",
   "source": "stop_words = set(stopwords.words(\"english\"))",
   "id": "cb1dcb457eb267b",
   "outputs": [],
   "execution_count": 14
  },
  {
   "metadata": {
    "ExecuteTime": {
     "end_time": "2025-03-04T16:40:44.583146Z",
     "start_time": "2025-03-04T16:40:44.578129Z"
    }
   },
   "cell_type": "code",
   "source": [
    "def final_ag_news_preprocess(text):\n",
    "    tokens = text.lower()\n",
    "\n",
    "    # Удаление спец слов\n",
    "    special_words = ['reuters', 'afp', 'ap', 'usatoday.com', 'forbes.com', 'target=/stocks/quickinfo/fullquote\"' ]\n",
    "    for word in special_words:\n",
    "        tokens = tokens.replace(word, '')\n",
    "    \n",
    "    pattern = r'[&lt][^<>]*&gt'\n",
    "    tokens = re.sub(pattern, '', tokens)\n",
    "    \n",
    "    # Удаление пунктуации и цифр\n",
    "    #tokens = ''.join(i if i not in set(string.punctuation) - set('-') | set(string.digits) else ' ' for i in tokens)\n",
    "    tokens = ''.join(i if i not in set(string.punctuation)  | set(string.digits) else ' ' for i in tokens)\n",
    "    \n",
    "    # Токенизация\n",
    "    tokens = nltk.word_tokenize(tokens)\n",
    "    \n",
    "    # Удаление стоп слов\n",
    "    stop_wordsL = stop_words - {'no','not'}\n",
    "    tokens = [word for word in tokens if (word not in stop_wordsL and word != '-')]\n",
    "    \n",
    "    # Применение лемматизации\n",
    "    lemmatizer = nltk.WordNetLemmatizer()\n",
    "    tokens = [lemmatizer.lemmatize(token) for token in tokens]\n",
    "\n",
    "    # Обработка частей речи \n",
    "    tokens = pos_tag(tokens)\n",
    "    tokens = [word for word, tag in tokens if tag.startswith('N') or tag.startswith('J') or word in {'no', 'not'}]\n",
    "    \n",
    "    return tokens"
   ],
   "id": "c4de3f20c57a02f9",
   "outputs": [],
   "execution_count": 34
  },
  {
   "metadata": {
    "ExecuteTime": {
     "end_time": "2025-03-04T16:43:30.880366Z",
     "start_time": "2025-03-04T16:40:47.128754Z"
    }
   },
   "cell_type": "code",
   "source": [
    "words = set()\n",
    "for text in ag_news_texts:\n",
    "    tokens = final_ag_news_preprocess(text)\n",
    "    for token in tokens:\n",
    "        if token not in words:\n",
    "            words.add(token)"
   ],
   "id": "771ab4007cb681cd",
   "outputs": [],
   "execution_count": 35
  },
  {
   "metadata": {
    "ExecuteTime": {
     "end_time": "2025-03-04T17:25:42.150705Z",
     "start_time": "2025-03-04T17:25:42.147090Z"
    }
   },
   "cell_type": "code",
   "source": "token_length = len(words)",
   "id": "d8a09e5882bb69b5",
   "outputs": [],
   "execution_count": 38
  },
  {
   "metadata": {},
   "cell_type": "markdown",
   "source": "## Векторизация слов",
   "id": "7543d55ef08f59f2"
  },
  {
   "metadata": {},
   "cell_type": "markdown",
   "source": "#### One-hot encoding\n",
   "id": "a93d252c30206faa"
  },
  {
   "metadata": {
    "ExecuteTime": {
     "end_time": "2025-03-04T17:37:46.825117Z",
     "start_time": "2025-03-04T17:37:46.803116Z"
    }
   },
   "cell_type": "code",
   "source": "word_list = sorted(words)",
   "id": "e2b526c699254a56",
   "outputs": [],
   "execution_count": 43
  },
  {
   "metadata": {
    "ExecuteTime": {
     "end_time": "2025-03-04T17:50:22.024467Z",
     "start_time": "2025-03-04T17:50:21.993463Z"
    }
   },
   "cell_type": "code",
   "source": [
    "words_dict = {}\n",
    "for idx, word in enumerate(word_list):\n",
    "    words_dict[word] = idx"
   ],
   "id": "e67e16900f40b263",
   "outputs": [],
   "execution_count": 48
  },
  {
   "metadata": {
    "ExecuteTime": {
     "end_time": "2025-03-04T17:47:00.798852Z",
     "start_time": "2025-03-04T17:44:38.705485Z"
    }
   },
   "cell_type": "code",
   "source": [
    "for i, text in enumerate(ag_news_texts):\n",
    "    ag_news_texts[i] = final_ag_news_preprocess(text)"
   ],
   "id": "ed3d45a05b13b174",
   "outputs": [],
   "execution_count": 46
  },
  {
   "metadata": {
    "ExecuteTime": {
     "end_time": "2025-03-04T17:51:47.871023Z",
     "start_time": "2025-03-04T17:51:26.161690Z"
    }
   },
   "cell_type": "code",
   "source": [
    "x_data_OHE = np.zeros(shape=(len(ag_news_texts), token_length), dtype=np.int8)\n",
    "for i, tokens in enumerate(ag_news_texts):\n",
    "    for token in tokens:\n",
    "        x_data_OHE[i, words_dict[token]] = 1"
   ],
   "id": "6d7a39957be95134",
   "outputs": [],
   "execution_count": 53
  },
  {
   "metadata": {
    "ExecuteTime": {
     "end_time": "2025-03-04T18:59:53.893326Z",
     "start_time": "2025-03-04T18:59:53.851034Z"
    }
   },
   "cell_type": "code",
   "source": [
    "x_data_OHE = csr_matrix(x_data_OHE, dtype=np.int8)\n",
    "train_labels = ag_news_dataset[\"train\"][\"label\"]"
   ],
   "id": "6706f70ef4d78905",
   "outputs": [],
   "execution_count": 99
  },
  {
   "metadata": {
    "ExecuteTime": {
     "end_time": "2025-03-04T18:08:47.546435Z",
     "start_time": "2025-03-04T18:07:41.213382Z"
    }
   },
   "cell_type": "code",
   "source": [
    "clf_OHE = DecisionTreeClassifier()\n",
    "clf_OHE = clf_OHE.fit(x_data_OHE, train_labels)"
   ],
   "id": "b2db3173bf39dd2b",
   "outputs": [],
   "execution_count": 68
  },
  {
   "metadata": {},
   "cell_type": "markdown",
   "source": "#### Тест",
   "id": "ef6f1324dde5b0c"
  },
  {
   "metadata": {
    "ExecuteTime": {
     "end_time": "2025-03-04T18:26:56.517730Z",
     "start_time": "2025-03-04T18:26:56.481896Z"
    }
   },
   "cell_type": "code",
   "source": [
    "test_texts = ag_news_dataset[\"test\"][\"text\"]\n",
    "test_labels = ag_news_dataset[\"test\"][\"label\"]"
   ],
   "id": "331cce7caef24bfa",
   "outputs": [],
   "execution_count": 73
  },
  {
   "metadata": {
    "ExecuteTime": {
     "end_time": "2025-03-04T18:31:18.846039Z",
     "start_time": "2025-03-04T18:31:09.503884Z"
    }
   },
   "cell_type": "code",
   "source": [
    "for i, text in enumerate(test_texts):\n",
    "    test_texts[i] = final_ag_news_preprocess(text)"
   ],
   "id": "ce66d1c69a17c6dc",
   "outputs": [],
   "execution_count": 76
  },
  {
   "metadata": {
    "ExecuteTime": {
     "end_time": "2025-03-04T18:32:37.721109Z",
     "start_time": "2025-03-04T18:32:37.601372Z"
    }
   },
   "cell_type": "code",
   "source": [
    "test_data_OHE = np.zeros(shape=(len(test_texts), token_length),dtype=np.int8)\n",
    "for i, tokens in enumerate(test_texts):\n",
    "    for token in tokens:\n",
    "        if token in words:\n",
    "            test_data_OHE[i, words_dict[token]] = 1"
   ],
   "id": "f0e1286b2d388940",
   "outputs": [],
   "execution_count": 80
  },
  {
   "metadata": {
    "ExecuteTime": {
     "end_time": "2025-03-04T19:00:36.724660Z",
     "start_time": "2025-03-04T19:00:36.040102Z"
    }
   },
   "cell_type": "code",
   "source": "prediction_OHE = clf_OHE.predict(test_data_OHE)",
   "id": "67303aab6eee03b8",
   "outputs": [],
   "execution_count": 100
  },
  {
   "metadata": {
    "ExecuteTime": {
     "end_time": "2025-03-04T19:27:55.779541Z",
     "start_time": "2025-03-04T19:27:55.765029Z"
    }
   },
   "cell_type": "code",
   "source": [
    "micro_score_OHE = f1_score(test_labels, prediction_OHE, labels=[0,1,2,3], average='micro')\n",
    "macro_score_OHE = f1_score(test_labels, prediction_OHE, labels=[0,1,2,3], average='macro')\n",
    "weighted_score_OHE = f1_score(test_labels, prediction_OHE, labels=[0,1,2,3], average='weighted')\n",
    "print(micro_score_OHE, macro_score_OHE, weighted_score_OHE)"
   ],
   "id": "a12512e9220487d4",
   "outputs": [
    {
     "name": "stdout",
     "output_type": "stream",
     "text": [
      "0.8196052631578947 0.8192163840661241 0.8192163840661241\n"
     ]
    }
   ],
   "execution_count": 134
  },
  {
   "metadata": {},
   "cell_type": "markdown",
   "source": "#### CountVectorizer",
   "id": "6028a88fc0a25529"
  },
  {
   "metadata": {
    "ExecuteTime": {
     "end_time": "2025-03-04T19:08:39.313881Z",
     "start_time": "2025-03-04T19:08:39.310484Z"
    }
   },
   "cell_type": "code",
   "source": [
    "def dummy(doc):\n",
    "    return doc"
   ],
   "id": "9da65dd9e2d361a2",
   "outputs": [],
   "execution_count": 110
  },
  {
   "metadata": {
    "ExecuteTime": {
     "end_time": "2025-03-04T19:11:30.039227Z",
     "start_time": "2025-03-04T19:11:29.269287Z"
    }
   },
   "cell_type": "code",
   "source": [
    "vectorizer = CountVectorizer(vocabulary=words_dict, tokenizer=dummy, preprocessor=dummy, dtype=np.int8)\n",
    "x_train_COUNT = vectorizer.fit_transform(ag_news_texts)"
   ],
   "id": "9e60e04e1760620f",
   "outputs": [],
   "execution_count": 119
  },
  {
   "metadata": {
    "ExecuteTime": {
     "end_time": "2025-03-04T19:12:47.378372Z",
     "start_time": "2025-03-04T19:11:47.588319Z"
    }
   },
   "cell_type": "code",
   "source": [
    "clf_COUNT = DecisionTreeClassifier()\n",
    "clf_COUNT = clf_COUNT.fit(x_train_COUNT, train_labels)"
   ],
   "id": "bacc137157bb3b44",
   "outputs": [],
   "execution_count": 120
  },
  {
   "metadata": {},
   "cell_type": "markdown",
   "source": "#### Тест",
   "id": "de135ee8097d8863"
  },
  {
   "metadata": {
    "ExecuteTime": {
     "end_time": "2025-03-04T19:25:56.495452Z",
     "start_time": "2025-03-04T19:25:56.438259Z"
    }
   },
   "cell_type": "code",
   "source": "test_data_COUNT = vectorizer.transform(test_texts)",
   "id": "e08cdb57d01238e",
   "outputs": [],
   "execution_count": 130
  },
  {
   "metadata": {
    "ExecuteTime": {
     "end_time": "2025-03-04T19:26:03.236511Z",
     "start_time": "2025-03-04T19:26:03.227241Z"
    }
   },
   "cell_type": "code",
   "source": "prediction_COUNT = clf_COUNT.predict(test_data_COUNT)",
   "id": "35a07c6739a929f6",
   "outputs": [],
   "execution_count": 131
  },
  {
   "metadata": {
    "ExecuteTime": {
     "end_time": "2025-03-04T19:27:44.639815Z",
     "start_time": "2025-03-04T19:27:44.626884Z"
    }
   },
   "cell_type": "code",
   "source": [
    "micro_score_COUNT = f1_score(test_labels, prediction_COUNT, labels=[0,1,2,3], average='micro')\n",
    "macro_score_COUNT = f1_score(test_labels, prediction_COUNT, labels=[0,1,2,3], average='macro')\n",
    "weighted_score_COUNT = f1_score(test_labels, prediction_COUNT, labels=[0,1,2,3], average='weighted')\n",
    "print(micro_score_COUNT, macro_score_COUNT, weighted_score_COUNT)"
   ],
   "id": "7756091b45ec0c26",
   "outputs": [
    {
     "name": "stdout",
     "output_type": "stream",
     "text": [
      "0.8218421052631579 0.8214085479144546 0.8214085479144545\n"
     ]
    }
   ],
   "execution_count": 133
  },
  {
   "metadata": {},
   "cell_type": "markdown",
   "source": "#### TFIDF",
   "id": "a1fc8f18418a48d5"
  },
  {
   "metadata": {
    "ExecuteTime": {
     "end_time": "2025-03-04T19:18:40.277940Z",
     "start_time": "2025-03-04T19:18:39.371169Z"
    }
   },
   "cell_type": "code",
   "source": [
    "vectorizer_tfidf = TfidfVectorizer(vocabulary=words_dict, preprocessor=dummy, tokenizer=dummy, dtype=np.float32)\n",
    "x_train_TFIDF = vectorizer_tfidf.fit_transform(ag_news_texts)"
   ],
   "id": "ed95026f5f999c52",
   "outputs": [
    {
     "name": "stderr",
     "output_type": "stream",
     "text": [
      "C:\\Users\\R1sed\\PycharmProjects\\pythonProject\\.venv\\Lib\\site-packages\\sklearn\\feature_extraction\\text.py:517: UserWarning: The parameter 'token_pattern' will not be used since 'tokenizer' is not None'\n",
      "  warnings.warn(\n"
     ]
    }
   ],
   "execution_count": 128
  },
  {
   "metadata": {
    "ExecuteTime": {
     "end_time": "2025-03-04T19:20:18.979312Z",
     "start_time": "2025-03-04T19:18:53.061224Z"
    }
   },
   "cell_type": "code",
   "source": [
    "clf_TFIDF = DecisionTreeClassifier()\n",
    "clf_TFIDF = clf_TFIDF.fit(x_train_TFIDF, train_labels)"
   ],
   "id": "ba9a2d35e10ecd02",
   "outputs": [],
   "execution_count": 129
  },
  {
   "metadata": {},
   "cell_type": "markdown",
   "source": "#### Тест",
   "id": "de14a36a7615e068"
  },
  {
   "metadata": {
    "ExecuteTime": {
     "end_time": "2025-03-04T19:29:22.227975Z",
     "start_time": "2025-03-04T19:29:22.171100Z"
    }
   },
   "cell_type": "code",
   "source": "test_data_TFIDF = vectorizer_tfidf.transform(test_texts)",
   "id": "7f23eadd493774d1",
   "outputs": [],
   "execution_count": 135
  },
  {
   "metadata": {
    "ExecuteTime": {
     "end_time": "2025-03-04T19:29:26.823589Z",
     "start_time": "2025-03-04T19:29:26.815061Z"
    }
   },
   "cell_type": "code",
   "source": "prediction_TFIDF = clf_TFIDF.predict(test_data_TFIDF)",
   "id": "5b0f6166075e415c",
   "outputs": [],
   "execution_count": 136
  },
  {
   "metadata": {
    "ExecuteTime": {
     "end_time": "2025-03-04T19:30:59.176572Z",
     "start_time": "2025-03-04T19:30:59.161516Z"
    }
   },
   "cell_type": "code",
   "source": [
    "micro_score_TFIDF = f1_score(test_labels, prediction_TFIDF, labels=[0,1,2,3], average='micro')\n",
    "macro_score_TFIDF = f1_score(test_labels, prediction_TFIDF, labels=[0,1,2,3], average='macro')\n",
    "weighted_score_TFIDF = f1_score(test_labels, prediction_TFIDF, labels=[0,1,2,3], average='weighted')\n",
    "print(micro_score_TFIDF, macro_score_TFIDF, weighted_score_TFIDF)"
   ],
   "id": "277b0180530d64cb",
   "outputs": [
    {
     "name": "stdout",
     "output_type": "stream",
     "text": [
      "0.8097368421052632 0.8091861069724451 0.8091861069724451\n"
     ]
    }
   ],
   "execution_count": 137
  },
  {
   "metadata": {},
   "cell_type": "code",
   "outputs": [],
   "execution_count": null,
   "source": "",
   "id": "33777441f21707c6"
  }
 ],
 "metadata": {
  "kernelspec": {
   "display_name": "Python 3",
   "language": "python",
   "name": "python3"
  },
  "language_info": {
   "codemirror_mode": {
    "name": "ipython",
    "version": 2
   },
   "file_extension": ".py",
   "mimetype": "text/x-python",
   "name": "python",
   "nbconvert_exporter": "python",
   "pygments_lexer": "ipython2",
   "version": "2.7.6"
  }
 },
 "nbformat": 4,
 "nbformat_minor": 5
}
