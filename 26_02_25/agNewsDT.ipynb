{
 "cells": [
  {
   "cell_type": "code",
   "id": "initial_id",
   "metadata": {
    "collapsed": true,
    "ExecuteTime": {
     "end_time": "2025-03-10T20:46:07.974957Z",
     "start_time": "2025-03-10T20:46:04.053355Z"
    }
   },
   "source": [
    "import nltk\n",
    "import string\n",
    "from datasets import load_dataset\n",
    "import re\n",
    "from nltk.corpus import stopwords\n",
    "from nltk import pos_tag\n",
    "import numpy as np\n",
    "from sklearn.tree import DecisionTreeClassifier\n",
    "from scipy.sparse import csr_matrix\n",
    "from sklearn.metrics import f1_score\n",
    "from sklearn.feature_extraction.text import TfidfVectorizer, CountVectorizer\n",
    "import mlflow\n",
    "from sklearnex import patch_sklearn\n",
    "from warnings import filterwarnings\n",
    "patch_sklearn()"
   ],
   "outputs": [
    {
     "name": "stderr",
     "output_type": "stream",
     "text": [
      "Intel(R) Extension for Scikit-learn* enabled (https://github.com/uxlfoundation/scikit-learn-intelex)\n"
     ]
    }
   ],
   "execution_count": 1
  },
  {
   "metadata": {
    "ExecuteTime": {
     "end_time": "2025-03-10T20:46:38.035403Z",
     "start_time": "2025-03-10T20:46:38.031816Z"
    }
   },
   "cell_type": "code",
   "source": "filterwarnings(\"ignore\")",
   "id": "1c721c30c36593c8",
   "outputs": [],
   "execution_count": 3
  },
  {
   "metadata": {
    "ExecuteTime": {
     "end_time": "2025-03-10T20:46:56.378518Z",
     "start_time": "2025-03-10T20:46:40.692803Z"
    }
   },
   "cell_type": "code",
   "source": [
    "ag_news_dataset = load_dataset(\"ag_news\")\n",
    "stop_words = set(stopwords.words(\"english\"))"
   ],
   "id": "a3cbdf79a881bddc",
   "outputs": [],
   "execution_count": 4
  },
  {
   "metadata": {},
   "cell_type": "markdown",
   "source": "#### Нужно: (ничего, Стемминг, Лемматизация) * (binary, count, tf-idf)) -> F1_Macro",
   "id": "f71aa47e94a2e150"
  },
  {
   "metadata": {
    "ExecuteTime": {
     "end_time": "2025-03-10T20:46:56.405849Z",
     "start_time": "2025-03-10T20:46:56.401519Z"
    }
   },
   "cell_type": "code",
   "source": [
    "text_preprocess_types = [None, 'стемминг', 'лемматизация']\n",
    "words_classes = ['N', 'NJ', 'NJV', 'ALL']\n",
    "\n",
    "#frequency_filtration_types = [None, 'low', 'high', 'both']\n",
    "frequency_filtration_types = [None, 'low']\n",
    "\n",
    "vector_representation_types = ['binary', 'count', 'tfidf']"
   ],
   "id": "e43dd05f283d82ff",
   "outputs": [],
   "execution_count": 5
  },
  {
   "metadata": {
    "ExecuteTime": {
     "end_time": "2025-03-10T20:46:56.435300Z",
     "start_time": "2025-03-10T20:46:56.430400Z"
    }
   },
   "cell_type": "code",
   "source": [
    "iterations_num = len(text_preprocess_types) * len(words_classes) * len(frequency_filtration_types)\n",
    "print(iterations_num)"
   ],
   "id": "5061d583c06cdce6",
   "outputs": [
    {
     "name": "stdout",
     "output_type": "stream",
     "text": [
      "24\n"
     ]
    }
   ],
   "execution_count": 6
  },
  {
   "metadata": {
    "ExecuteTime": {
     "end_time": "2025-03-10T20:46:56.519554Z",
     "start_time": "2025-03-10T20:46:56.513569Z"
    }
   },
   "cell_type": "code",
   "source": [
    "def base_ag_news_preprocess(text):\n",
    "    tokens = text.lower()\n",
    "\n",
    "    # Удаление спец слов\n",
    "    special_words = ['reuters', 'afp', 'ap', 'usatoday.com', 'forbes.com', 'target=/stocks/quickinfo/fullquote\"' ]\n",
    "    for word in special_words:\n",
    "        tokens = tokens.replace(word, '')\n",
    "    \n",
    "    pattern = r'[&lt][^<>]*&gt'\n",
    "    tokens = re.sub(pattern, '', tokens)\n",
    "    \n",
    "    # Удаление пунктуации и цифр\n",
    "    #tokens = ''.join(i if i not in set(string.punctuation) - set('-') | set(string.digits) else ' ' for i in tokens)\n",
    "    tokens = ''.join(i if i not in set(string.punctuation)  | set(string.digits) else ' ' for i in tokens)\n",
    "    \n",
    "    # Токенизация\n",
    "    tokens = nltk.word_tokenize(tokens)\n",
    "    \n",
    "    # Удаление стоп слов\n",
    "    #stop_wordsL = stop_words - {'no','not'}\n",
    "    stop_wordsL = stop_words\n",
    "    tokens = [word for word in tokens if (word not in stop_wordsL and word != '-')]\n",
    "    return tokens"
   ],
   "id": "c4de3f20c57a02f9",
   "outputs": [],
   "execution_count": 7
  },
  {
   "metadata": {
    "ExecuteTime": {
     "end_time": "2025-03-10T20:46:56.545342Z",
     "start_time": "2025-03-10T20:46:56.539628Z"
    }
   },
   "cell_type": "code",
   "source": [
    "def different_ag_news_preprocess(tokens, preprocess_type, words_class):\n",
    "    \n",
    "    # Обработка слов\n",
    "    if preprocess_type == 'лемматизация':\n",
    "        lemmatizer = nltk.WordNetLemmatizer()\n",
    "        tokens = [lemmatizer.lemmatize(token) for token in tokens]\n",
    "    elif preprocess_type == 'стемминг':\n",
    "        stemmer = nltk.PorterStemmer()\n",
    "        tokens = [stemmer.stem(token) for token in tokens]\n",
    "    \n",
    "    # Обработка частей речи\n",
    "    tokens = pos_tag(tokens)\n",
    "    if words_class == 'N':\n",
    "        tokens = [word for word, tag in tokens if tag.startswith('N')]\n",
    "    elif words_class == 'NJ':\n",
    "        tokens = [word for word, tag in tokens if tag.startswith('N') or tag.startswith('J')]\n",
    "    elif words_class == 'NJV':\n",
    "        tokens = [word for word, tag in tokens if tag.startswith('N') or tag.startswith('J') or tag.startswith('V')]\n",
    "    elif words_class == 'ALL':\n",
    "        tokens = [word for word, _ in tokens]\n",
    "    \n",
    "    return tokens  "
   ],
   "id": "4b933f0767b60bc5",
   "outputs": [],
   "execution_count": 8
  },
  {
   "metadata": {
    "ExecuteTime": {
     "end_time": "2025-03-10T20:46:56.562318Z",
     "start_time": "2025-03-10T20:46:56.557360Z"
    }
   },
   "cell_type": "code",
   "source": [
    "def frequency_filtration(words_dictionary, frequency_filtration_type):\n",
    "    if frequency_filtration_type == 'low':\n",
    "        return dict([(key, value) for key, value in words_dictionary.items() if value >= 10 ])\n",
    "    elif frequency_filtration_type == 'high':\n",
    "        return dict([(key, value) for key, value in words_dictionary.items() if value <= 3000])\n",
    "    elif frequency_filtration_type == 'both':\n",
    "        return dict([(key, value) for key, value in words_dictionary.items() if 10 <= value <= 3000])\n",
    "    else:\n",
    "        return words_dictionary"
   ],
   "id": "46d4699c8beec784",
   "outputs": [],
   "execution_count": 9
  },
  {
   "metadata": {
    "ExecuteTime": {
     "end_time": "2025-03-10T20:46:56.650350Z",
     "start_time": "2025-03-10T20:46:56.646460Z"
    }
   },
   "cell_type": "code",
   "source": [
    "def dummy(doc):\n",
    "    return doc"
   ],
   "id": "9da65dd9e2d361a2",
   "outputs": [],
   "execution_count": 10
  },
  {
   "metadata": {
    "ExecuteTime": {
     "end_time": "2025-03-10T20:53:11.860023Z",
     "start_time": "2025-03-10T20:53:11.849181Z"
    }
   },
   "cell_type": "code",
   "source": [
    "def final_ag_news_preprocess(dataset):\n",
    "    # Подготовка данных\n",
    "    x_train = dataset['train']['text']\n",
    "    y_train = dataset['train']['label']\n",
    "    \n",
    "    x_test = dataset['test']['text']\n",
    "    y_test = dataset['test']['label']\n",
    "    \n",
    "    # Базовая обработка\n",
    "    for i, text in enumerate(x_train):\n",
    "        x_train[i] = base_ag_news_preprocess(text)\n",
    "        \n",
    "    for i, text in enumerate(x_test):\n",
    "        x_test[i] = base_ag_news_preprocess(text)\n",
    "    \n",
    "    index = 2\n",
    "    # Вариативная обработка\n",
    "    for preprocess_type in text_preprocess_types: # 3 варианта\n",
    "        for words_class in words_classes:         # 4 варианта\n",
    "            if preprocess_type is None and words_class == 'N':\n",
    "                continue\n",
    "            words = {}\n",
    "            xtr = x_train\n",
    "            xte = x_test\n",
    "            \n",
    "            # Обработка текстов\n",
    "            for i, tokens in enumerate(xtr):\n",
    "                final_tokens = different_ag_news_preprocess(tokens, preprocess_type, words_class)\n",
    "                xtr[i] = final_tokens\n",
    "                \n",
    "                # Заполнение словаря\n",
    "                for token in final_tokens:\n",
    "                    if token not in words:\n",
    "                        words[token] = 1\n",
    "                    else:\n",
    "                        words[token] += 1\n",
    "            \n",
    "            xte = [different_ag_news_preprocess(tokens, preprocess_type, words_class) for tokens in xte]\n",
    "                    \n",
    "            # Фильтрация по частоте\n",
    "            for frequency_filtration_type in frequency_filtration_types: # 4 варианта\n",
    "                filtered_words = frequency_filtration(words, frequency_filtration_type)\n",
    "                token_length = len(filtered_words)\n",
    "                \n",
    "                # Векторизация слов\n",
    "                word_list = sorted(filtered_words.keys())\n",
    "                # Присвоение словам индексов\n",
    "                words_indexed = {}\n",
    "                for idx, word in enumerate(word_list):\n",
    "                    words_indexed[word] = idx\n",
    "                \n",
    "                # OHE\n",
    "                vectorizer_OHE = CountVectorizer(vocabulary=words_indexed, tokenizer=dummy, preprocessor=dummy, dtype=np.int8, binary=True)\n",
    "                x_train_OHE = vectorizer_OHE.fit_transform(xtr)\n",
    "                x_test_OHE = vectorizer_OHE.transform(xte)\n",
    "                \n",
    "                # COUNT\n",
    "                vectorizer_COUNT = CountVectorizer(vocabulary=words_indexed, tokenizer=dummy, preprocessor=dummy, dtype=np.int8)\n",
    "                x_train_COUNT = vectorizer_COUNT.fit_transform(xtr)\n",
    "                x_test_COUNT = vectorizer_COUNT.transform(xte)\n",
    "                \n",
    "                # TF-IDF\n",
    "                vectorizer_TFIDF = TfidfVectorizer(vocabulary=words_indexed, preprocessor=dummy, tokenizer=dummy, dtype=np.float32)\n",
    "                x_train_TFIDF = vectorizer_TFIDF.fit_transform(xtr)\n",
    "                x_test_TFIDF = vectorizer_TFIDF.transform(xte)\n",
    "\n",
    "\n",
    "                # Построение классификаторов\n",
    "                clf_OHE = DecisionTreeClassifier(max_depth=750)\n",
    "                clf_COUNT = DecisionTreeClassifier(max_depth=750)\n",
    "                clf_TFIDF = DecisionTreeClassifier(max_depth=750)\n",
    "                \n",
    "                # Обучение классификаторов\n",
    "                clf_OHE = clf_OHE.fit(x_train_OHE, y_train)\n",
    "                clf_COUNT = clf_COUNT.fit(x_train_COUNT, y_train)\n",
    "                clf_TFIDF = clf_TFIDF.fit(x_train_TFIDF, y_train)\n",
    "                \n",
    "                # Тестирование\n",
    "                predictions_OHE = clf_OHE.predict(x_test_OHE)\n",
    "                predictions_COUNT = clf_COUNT.predict(x_test_COUNT)\n",
    "                predictions_TFIDF = clf_TFIDF.predict(x_test_TFIDF)\n",
    "                \n",
    "                # Метрики\n",
    "                macro_score_OHE = f1_score(y_test, predictions_OHE, average='macro')\n",
    "                macro_score_COUNT = f1_score(y_test, predictions_COUNT, average='macro')\n",
    "                macro_score_TFIDF = f1_score(y_test, predictions_TFIDF, average='macro')\n",
    "                \n",
    "                mlflow.start_run(run_name=f'{preprocess_type}_{words_class}_{frequency_filtration_type}_OHE')\n",
    "                mlflow.log_param('model', clf_OHE.__class__.__name__)\n",
    "                mlflow.log_param('preprocess_type', preprocess_type)\n",
    "                mlflow.log_param('words_class', words_class)\n",
    "                mlflow.log_param('frequency_filtration_type', frequency_filtration_type)\n",
    "                mlflow.log_param('token_length', token_length)\n",
    "                mlflow.sklearn.log_model(clf_OHE, 'DecisionTreeClassifier')\n",
    "                mlflow.log_metric('macro_score', macro_score_OHE)\n",
    "                mlflow.end_run()\n",
    "                \n",
    "                mlflow.start_run(run_name=f'{preprocess_type}_{words_class}_{frequency_filtration_type}_COUNT')\n",
    "                mlflow.log_param('model', clf_COUNT.__class__.__name__)\n",
    "                mlflow.log_param('preprocess_type', preprocess_type)\n",
    "                mlflow.log_param('words_class', words_class)\n",
    "                mlflow.log_param('frequency_filtration_type', frequency_filtration_type)\n",
    "                mlflow.log_param('token_length', token_length)\n",
    "                mlflow.sklearn.log_model(clf_COUNT, 'DecisionTreeClassifier')\n",
    "                mlflow.log_metric('macro_score', macro_score_COUNT)\n",
    "                mlflow.end_run()\n",
    "                \n",
    "                mlflow.start_run(run_name=f'{preprocess_type}_{words_class}_{frequency_filtration_type}_TFIDF')\n",
    "                mlflow.log_param('model', clf_TFIDF.__class__.__name__)\n",
    "                mlflow.log_param('preprocess_type', preprocess_type)\n",
    "                mlflow.log_param('words_class', words_class)\n",
    "                mlflow.log_param('frequency_filtration_type', frequency_filtration_type)\n",
    "                mlflow.log_param('token_length', token_length)\n",
    "                mlflow.sklearn.log_model(clf_TFIDF, 'DecisionTreeClassifier')\n",
    "                mlflow.log_metric('macro_score', macro_score_TFIDF)\n",
    "                mlflow.end_run()\n",
    "                \n",
    "                index += 1\n",
    "                print(f'Итерация {index} / {iterations_num}')"
   ],
   "id": "660b6dd207e48d59",
   "outputs": [],
   "execution_count": 18
  },
  {
   "metadata": {
    "ExecuteTime": {
     "end_time": "2025-03-10T20:53:13.149294Z",
     "start_time": "2025-03-10T20:53:13.123136Z"
    }
   },
   "cell_type": "code",
   "source": [
    "mlflow.set_tracking_uri(\"http://127.0.0.1:5000\")\n",
    "mlflow.set_experiment(experiment_name=\"agNewsDT\")"
   ],
   "id": "3aa85a435033448",
   "outputs": [
    {
     "data": {
      "text/plain": [
       "<Experiment: artifact_location='mlflow-artifacts:/537408113752698407', creation_time=1741637380932, experiment_id='537408113752698407', last_update_time=1741637380932, lifecycle_stage='active', name='agNewsDT', tags={}>"
      ]
     },
     "execution_count": 19,
     "metadata": {},
     "output_type": "execute_result"
    }
   ],
   "execution_count": 19
  },
  {
   "metadata": {
    "ExecuteTime": {
     "end_time": "2025-03-10T21:58:34.963030Z",
     "start_time": "2025-03-10T20:53:14.194515Z"
    }
   },
   "cell_type": "code",
   "source": "final_ag_news_preprocess(ag_news_dataset)",
   "id": "d127817ddf38f7b7",
   "outputs": [
    {
     "name": "stderr",
     "output_type": "stream",
     "text": [
      "2025/03/10 23:58:34 WARNING mlflow.models.model: Model logged without a signature and input example. Please set `input_example` parameter when logging the model to auto infer the model signature.\n"
     ]
    },
    {
     "name": "stdout",
     "output_type": "stream",
     "text": [
      "🏃 View run None_NJ_None_OHE at: http://127.0.0.1:5000/#/experiments/537408113752698407/runs/a9998c497dff418180ac4f9432f2fad3\n",
      "🧪 View experiment at: http://127.0.0.1:5000/#/experiments/537408113752698407\n"
     ]
    },
    {
     "name": "stderr",
     "output_type": "stream",
     "text": [
      "2025/03/10 23:58:37 WARNING mlflow.models.model: Model logged without a signature and input example. Please set `input_example` parameter when logging the model to auto infer the model signature.\n"
     ]
    },
    {
     "name": "stdout",
     "output_type": "stream",
     "text": [
      "🏃 View run None_NJ_None_COUNT at: http://127.0.0.1:5000/#/experiments/537408113752698407/runs/984bc71c2d134d9b89bb98f83f0045a3\n",
      "🧪 View experiment at: http://127.0.0.1:5000/#/experiments/537408113752698407\n"
     ]
    },
    {
     "name": "stderr",
     "output_type": "stream",
     "text": [
      "2025/03/10 23:58:41 WARNING mlflow.models.model: Model logged without a signature and input example. Please set `input_example` parameter when logging the model to auto infer the model signature.\n"
     ]
    },
    {
     "name": "stdout",
     "output_type": "stream",
     "text": [
      "🏃 View run None_NJ_None_TFIDF at: http://127.0.0.1:5000/#/experiments/537408113752698407/runs/c8248b0c18e04b50bda8eddbb649ac67\n",
      "🧪 View experiment at: http://127.0.0.1:5000/#/experiments/537408113752698407\n",
      "Итерация 3 / 24\n"
     ]
    },
    {
     "name": "stderr",
     "output_type": "stream",
     "text": [
      "2025/03/11 00:01:32 WARNING mlflow.models.model: Model logged without a signature and input example. Please set `input_example` parameter when logging the model to auto infer the model signature.\n"
     ]
    },
    {
     "name": "stdout",
     "output_type": "stream",
     "text": [
      "🏃 View run None_NJ_low_OHE at: http://127.0.0.1:5000/#/experiments/537408113752698407/runs/e4fba1c443cb44e8a382590625119c69\n",
      "🧪 View experiment at: http://127.0.0.1:5000/#/experiments/537408113752698407\n"
     ]
    },
    {
     "name": "stderr",
     "output_type": "stream",
     "text": [
      "2025/03/11 00:01:35 WARNING mlflow.models.model: Model logged without a signature and input example. Please set `input_example` parameter when logging the model to auto infer the model signature.\n"
     ]
    },
    {
     "name": "stdout",
     "output_type": "stream",
     "text": [
      "🏃 View run None_NJ_low_COUNT at: http://127.0.0.1:5000/#/experiments/537408113752698407/runs/981f68d40dcf4d23a0d63b2ca1995b9a\n",
      "🧪 View experiment at: http://127.0.0.1:5000/#/experiments/537408113752698407\n"
     ]
    },
    {
     "name": "stderr",
     "output_type": "stream",
     "text": [
      "2025/03/11 00:01:39 WARNING mlflow.models.model: Model logged without a signature and input example. Please set `input_example` parameter when logging the model to auto infer the model signature.\n"
     ]
    },
    {
     "name": "stdout",
     "output_type": "stream",
     "text": [
      "🏃 View run None_NJ_low_TFIDF at: http://127.0.0.1:5000/#/experiments/537408113752698407/runs/adcf621cd630477088eca60c6adc7b98\n",
      "🧪 View experiment at: http://127.0.0.1:5000/#/experiments/537408113752698407\n",
      "Итерация 4 / 24\n"
     ]
    },
    {
     "name": "stderr",
     "output_type": "stream",
     "text": [
      "2025/03/11 00:05:58 WARNING mlflow.models.model: Model logged without a signature and input example. Please set `input_example` parameter when logging the model to auto infer the model signature.\n"
     ]
    },
    {
     "name": "stdout",
     "output_type": "stream",
     "text": [
      "🏃 View run None_NJV_None_OHE at: http://127.0.0.1:5000/#/experiments/537408113752698407/runs/5c5e37087a784b468957e95096ef6edb\n",
      "🧪 View experiment at: http://127.0.0.1:5000/#/experiments/537408113752698407\n"
     ]
    },
    {
     "name": "stderr",
     "output_type": "stream",
     "text": [
      "2025/03/11 00:06:01 WARNING mlflow.models.model: Model logged without a signature and input example. Please set `input_example` parameter when logging the model to auto infer the model signature.\n"
     ]
    },
    {
     "name": "stdout",
     "output_type": "stream",
     "text": [
      "🏃 View run None_NJV_None_COUNT at: http://127.0.0.1:5000/#/experiments/537408113752698407/runs/7bbfc295189f4ca9947f1d9b4cf433c0\n",
      "🧪 View experiment at: http://127.0.0.1:5000/#/experiments/537408113752698407\n"
     ]
    },
    {
     "name": "stderr",
     "output_type": "stream",
     "text": [
      "2025/03/11 00:06:04 WARNING mlflow.models.model: Model logged without a signature and input example. Please set `input_example` parameter when logging the model to auto infer the model signature.\n"
     ]
    },
    {
     "name": "stdout",
     "output_type": "stream",
     "text": [
      "🏃 View run None_NJV_None_TFIDF at: http://127.0.0.1:5000/#/experiments/537408113752698407/runs/d4445bc701114588b03e5b272bdc3d91\n",
      "🧪 View experiment at: http://127.0.0.1:5000/#/experiments/537408113752698407\n",
      "Итерация 5 / 24\n"
     ]
    },
    {
     "name": "stderr",
     "output_type": "stream",
     "text": [
      "2025/03/11 00:08:46 WARNING mlflow.models.model: Model logged without a signature and input example. Please set `input_example` parameter when logging the model to auto infer the model signature.\n"
     ]
    },
    {
     "name": "stdout",
     "output_type": "stream",
     "text": [
      "🏃 View run None_NJV_low_OHE at: http://127.0.0.1:5000/#/experiments/537408113752698407/runs/2fa6fc2546174c29a47e116dc1b3f2f6\n",
      "🧪 View experiment at: http://127.0.0.1:5000/#/experiments/537408113752698407\n"
     ]
    },
    {
     "name": "stderr",
     "output_type": "stream",
     "text": [
      "2025/03/11 00:08:49 WARNING mlflow.models.model: Model logged without a signature and input example. Please set `input_example` parameter when logging the model to auto infer the model signature.\n"
     ]
    },
    {
     "name": "stdout",
     "output_type": "stream",
     "text": [
      "🏃 View run None_NJV_low_COUNT at: http://127.0.0.1:5000/#/experiments/537408113752698407/runs/5546736674954e6b85ea757ccbfa7825\n",
      "🧪 View experiment at: http://127.0.0.1:5000/#/experiments/537408113752698407\n"
     ]
    },
    {
     "name": "stderr",
     "output_type": "stream",
     "text": [
      "2025/03/11 00:08:53 WARNING mlflow.models.model: Model logged without a signature and input example. Please set `input_example` parameter when logging the model to auto infer the model signature.\n"
     ]
    },
    {
     "name": "stdout",
     "output_type": "stream",
     "text": [
      "🏃 View run None_NJV_low_TFIDF at: http://127.0.0.1:5000/#/experiments/537408113752698407/runs/6efeb0c953b14e6d8e18369bea99e965\n",
      "🧪 View experiment at: http://127.0.0.1:5000/#/experiments/537408113752698407\n",
      "Итерация 6 / 24\n"
     ]
    },
    {
     "name": "stderr",
     "output_type": "stream",
     "text": [
      "2025/03/11 00:13:10 WARNING mlflow.models.model: Model logged without a signature and input example. Please set `input_example` parameter when logging the model to auto infer the model signature.\n"
     ]
    },
    {
     "name": "stdout",
     "output_type": "stream",
     "text": [
      "🏃 View run None_ALL_None_OHE at: http://127.0.0.1:5000/#/experiments/537408113752698407/runs/8c71567300e04e9399a1ddba300bc3f6\n",
      "🧪 View experiment at: http://127.0.0.1:5000/#/experiments/537408113752698407\n"
     ]
    },
    {
     "name": "stderr",
     "output_type": "stream",
     "text": [
      "2025/03/11 00:13:13 WARNING mlflow.models.model: Model logged without a signature and input example. Please set `input_example` parameter when logging the model to auto infer the model signature.\n"
     ]
    },
    {
     "name": "stdout",
     "output_type": "stream",
     "text": [
      "🏃 View run None_ALL_None_COUNT at: http://127.0.0.1:5000/#/experiments/537408113752698407/runs/1ff764a944af4c17b5e366e439402384\n",
      "🧪 View experiment at: http://127.0.0.1:5000/#/experiments/537408113752698407\n"
     ]
    },
    {
     "name": "stderr",
     "output_type": "stream",
     "text": [
      "2025/03/11 00:13:17 WARNING mlflow.models.model: Model logged without a signature and input example. Please set `input_example` parameter when logging the model to auto infer the model signature.\n"
     ]
    },
    {
     "name": "stdout",
     "output_type": "stream",
     "text": [
      "🏃 View run None_ALL_None_TFIDF at: http://127.0.0.1:5000/#/experiments/537408113752698407/runs/3c663c9074fb465bb49bdff2c3ab0dd7\n",
      "🧪 View experiment at: http://127.0.0.1:5000/#/experiments/537408113752698407\n",
      "Итерация 7 / 24\n"
     ]
    },
    {
     "name": "stderr",
     "output_type": "stream",
     "text": [
      "2025/03/11 00:15:58 WARNING mlflow.models.model: Model logged without a signature and input example. Please set `input_example` parameter when logging the model to auto infer the model signature.\n"
     ]
    },
    {
     "name": "stdout",
     "output_type": "stream",
     "text": [
      "🏃 View run None_ALL_low_OHE at: http://127.0.0.1:5000/#/experiments/537408113752698407/runs/15306e6060f4421babccf6c59841ce02\n",
      "🧪 View experiment at: http://127.0.0.1:5000/#/experiments/537408113752698407\n"
     ]
    },
    {
     "name": "stderr",
     "output_type": "stream",
     "text": [
      "2025/03/11 00:16:02 WARNING mlflow.models.model: Model logged without a signature and input example. Please set `input_example` parameter when logging the model to auto infer the model signature.\n"
     ]
    },
    {
     "name": "stdout",
     "output_type": "stream",
     "text": [
      "🏃 View run None_ALL_low_COUNT at: http://127.0.0.1:5000/#/experiments/537408113752698407/runs/b825b542f5974f0998dc339e8b520ba9\n",
      "🧪 View experiment at: http://127.0.0.1:5000/#/experiments/537408113752698407\n"
     ]
    },
    {
     "name": "stderr",
     "output_type": "stream",
     "text": [
      "2025/03/11 00:16:05 WARNING mlflow.models.model: Model logged without a signature and input example. Please set `input_example` parameter when logging the model to auto infer the model signature.\n"
     ]
    },
    {
     "name": "stdout",
     "output_type": "stream",
     "text": [
      "🏃 View run None_ALL_low_TFIDF at: http://127.0.0.1:5000/#/experiments/537408113752698407/runs/55fb48dc54c6420cb4a3c901201439e8\n",
      "🧪 View experiment at: http://127.0.0.1:5000/#/experiments/537408113752698407\n",
      "Итерация 8 / 24\n"
     ]
    },
    {
     "name": "stderr",
     "output_type": "stream",
     "text": [
      "2025/03/11 00:20:03 WARNING mlflow.models.model: Model logged without a signature and input example. Please set `input_example` parameter when logging the model to auto infer the model signature.\n"
     ]
    },
    {
     "name": "stdout",
     "output_type": "stream",
     "text": [
      "🏃 View run стемминг_N_None_OHE at: http://127.0.0.1:5000/#/experiments/537408113752698407/runs/51be57539b084e28bf05035b58c2f54c\n",
      "🧪 View experiment at: http://127.0.0.1:5000/#/experiments/537408113752698407\n"
     ]
    },
    {
     "name": "stderr",
     "output_type": "stream",
     "text": [
      "2025/03/11 00:20:06 WARNING mlflow.models.model: Model logged without a signature and input example. Please set `input_example` parameter when logging the model to auto infer the model signature.\n"
     ]
    },
    {
     "name": "stdout",
     "output_type": "stream",
     "text": [
      "🏃 View run стемминг_N_None_COUNT at: http://127.0.0.1:5000/#/experiments/537408113752698407/runs/3d73509fc85440218227e06a96000809\n",
      "🧪 View experiment at: http://127.0.0.1:5000/#/experiments/537408113752698407\n"
     ]
    },
    {
     "name": "stderr",
     "output_type": "stream",
     "text": [
      "2025/03/11 00:20:09 WARNING mlflow.models.model: Model logged without a signature and input example. Please set `input_example` parameter when logging the model to auto infer the model signature.\n"
     ]
    },
    {
     "name": "stdout",
     "output_type": "stream",
     "text": [
      "🏃 View run стемминг_N_None_TFIDF at: http://127.0.0.1:5000/#/experiments/537408113752698407/runs/db7fc4a392234444bbdb11a14b00e883\n",
      "🧪 View experiment at: http://127.0.0.1:5000/#/experiments/537408113752698407\n",
      "Итерация 9 / 24\n"
     ]
    },
    {
     "name": "stderr",
     "output_type": "stream",
     "text": [
      "2025/03/11 00:22:08 WARNING mlflow.models.model: Model logged without a signature and input example. Please set `input_example` parameter when logging the model to auto infer the model signature.\n"
     ]
    },
    {
     "name": "stdout",
     "output_type": "stream",
     "text": [
      "🏃 View run стемминг_N_low_OHE at: http://127.0.0.1:5000/#/experiments/537408113752698407/runs/eb564db711e34bb3a3dada4fcedbe798\n",
      "🧪 View experiment at: http://127.0.0.1:5000/#/experiments/537408113752698407\n"
     ]
    },
    {
     "name": "stderr",
     "output_type": "stream",
     "text": [
      "2025/03/11 00:22:11 WARNING mlflow.models.model: Model logged without a signature and input example. Please set `input_example` parameter when logging the model to auto infer the model signature.\n"
     ]
    },
    {
     "name": "stdout",
     "output_type": "stream",
     "text": [
      "🏃 View run стемминг_N_low_COUNT at: http://127.0.0.1:5000/#/experiments/537408113752698407/runs/a1dce75f3afd4ff4884f39e0955d6643\n",
      "🧪 View experiment at: http://127.0.0.1:5000/#/experiments/537408113752698407\n"
     ]
    },
    {
     "name": "stderr",
     "output_type": "stream",
     "text": [
      "2025/03/11 00:22:15 WARNING mlflow.models.model: Model logged without a signature and input example. Please set `input_example` parameter when logging the model to auto infer the model signature.\n"
     ]
    },
    {
     "name": "stdout",
     "output_type": "stream",
     "text": [
      "🏃 View run стемминг_N_low_TFIDF at: http://127.0.0.1:5000/#/experiments/537408113752698407/runs/3cdee238b870439b8f40feaa4c49aa91\n",
      "🧪 View experiment at: http://127.0.0.1:5000/#/experiments/537408113752698407\n",
      "Итерация 10 / 24\n"
     ]
    },
    {
     "name": "stderr",
     "output_type": "stream",
     "text": [
      "2025/03/11 00:25:32 WARNING mlflow.models.model: Model logged without a signature and input example. Please set `input_example` parameter when logging the model to auto infer the model signature.\n"
     ]
    },
    {
     "name": "stdout",
     "output_type": "stream",
     "text": [
      "🏃 View run стемминг_NJ_None_OHE at: http://127.0.0.1:5000/#/experiments/537408113752698407/runs/88c37c09623d4f69b43cb35a91ec28f9\n",
      "🧪 View experiment at: http://127.0.0.1:5000/#/experiments/537408113752698407\n"
     ]
    },
    {
     "name": "stderr",
     "output_type": "stream",
     "text": [
      "2025/03/11 00:25:35 WARNING mlflow.models.model: Model logged without a signature and input example. Please set `input_example` parameter when logging the model to auto infer the model signature.\n"
     ]
    },
    {
     "name": "stdout",
     "output_type": "stream",
     "text": [
      "🏃 View run стемминг_NJ_None_COUNT at: http://127.0.0.1:5000/#/experiments/537408113752698407/runs/240c1549387847b09b7598b676b321ac\n",
      "🧪 View experiment at: http://127.0.0.1:5000/#/experiments/537408113752698407\n"
     ]
    },
    {
     "name": "stderr",
     "output_type": "stream",
     "text": [
      "2025/03/11 00:25:38 WARNING mlflow.models.model: Model logged without a signature and input example. Please set `input_example` parameter when logging the model to auto infer the model signature.\n"
     ]
    },
    {
     "name": "stdout",
     "output_type": "stream",
     "text": [
      "🏃 View run стемминг_NJ_None_TFIDF at: http://127.0.0.1:5000/#/experiments/537408113752698407/runs/558018d6823a4ee68994e9ea4c163c83\n",
      "🧪 View experiment at: http://127.0.0.1:5000/#/experiments/537408113752698407\n",
      "Итерация 11 / 24\n"
     ]
    },
    {
     "name": "stderr",
     "output_type": "stream",
     "text": [
      "2025/03/11 00:27:33 WARNING mlflow.models.model: Model logged without a signature and input example. Please set `input_example` parameter when logging the model to auto infer the model signature.\n"
     ]
    },
    {
     "name": "stdout",
     "output_type": "stream",
     "text": [
      "🏃 View run стемминг_NJ_low_OHE at: http://127.0.0.1:5000/#/experiments/537408113752698407/runs/e5f2d591af78440db45478e5b07ac89d\n",
      "🧪 View experiment at: http://127.0.0.1:5000/#/experiments/537408113752698407\n"
     ]
    },
    {
     "name": "stderr",
     "output_type": "stream",
     "text": [
      "2025/03/11 00:27:36 WARNING mlflow.models.model: Model logged without a signature and input example. Please set `input_example` parameter when logging the model to auto infer the model signature.\n"
     ]
    },
    {
     "name": "stdout",
     "output_type": "stream",
     "text": [
      "🏃 View run стемминг_NJ_low_COUNT at: http://127.0.0.1:5000/#/experiments/537408113752698407/runs/7bebe42c7ae44829b1007934baf86fa3\n",
      "🧪 View experiment at: http://127.0.0.1:5000/#/experiments/537408113752698407\n"
     ]
    },
    {
     "name": "stderr",
     "output_type": "stream",
     "text": [
      "2025/03/11 00:27:40 WARNING mlflow.models.model: Model logged without a signature and input example. Please set `input_example` parameter when logging the model to auto infer the model signature.\n"
     ]
    },
    {
     "name": "stdout",
     "output_type": "stream",
     "text": [
      "🏃 View run стемминг_NJ_low_TFIDF at: http://127.0.0.1:5000/#/experiments/537408113752698407/runs/9dbf5e2c13ac4ce3a351002ab09396db\n",
      "🧪 View experiment at: http://127.0.0.1:5000/#/experiments/537408113752698407\n",
      "Итерация 12 / 24\n"
     ]
    },
    {
     "name": "stderr",
     "output_type": "stream",
     "text": [
      "2025/03/11 00:30:55 WARNING mlflow.models.model: Model logged without a signature and input example. Please set `input_example` parameter when logging the model to auto infer the model signature.\n"
     ]
    },
    {
     "name": "stdout",
     "output_type": "stream",
     "text": [
      "🏃 View run стемминг_NJV_None_OHE at: http://127.0.0.1:5000/#/experiments/537408113752698407/runs/19b7b1bf24b44c4a96462d188e201d5a\n",
      "🧪 View experiment at: http://127.0.0.1:5000/#/experiments/537408113752698407\n"
     ]
    },
    {
     "name": "stderr",
     "output_type": "stream",
     "text": [
      "2025/03/11 00:30:58 WARNING mlflow.models.model: Model logged without a signature and input example. Please set `input_example` parameter when logging the model to auto infer the model signature.\n"
     ]
    },
    {
     "name": "stdout",
     "output_type": "stream",
     "text": [
      "🏃 View run стемминг_NJV_None_COUNT at: http://127.0.0.1:5000/#/experiments/537408113752698407/runs/73e696889e624a83af953ed6d6f2dd57\n",
      "🧪 View experiment at: http://127.0.0.1:5000/#/experiments/537408113752698407\n"
     ]
    },
    {
     "name": "stderr",
     "output_type": "stream",
     "text": [
      "2025/03/11 00:31:02 WARNING mlflow.models.model: Model logged without a signature and input example. Please set `input_example` parameter when logging the model to auto infer the model signature.\n"
     ]
    },
    {
     "name": "stdout",
     "output_type": "stream",
     "text": [
      "🏃 View run стемминг_NJV_None_TFIDF at: http://127.0.0.1:5000/#/experiments/537408113752698407/runs/81aace30de4940ccbffcf0c3db6f376f\n",
      "🧪 View experiment at: http://127.0.0.1:5000/#/experiments/537408113752698407\n",
      "Итерация 13 / 24\n"
     ]
    },
    {
     "name": "stderr",
     "output_type": "stream",
     "text": [
      "2025/03/11 00:32:56 WARNING mlflow.models.model: Model logged without a signature and input example. Please set `input_example` parameter when logging the model to auto infer the model signature.\n"
     ]
    },
    {
     "name": "stdout",
     "output_type": "stream",
     "text": [
      "🏃 View run стемминг_NJV_low_OHE at: http://127.0.0.1:5000/#/experiments/537408113752698407/runs/b01c2c21065b43fead3d3603cba5f703\n",
      "🧪 View experiment at: http://127.0.0.1:5000/#/experiments/537408113752698407\n"
     ]
    },
    {
     "name": "stderr",
     "output_type": "stream",
     "text": [
      "2025/03/11 00:32:59 WARNING mlflow.models.model: Model logged without a signature and input example. Please set `input_example` parameter when logging the model to auto infer the model signature.\n"
     ]
    },
    {
     "name": "stdout",
     "output_type": "stream",
     "text": [
      "🏃 View run стемминг_NJV_low_COUNT at: http://127.0.0.1:5000/#/experiments/537408113752698407/runs/b4030da05e514999a16187c9a24fae9a\n",
      "🧪 View experiment at: http://127.0.0.1:5000/#/experiments/537408113752698407\n"
     ]
    },
    {
     "name": "stderr",
     "output_type": "stream",
     "text": [
      "2025/03/11 00:33:03 WARNING mlflow.models.model: Model logged without a signature and input example. Please set `input_example` parameter when logging the model to auto infer the model signature.\n"
     ]
    },
    {
     "name": "stdout",
     "output_type": "stream",
     "text": [
      "🏃 View run стемминг_NJV_low_TFIDF at: http://127.0.0.1:5000/#/experiments/537408113752698407/runs/a7c8906b7a124ba0b82102c669747758\n",
      "🧪 View experiment at: http://127.0.0.1:5000/#/experiments/537408113752698407\n",
      "Итерация 14 / 24\n"
     ]
    },
    {
     "name": "stderr",
     "output_type": "stream",
     "text": [
      "2025/03/11 00:36:18 WARNING mlflow.models.model: Model logged without a signature and input example. Please set `input_example` parameter when logging the model to auto infer the model signature.\n"
     ]
    },
    {
     "name": "stdout",
     "output_type": "stream",
     "text": [
      "🏃 View run стемминг_ALL_None_OHE at: http://127.0.0.1:5000/#/experiments/537408113752698407/runs/196284dcbc8546df948585bb522db044\n",
      "🧪 View experiment at: http://127.0.0.1:5000/#/experiments/537408113752698407\n"
     ]
    },
    {
     "name": "stderr",
     "output_type": "stream",
     "text": [
      "2025/03/11 00:36:22 WARNING mlflow.models.model: Model logged without a signature and input example. Please set `input_example` parameter when logging the model to auto infer the model signature.\n"
     ]
    },
    {
     "name": "stdout",
     "output_type": "stream",
     "text": [
      "🏃 View run стемминг_ALL_None_COUNT at: http://127.0.0.1:5000/#/experiments/537408113752698407/runs/5725a95fc3f74c2395192d29ac549b08\n",
      "🧪 View experiment at: http://127.0.0.1:5000/#/experiments/537408113752698407\n"
     ]
    },
    {
     "name": "stderr",
     "output_type": "stream",
     "text": [
      "2025/03/11 00:36:25 WARNING mlflow.models.model: Model logged without a signature and input example. Please set `input_example` parameter when logging the model to auto infer the model signature.\n"
     ]
    },
    {
     "name": "stdout",
     "output_type": "stream",
     "text": [
      "🏃 View run стемминг_ALL_None_TFIDF at: http://127.0.0.1:5000/#/experiments/537408113752698407/runs/2dd5a4b552a44f6e849ba17bdcfb347d\n",
      "🧪 View experiment at: http://127.0.0.1:5000/#/experiments/537408113752698407\n",
      "Итерация 15 / 24\n"
     ]
    },
    {
     "name": "stderr",
     "output_type": "stream",
     "text": [
      "2025/03/11 00:38:19 WARNING mlflow.models.model: Model logged without a signature and input example. Please set `input_example` parameter when logging the model to auto infer the model signature.\n"
     ]
    },
    {
     "name": "stdout",
     "output_type": "stream",
     "text": [
      "🏃 View run стемминг_ALL_low_OHE at: http://127.0.0.1:5000/#/experiments/537408113752698407/runs/9e852b3a25564054ba87eefeaf00493e\n",
      "🧪 View experiment at: http://127.0.0.1:5000/#/experiments/537408113752698407\n"
     ]
    },
    {
     "name": "stderr",
     "output_type": "stream",
     "text": [
      "2025/03/11 00:38:22 WARNING mlflow.models.model: Model logged without a signature and input example. Please set `input_example` parameter when logging the model to auto infer the model signature.\n"
     ]
    },
    {
     "name": "stdout",
     "output_type": "stream",
     "text": [
      "🏃 View run стемминг_ALL_low_COUNT at: http://127.0.0.1:5000/#/experiments/537408113752698407/runs/c7616471623c4472b98f57a90e0339f1\n",
      "🧪 View experiment at: http://127.0.0.1:5000/#/experiments/537408113752698407\n"
     ]
    },
    {
     "name": "stderr",
     "output_type": "stream",
     "text": [
      "2025/03/11 00:38:25 WARNING mlflow.models.model: Model logged without a signature and input example. Please set `input_example` parameter when logging the model to auto infer the model signature.\n"
     ]
    },
    {
     "name": "stdout",
     "output_type": "stream",
     "text": [
      "🏃 View run стемминг_ALL_low_TFIDF at: http://127.0.0.1:5000/#/experiments/537408113752698407/runs/56320e3af19142e8a5bee2c446db97eb\n",
      "🧪 View experiment at: http://127.0.0.1:5000/#/experiments/537408113752698407\n",
      "Итерация 16 / 24\n"
     ]
    },
    {
     "name": "stderr",
     "output_type": "stream",
     "text": [
      "2025/03/11 00:41:23 WARNING mlflow.models.model: Model logged without a signature and input example. Please set `input_example` parameter when logging the model to auto infer the model signature.\n"
     ]
    },
    {
     "name": "stdout",
     "output_type": "stream",
     "text": [
      "🏃 View run лемматизация_N_None_OHE at: http://127.0.0.1:5000/#/experiments/537408113752698407/runs/fa44fd33aa0b4b149219cf8a991d985c\n",
      "🧪 View experiment at: http://127.0.0.1:5000/#/experiments/537408113752698407\n"
     ]
    },
    {
     "name": "stderr",
     "output_type": "stream",
     "text": [
      "2025/03/11 00:41:26 WARNING mlflow.models.model: Model logged without a signature and input example. Please set `input_example` parameter when logging the model to auto infer the model signature.\n"
     ]
    },
    {
     "name": "stdout",
     "output_type": "stream",
     "text": [
      "🏃 View run лемматизация_N_None_COUNT at: http://127.0.0.1:5000/#/experiments/537408113752698407/runs/cb9ed0bf29ed40b9bcb9ae0bbfd9db66\n",
      "🧪 View experiment at: http://127.0.0.1:5000/#/experiments/537408113752698407\n"
     ]
    },
    {
     "name": "stderr",
     "output_type": "stream",
     "text": [
      "2025/03/11 00:41:30 WARNING mlflow.models.model: Model logged without a signature and input example. Please set `input_example` parameter when logging the model to auto infer the model signature.\n"
     ]
    },
    {
     "name": "stdout",
     "output_type": "stream",
     "text": [
      "🏃 View run лемматизация_N_None_TFIDF at: http://127.0.0.1:5000/#/experiments/537408113752698407/runs/d0d06e64fc6c48f0abf603bc23da73d8\n",
      "🧪 View experiment at: http://127.0.0.1:5000/#/experiments/537408113752698407\n",
      "Итерация 17 / 24\n"
     ]
    },
    {
     "name": "stderr",
     "output_type": "stream",
     "text": [
      "2025/03/11 00:43:19 WARNING mlflow.models.model: Model logged without a signature and input example. Please set `input_example` parameter when logging the model to auto infer the model signature.\n"
     ]
    },
    {
     "name": "stdout",
     "output_type": "stream",
     "text": [
      "🏃 View run лемматизация_N_low_OHE at: http://127.0.0.1:5000/#/experiments/537408113752698407/runs/0d49c686643b409aaf48ff7330d78223\n",
      "🧪 View experiment at: http://127.0.0.1:5000/#/experiments/537408113752698407\n"
     ]
    },
    {
     "name": "stderr",
     "output_type": "stream",
     "text": [
      "2025/03/11 00:43:23 WARNING mlflow.models.model: Model logged without a signature and input example. Please set `input_example` parameter when logging the model to auto infer the model signature.\n"
     ]
    },
    {
     "name": "stdout",
     "output_type": "stream",
     "text": [
      "🏃 View run лемматизация_N_low_COUNT at: http://127.0.0.1:5000/#/experiments/537408113752698407/runs/f71338c0e6624a96965ad28e909f3a25\n",
      "🧪 View experiment at: http://127.0.0.1:5000/#/experiments/537408113752698407\n"
     ]
    },
    {
     "name": "stderr",
     "output_type": "stream",
     "text": [
      "2025/03/11 00:43:26 WARNING mlflow.models.model: Model logged without a signature and input example. Please set `input_example` parameter when logging the model to auto infer the model signature.\n"
     ]
    },
    {
     "name": "stdout",
     "output_type": "stream",
     "text": [
      "🏃 View run лемматизация_N_low_TFIDF at: http://127.0.0.1:5000/#/experiments/537408113752698407/runs/8bb51f985d4d419bbc87d533700a5b59\n",
      "🧪 View experiment at: http://127.0.0.1:5000/#/experiments/537408113752698407\n",
      "Итерация 18 / 24\n"
     ]
    },
    {
     "name": "stderr",
     "output_type": "stream",
     "text": [
      "2025/03/11 00:46:21 WARNING mlflow.models.model: Model logged without a signature and input example. Please set `input_example` parameter when logging the model to auto infer the model signature.\n"
     ]
    },
    {
     "name": "stdout",
     "output_type": "stream",
     "text": [
      "🏃 View run лемматизация_NJ_None_OHE at: http://127.0.0.1:5000/#/experiments/537408113752698407/runs/c373910c09304da08877b452567fbd67\n",
      "🧪 View experiment at: http://127.0.0.1:5000/#/experiments/537408113752698407\n"
     ]
    },
    {
     "name": "stderr",
     "output_type": "stream",
     "text": [
      "2025/03/11 00:46:25 WARNING mlflow.models.model: Model logged without a signature and input example. Please set `input_example` parameter when logging the model to auto infer the model signature.\n"
     ]
    },
    {
     "name": "stdout",
     "output_type": "stream",
     "text": [
      "🏃 View run лемматизация_NJ_None_COUNT at: http://127.0.0.1:5000/#/experiments/537408113752698407/runs/919d114ee89d4ce5be47eda3ca17810b\n",
      "🧪 View experiment at: http://127.0.0.1:5000/#/experiments/537408113752698407\n"
     ]
    },
    {
     "name": "stderr",
     "output_type": "stream",
     "text": [
      "2025/03/11 00:46:29 WARNING mlflow.models.model: Model logged without a signature and input example. Please set `input_example` parameter when logging the model to auto infer the model signature.\n"
     ]
    },
    {
     "name": "stdout",
     "output_type": "stream",
     "text": [
      "🏃 View run лемматизация_NJ_None_TFIDF at: http://127.0.0.1:5000/#/experiments/537408113752698407/runs/754edbbfb8664eacaefa5ca60696b35f\n",
      "🧪 View experiment at: http://127.0.0.1:5000/#/experiments/537408113752698407\n",
      "Итерация 19 / 24\n"
     ]
    },
    {
     "name": "stderr",
     "output_type": "stream",
     "text": [
      "2025/03/11 00:48:26 WARNING mlflow.models.model: Model logged without a signature and input example. Please set `input_example` parameter when logging the model to auto infer the model signature.\n"
     ]
    },
    {
     "name": "stdout",
     "output_type": "stream",
     "text": [
      "🏃 View run лемматизация_NJ_low_OHE at: http://127.0.0.1:5000/#/experiments/537408113752698407/runs/cff463fe6400424aac5d358ba77c4df4\n",
      "🧪 View experiment at: http://127.0.0.1:5000/#/experiments/537408113752698407\n"
     ]
    },
    {
     "name": "stderr",
     "output_type": "stream",
     "text": [
      "2025/03/11 00:48:30 WARNING mlflow.models.model: Model logged without a signature and input example. Please set `input_example` parameter when logging the model to auto infer the model signature.\n"
     ]
    },
    {
     "name": "stdout",
     "output_type": "stream",
     "text": [
      "🏃 View run лемматизация_NJ_low_COUNT at: http://127.0.0.1:5000/#/experiments/537408113752698407/runs/32f12162a1844ba99de2a2b0f1520e90\n",
      "🧪 View experiment at: http://127.0.0.1:5000/#/experiments/537408113752698407\n"
     ]
    },
    {
     "name": "stderr",
     "output_type": "stream",
     "text": [
      "2025/03/11 00:48:33 WARNING mlflow.models.model: Model logged without a signature and input example. Please set `input_example` parameter when logging the model to auto infer the model signature.\n"
     ]
    },
    {
     "name": "stdout",
     "output_type": "stream",
     "text": [
      "🏃 View run лемматизация_NJ_low_TFIDF at: http://127.0.0.1:5000/#/experiments/537408113752698407/runs/4f47f544dc114cb3b1642460dfa5eebd\n",
      "🧪 View experiment at: http://127.0.0.1:5000/#/experiments/537408113752698407\n",
      "Итерация 20 / 24\n"
     ]
    },
    {
     "name": "stderr",
     "output_type": "stream",
     "text": [
      "2025/03/11 00:51:32 WARNING mlflow.models.model: Model logged without a signature and input example. Please set `input_example` parameter when logging the model to auto infer the model signature.\n"
     ]
    },
    {
     "name": "stdout",
     "output_type": "stream",
     "text": [
      "🏃 View run лемматизация_NJV_None_OHE at: http://127.0.0.1:5000/#/experiments/537408113752698407/runs/ad9f56a9ec2742d49de8b255e19cbaf5\n",
      "🧪 View experiment at: http://127.0.0.1:5000/#/experiments/537408113752698407\n"
     ]
    },
    {
     "name": "stderr",
     "output_type": "stream",
     "text": [
      "2025/03/11 00:51:35 WARNING mlflow.models.model: Model logged without a signature and input example. Please set `input_example` parameter when logging the model to auto infer the model signature.\n"
     ]
    },
    {
     "name": "stdout",
     "output_type": "stream",
     "text": [
      "🏃 View run лемматизация_NJV_None_COUNT at: http://127.0.0.1:5000/#/experiments/537408113752698407/runs/166e10aadeb1474f8dd4fc8fd7f696b7\n",
      "🧪 View experiment at: http://127.0.0.1:5000/#/experiments/537408113752698407\n"
     ]
    },
    {
     "name": "stderr",
     "output_type": "stream",
     "text": [
      "2025/03/11 00:51:38 WARNING mlflow.models.model: Model logged without a signature and input example. Please set `input_example` parameter when logging the model to auto infer the model signature.\n"
     ]
    },
    {
     "name": "stdout",
     "output_type": "stream",
     "text": [
      "🏃 View run лемматизация_NJV_None_TFIDF at: http://127.0.0.1:5000/#/experiments/537408113752698407/runs/2932242ddefb4ed493a685a0c567a969\n",
      "🧪 View experiment at: http://127.0.0.1:5000/#/experiments/537408113752698407\n",
      "Итерация 21 / 24\n"
     ]
    },
    {
     "name": "stderr",
     "output_type": "stream",
     "text": [
      "2025/03/11 00:53:30 WARNING mlflow.models.model: Model logged without a signature and input example. Please set `input_example` parameter when logging the model to auto infer the model signature.\n"
     ]
    },
    {
     "name": "stdout",
     "output_type": "stream",
     "text": [
      "🏃 View run лемматизация_NJV_low_OHE at: http://127.0.0.1:5000/#/experiments/537408113752698407/runs/2c16772c97ad4d21aa4f3219615ec22e\n",
      "🧪 View experiment at: http://127.0.0.1:5000/#/experiments/537408113752698407\n"
     ]
    },
    {
     "name": "stderr",
     "output_type": "stream",
     "text": [
      "2025/03/11 00:53:33 WARNING mlflow.models.model: Model logged without a signature and input example. Please set `input_example` parameter when logging the model to auto infer the model signature.\n"
     ]
    },
    {
     "name": "stdout",
     "output_type": "stream",
     "text": [
      "🏃 View run лемматизация_NJV_low_COUNT at: http://127.0.0.1:5000/#/experiments/537408113752698407/runs/7384bd106b334764a7e90bbe8baadc9b\n",
      "🧪 View experiment at: http://127.0.0.1:5000/#/experiments/537408113752698407\n"
     ]
    },
    {
     "name": "stderr",
     "output_type": "stream",
     "text": [
      "2025/03/11 00:53:37 WARNING mlflow.models.model: Model logged without a signature and input example. Please set `input_example` parameter when logging the model to auto infer the model signature.\n"
     ]
    },
    {
     "name": "stdout",
     "output_type": "stream",
     "text": [
      "🏃 View run лемматизация_NJV_low_TFIDF at: http://127.0.0.1:5000/#/experiments/537408113752698407/runs/4a657ffeadb742cdaebdbf22839ba5bf\n",
      "🧪 View experiment at: http://127.0.0.1:5000/#/experiments/537408113752698407\n",
      "Итерация 22 / 24\n"
     ]
    },
    {
     "name": "stderr",
     "output_type": "stream",
     "text": [
      "2025/03/11 00:56:26 WARNING mlflow.models.model: Model logged without a signature and input example. Please set `input_example` parameter when logging the model to auto infer the model signature.\n"
     ]
    },
    {
     "name": "stdout",
     "output_type": "stream",
     "text": [
      "🏃 View run лемматизация_ALL_None_OHE at: http://127.0.0.1:5000/#/experiments/537408113752698407/runs/1640ea870a0e4d1dbb6c5bcd95a0c967\n",
      "🧪 View experiment at: http://127.0.0.1:5000/#/experiments/537408113752698407\n"
     ]
    },
    {
     "name": "stderr",
     "output_type": "stream",
     "text": [
      "2025/03/11 00:56:29 WARNING mlflow.models.model: Model logged without a signature and input example. Please set `input_example` parameter when logging the model to auto infer the model signature.\n"
     ]
    },
    {
     "name": "stdout",
     "output_type": "stream",
     "text": [
      "🏃 View run лемматизация_ALL_None_COUNT at: http://127.0.0.1:5000/#/experiments/537408113752698407/runs/a584e8e2cf694b8196cce5f1233993ca\n",
      "🧪 View experiment at: http://127.0.0.1:5000/#/experiments/537408113752698407\n"
     ]
    },
    {
     "name": "stderr",
     "output_type": "stream",
     "text": [
      "2025/03/11 00:56:32 WARNING mlflow.models.model: Model logged without a signature and input example. Please set `input_example` parameter when logging the model to auto infer the model signature.\n"
     ]
    },
    {
     "name": "stdout",
     "output_type": "stream",
     "text": [
      "🏃 View run лемматизация_ALL_None_TFIDF at: http://127.0.0.1:5000/#/experiments/537408113752698407/runs/2edef4db63c246ba8624e0cbb16c4cae\n",
      "🧪 View experiment at: http://127.0.0.1:5000/#/experiments/537408113752698407\n",
      "Итерация 23 / 24\n"
     ]
    },
    {
     "name": "stderr",
     "output_type": "stream",
     "text": [
      "2025/03/11 00:58:27 WARNING mlflow.models.model: Model logged without a signature and input example. Please set `input_example` parameter when logging the model to auto infer the model signature.\n"
     ]
    },
    {
     "name": "stdout",
     "output_type": "stream",
     "text": [
      "🏃 View run лемматизация_ALL_low_OHE at: http://127.0.0.1:5000/#/experiments/537408113752698407/runs/5aec787fc3c047e982feb8517c51e530\n",
      "🧪 View experiment at: http://127.0.0.1:5000/#/experiments/537408113752698407\n"
     ]
    },
    {
     "name": "stderr",
     "output_type": "stream",
     "text": [
      "2025/03/11 00:58:31 WARNING mlflow.models.model: Model logged without a signature and input example. Please set `input_example` parameter when logging the model to auto infer the model signature.\n"
     ]
    },
    {
     "name": "stdout",
     "output_type": "stream",
     "text": [
      "🏃 View run лемматизация_ALL_low_COUNT at: http://127.0.0.1:5000/#/experiments/537408113752698407/runs/b32e5a3fd2eb41859eafe27d8f7dcc54\n",
      "🧪 View experiment at: http://127.0.0.1:5000/#/experiments/537408113752698407\n"
     ]
    },
    {
     "name": "stderr",
     "output_type": "stream",
     "text": [
      "2025/03/11 00:58:34 WARNING mlflow.models.model: Model logged without a signature and input example. Please set `input_example` parameter when logging the model to auto infer the model signature.\n"
     ]
    },
    {
     "name": "stdout",
     "output_type": "stream",
     "text": [
      "🏃 View run лемматизация_ALL_low_TFIDF at: http://127.0.0.1:5000/#/experiments/537408113752698407/runs/681722f6b7e0448fabb0a34b9f7f0111\n",
      "🧪 View experiment at: http://127.0.0.1:5000/#/experiments/537408113752698407\n",
      "Итерация 24 / 24\n"
     ]
    }
   ],
   "execution_count": 20
  },
  {
   "metadata": {
    "ExecuteTime": {
     "end_time": "2025-03-10T20:52:13.948573Z",
     "start_time": "2025-03-10T20:52:13.945574Z"
    }
   },
   "cell_type": "code",
   "source": "cc = DecisionTreeClassifier()",
   "id": "488d299b7a4c3fb",
   "outputs": [],
   "execution_count": 16
  }
 ],
 "metadata": {
  "kernelspec": {
   "display_name": "Python 3",
   "language": "python",
   "name": "python3"
  },
  "language_info": {
   "codemirror_mode": {
    "name": "ipython",
    "version": 2
   },
   "file_extension": ".py",
   "mimetype": "text/x-python",
   "name": "python",
   "nbconvert_exporter": "python",
   "pygments_lexer": "ipython2",
   "version": "2.7.6"
  }
 },
 "nbformat": 4,
 "nbformat_minor": 5
}
