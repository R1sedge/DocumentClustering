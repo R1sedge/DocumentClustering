{
 "cells": [
  {
   "metadata": {
    "ExecuteTime": {
     "end_time": "2025-03-19T11:28:40.648811Z",
     "start_time": "2025-03-19T11:28:35.502917Z"
    }
   },
   "cell_type": "code",
   "source": [
    "import nltk\n",
    "import string\n",
    "from datasets import load_dataset\n",
    "import re\n",
    "from nltk.corpus import stopwords\n",
    "from nltk import pos_tag\n",
    "import numpy as np\n",
    "from sklearn.naive_bayes import GaussianNB\n",
    "from sklearn.tree import DecisionTreeClassifier\n",
    "from sklearn.ensemble import RandomForestClassifier, AdaBoostClassifier, GradientBoostingClassifier, HistGradientBoostingClassifier\n",
    "from sklearn.decomposition import TruncatedSVD\n",
    "from scipy.sparse import csr_matrix\n",
    "from sklearn.metrics import f1_score\n",
    "from sklearn.feature_extraction.text import TfidfVectorizer, CountVectorizer\n",
    "import mlflow\n",
    "from sklearnex import patch_sklearn\n",
    "from warnings import filterwarnings\n",
    "patch_sklearn()"
   ],
   "id": "522bd9275dbad761",
   "outputs": [
    {
     "name": "stderr",
     "output_type": "stream",
     "text": [
      "Intel(R) Extension for Scikit-learn* enabled (https://github.com/uxlfoundation/scikit-learn-intelex)\n"
     ]
    }
   ],
   "execution_count": 1
  },
  {
   "metadata": {
    "ExecuteTime": {
     "end_time": "2025-03-18T14:00:34.688432Z",
     "start_time": "2025-03-18T14:00:20.074378Z"
    }
   },
   "cell_type": "code",
   "source": [
    "mlflow.start_run(run_name=f'test_{k}_SVD')\n",
    "mlflow.log_param('model', clf_SVD.__class__.__name__)\n",
    "mlflow.log_param('preprocess_type', preprocess_type)\n",
    "mlflow.log_param('words_class', words_class)\n",
    "mlflow.log_param('frequency_filtration_type', frequency_filtration_type)\n",
    "mlflow.log_param('token_length', token_length)\n",
    "mlflow.sklearn.log_model(clf_SVD)\n",
    "mlflow.log_metric('macro_score', macro_score_ADA_SVD)\n",
    "mlflow.end_run()\n",
    "k+=1"
   ],
   "id": "da21c4add5046971",
   "outputs": [
    {
     "name": "stderr",
     "output_type": "stream",
     "text": [
      "2025/03/18 17:00:32 WARNING mlflow.models.model: Model logged without a signature and input example. Please set `input_example` parameter when logging the model to auto infer the model signature.\n"
     ]
    },
    {
     "name": "stdout",
     "output_type": "stream",
     "text": [
      "🏃 View run test_1_TFIDF at: http://127.0.0.1:5000/#/experiments/799133258121577462/runs/bafba86b133149248c1c83ef61f5feec\n",
      "🧪 View experiment at: http://127.0.0.1:5000/#/experiments/799133258121577462\n"
     ]
    }
   ],
   "execution_count": 26
  },
  {
   "metadata": {
    "ExecuteTime": {
     "end_time": "2025-03-11T21:07:51.634716Z",
     "start_time": "2025-03-11T21:07:51.630605Z"
    }
   },
   "cell_type": "code",
   "source": "clf_OHE_ADA.__class__.__name__",
   "id": "3069a355368ee407",
   "outputs": [
    {
     "data": {
      "text/plain": [
       "'AdaBoostClassifier'"
      ]
     },
     "execution_count": 177,
     "metadata": {},
     "output_type": "execute_result"
    }
   ],
   "execution_count": 177
  },
  {
   "metadata": {},
   "cell_type": "code",
   "outputs": [],
   "execution_count": null,
   "source": "",
   "id": "18bac159e0b3f168"
  }
 ],
 "metadata": {
  "kernelspec": {
   "display_name": "Python 3",
   "language": "python",
   "name": "python3"
  },
  "language_info": {
   "codemirror_mode": {
    "name": "ipython",
    "version": 2
   },
   "file_extension": ".py",
   "mimetype": "text/x-python",
   "name": "python",
   "nbconvert_exporter": "python",
   "pygments_lexer": "ipython2",
   "version": "2.7.6"
  }
 },
 "nbformat": 4,
 "nbformat_minor": 5
}
