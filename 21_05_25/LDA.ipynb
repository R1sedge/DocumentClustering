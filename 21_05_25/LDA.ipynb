{
 "cells": [
  {
   "metadata": {
    "ExecuteTime": {
     "end_time": "2025-05-21T12:02:19.777788Z",
     "start_time": "2025-05-21T12:02:19.049023Z"
    }
   },
   "cell_type": "code",
   "source": [
    "import numpy as np\n",
    "from sklearn.datasets import fetch_20newsgroups\n",
    "from sklearn.feature_extraction.text import CountVectorizer\n",
    "from gensim import corpora, models\n",
    "from gensim.utils import simple_preprocess\n",
    "from nltk.corpus import stopwords"
   ],
   "id": "6fb80499ffa35bdf",
   "outputs": [],
   "execution_count": 26
  },
  {
   "metadata": {
    "ExecuteTime": {
     "end_time": "2025-05-21T10:27:02.798519Z",
     "start_time": "2025-05-21T10:27:02.795053Z"
    }
   },
   "cell_type": "code",
   "source": [
    "# Define the four specific newsgroup classes you want to use\n",
    "selected_classes = [\n",
    " 'alt.atheism',\n",
    " 'comp.graphics',\n",
    " 'sci.space',\n",
    " 'talk.politics.mideast'\n",
    "]"
   ],
   "id": "da9a3324f0eb83c5",
   "outputs": [],
   "execution_count": 2
  },
  {
   "metadata": {
    "ExecuteTime": {
     "end_time": "2025-05-21T12:17:58.484110Z",
     "start_time": "2025-05-21T12:17:58.479979Z"
    }
   },
   "cell_type": "code",
   "source": [
    "stop_words = set(stopwords.words(\"english\"))\n",
    "stop_words = stop_words.union({'one', 'would', 'like', 'could'})"
   ],
   "id": "ddd3747715d2efac",
   "outputs": [],
   "execution_count": 40
  },
  {
   "metadata": {
    "ExecuteTime": {
     "end_time": "2025-05-21T10:29:37.143602Z",
     "start_time": "2025-05-21T10:27:04.759372Z"
    }
   },
   "cell_type": "code",
   "source": [
    "# Load the 20 Newsgroups dataset for the selected classes\n",
    "newsgroups = fetch_20newsgroups(subset='all', categories=selected_classes, remove=('headers', 'footers', 'quotes'))"
   ],
   "id": "45fd5a9e27a52ad2",
   "outputs": [],
   "execution_count": 3
  },
  {
   "metadata": {
    "ExecuteTime": {
     "end_time": "2025-05-21T12:18:04.159342Z",
     "start_time": "2025-05-21T12:18:03.474359Z"
    }
   },
   "cell_type": "code",
   "source": [
    "# Preprocess the text data and create a list of tokenized documents\n",
    "tokenized_documents = [simple_preprocess(text) for text in newsgroups.data]"
   ],
   "id": "6d17f2c30a0b9d61",
   "outputs": [],
   "execution_count": 41
  },
  {
   "metadata": {
    "ExecuteTime": {
     "end_time": "2025-05-21T12:18:05.080162Z",
     "start_time": "2025-05-21T12:18:04.538472Z"
    }
   },
   "cell_type": "code",
   "source": [
    "# Create a dictionary mapping of words to unique IDs\n",
    "dictionary = corpora.Dictionary(tokenized_documents)"
   ],
   "id": "17e62aa1cfe04f39",
   "outputs": [],
   "execution_count": 42
  },
  {
   "metadata": {
    "ExecuteTime": {
     "end_time": "2025-05-21T12:18:05.755962Z",
     "start_time": "2025-05-21T12:18:05.686430Z"
    }
   },
   "cell_type": "code",
   "source": [
    "# Получаем идентификаторы слов, которые являются стоп-словами\n",
    "stop_ids = [dictionary.token2id[word] for word in stop_words \n",
    "            if word in dictionary.token2id]\n",
    "\n",
    "# Удаляем стоп-слова из словаря\n",
    "dictionary.filter_tokens(stop_ids)\n",
    "\n",
    "# Также можно удалить редкие и частые слова\n",
    "dictionary.filter_extremes(no_below=5, no_above=0.5)"
   ],
   "id": "7116a3f28249356",
   "outputs": [],
   "execution_count": 43
  },
  {
   "metadata": {
    "ExecuteTime": {
     "end_time": "2025-05-21T12:18:06.214918Z",
     "start_time": "2025-05-21T12:18:05.989508Z"
    }
   },
   "cell_type": "code",
   "source": [
    "# Create a Bag of Words (BoW) representation of the documents\n",
    "bow_corpus = [dictionary.doc2bow(doc) for doc in tokenized_documents]"
   ],
   "id": "ce0db62a487b9bc9",
   "outputs": [],
   "execution_count": 44
  },
  {
   "metadata": {
    "ExecuteTime": {
     "end_time": "2025-05-21T12:18:40.610210Z",
     "start_time": "2025-05-21T12:18:07.783748Z"
    }
   },
   "cell_type": "code",
   "source": [
    "# Train the LDA model\n",
    "lda_model = models.LdaModel(bow_corpus, num_topics=20, id2word=dictionary, passes=15, alpha='symmetric', eta='auto')"
   ],
   "id": "ad15ce9c1ec47d",
   "outputs": [],
   "execution_count": 45
  },
  {
   "metadata": {
    "ExecuteTime": {
     "end_time": "2025-05-21T12:18:40.617258Z",
     "start_time": "2025-05-21T12:18:40.613200Z"
    }
   },
   "cell_type": "code",
   "source": [
    "def print_topics(model, num_topics):\n",
    "    topics = lda_model.print_topics(num_words=10)\n",
    "    for topic in topics:\n",
    "        print(topic)\n",
    "        print()"
   ],
   "id": "d5a96e0b21d1cf8e",
   "outputs": [],
   "execution_count": 46
  },
  {
   "metadata": {
    "ExecuteTime": {
     "end_time": "2025-05-21T12:18:40.685188Z",
     "start_time": "2025-05-21T12:18:40.679387Z"
    }
   },
   "cell_type": "code",
   "source": "print_topics(lda_model, 10)",
   "id": "fecead8fa6fcf1e4",
   "outputs": [
    {
     "name": "stdout",
     "output_type": "stream",
     "text": [
      "(0, '0.013*\"israel\" + 0.010*\"people\" + 0.007*\"israeli\" + 0.006*\"jews\" + 0.006*\"arab\" + 0.005*\"think\" + 0.005*\"right\" + 0.005*\"jewish\" + 0.004*\"even\" + 0.004*\"state\"')\n",
      "\n",
      "(1, '0.020*\"azerbaijan\" + 0.014*\"armenian\" + 0.012*\"said\" + 0.010*\"azeri\" + 0.009*\"armenia\" + 0.008*\"karabakh\" + 0.008*\"people\" + 0.008*\"killed\" + 0.008*\"armenians\" + 0.007*\"bodies\"')\n",
      "\n",
      "(2, '0.036*\"edu\" + 0.018*\"pub\" + 0.016*\"mail\" + 0.016*\"ftp\" + 0.014*\"send\" + 0.012*\"graphics\" + 0.010*\"com\" + 0.010*\"information\" + 0.009*\"available\" + 0.009*\"faq\"')\n",
      "\n",
      "(3, '0.017*\"image\" + 0.012*\"graphics\" + 0.010*\"data\" + 0.009*\"software\" + 0.007*\"available\" + 0.006*\"computer\" + 0.006*\"also\" + 0.006*\"edu\" + 0.006*\"package\" + 0.005*\"processing\"')\n",
      "\n",
      "(4, '0.033*\"ed\" + 0.021*\"istanbul\" + 0.013*\"turkey\" + 0.013*\"ankara\" + 0.010*\"new\" + 0.009*\"ermeni\" + 0.009*\"york\" + 0.009*\"kk\" + 0.009*\"university\" + 0.008*\"osmanli\"')\n",
      "\n",
      "(5, '0.015*\"thanks\" + 0.014*\"anyone\" + 0.013*\"know\" + 0.013*\"bit\" + 0.012*\"program\" + 0.011*\"please\" + 0.010*\"need\" + 0.008*\"help\" + 0.008*\"looking\" + 0.008*\"could\"')\n",
      "\n",
      "(6, '0.025*\"university\" + 0.020*\"muslims\" + 0.016*\"history\" + 0.016*\"professor\" + 0.010*\"serbs\" + 0.010*\"bosnian\" + 0.008*\"genocide\" + 0.007*\"edu\" + 0.007*\"page\" + 0.007*\"bosnia\"')\n",
      "\n",
      "(7, '0.017*\"lunar\" + 0.016*\"mars\" + 0.014*\"orbit\" + 0.014*\"mission\" + 0.013*\"solar\" + 0.013*\"space\" + 0.012*\"launch\" + 0.012*\"nasa\" + 0.011*\"moon\" + 0.010*\"missions\"')\n",
      "\n",
      "(8, '0.022*\"space\" + 0.007*\"nasa\" + 0.006*\"launch\" + 0.006*\"new\" + 0.006*\"year\" + 0.006*\"research\" + 0.006*\"program\" + 0.005*\"also\" + 0.005*\"cost\" + 0.005*\"may\"')\n",
      "\n",
      "(9, '0.019*\"turkish\" + 0.014*\"armenian\" + 0.011*\"jews\" + 0.011*\"armenians\" + 0.010*\"greek\" + 0.009*\"turks\" + 0.009*\"people\" + 0.008*\"government\" + 0.007*\"turkey\" + 0.007*\"genocide\"')\n",
      "\n",
      "(10, '0.011*\"satellite\" + 0.008*\"space\" + 0.008*\"spacecraft\" + 0.008*\"time\" + 0.007*\"data\" + 0.007*\"mission\" + 0.006*\"test\" + 0.006*\"launch\" + 0.006*\"hst\" + 0.006*\"april\"')\n",
      "\n",
      "(11, '0.012*\"plane\" + 0.012*\"points\" + 0.011*\"know\" + 0.011*\"point\" + 0.011*\"line\" + 0.010*\"question\" + 0.008*\"sound\" + 0.007*\"problem\" + 0.006*\"two\" + 0.006*\"time\"')\n",
      "\n",
      "(12, '0.031*\"adl\" + 0.018*\"bullock\" + 0.014*\"information\" + 0.014*\"gerard\" + 0.013*\"police\" + 0.012*\"anti\" + 0.012*\"san\" + 0.011*\"palestinian\" + 0.011*\"francisco\" + 0.010*\"groups\"')\n",
      "\n",
      "(13, '0.016*\"god\" + 0.008*\"think\" + 0.008*\"people\" + 0.008*\"believe\" + 0.007*\"religion\" + 0.007*\"atheism\" + 0.007*\"say\" + 0.006*\"many\" + 0.006*\"argument\" + 0.006*\"know\"')\n",
      "\n",
      "(14, '0.016*\"planet\" + 0.015*\"earth\" + 0.012*\"surface\" + 0.010*\"atmosphere\" + 0.009*\"sky\" + 0.009*\"venus\" + 0.009*\"moon\" + 0.008*\"sun\" + 0.008*\"miles\" + 0.007*\"light\"')\n",
      "\n",
      "(15, '0.009*\"freedom\" + 0.009*\"henrik\" + 0.008*\"could\" + 0.007*\"think\" + 0.007*\"people\" + 0.007*\"away\" + 0.006*\"want\" + 0.005*\"better\" + 0.005*\"right\" + 0.005*\"see\"')\n",
      "\n",
      "(16, '0.015*\"armenian\" + 0.010*\"armenians\" + 0.010*\"jesus\" + 0.009*\"russian\" + 0.007*\"men\" + 0.006*\"matthew\" + 0.006*\"paragraph\" + 0.006*\"villages\" + 0.006*\"first\" + 0.006*\"muslim\"')\n",
      "\n",
      "(17, '0.015*\"space\" + 0.010*\"energy\" + 0.009*\"earth\" + 0.006*\"system\" + 0.005*\"field\" + 0.005*\"universe\" + 0.005*\"solar\" + 0.004*\"star\" + 0.004*\"book\" + 0.004*\"mass\"')\n",
      "\n",
      "(18, '0.015*\"said\" + 0.013*\"us\" + 0.011*\"people\" + 0.009*\"know\" + 0.008*\"went\" + 0.008*\"go\" + 0.006*\"say\" + 0.006*\"time\" + 0.006*\"came\" + 0.006*\"going\"')\n",
      "\n",
      "(19, '0.038*\"jpeg\" + 0.023*\"image\" + 0.019*\"file\" + 0.017*\"gif\" + 0.013*\"images\" + 0.012*\"format\" + 0.012*\"color\" + 0.009*\"bit\" + 0.009*\"files\" + 0.008*\"version\"')\n",
      "\n"
     ]
    }
   ],
   "execution_count": 47
  },
  {
   "metadata": {
    "ExecuteTime": {
     "end_time": "2025-05-21T12:18:41.868716Z",
     "start_time": "2025-05-21T12:18:40.748872Z"
    }
   },
   "cell_type": "code",
   "source": [
    "# Iterate through the documents and get their topic distributions\n",
    "document_topic_vectors = []\n",
    "for doc_bow in bow_corpus:\n",
    "    document_topics = lda_model.get_document_topics(doc_bow, minimum_probability=0.0)\n",
    "    document_topic_vector = [topic_prob for _, topic_prob in document_topics]\n",
    "    document_topic_vectors.append(document_topic_vector)"
   ],
   "id": "d1d26a812e3c828d",
   "outputs": [],
   "execution_count": 48
  },
  {
   "metadata": {
    "ExecuteTime": {
     "end_time": "2025-05-21T12:18:41.908469Z",
     "start_time": "2025-05-21T12:18:41.905712Z"
    }
   },
   "cell_type": "code",
   "source": [
    "# Specify the number of documents to print\n",
    "num_documents_to_print = 5"
   ],
   "id": "9ca284d8f50590c5",
   "outputs": [],
   "execution_count": 49
  },
  {
   "metadata": {
    "ExecuteTime": {
     "end_time": "2025-05-21T12:18:43.071198Z",
     "start_time": "2025-05-21T12:18:41.946207Z"
    }
   },
   "cell_type": "code",
   "source": [
    "# Iterate through the documents and get their topic distributions\n",
    "document_topic_vectors = []\n",
    "for i, doc_bow in enumerate(bow_corpus):\n",
    "    document_topics = lda_model.get_document_topics(doc_bow, minimum_probability=0.0)\n",
    "    document_topic_vector = [topic_prob for _, topic_prob in document_topics]\n",
    "    document_topic_vectors.append(document_topic_vector)\n",
    "    \n",
    "    #Print the topic vector for the first num_documents_to_print documents\n",
    "    if i < num_documents_to_print:\n",
    "        print(f\"Document {i + 1} Topic Vector: {document_topic_vector}\")\n",
    "        print()"
   ],
   "id": "40ef361fb41c75da",
   "outputs": [
    {
     "name": "stdout",
     "output_type": "stream",
     "text": [
      "Document 1 Topic Vector: [0.008335287, 0.008335287, 0.21907607, 0.008335287, 0.008335287, 0.008335287, 0.29106158, 0.008335287, 0.008335287, 0.008335287, 0.008335287, 0.008335287, 0.008335287, 0.34816247, 0.008335287, 0.008335287, 0.008335287, 0.008335287, 0.008335287, 0.008335287]\n",
      "\n",
      "Document 2 Topic Vector: [5.8658312e-05, 5.8658312e-05, 5.8658312e-05, 5.8658312e-05, 0.94539326, 5.8658312e-05, 5.8658312e-05, 5.8658312e-05, 5.8658312e-05, 0.03891934, 5.8658312e-05, 5.8658312e-05, 5.8658312e-05, 5.8658312e-05, 5.8658312e-05, 5.8658312e-05, 0.014690209, 5.8658312e-05, 5.8658312e-05, 5.8658312e-05]\n",
      "\n",
      "Document 3 Topic Vector: [0.00027657443, 0.00027657443, 0.00027657443, 0.3102905, 0.00027657443, 0.26410618, 0.00027657443, 0.00027657443, 0.0952239, 0.00027657443, 0.046542913, 0.00027657443, 0.00027657443, 0.00027657443, 0.021069165, 0.037368536, 0.00027657443, 0.030642651, 0.00027657443, 0.19143727]\n",
      "\n",
      "Document 4 Topic Vector: [0.000588814, 0.043787237, 0.000588814, 0.000588814, 0.000588814, 0.000588814, 0.106874146, 0.000588814, 0.000588814, 0.70781094, 0.000588814, 0.000588814, 0.000588814, 0.10147322, 0.000588814, 0.000588814, 0.031222252, 0.000588814, 0.000588814, 0.000588814]\n",
      "\n",
      "Document 5 Topic Vector: [0.8812115, 0.0062520267, 0.0062520267, 0.0062520267, 0.0062520267, 0.0062520267, 0.0062520267, 0.0062520267, 0.0062520267, 0.0062520267, 0.0062520267, 0.0062520267, 0.0062520267, 0.0062520267, 0.0062520267, 0.0062520267, 0.0062520267, 0.0062520267, 0.0062520267, 0.0062520267]\n",
      "\n"
     ]
    }
   ],
   "execution_count": 50
  },
  {
   "metadata": {
    "ExecuteTime": {
     "end_time": "2025-05-21T12:18:43.119248Z",
     "start_time": "2025-05-21T12:18:43.115187Z"
    }
   },
   "cell_type": "code",
   "source": "from gensim.models import LdaModel",
   "id": "efdb43a0a42f68cb",
   "outputs": [],
   "execution_count": 51
  },
  {
   "metadata": {
    "ExecuteTime": {
     "end_time": "2025-05-21T12:18:43.170014Z",
     "start_time": "2025-05-21T12:18:43.158623Z"
    }
   },
   "cell_type": "code",
   "source": [
    "corpus = bow_corpus\n",
    "id2word = dictionary"
   ],
   "id": "e342bad8d6d8032e",
   "outputs": [],
   "execution_count": 52
  },
  {
   "metadata": {
    "ExecuteTime": {
     "end_time": "2025-05-21T12:22:55.517569Z",
     "start_time": "2025-05-21T12:22:47.475653Z"
    }
   },
   "cell_type": "code",
   "source": [
    "lda_model = LdaModel(corpus=corpus, id2word=id2word, num_topics=20, passes=3, alpha='auto', eta='auto')\n",
    "print_topics(lda_model, 10)"
   ],
   "id": "ee1c0670d6d23c8f",
   "outputs": [
    {
     "name": "stdout",
     "output_type": "stream",
     "text": [
      "(0, '0.028*\"adl\" + 0.017*\"bullock\" + 0.012*\"gerard\" + 0.011*\"information\" + 0.010*\"police\" + 0.010*\"san\" + 0.009*\"francisco\" + 0.008*\"adam\" + 0.008*\"anti\" + 0.007*\"fbi\"')\n",
      "\n",
      "(1, '0.050*\"university\" + 0.037*\"professor\" + 0.029*\"history\" + 0.009*\"general\" + 0.009*\"genocide\" + 0.007*\"studies\" + 0.006*\"california\" + 0.006*\"armenian\" + 0.005*\"turkish\" + 0.005*\"dr\"')\n",
      "\n",
      "(2, '0.015*\"earth\" + 0.014*\"space\" + 0.011*\"solar\" + 0.010*\"spacecraft\" + 0.010*\"system\" + 0.009*\"orbit\" + 0.009*\"planet\" + 0.008*\"surface\" + 0.007*\"mission\" + 0.007*\"mars\"')\n",
      "\n",
      "(3, '0.018*\"armenian\" + 0.016*\"armenians\" + 0.013*\"turkish\" + 0.011*\"armenia\" + 0.008*\"turkey\" + 0.007*\"russian\" + 0.007*\"genocide\" + 0.007*\"azerbaijan\" + 0.006*\"people\" + 0.006*\"soviet\"')\n",
      "\n",
      "(4, '0.012*\"people\" + 0.010*\"said\" + 0.008*\"us\" + 0.006*\"armenian\" + 0.005*\"armenians\" + 0.005*\"know\" + 0.005*\"went\" + 0.004*\"go\" + 0.004*\"children\" + 0.004*\"time\"')\n",
      "\n",
      "(5, '0.020*\"kuwait\" + 0.019*\"greek\" + 0.014*\"greece\" + 0.010*\"turkish\" + 0.008*\"al\" + 0.006*\"rights\" + 0.006*\"minority\" + 0.006*\"turks\" + 0.005*\"government\" + 0.005*\"first\"')\n",
      "\n",
      "(6, '0.014*\"armenian\" + 0.008*\"armenians\" + 0.007*\"nazi\" + 0.006*\"war\" + 0.005*\"jews\" + 0.005*\"genocide\" + 0.004*\"world\" + 0.004*\"german\" + 0.004*\"serdar\" + 0.004*\"argic\"')\n",
      "\n",
      "(7, '0.022*\"space\" + 0.007*\"nasa\" + 0.006*\"people\" + 0.006*\"also\" + 0.004*\"think\" + 0.004*\"get\" + 0.004*\"station\" + 0.004*\"much\" + 0.004*\"research\" + 0.003*\"technology\"')\n",
      "\n",
      "(8, '0.008*\"israel\" + 0.008*\"people\" + 0.008*\"arab\" + 0.006*\"israeli\" + 0.005*\"think\" + 0.004*\"right\" + 0.004*\"say\" + 0.004*\"us\" + 0.004*\"even\" + 0.004*\"way\"')\n",
      "\n",
      "(9, '0.020*\"god\" + 0.008*\"jesus\" + 0.008*\"religion\" + 0.007*\"believe\" + 0.007*\"atheism\" + 0.007*\"argument\" + 0.006*\"evidence\" + 0.006*\"say\" + 0.006*\"bible\" + 0.005*\"belief\"')\n",
      "\n",
      "(10, '0.015*\"graphics\" + 0.013*\"edu\" + 0.007*\"pub\" + 0.007*\"mail\" + 0.007*\"data\" + 0.007*\"ftp\" + 0.006*\"available\" + 0.006*\"also\" + 0.006*\"computer\" + 0.006*\"software\"')\n",
      "\n",
      "(11, '0.012*\"israel\" + 0.009*\"launch\" + 0.006*\"israeli\" + 0.004*\"us\" + 0.004*\"also\" + 0.004*\"two\" + 0.004*\"time\" + 0.004*\"shuttle\" + 0.004*\"new\" + 0.004*\"dc\"')\n",
      "\n",
      "(12, '0.013*\"istanbul\" + 0.011*\"ed\" + 0.009*\"new\" + 0.008*\"moon\" + 0.008*\"ankara\" + 0.007*\"york\" + 0.007*\"turkey\" + 0.006*\"lunar\" + 0.006*\"ermeni\" + 0.005*\"osmanli\"')\n",
      "\n",
      "(13, '0.020*\"image\" + 0.018*\"jpeg\" + 0.009*\"gif\" + 0.009*\"images\" + 0.009*\"file\" + 0.007*\"color\" + 0.006*\"format\" + 0.006*\"bit\" + 0.006*\"software\" + 0.006*\"use\"')\n",
      "\n",
      "(14, '0.011*\"think\" + 0.009*\"could\" + 0.008*\"know\" + 0.007*\"people\" + 0.006*\"time\" + 0.006*\"well\" + 0.005*\"see\" + 0.005*\"get\" + 0.005*\"said\" + 0.005*\"way\"')\n",
      "\n",
      "(15, '0.013*\"radius\" + 0.009*\"file\" + 0.006*\"anyone\" + 0.006*\"tm\" + 0.005*\"image\" + 0.005*\"blue\" + 0.005*\"red\" + 0.005*\"launch\" + 0.005*\"double\" + 0.004*\"space\"')\n",
      "\n",
      "(16, '0.014*\"program\" + 0.013*\"alt\" + 0.010*\"display\" + 0.009*\"image\" + 0.009*\"menu\" + 0.009*\"file\" + 0.009*\"read\" + 0.009*\"bits\" + 0.008*\"driver\" + 0.007*\"files\"')\n",
      "\n",
      "(17, '0.028*\"jews\" + 0.015*\"jewish\" + 0.012*\"muslims\" + 0.010*\"israel\" + 0.007*\"muslim\" + 0.006*\"war\" + 0.006*\"ottoman\" + 0.006*\"turkish\" + 0.005*\"serbs\" + 0.005*\"state\"')\n",
      "\n",
      "(18, '0.006*\"program\" + 0.006*\"know\" + 0.005*\"files\" + 0.005*\"need\" + 0.004*\"using\" + 0.004*\"get\" + 0.004*\"problem\" + 0.004*\"line\" + 0.004*\"phigs\" + 0.004*\"could\"')\n",
      "\n",
      "(19, '0.011*\"energy\" + 0.010*\"gamma\" + 0.010*\"de\" + 0.008*\"oort\" + 0.007*\"van\" + 0.007*\"cloud\" + 0.006*\"distribution\" + 0.005*\"mechanism\" + 0.005*\"bus\" + 0.005*\"image\"')\n",
      "\n"
     ]
    }
   ],
   "execution_count": 66
  },
  {
   "metadata": {
    "ExecuteTime": {
     "end_time": "2025-05-21T12:23:06.452553Z",
     "start_time": "2025-05-21T12:23:00.484624Z"
    }
   },
   "cell_type": "code",
   "source": [
    "lda_model = LdaModel(corpus=corpus, id2word=id2word, num_topics=20, passes=3, alpha=2, eta=2)\n",
    "print_topics(lda_model, 10)"
   ],
   "id": "f05cd8b46c08c470",
   "outputs": [
    {
     "name": "stdout",
     "output_type": "stream",
     "text": [
      "(0, '0.010*\"armenian\" + 0.008*\"turkish\" + 0.007*\"armenians\" + 0.006*\"people\" + 0.004*\"government\" + 0.004*\"russian\" + 0.004*\"turks\" + 0.004*\"armenia\" + 0.004*\"genocide\" + 0.004*\"jews\"')\n",
      "\n",
      "(1, '0.001*\"space\" + 0.001*\"launch\" + 0.001*\"also\" + 0.001*\"people\" + 0.001*\"think\" + 0.001*\"anyone\" + 0.001*\"get\" + 0.001*\"could\" + 0.001*\"edu\" + 0.001*\"may\"')\n",
      "\n",
      "(2, '0.001*\"know\" + 0.001*\"please\" + 0.001*\"anyone\" + 0.001*\"think\" + 0.001*\"also\" + 0.001*\"could\" + 0.001*\"people\" + 0.001*\"much\" + 0.001*\"time\" + 0.001*\"thanks\"')\n",
      "\n",
      "(3, '0.001*\"think\" + 0.001*\"know\" + 0.001*\"anyone\" + 0.001*\"space\" + 0.001*\"could\" + 0.001*\"well\" + 0.001*\"get\" + 0.001*\"time\" + 0.001*\"also\" + 0.001*\"find\"')\n",
      "\n",
      "(4, '0.013*\"israel\" + 0.007*\"israeli\" + 0.006*\"jews\" + 0.005*\"arab\" + 0.005*\"jewish\" + 0.004*\"ed\" + 0.003*\"people\" + 0.003*\"palestinian\" + 0.003*\"state\" + 0.003*\"arabs\"')\n",
      "\n",
      "(5, '0.002*\"universe\" + 0.001*\"think\" + 0.001*\"theory\" + 0.001*\"larson\" + 0.001*\"time\" + 0.001*\"people\" + 0.001*\"could\" + 0.001*\"physical\" + 0.001*\"space\" + 0.001*\"book\"')\n",
      "\n",
      "(6, '0.001*\"know\" + 0.001*\"could\" + 0.001*\"think\" + 0.001*\"get\" + 0.001*\"people\" + 0.001*\"well\" + 0.001*\"israel\" + 0.001*\"israeli\" + 0.001*\"space\" + 0.001*\"anyone\"')\n",
      "\n",
      "(7, '0.013*\"space\" + 0.005*\"nasa\" + 0.005*\"launch\" + 0.005*\"earth\" + 0.004*\"system\" + 0.004*\"also\" + 0.003*\"first\" + 0.003*\"solar\" + 0.003*\"orbit\" + 0.003*\"data\"')\n",
      "\n",
      "(8, '0.005*\"istanbul\" + 0.003*\"university\" + 0.003*\"new\" + 0.003*\"ankara\" + 0.003*\"turkey\" + 0.003*\"ed\" + 0.002*\"york\" + 0.002*\"ermeni\" + 0.002*\"history\" + 0.002*\"osmanli\"')\n",
      "\n",
      "(9, '0.002*\"know\" + 0.002*\"people\" + 0.001*\"us\" + 0.001*\"get\" + 0.001*\"could\" + 0.001*\"think\" + 0.001*\"say\" + 0.001*\"time\" + 0.001*\"even\" + 0.001*\"said\"')\n",
      "\n",
      "(10, '0.002*\"people\" + 0.001*\"israel\" + 0.001*\"could\" + 0.001*\"think\" + 0.001*\"know\" + 0.001*\"anyone\" + 0.001*\"time\" + 0.001*\"may\" + 0.001*\"also\" + 0.001*\"israeli\"')\n",
      "\n",
      "(11, '0.006*\"adl\" + 0.004*\"bullock\" + 0.003*\"gerard\" + 0.002*\"san\" + 0.002*\"think\" + 0.002*\"francisco\" + 0.002*\"information\" + 0.002*\"police\" + 0.002*\"anti\" + 0.002*\"israel\"')\n",
      "\n",
      "(12, '0.010*\"jpeg\" + 0.006*\"image\" + 0.006*\"god\" + 0.005*\"file\" + 0.005*\"gif\" + 0.004*\"people\" + 0.004*\"see\" + 0.004*\"bit\" + 0.004*\"many\" + 0.004*\"may\"')\n",
      "\n",
      "(13, '0.009*\"said\" + 0.008*\"us\" + 0.008*\"people\" + 0.007*\"know\" + 0.005*\"go\" + 0.005*\"say\" + 0.004*\"went\" + 0.004*\"time\" + 0.004*\"could\" + 0.004*\"going\"')\n",
      "\n",
      "(14, '0.011*\"edu\" + 0.009*\"graphics\" + 0.008*\"image\" + 0.006*\"data\" + 0.005*\"pub\" + 0.005*\"ftp\" + 0.005*\"mail\" + 0.005*\"available\" + 0.005*\"software\" + 0.004*\"also\"')\n",
      "\n",
      "(15, '0.002*\"think\" + 0.001*\"people\" + 0.001*\"know\" + 0.001*\"could\" + 0.001*\"also\" + 0.001*\"first\" + 0.001*\"get\" + 0.001*\"well\" + 0.001*\"time\" + 0.001*\"anyone\"')\n",
      "\n",
      "(16, '0.001*\"think\" + 0.001*\"know\" + 0.001*\"people\" + 0.001*\"could\" + 0.001*\"anyone\" + 0.001*\"thanks\" + 0.001*\"time\" + 0.001*\"get\" + 0.001*\"say\" + 0.001*\"right\"')\n",
      "\n",
      "(17, '0.001*\"think\" + 0.001*\"could\" + 0.001*\"people\" + 0.001*\"know\" + 0.001*\"much\" + 0.001*\"get\" + 0.001*\"also\" + 0.001*\"even\" + 0.001*\"say\" + 0.001*\"need\"')\n",
      "\n",
      "(18, '0.001*\"people\" + 0.001*\"think\" + 0.001*\"know\" + 0.001*\"could\" + 0.001*\"space\" + 0.001*\"get\" + 0.001*\"well\" + 0.001*\"time\" + 0.001*\"us\" + 0.001*\"much\"')\n",
      "\n",
      "(19, '0.003*\"university\" + 0.002*\"professor\" + 0.002*\"de\" + 0.002*\"history\" + 0.001*\"van\" + 0.001*\"could\" + 0.001*\"think\" + 0.001*\"also\" + 0.001*\"know\" + 0.001*\"people\"')\n",
      "\n"
     ]
    }
   ],
   "execution_count": 67
  },
  {
   "metadata": {
    "ExecuteTime": {
     "end_time": "2025-05-21T12:23:09.890206Z",
     "start_time": "2025-05-21T12:23:06.570622Z"
    }
   },
   "cell_type": "code",
   "source": [
    "lda_model = LdaModel(corpus=corpus, id2word=id2word, num_topics=20, alpha=0.01, eta=0.01)\n",
    "print_topics(lda_model, 10)"
   ],
   "id": "88a034aa9c3f02bd",
   "outputs": [
    {
     "name": "stdout",
     "output_type": "stream",
     "text": [
      "(0, '0.007*\"people\" + 0.004*\"think\" + 0.004*\"armenian\" + 0.004*\"us\" + 0.003*\"state\" + 0.003*\"could\" + 0.003*\"israel\" + 0.003*\"right\" + 0.003*\"even\" + 0.003*\"many\"')\n",
      "\n",
      "(1, '0.006*\"edu\" + 0.006*\"god\" + 0.005*\"think\" + 0.005*\"know\" + 0.004*\"get\" + 0.004*\"information\" + 0.004*\"jpeg\" + 0.004*\"turkey\" + 0.004*\"people\" + 0.003*\"book\"')\n",
      "\n",
      "(2, '0.008*\"said\" + 0.007*\"people\" + 0.006*\"know\" + 0.006*\"israel\" + 0.006*\"us\" + 0.005*\"armenians\" + 0.005*\"say\" + 0.005*\"time\" + 0.004*\"went\" + 0.004*\"jews\"')\n",
      "\n",
      "(3, '0.008*\"people\" + 0.007*\"armenian\" + 0.005*\"armenians\" + 0.005*\"turkish\" + 0.005*\"jesus\" + 0.003*\"say\" + 0.003*\"many\" + 0.003*\"well\" + 0.003*\"see\" + 0.003*\"war\"')\n",
      "\n",
      "(4, '0.006*\"armenian\" + 0.005*\"armenians\" + 0.004*\"said\" + 0.004*\"time\" + 0.004*\"space\" + 0.004*\"people\" + 0.004*\"two\" + 0.004*\"us\" + 0.003*\"first\" + 0.003*\"also\"')\n",
      "\n",
      "(5, '0.006*\"graphics\" + 0.005*\"also\" + 0.005*\"software\" + 0.004*\"image\" + 0.004*\"data\" + 0.003*\"people\" + 0.003*\"first\" + 0.003*\"use\" + 0.003*\"get\" + 0.003*\"edu\"')\n",
      "\n",
      "(6, '0.009*\"space\" + 0.005*\"people\" + 0.003*\"many\" + 0.003*\"think\" + 0.003*\"also\" + 0.003*\"well\" + 0.003*\"way\" + 0.003*\"may\" + 0.003*\"get\" + 0.003*\"make\"')\n",
      "\n",
      "(7, '0.006*\"also\" + 0.004*\"people\" + 0.003*\"even\" + 0.003*\"armenian\" + 0.003*\"said\" + 0.003*\"could\" + 0.003*\"many\" + 0.003*\"think\" + 0.003*\"two\" + 0.003*\"may\"')\n",
      "\n",
      "(8, '0.011*\"university\" + 0.010*\"professor\" + 0.008*\"history\" + 0.007*\"de\" + 0.006*\"jews\" + 0.005*\"edu\" + 0.004*\"new\" + 0.003*\"siggraph\" + 0.003*\"also\" + 0.003*\"ottoman\"')\n",
      "\n",
      "(9, '0.008*\"istanbul\" + 0.006*\"ed\" + 0.006*\"turkey\" + 0.005*\"muslim\" + 0.005*\"muslims\" + 0.005*\"armenian\" + 0.004*\"ankara\" + 0.004*\"university\" + 0.004*\"new\" + 0.004*\"space\"')\n",
      "\n",
      "(10, '0.012*\"space\" + 0.004*\"launch\" + 0.004*\"system\" + 0.004*\"new\" + 0.004*\"nasa\" + 0.004*\"adl\" + 0.004*\"first\" + 0.004*\"information\" + 0.004*\"earth\" + 0.004*\"also\"')\n",
      "\n",
      "(11, '0.011*\"israel\" + 0.010*\"kk\" + 0.006*\"also\" + 0.004*\"image\" + 0.004*\"arab\" + 0.004*\"may\" + 0.004*\"could\" + 0.004*\"com\" + 0.004*\"see\" + 0.003*\"stop\"')\n",
      "\n",
      "(12, '0.011*\"armenian\" + 0.009*\"armenians\" + 0.008*\"people\" + 0.007*\"genocide\" + 0.007*\"turkish\" + 0.005*\"government\" + 0.004*\"also\" + 0.004*\"turks\" + 0.003*\"world\" + 0.003*\"time\"')\n",
      "\n",
      "(13, '0.010*\"people\" + 0.008*\"us\" + 0.006*\"know\" + 0.005*\"said\" + 0.005*\"get\" + 0.005*\"right\" + 0.004*\"even\" + 0.004*\"arab\" + 0.004*\"could\" + 0.004*\"think\"')\n",
      "\n",
      "(14, '0.006*\"people\" + 0.006*\"said\" + 0.004*\"years\" + 0.004*\"could\" + 0.004*\"also\" + 0.003*\"know\" + 0.003*\"two\" + 0.003*\"adl\" + 0.003*\"azerbaijan\" + 0.003*\"time\"')\n",
      "\n",
      "(15, '0.011*\"image\" + 0.008*\"bit\" + 0.005*\"also\" + 0.005*\"program\" + 0.004*\"get\" + 0.003*\"file\" + 0.003*\"files\" + 0.003*\"images\" + 0.003*\"system\" + 0.003*\"use\"')\n",
      "\n",
      "(16, '0.017*\"jpeg\" + 0.015*\"image\" + 0.013*\"edu\" + 0.009*\"file\" + 0.009*\"gif\" + 0.008*\"images\" + 0.008*\"graphics\" + 0.007*\"pub\" + 0.006*\"ftp\" + 0.006*\"format\"')\n",
      "\n",
      "(17, '0.008*\"israel\" + 0.007*\"people\" + 0.006*\"god\" + 0.005*\"think\" + 0.005*\"many\" + 0.005*\"time\" + 0.004*\"jews\" + 0.004*\"believe\" + 0.004*\"know\" + 0.004*\"said\"')\n",
      "\n",
      "(18, '0.008*\"mariner\" + 0.005*\"greek\" + 0.005*\"think\" + 0.005*\"space\" + 0.004*\"years\" + 0.004*\"solar\" + 0.004*\"mrs\" + 0.004*\"also\" + 0.003*\"adl\" + 0.003*\"greece\"')\n",
      "\n",
      "(19, '0.006*\"know\" + 0.004*\"us\" + 0.004*\"could\" + 0.003*\"think\" + 0.003*\"also\" + 0.003*\"launch\" + 0.003*\"something\" + 0.003*\"well\" + 0.003*\"data\" + 0.003*\"much\"')\n",
      "\n"
     ]
    }
   ],
   "execution_count": 68
  }
 ],
 "metadata": {
  "kernelspec": {
   "display_name": "Python 3",
   "language": "python",
   "name": "python3"
  },
  "language_info": {
   "codemirror_mode": {
    "name": "ipython",
    "version": 2
   },
   "file_extension": ".py",
   "mimetype": "text/x-python",
   "name": "python",
   "nbconvert_exporter": "python",
   "pygments_lexer": "ipython2",
   "version": "2.7.6"
  }
 },
 "nbformat": 4,
 "nbformat_minor": 5
}
