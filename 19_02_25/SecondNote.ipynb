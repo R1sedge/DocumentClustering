{
 "cells": [
  {
   "metadata": {},
   "cell_type": "markdown",
   "source": [
    "#### Сделать фильтрацию частей речи, оставляя только Существительные и Прилагательные \n",
    "#### Посмотреть внимательно какие слова представляют текст и подумать, есть ли среди них сепец. символы, спец.слова разметки, которые повторяются из текста в текст и от которых потенциально текст нужно очищать. И почистить текст. Это до фильтраци по частям речи."
   ],
   "id": "2a6aacd36f6f3712"
  },
  {
   "metadata": {
    "ExecuteTime": {
     "end_time": "2025-03-05T08:37:07.006197Z",
     "start_time": "2025-03-05T08:36:57.661771Z"
    }
   },
   "cell_type": "code",
   "source": [
    "import nltk\n",
    "import string\n",
    "from datasets import load_dataset\n",
    "import re"
   ],
   "id": "3df2cbf6a0ee8180",
   "outputs": [],
   "execution_count": 1
  },
  {
   "metadata": {
    "ExecuteTime": {
     "end_time": "2025-03-05T08:37:07.025752Z",
     "start_time": "2025-03-05T08:37:07.022706Z"
    }
   },
   "cell_type": "code",
   "source": "#nltk.download('punkt_tab')",
   "id": "ef12aea8550e0d03",
   "outputs": [],
   "execution_count": 2
  },
  {
   "metadata": {
    "ExecuteTime": {
     "end_time": "2025-03-05T08:37:07.036285Z",
     "start_time": "2025-03-05T08:37:07.032749Z"
    }
   },
   "cell_type": "code",
   "source": [
    "# Загрузка нужных данных NLTK:\n",
    "#nltk.download('punkt') # Для токенизации\n",
    "#nltk.download('wordnet') # Для лемматизации\n",
    "#nltk.download('omw-1.4') # Часто нужно для корректной лемматизации (WordNet)"
   ],
   "id": "5c2e220da3e17c0f",
   "outputs": [],
   "execution_count": 3
  },
  {
   "metadata": {
    "ExecuteTime": {
     "end_time": "2025-03-05T08:37:13.641738Z",
     "start_time": "2025-03-05T08:37:07.045283Z"
    }
   },
   "cell_type": "code",
   "source": [
    "# Загружаем датасет ag_news (Hugging Face Datasets)\n",
    "ag_news_dataset = load_dataset(\"ag_news\")\n",
    "print(ag_news_dataset)"
   ],
   "id": "146b523360f4983b",
   "outputs": [
    {
     "name": "stdout",
     "output_type": "stream",
     "text": [
      "DatasetDict({\n",
      "    train: Dataset({\n",
      "        features: ['text', 'label'],\n",
      "        num_rows: 120000\n",
      "    })\n",
      "    test: Dataset({\n",
      "        features: ['text', 'label'],\n",
      "        num_rows: 7600\n",
      "    })\n",
      "})\n"
     ]
    }
   ],
   "execution_count": 4
  },
  {
   "metadata": {
    "ExecuteTime": {
     "end_time": "2025-03-05T08:37:13.894144Z",
     "start_time": "2025-03-05T08:37:13.889825Z"
    }
   },
   "cell_type": "code",
   "source": [
    "# Функция предобработки с лемматизацией\n",
    "def preprocess_with_lemmatization(text): # Обрезание(преобразование) слов с опорой на лексические формы \n",
    "    # Приведение к нижнему регистру\n",
    "    text = text.lower()\n",
    "    # Удаление знаков препинания\n",
    "    text = text.translate(str.maketrans('', '', string.punctuation))\n",
    "    # Токенизация\n",
    "    tokens = nltk.word_tokenize(text)\n",
    "    # Применение лемматизации\n",
    "    lemmatizer = nltk.WordNetLemmatizer()\n",
    "    lemmatized_tokens = [lemmatizer.lemmatize(token) for token in tokens]\n",
    "    return lemmatized_tokens"
   ],
   "id": "7897e6233b487d9b",
   "outputs": [],
   "execution_count": 5
  },
  {
   "metadata": {
    "ExecuteTime": {
     "end_time": "2025-03-05T08:37:13.914373Z",
     "start_time": "2025-03-05T08:37:13.909851Z"
    }
   },
   "cell_type": "code",
   "source": [
    "def base_preprocess(text): \n",
    "    #text = text.lower()\n",
    "    #text = text.translate(str.maketrans('', '', string.punctuation))\n",
    "    return text.split()"
   ],
   "id": "64cab63ec24d3240",
   "outputs": [],
   "execution_count": 6
  },
  {
   "metadata": {
    "ExecuteTime": {
     "end_time": "2025-03-05T08:37:21.765092Z",
     "start_time": "2025-03-05T08:37:13.927477Z"
    }
   },
   "cell_type": "code",
   "source": [
    "imdb_dataset = load_dataset(\"imdb\")\n",
    "print(imdb_dataset)"
   ],
   "id": "7f49e31cdaeade54",
   "outputs": [
    {
     "name": "stdout",
     "output_type": "stream",
     "text": [
      "DatasetDict({\n",
      "    train: Dataset({\n",
      "        features: ['text', 'label'],\n",
      "        num_rows: 25000\n",
      "    })\n",
      "    test: Dataset({\n",
      "        features: ['text', 'label'],\n",
      "        num_rows: 25000\n",
      "    })\n",
      "    unsupervised: Dataset({\n",
      "        features: ['text', 'label'],\n",
      "        num_rows: 50000\n",
      "    })\n",
      "})\n"
     ]
    }
   ],
   "execution_count": 7
  },
  {
   "metadata": {
    "ExecuteTime": {
     "end_time": "2025-03-05T08:37:21.855988Z",
     "start_time": "2025-03-05T08:37:21.784620Z"
    }
   },
   "cell_type": "code",
   "source": [
    "imdb_texts = imdb_dataset[\"train\"][\"text\"][:3]\n",
    "print(imdb_texts[0])"
   ],
   "id": "2890b17d661b57c7",
   "outputs": [
    {
     "name": "stdout",
     "output_type": "stream",
     "text": [
      "I rented I AM CURIOUS-YELLOW from my video store because of all the controversy that surrounded it when it was first released in 1967. I also heard that at first it was seized by U.S. customs if it ever tried to enter this country, therefore being a fan of films considered \"controversial\" I really had to see this for myself.<br /><br />The plot is centered around a young Swedish drama student named Lena who wants to learn everything she can about life. In particular she wants to focus her attentions to making some sort of documentary on what the average Swede thought about certain political issues such as the Vietnam War and race issues in the United States. In between asking politicians and ordinary denizens of Stockholm about their opinions on politics, she has sex with her drama teacher, classmates, and married men.<br /><br />What kills me about I AM CURIOUS-YELLOW is that 40 years ago, this was considered pornographic. Really, the sex and nudity scenes are few and far between, even then it's not shot like some cheaply made porno. While my countrymen mind find it shocking, in reality sex and nudity are a major staple in Swedish cinema. Even Ingmar Bergman, arguably their answer to good old boy John Ford, had sex scenes in his films.<br /><br />I do commend the filmmakers for the fact that any sex shown in the film is shown for artistic purposes rather than just to shock people and make money to be shown in pornographic theaters in America. I AM CURIOUS-YELLOW is a good film for anyone wanting to study the meat and potatoes (no pun intended) of Swedish cinema. But really, this film doesn't have much of a plot.\n"
     ]
    }
   ],
   "execution_count": 8
  },
  {
   "metadata": {
    "ExecuteTime": {
     "end_time": "2025-03-05T08:37:22.167635Z",
     "start_time": "2025-03-05T08:37:21.877367Z"
    }
   },
   "cell_type": "code",
   "source": [
    "nltk.download('stopwords')\n",
    "from nltk.corpus import stopwords\n",
    "stop_words = set(stopwords.words(\"english\"))"
   ],
   "id": "4c4c803b4de2b7f",
   "outputs": [
    {
     "name": "stderr",
     "output_type": "stream",
     "text": [
      "[nltk_data] Downloading package stopwords to\n",
      "[nltk_data]     C:\\Users\\R1sed\\AppData\\Roaming\\nltk_data...\n",
      "[nltk_data]   Package stopwords is already up-to-date!\n"
     ]
    }
   ],
   "execution_count": 9
  },
  {
   "metadata": {
    "ExecuteTime": {
     "end_time": "2025-03-05T08:37:22.192890Z",
     "start_time": "2025-03-05T08:37:22.188654Z"
    }
   },
   "cell_type": "code",
   "source": "print(sorted(list(stop_words)))",
   "id": "de465b5e9a4aa580",
   "outputs": [
    {
     "name": "stdout",
     "output_type": "stream",
     "text": [
      "['a', 'about', 'above', 'after', 'again', 'against', 'ain', 'all', 'am', 'an', 'and', 'any', 'are', 'aren', \"aren't\", 'as', 'at', 'be', 'because', 'been', 'before', 'being', 'below', 'between', 'both', 'but', 'by', 'can', 'couldn', \"couldn't\", 'd', 'did', 'didn', \"didn't\", 'do', 'does', 'doesn', \"doesn't\", 'doing', 'don', \"don't\", 'down', 'during', 'each', 'few', 'for', 'from', 'further', 'had', 'hadn', \"hadn't\", 'has', 'hasn', \"hasn't\", 'have', 'haven', \"haven't\", 'having', 'he', \"he'd\", \"he'll\", \"he's\", 'her', 'here', 'hers', 'herself', 'him', 'himself', 'his', 'how', 'i', \"i'd\", \"i'll\", \"i'm\", \"i've\", 'if', 'in', 'into', 'is', 'isn', \"isn't\", 'it', \"it'd\", \"it'll\", \"it's\", 'its', 'itself', 'just', 'll', 'm', 'ma', 'me', 'mightn', \"mightn't\", 'more', 'most', 'mustn', \"mustn't\", 'my', 'myself', 'needn', \"needn't\", 'no', 'nor', 'not', 'now', 'o', 'of', 'off', 'on', 'once', 'only', 'or', 'other', 'our', 'ours', 'ourselves', 'out', 'over', 'own', 're', 's', 'same', 'shan', \"shan't\", 'she', \"she'd\", \"she'll\", \"she's\", 'should', \"should've\", 'shouldn', \"shouldn't\", 'so', 'some', 'such', 't', 'than', 'that', \"that'll\", 'the', 'their', 'theirs', 'them', 'themselves', 'then', 'there', 'these', 'they', \"they'd\", \"they'll\", \"they're\", \"they've\", 'this', 'those', 'through', 'to', 'too', 'under', 'until', 'up', 've', 'very', 'was', 'wasn', \"wasn't\", 'we', \"we'd\", \"we'll\", \"we're\", \"we've\", 'were', 'weren', \"weren't\", 'what', 'when', 'where', 'which', 'while', 'who', 'whom', 'why', 'will', 'with', 'won', \"won't\", 'wouldn', \"wouldn't\", 'y', 'you', \"you'd\", \"you'll\", \"you're\", \"you've\", 'your', 'yours', 'yourself', 'yourselves']\n"
     ]
    }
   ],
   "execution_count": 10
  },
  {
   "metadata": {
    "ExecuteTime": {
     "end_time": "2025-03-05T08:37:22.222394Z",
     "start_time": "2025-03-05T08:37:22.218338Z"
    }
   },
   "cell_type": "code",
   "source": "stop_words = stop_words - {'not', 'no'}",
   "id": "5be7dafded561660",
   "outputs": [],
   "execution_count": 11
  },
  {
   "metadata": {
    "ExecuteTime": {
     "end_time": "2025-03-05T08:37:22.247411Z",
     "start_time": "2025-03-05T08:37:22.242917Z"
    }
   },
   "cell_type": "code",
   "source": "print(set(string.punctuation))",
   "id": "f9d4b81505e4e181",
   "outputs": [
    {
     "name": "stdout",
     "output_type": "stream",
     "text": [
      "{'=', '[', '-', '<', '#', '_', '*', '`', '^', ';', '$', '%', '|', ')', '\\\\', '!', '/', \"'\", ',', '?', '\"', '@', '&', ']', '(', '}', ':', '+', '.', '{', '>', '~'}\n"
     ]
    }
   ],
   "execution_count": 12
  },
  {
   "metadata": {
    "ExecuteTime": {
     "end_time": "2025-03-05T08:37:22.287792Z",
     "start_time": "2025-03-05T08:37:22.283318Z"
    }
   },
   "cell_type": "code",
   "source": [
    "def no_punc(s):\n",
    "    return ''.join(i if i not in string.punctuation else ' ' for i in s)"
   ],
   "id": "1d8dd668b04e9636",
   "outputs": [],
   "execution_count": 13
  },
  {
   "metadata": {
    "ExecuteTime": {
     "end_time": "2025-03-05T08:37:22.305853Z",
     "start_time": "2025-03-05T08:37:22.300214Z"
    }
   },
   "cell_type": "code",
   "source": [
    "def stopwords_preprocess(text): \n",
    "    text = text.lower()\n",
    "    text = no_punc(text)\n",
    "    text = nltk.word_tokenize(text)\n",
    "    text = [word for word in text if (word not in stop_words)] # удаление стоп-слов и пунктуации\n",
    "    return text"
   ],
   "id": "7217f657102bf856",
   "outputs": [],
   "execution_count": 14
  },
  {
   "metadata": {
    "ExecuteTime": {
     "end_time": "2025-03-05T08:37:22.516328Z",
     "start_time": "2025-03-05T08:37:22.314048Z"
    }
   },
   "cell_type": "code",
   "source": [
    "example1 = ag_news_dataset[\"train\"][\"text\"][0]\n",
    "print(example1)"
   ],
   "id": "9e614edc17075439",
   "outputs": [
    {
     "name": "stdout",
     "output_type": "stream",
     "text": [
      "Wall St. Bears Claw Back Into the Black (Reuters) Reuters - Short-sellers, Wall Street's dwindling\\band of ultra-cynics, are seeing green again.\n"
     ]
    }
   ],
   "execution_count": 15
  },
  {
   "metadata": {
    "ExecuteTime": {
     "end_time": "2025-03-05T08:37:22.598873Z",
     "start_time": "2025-03-05T08:37:22.537612Z"
    }
   },
   "cell_type": "code",
   "source": "print(stopwords_preprocess(example1))",
   "id": "a28467f94784dc97",
   "outputs": [
    {
     "name": "stdout",
     "output_type": "stream",
     "text": [
      "['wall', 'st', 'bears', 'claw', 'back', 'black', 'reuters', 'reuters', 'short', 'sellers', 'wall', 'street', 'dwindling', 'band', 'ultra', 'cynics', 'seeing', 'green']\n"
     ]
    }
   ],
   "execution_count": 16
  },
  {
   "metadata": {
    "ExecuteTime": {
     "end_time": "2025-03-05T08:37:22.678251Z",
     "start_time": "2025-03-05T08:37:22.605861Z"
    }
   },
   "cell_type": "code",
   "source": [
    "example2 = imdb_dataset[\"test\"][\"text\"][0]\n",
    "print(example2)"
   ],
   "id": "82f79f9cb4bc2827",
   "outputs": [
    {
     "name": "stdout",
     "output_type": "stream",
     "text": [
      "I love sci-fi and am willing to put up with a lot. Sci-fi movies/TV are usually underfunded, under-appreciated and misunderstood. I tried to like this, I really did, but it is to good TV sci-fi as Babylon 5 is to Star Trek (the original). Silly prosthetics, cheap cardboard sets, stilted dialogues, CG that doesn't match the background, and painfully one-dimensional characters cannot be overcome with a 'sci-fi' setting. (I'm sure there are those of you out there who think Babylon 5 is good sci-fi TV. It's not. It's clichéd and uninspiring.) While US viewers might like emotion and character development, sci-fi is a genre that does not take itself seriously (cf. Star Trek). It may treat important issues, yet not as a serious philosophy. It's really difficult to care about the characters here as they are not simply foolish, just missing a spark of life. Their actions and reactions are wooden and predictable, often painful to watch. The makers of Earth KNOW it's rubbish as they have to always say \"Gene Roddenberry's Earth...\" otherwise people would not continue watching. Roddenberry's ashes must be turning in their orbit as this dull, cheap, poorly edited (watching it without advert breaks really brings this home) trudging Trabant of a show lumbers into space. Spoiler. So, kill off a main character. And then bring him back as another actor. Jeeez! Dallas all over again.\n"
     ]
    }
   ],
   "execution_count": 17
  },
  {
   "metadata": {
    "ExecuteTime": {
     "end_time": "2025-03-05T08:37:22.694665Z",
     "start_time": "2025-03-05T08:37:22.687646Z"
    }
   },
   "cell_type": "code",
   "source": [
    "example2_tokens = stopwords_preprocess(example2)\n",
    "print(example2_tokens)"
   ],
   "id": "bbce0ab9ccb492e5",
   "outputs": [
    {
     "name": "stdout",
     "output_type": "stream",
     "text": [
      "['love', 'sci', 'fi', 'willing', 'put', 'lot', 'sci', 'fi', 'movies', 'tv', 'usually', 'underfunded', 'appreciated', 'misunderstood', 'tried', 'like', 'really', 'good', 'tv', 'sci', 'fi', 'babylon', '5', 'star', 'trek', 'original', 'silly', 'prosthetics', 'cheap', 'cardboard', 'sets', 'stilted', 'dialogues', 'cg', 'match', 'background', 'painfully', 'one', 'dimensional', 'characters', 'not', 'overcome', 'sci', 'fi', 'setting', 'sure', 'think', 'babylon', '5', 'good', 'sci', 'fi', 'tv', 'not', 'clichéd', 'uninspiring', 'us', 'viewers', 'might', 'like', 'emotion', 'character', 'development', 'sci', 'fi', 'genre', 'not', 'take', 'seriously', 'cf', 'star', 'trek', 'may', 'treat', 'important', 'issues', 'yet', 'not', 'serious', 'philosophy', 'really', 'difficult', 'care', 'characters', 'not', 'simply', 'foolish', 'missing', 'spark', 'life', 'actions', 'reactions', 'wooden', 'predictable', 'often', 'painful', 'watch', 'makers', 'earth', 'know', 'rubbish', 'always', 'say', 'gene', 'roddenberry', 'earth', 'otherwise', 'people', 'would', 'not', 'continue', 'watching', 'roddenberry', 'ashes', 'must', 'turning', 'orbit', 'dull', 'cheap', 'poorly', 'edited', 'watching', 'without', 'advert', 'breaks', 'really', 'brings', 'home', 'trudging', 'trabant', 'show', 'lumbers', 'space', 'spoiler', 'kill', 'main', 'character', 'bring', 'back', 'another', 'actor', 'jeeez', 'dallas']\n"
     ]
    }
   ],
   "execution_count": 18
  },
  {
   "metadata": {
    "ExecuteTime": {
     "end_time": "2025-03-05T08:37:22.891228Z",
     "start_time": "2025-03-05T08:37:22.723303Z"
    }
   },
   "cell_type": "code",
   "source": [
    "from nltk import pos_tag\n",
    "nltk.download('averaged_perceptron_tagger_eng')\n",
    " \n",
    "tagged_tokens = pos_tag(example2_tokens)\n",
    "nouns_adjs = [word for word, tag in tagged_tokens if tag.startswith('N') or tag.startswith('J')]"
   ],
   "id": "4f61357496c8ce64",
   "outputs": [
    {
     "name": "stderr",
     "output_type": "stream",
     "text": [
      "[nltk_data] Downloading package averaged_perceptron_tagger_eng to\n",
      "[nltk_data]     C:\\Users\\R1sed\\AppData\\Roaming\\nltk_data...\n",
      "[nltk_data]   Package averaged_perceptron_tagger_eng is already up-to-\n",
      "[nltk_data]       date!\n"
     ]
    }
   ],
   "execution_count": 19
  },
  {
   "metadata": {
    "ExecuteTime": {
     "end_time": "2025-03-05T08:37:22.901867Z",
     "start_time": "2025-03-05T08:37:22.898148Z"
    }
   },
   "cell_type": "code",
   "source": "print(nouns_adjs)",
   "id": "dd99a7208881c7f5",
   "outputs": [
    {
     "name": "stdout",
     "output_type": "stream",
     "text": [
      "['sci', 'fi', 'willing', 'put', 'lot', 'sci', 'fi', 'movies', 'underfunded', 'misunderstood', 'good', 'tv', 'sci', 'star', 'trek', 'original', 'silly', 'prosthetics', 'cheap', 'cardboard', 'sets', 'dialogues', 'match', 'background', 'dimensional', 'characters', 'sci', 'fi', 'sure', 'good', 'sci', 'fi', 'tv', 'viewers', 'emotion', 'character', 'development', 'sci', 'genre', 'cf', 'star', 'trek', 'important', 'issues', 'serious', 'philosophy', 'difficult', 'care', 'characters', 'foolish', 'spark', 'life', 'actions', 'reactions', 'predictable', 'painful', 'watch', 'makers', 'rubbish', 'gene', 'earth', 'people', 'roddenberry', 'ashes', 'dull', 'advert', 'breaks', 'home', 'trabant', 'show', 'lumbers', 'space', 'spoiler', 'kill', 'main', 'character', 'bring', 'actor', 'jeeez', 'dallas']\n"
     ]
    }
   ],
   "execution_count": 20
  },
  {
   "metadata": {
    "ExecuteTime": {
     "end_time": "2025-03-05T08:37:22.938197Z",
     "start_time": "2025-03-05T08:37:22.933525Z"
    }
   },
   "cell_type": "code",
   "source": [
    "def noun_adj_preprocess(text):\n",
    "    tokens = stopwords_preprocess(text)\n",
    "    tokens = pos_tag(tokens)\n",
    "    tokens = [word for word, tag in tokens if tag.startswith('N') or tag.startswith('J')]\n",
    "    return tokens"
   ],
   "id": "d97bda8805f6eb13",
   "outputs": [],
   "execution_count": 21
  },
  {
   "metadata": {},
   "cell_type": "markdown",
   "source": [
    "Удалять спец символы: Даты, издания, html Разметка, \n",
    "Не удалять '-', Заменять '\\\\' на ' '\n"
   ],
   "id": "e79a5dcf8f1144f2"
  },
  {
   "metadata": {
    "ExecuteTime": {
     "end_time": "2025-03-05T08:37:22.951644Z",
     "start_time": "2025-03-05T08:37:22.947727Z"
    }
   },
   "cell_type": "code",
   "source": "print(set(string.punctuation) - set('-') | set(string.digits))",
   "id": "ba27b2cc10763ab8",
   "outputs": [
    {
     "name": "stdout",
     "output_type": "stream",
     "text": [
      "{'=', '6', '[', '<', '9', '2', '#', '_', '*', '7', '`', '3', '^', ';', '$', '%', '|', ')', '8', '\\\\', '!', '5', '/', \"'\", ',', '?', '\"', '1', '@', '&', ']', '(', '0', '}', ':', '+', '.', '{', '>', '4', '~'}\n"
     ]
    }
   ],
   "execution_count": 22
  },
  {
   "metadata": {
    "ExecuteTime": {
     "end_time": "2025-03-05T11:13:15.036739Z",
     "start_time": "2025-03-05T11:13:15.010338Z"
    }
   },
   "cell_type": "code",
   "source": [
    "def final_ag_news_preprocess(text):\n",
    "    tokens = text.lower()\n",
    "\n",
    "    # Удаление спец слов\n",
    "    special_words = ['reuters', 'afp', 'ap', 'usatoday.com', 'forbes.com', 'target=/stocks/quickinfo/fullquote\"' ]\n",
    "    for word in special_words:\n",
    "        tokens = tokens.replace(word, '')\n",
    "    \n",
    "    pattern = r'[&lt][^<>]*&gt'\n",
    "    tokens = re.sub(pattern, '', tokens)\n",
    "    \n",
    "    # Удаление пунктуации и цифр\n",
    "    tokens = ''.join(i if i not in set(string.punctuation) - set('-') | set(string.digits) else ' ' for i in tokens)\n",
    "    \n",
    "    # Токенизация\n",
    "    tokens = nltk.word_tokenize(tokens)\n",
    "    \n",
    "    # Удаление стоп слов\n",
    "    tokens = [word for word in tokens if word not in stop_words]\n",
    "\n",
    "    # Обработка частей речи \n",
    "    tokens = pos_tag(tokens)\n",
    "    tokens = [word for word, tag in tokens if tag.startswith('N') or tag.startswith('J') or word in {'no', 'not'}]\n",
    "    \n",
    "    return tokens"
   ],
   "id": "a64d7322cc584cdb",
   "outputs": [],
   "execution_count": 31
  },
  {
   "metadata": {
    "ExecuteTime": {
     "end_time": "2025-03-05T08:37:23.000656Z",
     "start_time": "2025-03-05T08:37:22.995563Z"
    }
   },
   "cell_type": "code",
   "source": [
    "def final_imdb_preprocess(text):\n",
    "    tokens = text.lower()\n",
    "\n",
    "    # Удаление спец слов\n",
    "    special_words = ['<br /><br />'] # можно обработать римские цифры, удалить film, movie, ...\n",
    "    for word in special_words:\n",
    "        tokens = tokens.replace(word, '')\n",
    "    \n",
    "    # Удаление пунктуации и цифр\n",
    "    tokens = ''.join(i if i not in set(string.punctuation) - set('-') | set(string.digits) else ' ' for i in tokens)\n",
    "    \n",
    "    # Токенизация\n",
    "    tokens = nltk.word_tokenize(tokens)\n",
    "    \n",
    "    # Удаление стоп слов\n",
    "    tokens = [word for word in tokens if word not in stop_words]\n",
    "\n",
    "    # Обработка частей речи (оставляем no и not) \n",
    "    tokens = pos_tag(tokens)\n",
    "    tokens = [word for word, tag in tokens if tag.startswith('N') or tag.startswith('J') or word in {'no', 'not'}]\n",
    "    \n",
    "    return tokens"
   ],
   "id": "888572b5c2ace729",
   "outputs": [],
   "execution_count": 24
  },
  {
   "metadata": {
    "ExecuteTime": {
     "end_time": "2025-03-05T08:37:23.242665Z",
     "start_time": "2025-03-05T08:37:23.008770Z"
    }
   },
   "cell_type": "code",
   "source": [
    "ag_news_texts = ag_news_dataset[\"train\"][\"text\"]\n",
    "imdb_texts = imdb_dataset[\"test\"][\"text\"]"
   ],
   "id": "da75c41df6485a94",
   "outputs": [],
   "execution_count": 25
  },
  {
   "metadata": {
    "ExecuteTime": {
     "end_time": "2025-03-05T11:13:28.810207Z",
     "start_time": "2025-03-05T11:13:28.802265Z"
    }
   },
   "cell_type": "code",
   "source": "ag_news_texts[0]",
   "id": "f420fbf0345f7b3",
   "outputs": [
    {
     "data": {
      "text/plain": [
       "\"Wall St. Bears Claw Back Into the Black (Reuters) Reuters - Short-sellers, Wall Street's dwindling\\\\band of ultra-cynics, are seeing green again.\""
      ]
     },
     "execution_count": 32,
     "metadata": {},
     "output_type": "execute_result"
    }
   ],
   "execution_count": 32
  },
  {
   "metadata": {
    "ExecuteTime": {
     "end_time": "2025-03-05T11:13:34.249211Z",
     "start_time": "2025-03-05T11:13:34.223170Z"
    }
   },
   "cell_type": "code",
   "source": "print(final_ag_news_preprocess(ag_news_texts[0]))",
   "id": "b258fa91df3345e3",
   "outputs": [
    {
     "name": "stdout",
     "output_type": "stream",
     "text": [
      "['wall', 'st', 'bears', 'black', 'short-sellers', 'wall', 'street', 'band', 'ultra-cynics', 'green']\n"
     ]
    }
   ],
   "execution_count": 33
  },
  {
   "metadata": {
    "ExecuteTime": {
     "end_time": "2025-03-05T11:14:51.035080Z",
     "start_time": "2025-03-05T11:14:51.030281Z"
    }
   },
   "cell_type": "code",
   "source": "imdb_texts[2]",
   "id": "f4aadd01b073953d",
   "outputs": [
    {
     "data": {
      "text/plain": [
       "\"its a totally average film with a few semi-alright action sequences that make the plot seem a little better and remind the viewer of the classic van dam films. parts of the plot don't make sense and seem to be added in to use up time. the end plot is that of a very basic type that doesn't leave the viewer guessing and any twists are obvious from the beginning. the end scene with the flask backs don't make sense as they are added in and seem to have little relevance to the history of van dam's character. not really worth watching again, bit disappointed in the end production, even though it is apparent it was shot on a low budget certain shots and sections in the film are of poor directed quality\""
      ]
     },
     "execution_count": 34,
     "metadata": {},
     "output_type": "execute_result"
    }
   ],
   "execution_count": 34
  },
  {
   "metadata": {
    "ExecuteTime": {
     "end_time": "2025-03-05T11:14:51.523426Z",
     "start_time": "2025-03-05T11:14:51.500276Z"
    }
   },
   "cell_type": "code",
   "source": "print(final_imdb_preprocess(imdb_texts[2]))",
   "id": "da0635c6dd4c87c6",
   "outputs": [
    {
     "name": "stdout",
     "output_type": "stream",
     "text": [
      "['average', 'film', 'semi-alright', 'action', 'sequences', 'plot', 'viewer', 'classic', 'van', 'dam', 'films', 'parts', 'sense', 'seem', 'use', 'time', 'end', 'plot', 'basic', 'type', 'viewer', 'twists', 'obvious', 'end', 'scene', 'flask', 'backs', 'sense', 'seem', 'little', 'relevance', 'history', 'van', 'dam', 'character', 'not', 'worth', 'bit', 'disappointed', 'end', 'production', 'apparent', 'shot', 'low', 'budget', 'certain', 'shots', 'sections', 'film', 'poor', 'quality']\n"
     ]
    }
   ],
   "execution_count": 35
  },
  {
   "metadata": {
    "ExecuteTime": {
     "end_time": "2025-03-05T08:37:24.064435Z",
     "start_time": "2025-03-05T08:37:23.379431Z"
    }
   },
   "cell_type": "code",
   "source": [
    "words = set()\n",
    "for text in ag_news_texts:\n",
    "    tokens = base_preprocess(text)\n",
    "    for token in tokens:\n",
    "        if token not in words:\n",
    "            words.add(token)"
   ],
   "id": "f3b609731ec1f518",
   "outputs": [],
   "execution_count": 30
  }
 ],
 "metadata": {
  "kernelspec": {
   "display_name": "Python 3",
   "language": "python",
   "name": "python3"
  },
  "language_info": {
   "codemirror_mode": {
    "name": "ipython",
    "version": 2
   },
   "file_extension": ".py",
   "mimetype": "text/x-python",
   "name": "python",
   "nbconvert_exporter": "python",
   "pygments_lexer": "ipython2",
   "version": "2.7.6"
  }
 },
 "nbformat": 4,
 "nbformat_minor": 5
}
