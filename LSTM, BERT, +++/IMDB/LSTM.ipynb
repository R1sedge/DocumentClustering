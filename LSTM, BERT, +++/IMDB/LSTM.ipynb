{
 "cells": [
  {
   "metadata": {
    "ExecuteTime": {
     "end_time": "2025-05-18T06:44:38.770944Z",
     "start_time": "2025-05-18T06:44:29.839409Z"
    }
   },
   "cell_type": "code",
   "source": [
    "import numpy as np\n",
    "import pandas as pd\n",
    "import tensorflow as tf\n",
    "from keras.src.layers import Softmax\n",
    "from tensorflow.keras.preprocessing.sequence import pad_sequences\n",
    "from tensorflow.keras.preprocessing.text import Tokenizer\n",
    "from tensorflow.keras.models import Sequential\n",
    "from tensorflow.keras.layers import Embedding, LSTM, Dense, SpatialDropout1D\n",
    "from tensorflow.keras.optimizers import Adam\n",
    "from tensorflow.keras.metrics import F1Score\n",
    "from sklearn.model_selection import train_test_split\n",
    "from sklearn.metrics import f1_score\n",
    "from sklearn.preprocessing import LabelBinarizer\n",
    "\n",
    "import nltk\n",
    "import string\n",
    "from datasets import load_dataset\n",
    "import re\n",
    "from nltk.corpus import stopwords\n",
    "from nltk import pos_tag\n",
    "import mlflow\n",
    "from sklearnex import patch_sklearn\n",
    "from warnings import filterwarnings\n",
    "patch_sklearn()"
   ],
   "id": "f324388cb9d4e53f",
   "outputs": [
    {
     "name": "stderr",
     "output_type": "stream",
     "text": [
      "Extension for Scikit-learn* enabled (https://github.com/uxlfoundation/scikit-learn-intelex)\n"
     ]
    }
   ],
   "execution_count": 1
  },
  {
   "metadata": {
    "ExecuteTime": {
     "end_time": "2025-05-18T06:44:38.809425Z",
     "start_time": "2025-05-18T06:44:38.802210Z"
    }
   },
   "cell_type": "code",
   "source": "filterwarnings(\"ignore\")",
   "id": "717016dc67ead65a",
   "outputs": [],
   "execution_count": 2
  },
  {
   "metadata": {
    "ExecuteTime": {
     "end_time": "2025-05-18T06:45:02.428056Z",
     "start_time": "2025-05-18T06:44:38.825138Z"
    }
   },
   "cell_type": "code",
   "source": [
    "dataset = \"imdb\"\n",
    "data = load_dataset(dataset)\n",
    "stop_words = set(stopwords.words(\"english\"))"
   ],
   "id": "d1b80413abf3d305",
   "outputs": [],
   "execution_count": 3
  },
  {
   "metadata": {
    "ExecuteTime": {
     "end_time": "2025-05-18T06:47:49.848119Z",
     "start_time": "2025-05-18T06:47:49.837540Z"
    }
   },
   "cell_type": "code",
   "source": [
    "def base_preprocess(text):\n",
    "    tokens = text.lower()\n",
    "\n",
    "    # Удаление спец слов\n",
    "    if dataset == 'ag_news':\n",
    "        special_words = ['reuters', 'afp', 'ap', 'usatoday.com', 'forbes.com', 'target=/stocks/quickinfo/fullquote\"' ]\n",
    "        for word in special_words:\n",
    "            tokens = tokens.replace(word, '')\n",
    "        \n",
    "        pattern = r'[&lt][^<>]*&gt'\n",
    "        tokens = re.sub(pattern, '', tokens)\n",
    "    elif dataset == 'imdb':\n",
    "        special_words = ['<br /><br />'] \n",
    "        for word in special_words:\n",
    "            tokens = tokens.replace(word, '')\n",
    "    \n",
    "    # Удаление пунктуации\n",
    "    tokens = ''.join(i if i not in set(string.punctuation) | set('0123456789')  else ' ' for i in tokens)\n",
    "    \n",
    "    return tokens"
   ],
   "id": "aeab1008c7fb25bb",
   "outputs": [],
   "execution_count": 16
  },
  {
   "metadata": {
    "ExecuteTime": {
     "end_time": "2025-05-18T06:47:51.718575Z",
     "start_time": "2025-05-18T06:47:51.653439Z"
    }
   },
   "cell_type": "code",
   "source": [
    "txt1 = base_preprocess(data['train']['text'][0])\n",
    "print(txt1)"
   ],
   "id": "78b8e66fb5c0860c",
   "outputs": [
    {
     "name": "stdout",
     "output_type": "stream",
     "text": [
      "i rented i am curious yellow from my video store because of all the controversy that surrounded it when it was first released in       i also heard that at first it was seized by u s  customs if it ever tried to enter this country  therefore being a fan of films considered  controversial  i really had to see this for myself the plot is centered around a young swedish drama student named lena who wants to learn everything she can about life  in particular she wants to focus her attentions to making some sort of documentary on what the average swede thought about certain political issues such as the vietnam war and race issues in the united states  in between asking politicians and ordinary denizens of stockholm about their opinions on politics  she has sex with her drama teacher  classmates  and married men what kills me about i am curious yellow is that    years ago  this was considered pornographic  really  the sex and nudity scenes are few and far between  even then it s not shot like some cheaply made porno  while my countrymen mind find it shocking  in reality sex and nudity are a major staple in swedish cinema  even ingmar bergman  arguably their answer to good old boy john ford  had sex scenes in his films i do commend the filmmakers for the fact that any sex shown in the film is shown for artistic purposes rather than just to shock people and make money to be shown in pornographic theaters in america  i am curious yellow is a good film for anyone wanting to study the meat and potatoes  no pun intended  of swedish cinema  but really  this film doesn t have much of a plot \n"
     ]
    }
   ],
   "execution_count": 17
  },
  {
   "metadata": {
    "ExecuteTime": {
     "end_time": "2025-05-18T06:47:59.303407Z",
     "start_time": "2025-05-18T06:47:59.287240Z"
    }
   },
   "cell_type": "code",
   "source": [
    "def different_preprocess(tokens, preprocess_type, words_class):\n",
    "    tokenizer = nltk.tokenize.TreebankWordTokenizer()\n",
    "    tokens = tokenizer.tokenize(tokens)\n",
    "    \n",
    "    # Обработка стоп-слов\n",
    "    #tokens = [token for token in tokens if token not in stop_words]\n",
    "    \n",
    "    # Обработка частей речи\n",
    "    if words_class != 'ALL':\n",
    "        tokens = pos_tag(tokens)\n",
    "        if words_class == 'N':\n",
    "            tokens = [word for word, tag in tokens if tag.startswith('N')]\n",
    "        elif words_class == 'NJ':\n",
    "            tokens = [word for word, tag in tokens if tag.startswith('N') or tag.startswith('J')]\n",
    "        elif words_class == 'NJV':\n",
    "            tokens = [word for word, tag in tokens if tag.startswith('N') or tag.startswith('J') or tag.startswith('V')]\n",
    "    \n",
    "    # Обработка слов\n",
    "    if preprocess_type == 'лемматизация':\n",
    "        lemmatizer = nltk.WordNetLemmatizer()\n",
    "        tokens = [lemmatizer.lemmatize(token) for token in tokens]\n",
    "    elif preprocess_type == 'стемминг':\n",
    "        stemmer = nltk.PorterStemmer()\n",
    "        tokens = [stemmer.stem(token) for token in tokens]\n",
    "    \n",
    "    return ' '.join(tokens)  "
   ],
   "id": "1574ac3174ec2595",
   "outputs": [],
   "execution_count": 18
  },
  {
   "metadata": {
    "ExecuteTime": {
     "end_time": "2025-05-18T06:48:00.774907Z",
     "start_time": "2025-05-18T06:48:00.755492Z"
    }
   },
   "cell_type": "code",
   "source": [
    "txt2 = different_preprocess(txt1,'лемматизация', 'ALL')\n",
    "print(txt2)"
   ],
   "id": "fbbb7289e9324e21",
   "outputs": [
    {
     "name": "stdout",
     "output_type": "stream",
     "text": [
      "i rented i am curious yellow from my video store because of all the controversy that surrounded it when it wa first released in i also heard that at first it wa seized by u s custom if it ever tried to enter this country therefore being a fan of film considered controversial i really had to see this for myself the plot is centered around a young swedish drama student named lena who want to learn everything she can about life in particular she want to focus her attention to making some sort of documentary on what the average swede thought about certain political issue such a the vietnam war and race issue in the united state in between asking politician and ordinary denizen of stockholm about their opinion on politics she ha sex with her drama teacher classmate and married men what kill me about i am curious yellow is that year ago this wa considered pornographic really the sex and nudity scene are few and far between even then it s not shot like some cheaply made porno while my countryman mind find it shocking in reality sex and nudity are a major staple in swedish cinema even ingmar bergman arguably their answer to good old boy john ford had sex scene in his film i do commend the filmmaker for the fact that any sex shown in the film is shown for artistic purpose rather than just to shock people and make money to be shown in pornographic theater in america i am curious yellow is a good film for anyone wanting to study the meat and potato no pun intended of swedish cinema but really this film doesn t have much of a plot\n"
     ]
    }
   ],
   "execution_count": 19
  },
  {
   "metadata": {
    "ExecuteTime": {
     "end_time": "2025-05-18T06:50:05.021633Z",
     "start_time": "2025-05-18T06:48:06.202801Z"
    }
   },
   "cell_type": "code",
   "source": [
    "dataset1 = data \n",
    "preprocess_type = 'лемматизация'\n",
    "words_class = 'ALL'\n",
    "\n",
    "# Подготовка данных\n",
    "shuffled_train = data[\"train\"].shuffle(seed=42)\n",
    "x_train = shuffled_train['text']\n",
    "y_train = shuffled_train['label']\n",
    "    \n",
    "x_test = dataset1['test']['text']\n",
    "y_test = dataset1['test']['label']\n",
    "    \n",
    "# Базовая обработка\n",
    "xtr = [base_preprocess(text) for text in x_train]\n",
    "xte = [base_preprocess(text) for text in x_test]\n",
    "    \n",
    "# Части речи + приведение\n",
    "xtr = [different_preprocess(tokens, preprocess_type, words_class) for tokens in xtr]\n",
    "xte = [different_preprocess(tokens, preprocess_type, words_class) for tokens in xte]"
   ],
   "id": "58576e866ce88aab",
   "outputs": [],
   "execution_count": 20
  },
  {
   "metadata": {
    "ExecuteTime": {
     "end_time": "2025-05-18T06:50:05.566850Z",
     "start_time": "2025-05-18T06:50:05.021633Z"
    }
   },
   "cell_type": "code",
   "source": [
    "xtr = np.array(xtr)\n",
    "xte = np.array(xte)"
   ],
   "id": "76034f84b5b708ea",
   "outputs": [],
   "execution_count": 21
  },
  {
   "metadata": {
    "ExecuteTime": {
     "end_time": "2025-05-18T06:50:05.597153Z",
     "start_time": "2025-05-18T06:50:05.591360Z"
    }
   },
   "cell_type": "code",
   "source": "print(xtr[0])",
   "id": "8489ca8229ccde74",
   "outputs": [
    {
     "name": "stdout",
     "output_type": "stream",
     "text": [
      "there is no relation at all between fortier and profiler but the fact that both are police series about violent crime profiler look crispy fortier look classic profiler plot are quite simple fortier s plot are far more complicated fortier look more like prime suspect if we have to spot similarity the main character is weak and weirdo but have clairvoyance people like to compare to judge to evaluate how about just enjoying funny thing too people writing fortier look american but on the other hand arguing they prefer american series maybe it s the language or the spirit but i think this series is more english than american by the way the actor are really good and funny the acting is not superficial at all\n"
     ]
    }
   ],
   "execution_count": 22
  },
  {
   "metadata": {
    "ExecuteTime": {
     "end_time": "2025-05-18T06:50:11.029384Z",
     "start_time": "2025-05-18T06:50:05.683319Z"
    }
   },
   "cell_type": "code",
   "source": [
    "tokenizer = Tokenizer()\n",
    "tokenizer.fit_on_texts(xtr)\n",
    "X = tokenizer.texts_to_sequences(xtr)\n",
    "X = pad_sequences(X, maxlen=300, padding='post')\n",
    "\n",
    "print(X.shape)"
   ],
   "id": "8642fef4fbe57bb2",
   "outputs": [
    {
     "name": "stdout",
     "output_type": "stream",
     "text": [
      "(25000, 300)\n"
     ]
    }
   ],
   "execution_count": 23
  },
  {
   "metadata": {
    "ExecuteTime": {
     "end_time": "2025-05-18T06:50:13.155745Z",
     "start_time": "2025-05-18T06:50:11.076589Z"
    }
   },
   "cell_type": "code",
   "source": [
    "XT = tokenizer.texts_to_sequences(xte)\n",
    "XT = pad_sequences(XT, maxlen=300, padding='post')"
   ],
   "id": "9f35cb624009ad60",
   "outputs": [],
   "execution_count": 24
  },
  {
   "metadata": {
    "ExecuteTime": {
     "end_time": "2025-05-18T06:50:13.166339Z",
     "start_time": "2025-05-18T06:50:13.155745Z"
    }
   },
   "cell_type": "code",
   "source": "print(X[1])",
   "id": "77d0cc2cc4ae43fc",
   "outputs": [
    {
     "name": "stdout",
     "output_type": "stream",
     "text": [
      "[   10    13     6     2    85     1   110     6    55   289     5     1\n",
      "   236    64     6     2   327   405    32   785 13733     1    13   237\n",
      "     4    17     2    74   122  2056  3001     2   344    17     2   740\n",
      "     4   229   452    53    20 25686   132  5521    21     1  1726     7\n",
      "  1753    71     4  2050    12   344   315   377     7     6   254     3\n",
      "  5655     1   228     6    85   477     3    61   463   344     6  4871\n",
      "    32     1   598  2056  7585  5720     3  2561 21678 41276   451     2\n",
      "    85   203    13    40    59     2    85  1122    13    10     6     2\n",
      "    13    20    48   105   123     3   123   179     1  2378   266    32\n",
      " 11001  8416     6  1467     9   111    10    13    45    20   432  1592\n",
      "  9728     8     1  2326 11622    96    20    80   418    35    10    13\n",
      "     0     0     0     0     0     0     0     0     0     0     0     0\n",
      "     0     0     0     0     0     0     0     0     0     0     0     0\n",
      "     0     0     0     0     0     0     0     0     0     0     0     0\n",
      "     0     0     0     0     0     0     0     0     0     0     0     0\n",
      "     0     0     0     0     0     0     0     0     0     0     0     0\n",
      "     0     0     0     0     0     0     0     0     0     0     0     0\n",
      "     0     0     0     0     0     0     0     0     0     0     0     0\n",
      "     0     0     0     0     0     0     0     0     0     0     0     0\n",
      "     0     0     0     0     0     0     0     0     0     0     0     0\n",
      "     0     0     0     0     0     0     0     0     0     0     0     0\n",
      "     0     0     0     0     0     0     0     0     0     0     0     0\n",
      "     0     0     0     0     0     0     0     0     0     0     0     0\n",
      "     0     0     0     0     0     0     0     0     0     0     0     0\n",
      "     0     0     0     0     0     0     0     0     0     0     0     0]\n"
     ]
    }
   ],
   "execution_count": 25
  },
  {
   "metadata": {
    "ExecuteTime": {
     "end_time": "2025-05-18T06:50:13.200005Z",
     "start_time": "2025-05-18T06:50:13.188600Z"
    }
   },
   "cell_type": "code",
   "source": "y_train2 = np.array(y_train).reshape(-1, 1)",
   "id": "7acfdcafc1b09554",
   "outputs": [],
   "execution_count": 26
  },
  {
   "metadata": {
    "ExecuteTime": {
     "end_time": "2025-05-18T06:50:13.225552Z",
     "start_time": "2025-05-18T06:50:13.221181Z"
    }
   },
   "cell_type": "code",
   "source": "y_test2 = np.array(y_test).reshape(-1, 1)",
   "id": "9dabd3553399f3a2",
   "outputs": [],
   "execution_count": 27
  },
  {
   "metadata": {
    "ExecuteTime": {
     "end_time": "2025-05-18T06:50:13.252167Z",
     "start_time": "2025-05-18T06:50:13.247502Z"
    }
   },
   "cell_type": "code",
   "source": "print(y_train2[0])",
   "id": "2d447bf8eb5bdaba",
   "outputs": [
    {
     "name": "stdout",
     "output_type": "stream",
     "text": [
      "[1]\n"
     ]
    }
   ],
   "execution_count": 28
  },
  {
   "metadata": {
    "ExecuteTime": {
     "end_time": "2025-05-18T06:50:13.279261Z",
     "start_time": "2025-05-18T06:50:13.274364Z"
    }
   },
   "cell_type": "code",
   "source": "print(y_train2[:5])",
   "id": "730cd9ea40b76e7a",
   "outputs": [
    {
     "name": "stdout",
     "output_type": "stream",
     "text": [
      "[[1]\n",
      " [1]\n",
      " [0]\n",
      " [1]\n",
      " [0]]\n"
     ]
    }
   ],
   "execution_count": 29
  },
  {
   "metadata": {
    "ExecuteTime": {
     "end_time": "2025-05-18T07:11:11.522415Z",
     "start_time": "2025-05-18T07:11:11.497539Z"
    }
   },
   "cell_type": "code",
   "source": [
    "# Build the LSTM model\n",
    "model = Sequential([\n",
    "    Embedding(len(tokenizer.word_index) + 1, output_dim = 100, input_length=300, mask_zero = True),\n",
    "    SpatialDropout1D(0.2),\n",
    "    LSTM(128, dropout=0.2, recurrent_dropout=0.2),\n",
    "    Dense(1, activation='sigmoid'),\n",
    "])\n",
    "\n",
    "model.compile(loss='binary_crossentropy', optimizer=Adam(learning_rate=0.01),\n",
    "metrics=[F1Score])\n",
    "model.summary()"
   ],
   "id": "9125ff4c1e72a48a",
   "outputs": [
    {
     "data": {
      "text/plain": [
       "\u001B[1mModel: \"sequential_2\"\u001B[0m\n"
      ],
      "text/html": [
       "<pre style=\"white-space:pre;overflow-x:auto;line-height:normal;font-family:Menlo,'DejaVu Sans Mono',consolas,'Courier New',monospace\"><span style=\"font-weight: bold\">Model: \"sequential_2\"</span>\n",
       "</pre>\n"
      ]
     },
     "metadata": {},
     "output_type": "display_data"
    },
    {
     "data": {
      "text/plain": [
       "┏━━━━━━━━━━━━━━━━━━━━━━━━━━━━━━━━━┳━━━━━━━━━━━━━━━━━━━━━━━━┳━━━━━━━━━━━━━━━┓\n",
       "┃\u001B[1m \u001B[0m\u001B[1mLayer (type)                   \u001B[0m\u001B[1m \u001B[0m┃\u001B[1m \u001B[0m\u001B[1mOutput Shape          \u001B[0m\u001B[1m \u001B[0m┃\u001B[1m \u001B[0m\u001B[1m      Param #\u001B[0m\u001B[1m \u001B[0m┃\n",
       "┡━━━━━━━━━━━━━━━━━━━━━━━━━━━━━━━━━╇━━━━━━━━━━━━━━━━━━━━━━━━╇━━━━━━━━━━━━━━━┩\n",
       "│ embedding_2 (\u001B[38;5;33mEmbedding\u001B[0m)         │ ?                      │   \u001B[38;5;34m0\u001B[0m (unbuilt) │\n",
       "├─────────────────────────────────┼────────────────────────┼───────────────┤\n",
       "│ spatial_dropout1d_2             │ ?                      │             \u001B[38;5;34m0\u001B[0m │\n",
       "│ (\u001B[38;5;33mSpatialDropout1D\u001B[0m)              │                        │               │\n",
       "├─────────────────────────────────┼────────────────────────┼───────────────┤\n",
       "│ lstm_2 (\u001B[38;5;33mLSTM\u001B[0m)                   │ ?                      │   \u001B[38;5;34m0\u001B[0m (unbuilt) │\n",
       "├─────────────────────────────────┼────────────────────────┼───────────────┤\n",
       "│ dense_2 (\u001B[38;5;33mDense\u001B[0m)                 │ ?                      │   \u001B[38;5;34m0\u001B[0m (unbuilt) │\n",
       "└─────────────────────────────────┴────────────────────────┴───────────────┘\n"
      ],
      "text/html": [
       "<pre style=\"white-space:pre;overflow-x:auto;line-height:normal;font-family:Menlo,'DejaVu Sans Mono',consolas,'Courier New',monospace\">┏━━━━━━━━━━━━━━━━━━━━━━━━━━━━━━━━━┳━━━━━━━━━━━━━━━━━━━━━━━━┳━━━━━━━━━━━━━━━┓\n",
       "┃<span style=\"font-weight: bold\"> Layer (type)                    </span>┃<span style=\"font-weight: bold\"> Output Shape           </span>┃<span style=\"font-weight: bold\">       Param # </span>┃\n",
       "┡━━━━━━━━━━━━━━━━━━━━━━━━━━━━━━━━━╇━━━━━━━━━━━━━━━━━━━━━━━━╇━━━━━━━━━━━━━━━┩\n",
       "│ embedding_2 (<span style=\"color: #0087ff; text-decoration-color: #0087ff\">Embedding</span>)         │ ?                      │   <span style=\"color: #00af00; text-decoration-color: #00af00\">0</span> (unbuilt) │\n",
       "├─────────────────────────────────┼────────────────────────┼───────────────┤\n",
       "│ spatial_dropout1d_2             │ ?                      │             <span style=\"color: #00af00; text-decoration-color: #00af00\">0</span> │\n",
       "│ (<span style=\"color: #0087ff; text-decoration-color: #0087ff\">SpatialDropout1D</span>)              │                        │               │\n",
       "├─────────────────────────────────┼────────────────────────┼───────────────┤\n",
       "│ lstm_2 (<span style=\"color: #0087ff; text-decoration-color: #0087ff\">LSTM</span>)                   │ ?                      │   <span style=\"color: #00af00; text-decoration-color: #00af00\">0</span> (unbuilt) │\n",
       "├─────────────────────────────────┼────────────────────────┼───────────────┤\n",
       "│ dense_2 (<span style=\"color: #0087ff; text-decoration-color: #0087ff\">Dense</span>)                 │ ?                      │   <span style=\"color: #00af00; text-decoration-color: #00af00\">0</span> (unbuilt) │\n",
       "└─────────────────────────────────┴────────────────────────┴───────────────┘\n",
       "</pre>\n"
      ]
     },
     "metadata": {},
     "output_type": "display_data"
    },
    {
     "data": {
      "text/plain": [
       "\u001B[1m Total params: \u001B[0m\u001B[38;5;34m0\u001B[0m (0.00 B)\n"
      ],
      "text/html": [
       "<pre style=\"white-space:pre;overflow-x:auto;line-height:normal;font-family:Menlo,'DejaVu Sans Mono',consolas,'Courier New',monospace\"><span style=\"font-weight: bold\"> Total params: </span><span style=\"color: #00af00; text-decoration-color: #00af00\">0</span> (0.00 B)\n",
       "</pre>\n"
      ]
     },
     "metadata": {},
     "output_type": "display_data"
    },
    {
     "data": {
      "text/plain": [
       "\u001B[1m Trainable params: \u001B[0m\u001B[38;5;34m0\u001B[0m (0.00 B)\n"
      ],
      "text/html": [
       "<pre style=\"white-space:pre;overflow-x:auto;line-height:normal;font-family:Menlo,'DejaVu Sans Mono',consolas,'Courier New',monospace\"><span style=\"font-weight: bold\"> Trainable params: </span><span style=\"color: #00af00; text-decoration-color: #00af00\">0</span> (0.00 B)\n",
       "</pre>\n"
      ]
     },
     "metadata": {},
     "output_type": "display_data"
    },
    {
     "data": {
      "text/plain": [
       "\u001B[1m Non-trainable params: \u001B[0m\u001B[38;5;34m0\u001B[0m (0.00 B)\n"
      ],
      "text/html": [
       "<pre style=\"white-space:pre;overflow-x:auto;line-height:normal;font-family:Menlo,'DejaVu Sans Mono',consolas,'Courier New',monospace\"><span style=\"font-weight: bold\"> Non-trainable params: </span><span style=\"color: #00af00; text-decoration-color: #00af00\">0</span> (0.00 B)\n",
       "</pre>\n"
      ]
     },
     "metadata": {},
     "output_type": "display_data"
    }
   ],
   "execution_count": 47
  },
  {
   "metadata": {
    "ExecuteTime": {
     "end_time": "2025-05-18T07:16:29.486863Z",
     "start_time": "2025-05-18T07:11:12.058494Z"
    }
   },
   "cell_type": "code",
   "source": [
    "# Train the model\n",
    "model.fit(X, y_train2, epochs=2, batch_size=32, validation_split=0.1)"
   ],
   "id": "18ba92f1a4233b39",
   "outputs": [
    {
     "name": "stdout",
     "output_type": "stream",
     "text": [
      "Epoch 1/2\n",
      "\u001B[1m704/704\u001B[0m \u001B[32m━━━━━━━━━━━━━━━━━━━━\u001B[0m\u001B[37m\u001B[0m \u001B[1m173s\u001B[0m 241ms/step - f1_score: 0.6641 - loss: 0.5584 - val_f1_score: 0.6818 - val_loss: 0.3022\n",
      "Epoch 2/2\n",
      "\u001B[1m704/704\u001B[0m \u001B[32m━━━━━━━━━━━━━━━━━━━━\u001B[0m\u001B[37m\u001B[0m \u001B[1m145s\u001B[0m 206ms/step - f1_score: 0.6679 - loss: 0.2068 - val_f1_score: 0.6818 - val_loss: 0.3382\n"
     ]
    },
    {
     "data": {
      "text/plain": [
       "<keras.src.callbacks.history.History at 0x2d33f184650>"
      ]
     },
     "execution_count": 48,
     "metadata": {},
     "output_type": "execute_result"
    }
   ],
   "execution_count": 48
  },
  {
   "metadata": {
    "ExecuteTime": {
     "end_time": "2025-05-18T07:17:05.912821Z",
     "start_time": "2025-05-18T07:16:29.601893Z"
    }
   },
   "cell_type": "code",
   "source": [
    "#Step 4: Evaluate the Model with F1-Score\n",
    "# Predict on test data\n",
    "y_pred = model.predict(XT)"
   ],
   "id": "778d8aebe83449c3",
   "outputs": [
    {
     "name": "stdout",
     "output_type": "stream",
     "text": [
      "\u001B[1m782/782\u001B[0m \u001B[32m━━━━━━━━━━━━━━━━━━━━\u001B[0m\u001B[37m\u001B[0m \u001B[1m36s\u001B[0m 45ms/step\n"
     ]
    }
   ],
   "execution_count": 49
  },
  {
   "metadata": {
    "ExecuteTime": {
     "end_time": "2025-05-18T07:17:05.930913Z",
     "start_time": "2025-05-18T07:17:05.925880Z"
    }
   },
   "cell_type": "code",
   "source": "y_pred[:5]",
   "id": "704cc4f8aab24657",
   "outputs": [
    {
     "data": {
      "text/plain": [
       "array([[0.02559253],\n",
       "       [0.0107685 ],\n",
       "       [0.02478401],\n",
       "       [0.04488847],\n",
       "       [0.85800225]], dtype=float32)"
      ]
     },
     "execution_count": 50,
     "metadata": {},
     "output_type": "execute_result"
    }
   ],
   "execution_count": 50
  },
  {
   "metadata": {
    "ExecuteTime": {
     "end_time": "2025-05-18T07:17:05.988682Z",
     "start_time": "2025-05-18T07:17:05.986085Z"
    }
   },
   "cell_type": "code",
   "source": "y_pred_label = y_pred = (y_pred > 0.5).astype(int).reshape(-1)",
   "id": "412e8190d5afff50",
   "outputs": [],
   "execution_count": 51
  },
  {
   "metadata": {
    "ExecuteTime": {
     "end_time": "2025-05-18T07:17:06.035628Z",
     "start_time": "2025-05-18T07:17:06.031605Z"
    }
   },
   "cell_type": "code",
   "source": "print(y_pred_label)",
   "id": "2a4721cb0d97fa59",
   "outputs": [
    {
     "name": "stdout",
     "output_type": "stream",
     "text": [
      "[0 0 0 ... 0 0 1]\n"
     ]
    }
   ],
   "execution_count": 52
  },
  {
   "metadata": {
    "ExecuteTime": {
     "end_time": "2025-05-18T07:17:06.074713Z",
     "start_time": "2025-05-18T07:17:06.071616Z"
    }
   },
   "cell_type": "code",
   "source": "print(y_test2.reshape(-1))",
   "id": "e19006a495b838de",
   "outputs": [
    {
     "name": "stdout",
     "output_type": "stream",
     "text": [
      "[0 0 0 ... 1 1 1]\n"
     ]
    }
   ],
   "execution_count": 53
  },
  {
   "cell_type": "code",
   "id": "initial_id",
   "metadata": {
    "collapsed": true,
    "ExecuteTime": {
     "end_time": "2025-05-18T07:17:06.113971Z",
     "start_time": "2025-05-18T07:17:06.105453Z"
    }
   },
   "source": [
    "# Calculate F1 Score\n",
    "f1 = f1_score(y_pred_label, y_test2.reshape(-1))\n",
    "print(\"F1-score:\", f1)"
   ],
   "outputs": [
    {
     "name": "stdout",
     "output_type": "stream",
     "text": [
      "F1-score: 0.8567674113009198\n"
     ]
    }
   ],
   "execution_count": 54
  },
  {
   "metadata": {},
   "cell_type": "code",
   "outputs": [],
   "execution_count": null,
   "source": "# [849, 838, 870] 1 - эпоха, 3 - эпохи, 1 - эпоха, BS = 64",
   "id": "1181b14702ec2060"
  }
 ],
 "metadata": {
  "kernelspec": {
   "display_name": "Python 3",
   "language": "python",
   "name": "python3"
  },
  "language_info": {
   "codemirror_mode": {
    "name": "ipython",
    "version": 2
   },
   "file_extension": ".py",
   "mimetype": "text/x-python",
   "name": "python",
   "nbconvert_exporter": "python",
   "pygments_lexer": "ipython2",
   "version": "2.7.6"
  }
 },
 "nbformat": 4,
 "nbformat_minor": 5
}
