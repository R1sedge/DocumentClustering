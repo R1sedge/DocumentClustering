{
 "cells": [
  {
   "metadata": {
    "ExecuteTime": {
     "end_time": "2025-05-17T18:58:31.931133Z",
     "start_time": "2025-05-17T18:58:31.923492Z"
    }
   },
   "cell_type": "code",
   "source": [
    "import numpy as np\n",
    "import pandas as pd\n",
    "import tensorflow as tf\n",
    "from keras import Model\n",
    "from keras.src.layers import Softmax\n",
    "from tensorflow.keras.preprocessing.sequence import pad_sequences\n",
    "from tensorflow.keras.preprocessing.text import Tokenizer\n",
    "from tensorflow.keras.models import Sequential\n",
    "from tensorflow.keras.layers import Embedding, LSTM, Dense, SpatialDropout1D, Concatenate, Input\n",
    "from tensorflow.keras.optimizers import Adam\n",
    "from tensorflow.keras.metrics import F1Score\n",
    "from sklearn.model_selection import train_test_split\n",
    "from sklearn.metrics import f1_score\n",
    "from sklearn.preprocessing import LabelEncoder, OneHotEncoder, LabelBinarizer\n",
    "from tensorflow.keras.initializers import Constant\n",
    "\n",
    "import nltk\n",
    "import string\n",
    "from datasets import load_dataset\n",
    "import re\n",
    "from nltk.corpus import stopwords\n",
    "from nltk import pos_tag\n",
    "import mlflow\n",
    "from sklearnex import patch_sklearn\n",
    "from warnings import filterwarnings\n",
    "from gensim.models import Word2Vec\n",
    "patch_sklearn()"
   ],
   "id": "f324388cb9d4e53f",
   "outputs": [
    {
     "name": "stderr",
     "output_type": "stream",
     "text": [
      "Extension for Scikit-learn* enabled (https://github.com/uxlfoundation/scikit-learn-intelex)\n"
     ]
    }
   ],
   "execution_count": 194
  },
  {
   "metadata": {
    "ExecuteTime": {
     "end_time": "2025-05-17T18:48:30.847994Z",
     "start_time": "2025-05-17T18:48:30.838830Z"
    }
   },
   "cell_type": "code",
   "source": "filterwarnings(\"ignore\")",
   "id": "717016dc67ead65a",
   "outputs": [],
   "execution_count": 171
  },
  {
   "metadata": {
    "ExecuteTime": {
     "end_time": "2025-05-17T18:48:31.759165Z",
     "start_time": "2025-05-17T18:48:31.134254Z"
    }
   },
   "cell_type": "code",
   "source": [
    "dataset = \"ag_news\"\n",
    "data = load_dataset(dataset)\n",
    "stop_words = set(stopwords.words(\"english\"))"
   ],
   "id": "d1b80413abf3d305",
   "outputs": [
    {
     "ename": "DataFilesNotFoundError",
     "evalue": "No (supported) data files found in ag_news",
     "output_type": "error",
     "traceback": [
      "\u001B[1;31m---------------------------------------------------------------------------\u001B[0m",
      "\u001B[1;31mDataFilesNotFoundError\u001B[0m                    Traceback (most recent call last)",
      "Cell \u001B[1;32mIn[172], line 2\u001B[0m\n\u001B[0;32m      1\u001B[0m dataset \u001B[38;5;241m=\u001B[39m \u001B[38;5;124m\"\u001B[39m\u001B[38;5;124mag_news\u001B[39m\u001B[38;5;124m\"\u001B[39m\n\u001B[1;32m----> 2\u001B[0m data \u001B[38;5;241m=\u001B[39m \u001B[43mload_dataset\u001B[49m\u001B[43m(\u001B[49m\u001B[43mdataset\u001B[49m\u001B[43m)\u001B[49m\n\u001B[0;32m      3\u001B[0m stop_words \u001B[38;5;241m=\u001B[39m \u001B[38;5;28mset\u001B[39m(stopwords\u001B[38;5;241m.\u001B[39mwords(\u001B[38;5;124m\"\u001B[39m\u001B[38;5;124menglish\u001B[39m\u001B[38;5;124m\"\u001B[39m))\n",
      "File \u001B[1;32m~\\PycharmProjects\\DocumentClusterisation\\.venv\\Lib\\site-packages\\datasets\\load.py:2062\u001B[0m, in \u001B[0;36mload_dataset\u001B[1;34m(path, name, data_dir, data_files, split, cache_dir, features, download_config, download_mode, verification_mode, keep_in_memory, save_infos, revision, token, streaming, num_proc, storage_options, trust_remote_code, **config_kwargs)\u001B[0m\n\u001B[0;32m   2057\u001B[0m verification_mode \u001B[38;5;241m=\u001B[39m VerificationMode(\n\u001B[0;32m   2058\u001B[0m     (verification_mode \u001B[38;5;129;01mor\u001B[39;00m VerificationMode\u001B[38;5;241m.\u001B[39mBASIC_CHECKS) \u001B[38;5;28;01mif\u001B[39;00m \u001B[38;5;129;01mnot\u001B[39;00m save_infos \u001B[38;5;28;01melse\u001B[39;00m VerificationMode\u001B[38;5;241m.\u001B[39mALL_CHECKS\n\u001B[0;32m   2059\u001B[0m )\n\u001B[0;32m   2061\u001B[0m \u001B[38;5;66;03m# Create a dataset builder\u001B[39;00m\n\u001B[1;32m-> 2062\u001B[0m builder_instance \u001B[38;5;241m=\u001B[39m \u001B[43mload_dataset_builder\u001B[49m\u001B[43m(\u001B[49m\n\u001B[0;32m   2063\u001B[0m \u001B[43m    \u001B[49m\u001B[43mpath\u001B[49m\u001B[38;5;241;43m=\u001B[39;49m\u001B[43mpath\u001B[49m\u001B[43m,\u001B[49m\n\u001B[0;32m   2064\u001B[0m \u001B[43m    \u001B[49m\u001B[43mname\u001B[49m\u001B[38;5;241;43m=\u001B[39;49m\u001B[43mname\u001B[49m\u001B[43m,\u001B[49m\n\u001B[0;32m   2065\u001B[0m \u001B[43m    \u001B[49m\u001B[43mdata_dir\u001B[49m\u001B[38;5;241;43m=\u001B[39;49m\u001B[43mdata_dir\u001B[49m\u001B[43m,\u001B[49m\n\u001B[0;32m   2066\u001B[0m \u001B[43m    \u001B[49m\u001B[43mdata_files\u001B[49m\u001B[38;5;241;43m=\u001B[39;49m\u001B[43mdata_files\u001B[49m\u001B[43m,\u001B[49m\n\u001B[0;32m   2067\u001B[0m \u001B[43m    \u001B[49m\u001B[43mcache_dir\u001B[49m\u001B[38;5;241;43m=\u001B[39;49m\u001B[43mcache_dir\u001B[49m\u001B[43m,\u001B[49m\n\u001B[0;32m   2068\u001B[0m \u001B[43m    \u001B[49m\u001B[43mfeatures\u001B[49m\u001B[38;5;241;43m=\u001B[39;49m\u001B[43mfeatures\u001B[49m\u001B[43m,\u001B[49m\n\u001B[0;32m   2069\u001B[0m \u001B[43m    \u001B[49m\u001B[43mdownload_config\u001B[49m\u001B[38;5;241;43m=\u001B[39;49m\u001B[43mdownload_config\u001B[49m\u001B[43m,\u001B[49m\n\u001B[0;32m   2070\u001B[0m \u001B[43m    \u001B[49m\u001B[43mdownload_mode\u001B[49m\u001B[38;5;241;43m=\u001B[39;49m\u001B[43mdownload_mode\u001B[49m\u001B[43m,\u001B[49m\n\u001B[0;32m   2071\u001B[0m \u001B[43m    \u001B[49m\u001B[43mrevision\u001B[49m\u001B[38;5;241;43m=\u001B[39;49m\u001B[43mrevision\u001B[49m\u001B[43m,\u001B[49m\n\u001B[0;32m   2072\u001B[0m \u001B[43m    \u001B[49m\u001B[43mtoken\u001B[49m\u001B[38;5;241;43m=\u001B[39;49m\u001B[43mtoken\u001B[49m\u001B[43m,\u001B[49m\n\u001B[0;32m   2073\u001B[0m \u001B[43m    \u001B[49m\u001B[43mstorage_options\u001B[49m\u001B[38;5;241;43m=\u001B[39;49m\u001B[43mstorage_options\u001B[49m\u001B[43m,\u001B[49m\n\u001B[0;32m   2074\u001B[0m \u001B[43m    \u001B[49m\u001B[43mtrust_remote_code\u001B[49m\u001B[38;5;241;43m=\u001B[39;49m\u001B[43mtrust_remote_code\u001B[49m\u001B[43m,\u001B[49m\n\u001B[0;32m   2075\u001B[0m \u001B[43m    \u001B[49m\u001B[43m_require_default_config_name\u001B[49m\u001B[38;5;241;43m=\u001B[39;49m\u001B[43mname\u001B[49m\u001B[43m \u001B[49m\u001B[38;5;129;43;01mis\u001B[39;49;00m\u001B[43m \u001B[49m\u001B[38;5;28;43;01mNone\u001B[39;49;00m\u001B[43m,\u001B[49m\n\u001B[0;32m   2076\u001B[0m \u001B[43m    \u001B[49m\u001B[38;5;241;43m*\u001B[39;49m\u001B[38;5;241;43m*\u001B[39;49m\u001B[43mconfig_kwargs\u001B[49m\u001B[43m,\u001B[49m\n\u001B[0;32m   2077\u001B[0m \u001B[43m\u001B[49m\u001B[43m)\u001B[49m\n\u001B[0;32m   2079\u001B[0m \u001B[38;5;66;03m# Return iterable dataset in case of streaming\u001B[39;00m\n\u001B[0;32m   2080\u001B[0m \u001B[38;5;28;01mif\u001B[39;00m streaming:\n",
      "File \u001B[1;32m~\\PycharmProjects\\DocumentClusterisation\\.venv\\Lib\\site-packages\\datasets\\load.py:1782\u001B[0m, in \u001B[0;36mload_dataset_builder\u001B[1;34m(path, name, data_dir, data_files, cache_dir, features, download_config, download_mode, revision, token, storage_options, trust_remote_code, _require_default_config_name, **config_kwargs)\u001B[0m\n\u001B[0;32m   1780\u001B[0m     download_config \u001B[38;5;241m=\u001B[39m download_config\u001B[38;5;241m.\u001B[39mcopy() \u001B[38;5;28;01mif\u001B[39;00m download_config \u001B[38;5;28;01melse\u001B[39;00m DownloadConfig()\n\u001B[0;32m   1781\u001B[0m     download_config\u001B[38;5;241m.\u001B[39mstorage_options\u001B[38;5;241m.\u001B[39mupdate(storage_options)\n\u001B[1;32m-> 1782\u001B[0m dataset_module \u001B[38;5;241m=\u001B[39m \u001B[43mdataset_module_factory\u001B[49m\u001B[43m(\u001B[49m\n\u001B[0;32m   1783\u001B[0m \u001B[43m    \u001B[49m\u001B[43mpath\u001B[49m\u001B[43m,\u001B[49m\n\u001B[0;32m   1784\u001B[0m \u001B[43m    \u001B[49m\u001B[43mrevision\u001B[49m\u001B[38;5;241;43m=\u001B[39;49m\u001B[43mrevision\u001B[49m\u001B[43m,\u001B[49m\n\u001B[0;32m   1785\u001B[0m \u001B[43m    \u001B[49m\u001B[43mdownload_config\u001B[49m\u001B[38;5;241;43m=\u001B[39;49m\u001B[43mdownload_config\u001B[49m\u001B[43m,\u001B[49m\n\u001B[0;32m   1786\u001B[0m \u001B[43m    \u001B[49m\u001B[43mdownload_mode\u001B[49m\u001B[38;5;241;43m=\u001B[39;49m\u001B[43mdownload_mode\u001B[49m\u001B[43m,\u001B[49m\n\u001B[0;32m   1787\u001B[0m \u001B[43m    \u001B[49m\u001B[43mdata_dir\u001B[49m\u001B[38;5;241;43m=\u001B[39;49m\u001B[43mdata_dir\u001B[49m\u001B[43m,\u001B[49m\n\u001B[0;32m   1788\u001B[0m \u001B[43m    \u001B[49m\u001B[43mdata_files\u001B[49m\u001B[38;5;241;43m=\u001B[39;49m\u001B[43mdata_files\u001B[49m\u001B[43m,\u001B[49m\n\u001B[0;32m   1789\u001B[0m \u001B[43m    \u001B[49m\u001B[43mcache_dir\u001B[49m\u001B[38;5;241;43m=\u001B[39;49m\u001B[43mcache_dir\u001B[49m\u001B[43m,\u001B[49m\n\u001B[0;32m   1790\u001B[0m \u001B[43m    \u001B[49m\u001B[43mtrust_remote_code\u001B[49m\u001B[38;5;241;43m=\u001B[39;49m\u001B[43mtrust_remote_code\u001B[49m\u001B[43m,\u001B[49m\n\u001B[0;32m   1791\u001B[0m \u001B[43m    \u001B[49m\u001B[43m_require_default_config_name\u001B[49m\u001B[38;5;241;43m=\u001B[39;49m\u001B[43m_require_default_config_name\u001B[49m\u001B[43m,\u001B[49m\n\u001B[0;32m   1792\u001B[0m \u001B[43m    \u001B[49m\u001B[43m_require_custom_configs\u001B[49m\u001B[38;5;241;43m=\u001B[39;49m\u001B[38;5;28;43mbool\u001B[39;49m\u001B[43m(\u001B[49m\u001B[43mconfig_kwargs\u001B[49m\u001B[43m)\u001B[49m\u001B[43m,\u001B[49m\n\u001B[0;32m   1793\u001B[0m \u001B[43m\u001B[49m\u001B[43m)\u001B[49m\n\u001B[0;32m   1794\u001B[0m \u001B[38;5;66;03m# Get dataset builder class from the processing script\u001B[39;00m\n\u001B[0;32m   1795\u001B[0m builder_kwargs \u001B[38;5;241m=\u001B[39m dataset_module\u001B[38;5;241m.\u001B[39mbuilder_kwargs\n",
      "File \u001B[1;32m~\\PycharmProjects\\DocumentClusterisation\\.venv\\Lib\\site-packages\\datasets\\load.py:1519\u001B[0m, in \u001B[0;36mdataset_module_factory\u001B[1;34m(path, revision, download_config, download_mode, dynamic_modules_path, data_dir, data_files, cache_dir, trust_remote_code, _require_default_config_name, _require_custom_configs, **download_kwargs)\u001B[0m\n\u001B[0;32m   1510\u001B[0m     \u001B[38;5;28;01mreturn\u001B[39;00m LocalDatasetModuleFactoryWithScript(\n\u001B[0;32m   1511\u001B[0m         combined_path,\n\u001B[0;32m   1512\u001B[0m         download_mode\u001B[38;5;241m=\u001B[39mdownload_mode,\n\u001B[0;32m   1513\u001B[0m         dynamic_modules_path\u001B[38;5;241m=\u001B[39mdynamic_modules_path,\n\u001B[0;32m   1514\u001B[0m         trust_remote_code\u001B[38;5;241m=\u001B[39mtrust_remote_code,\n\u001B[0;32m   1515\u001B[0m     )\u001B[38;5;241m.\u001B[39mget_module()\n\u001B[0;32m   1516\u001B[0m \u001B[38;5;28;01melif\u001B[39;00m os\u001B[38;5;241m.\u001B[39mpath\u001B[38;5;241m.\u001B[39misdir(path):\n\u001B[0;32m   1517\u001B[0m     \u001B[38;5;28;01mreturn\u001B[39;00m \u001B[43mLocalDatasetModuleFactoryWithoutScript\u001B[49m\u001B[43m(\u001B[49m\n\u001B[0;32m   1518\u001B[0m \u001B[43m        \u001B[49m\u001B[43mpath\u001B[49m\u001B[43m,\u001B[49m\u001B[43m \u001B[49m\u001B[43mdata_dir\u001B[49m\u001B[38;5;241;43m=\u001B[39;49m\u001B[43mdata_dir\u001B[49m\u001B[43m,\u001B[49m\u001B[43m \u001B[49m\u001B[43mdata_files\u001B[49m\u001B[38;5;241;43m=\u001B[39;49m\u001B[43mdata_files\u001B[49m\u001B[43m,\u001B[49m\u001B[43m \u001B[49m\u001B[43mdownload_mode\u001B[49m\u001B[38;5;241;43m=\u001B[39;49m\u001B[43mdownload_mode\u001B[49m\n\u001B[1;32m-> 1519\u001B[0m \u001B[43m    \u001B[49m\u001B[43m)\u001B[49m\u001B[38;5;241;43m.\u001B[39;49m\u001B[43mget_module\u001B[49m\u001B[43m(\u001B[49m\u001B[43m)\u001B[49m\n\u001B[0;32m   1520\u001B[0m \u001B[38;5;66;03m# Try remotely\u001B[39;00m\n\u001B[0;32m   1521\u001B[0m \u001B[38;5;28;01melif\u001B[39;00m is_relative_path(path) \u001B[38;5;129;01mand\u001B[39;00m path\u001B[38;5;241m.\u001B[39mcount(\u001B[38;5;124m\"\u001B[39m\u001B[38;5;124m/\u001B[39m\u001B[38;5;124m\"\u001B[39m) \u001B[38;5;241m<\u001B[39m\u001B[38;5;241m=\u001B[39m \u001B[38;5;241m1\u001B[39m:\n",
      "File \u001B[1;32m~\\PycharmProjects\\DocumentClusterisation\\.venv\\Lib\\site-packages\\datasets\\load.py:827\u001B[0m, in \u001B[0;36mLocalDatasetModuleFactoryWithoutScript.get_module\u001B[1;34m(self)\u001B[0m\n\u001B[0;32m    821\u001B[0m     patterns \u001B[38;5;241m=\u001B[39m get_data_patterns(base_path)\n\u001B[0;32m    822\u001B[0m data_files \u001B[38;5;241m=\u001B[39m DataFilesDict\u001B[38;5;241m.\u001B[39mfrom_patterns(\n\u001B[0;32m    823\u001B[0m     patterns,\n\u001B[0;32m    824\u001B[0m     base_path\u001B[38;5;241m=\u001B[39mbase_path,\n\u001B[0;32m    825\u001B[0m     allowed_extensions\u001B[38;5;241m=\u001B[39mALL_ALLOWED_EXTENSIONS,\n\u001B[0;32m    826\u001B[0m )\n\u001B[1;32m--> 827\u001B[0m module_name, default_builder_kwargs \u001B[38;5;241m=\u001B[39m \u001B[43minfer_module_for_data_files\u001B[49m\u001B[43m(\u001B[49m\n\u001B[0;32m    828\u001B[0m \u001B[43m    \u001B[49m\u001B[43mdata_files\u001B[49m\u001B[38;5;241;43m=\u001B[39;49m\u001B[43mdata_files\u001B[49m\u001B[43m,\u001B[49m\n\u001B[0;32m    829\u001B[0m \u001B[43m    \u001B[49m\u001B[43mpath\u001B[49m\u001B[38;5;241;43m=\u001B[39;49m\u001B[38;5;28;43mself\u001B[39;49m\u001B[38;5;241;43m.\u001B[39;49m\u001B[43mpath\u001B[49m\u001B[43m,\u001B[49m\n\u001B[0;32m    830\u001B[0m \u001B[43m\u001B[49m\u001B[43m)\u001B[49m\n\u001B[0;32m    831\u001B[0m data_files \u001B[38;5;241m=\u001B[39m data_files\u001B[38;5;241m.\u001B[39mfilter(\n\u001B[0;32m    832\u001B[0m     extensions\u001B[38;5;241m=\u001B[39m_MODULE_TO_EXTENSIONS[module_name], file_names\u001B[38;5;241m=\u001B[39m_MODULE_TO_METADATA_FILE_NAMES[module_name]\n\u001B[0;32m    833\u001B[0m )\n\u001B[0;32m    834\u001B[0m module_path, _ \u001B[38;5;241m=\u001B[39m _PACKAGED_DATASETS_MODULES[module_name]\n",
      "File \u001B[1;32m~\\PycharmProjects\\DocumentClusterisation\\.venv\\Lib\\site-packages\\datasets\\load.py:602\u001B[0m, in \u001B[0;36minfer_module_for_data_files\u001B[1;34m(data_files, path, download_config)\u001B[0m\n\u001B[0;32m    600\u001B[0m     \u001B[38;5;28;01mraise\u001B[39;00m \u001B[38;5;167;01mValueError\u001B[39;00m(\u001B[38;5;124mf\u001B[39m\u001B[38;5;124m\"\u001B[39m\u001B[38;5;124mCouldn\u001B[39m\u001B[38;5;124m'\u001B[39m\u001B[38;5;124mt infer the same data file format for all splits. Got \u001B[39m\u001B[38;5;132;01m{\u001B[39;00msplit_modules\u001B[38;5;132;01m}\u001B[39;00m\u001B[38;5;124m\"\u001B[39m)\n\u001B[0;32m    601\u001B[0m \u001B[38;5;28;01mif\u001B[39;00m \u001B[38;5;129;01mnot\u001B[39;00m module_name:\n\u001B[1;32m--> 602\u001B[0m     \u001B[38;5;28;01mraise\u001B[39;00m DataFilesNotFoundError(\u001B[38;5;124m\"\u001B[39m\u001B[38;5;124mNo (supported) data files found\u001B[39m\u001B[38;5;124m\"\u001B[39m \u001B[38;5;241m+\u001B[39m (\u001B[38;5;124mf\u001B[39m\u001B[38;5;124m\"\u001B[39m\u001B[38;5;124m in \u001B[39m\u001B[38;5;132;01m{\u001B[39;00mpath\u001B[38;5;132;01m}\u001B[39;00m\u001B[38;5;124m\"\u001B[39m \u001B[38;5;28;01mif\u001B[39;00m path \u001B[38;5;28;01melse\u001B[39;00m \u001B[38;5;124m\"\u001B[39m\u001B[38;5;124m\"\u001B[39m))\n\u001B[0;32m    603\u001B[0m \u001B[38;5;28;01mreturn\u001B[39;00m module_name, default_builder_kwargs\n",
      "\u001B[1;31mDataFilesNotFoundError\u001B[0m: No (supported) data files found in ag_news"
     ]
    }
   ],
   "execution_count": 172
  },
  {
   "metadata": {
    "ExecuteTime": {
     "end_time": "2025-05-17T18:48:31.829166700Z",
     "start_time": "2025-05-17T13:27:24.235534Z"
    }
   },
   "cell_type": "code",
   "source": [
    "def base_preprocess(text):\n",
    "    tokens = text.lower()\n",
    "\n",
    "    # Удаление спец слов\n",
    "    if dataset == 'ag_news':\n",
    "        special_words = ['reuters', 'afp', 'ap', 'usatoday.com', 'forbes.com', 'target=/stocks/quickinfo/fullquote\"' ]\n",
    "        for word in special_words:\n",
    "            tokens = tokens.replace(word, '')\n",
    "        \n",
    "        pattern = r'[&lt][^<>]*&gt'\n",
    "        tokens = re.sub(pattern, '', tokens)\n",
    "    elif dataset == 'imdb':\n",
    "        special_words = ['<br /><br />'] \n",
    "        for word in special_words:\n",
    "            tokens = tokens.replace(word, '')\n",
    "    \n",
    "    # Удаление пунктуации\n",
    "    tokens = ''.join(i if i not in set(string.punctuation)  else ' ' for i in tokens)\n",
    "    \n",
    "    return tokens"
   ],
   "id": "aeab1008c7fb25bb",
   "outputs": [],
   "execution_count": 4
  },
  {
   "metadata": {
    "ExecuteTime": {
     "end_time": "2025-05-17T18:48:32.469379Z",
     "start_time": "2025-05-17T18:48:32.236424Z"
    }
   },
   "cell_type": "code",
   "source": [
    "txt1 = base_preprocess(data['train']['text'][0])\n",
    "print(txt1)"
   ],
   "id": "78b8e66fb5c0860c",
   "outputs": [
    {
     "name": "stdout",
     "output_type": "stream",
     "text": [
      "wall st  bears claw back into the black       short sellers  wall street s dwindling band of ultra cynics  are seeing green again \n"
     ]
    }
   ],
   "execution_count": 173
  },
  {
   "metadata": {
    "ExecuteTime": {
     "end_time": "2025-05-17T18:48:34.121298Z",
     "start_time": "2025-05-17T18:48:34.114299Z"
    }
   },
   "cell_type": "code",
   "source": [
    "def different_preprocess(tokens, preprocess_type, words_class):\n",
    "    tokenizer = nltk.tokenize.TreebankWordTokenizer()\n",
    "    tokens = tokenizer.tokenize(tokens)\n",
    "    \n",
    "    # Обработка стоп-слов\n",
    "    tokens = [token for token in tokens if token not in stop_words]\n",
    "    \n",
    "    # Обработка частей речи\n",
    "    if words_class != 'ALL':\n",
    "        tokens = pos_tag(tokens)\n",
    "        if words_class == 'N':\n",
    "            tokens = [word for word, tag in tokens if tag.startswith('N')]\n",
    "        elif words_class == 'NJ':\n",
    "            tokens = [word for word, tag in tokens if tag.startswith('N') or tag.startswith('J')]\n",
    "        elif words_class == 'NJV':\n",
    "            tokens = [word for word, tag in tokens if tag.startswith('N') or tag.startswith('J') or tag.startswith('V')]\n",
    "    \n",
    "    # Обработка слов\n",
    "    if preprocess_type == 'лемматизация':\n",
    "        lemmatizer = nltk.WordNetLemmatizer()\n",
    "        tokens = [lemmatizer.lemmatize(token) for token in tokens]\n",
    "    elif preprocess_type == 'стемминг':\n",
    "        stemmer = nltk.PorterStemmer()\n",
    "        tokens = [stemmer.stem(token) for token in tokens]\n",
    "    \n",
    "    return ' '.join(tokens)  "
   ],
   "id": "1574ac3174ec2595",
   "outputs": [],
   "execution_count": 174
  },
  {
   "metadata": {
    "ExecuteTime": {
     "end_time": "2025-05-17T18:48:34.672339Z",
     "start_time": "2025-05-17T18:48:34.648381Z"
    }
   },
   "cell_type": "code",
   "source": [
    "txt2 = different_preprocess(txt1,'лемматизация', 'ALL')\n",
    "print(txt2)"
   ],
   "id": "fbbb7289e9324e21",
   "outputs": [
    {
     "name": "stdout",
     "output_type": "stream",
     "text": [
      "wall st bear claw back black short seller wall street dwindling band ultra cynic seeing green\n"
     ]
    }
   ],
   "execution_count": 175
  },
  {
   "metadata": {
    "ExecuteTime": {
     "end_time": "2025-05-17T18:49:21.868919Z",
     "start_time": "2025-05-17T18:48:38.579594Z"
    }
   },
   "cell_type": "code",
   "source": [
    "dataset1 = data \n",
    "preprocess_type = 'лемматизация'\n",
    "words_class = 'ALL'\n",
    "\n",
    "# Подготовка данных\n",
    "shuffled_train = data[\"train\"].shuffle(seed=42)\n",
    "x_train = shuffled_train['text']\n",
    "y_train = shuffled_train['label']\n",
    "    \n",
    "x_test = dataset1['test']['text']\n",
    "y_test = dataset1['test']['label']\n",
    "    \n",
    "# Базовая обработка\n",
    "xtr = [base_preprocess(text) for text in x_train]\n",
    "xte = [base_preprocess(text) for text in x_test]\n",
    "    \n",
    "# Части речи + приведение\n",
    "xtr = [different_preprocess(tokens, preprocess_type, words_class) for tokens in xtr]\n",
    "xte = [different_preprocess(tokens, preprocess_type, words_class) for tokens in xte]"
   ],
   "id": "58576e866ce88aab",
   "outputs": [],
   "execution_count": 178
  },
  {
   "metadata": {
    "ExecuteTime": {
     "end_time": "2025-05-17T18:49:21.892052Z",
     "start_time": "2025-05-17T18:49:21.884932Z"
    }
   },
   "cell_type": "code",
   "source": "print(xtr[0])",
   "id": "1419b3fee63df062",
   "outputs": [
    {
     "name": "stdout",
     "output_type": "stream",
     "text": [
      "bangladesh paralysed strike opposition activist brought many town city bangladesh halt day 18 people died explosion political rally\n"
     ]
    }
   ],
   "execution_count": 179
  },
  {
   "metadata": {
    "ExecuteTime": {
     "end_time": "2025-05-17T18:49:22.299563Z",
     "start_time": "2025-05-17T18:49:21.928039Z"
    }
   },
   "cell_type": "code",
   "source": [
    "xtr1 = [x.split() for x in xtr]\n",
    "xte1 = [x.split() for x in xte]"
   ],
   "id": "cf7d6d65601583f5",
   "outputs": [],
   "execution_count": 180
  },
  {
   "metadata": {
    "ExecuteTime": {
     "end_time": "2025-05-17T18:49:22.317483Z",
     "start_time": "2025-05-17T18:49:22.313413Z"
    }
   },
   "cell_type": "code",
   "source": "print(xtr1[0])",
   "id": "8489ca8229ccde74",
   "outputs": [
    {
     "name": "stdout",
     "output_type": "stream",
     "text": [
      "['bangladesh', 'paralysed', 'strike', 'opposition', 'activist', 'brought', 'many', 'town', 'city', 'bangladesh', 'halt', 'day', '18', 'people', 'died', 'explosion', 'political', 'rally']\n"
     ]
    }
   ],
   "execution_count": 181
  },
  {
   "metadata": {},
   "cell_type": "markdown",
   "source": "#### Блок Word2Vec",
   "id": "b1f892375c38f12d"
  },
  {
   "metadata": {
    "ExecuteTime": {
     "end_time": "2025-05-17T18:49:34.751274Z",
     "start_time": "2025-05-17T18:49:22.338222Z"
    }
   },
   "cell_type": "code",
   "source": [
    "model = Word2Vec(\n",
    "    sentences=xtr1,\n",
    "    vector_size=100,\n",
    "    window=5,\n",
    "    min_count=1,\n",
    "    workers=4,\n",
    "    epochs=5,\n",
    "    negative=7,\n",
    "    sample=1e-3,\n",
    ")"
   ],
   "id": "47b0db3aff27211a",
   "outputs": [],
   "execution_count": 182
  },
  {
   "metadata": {
    "ExecuteTime": {
     "end_time": "2025-05-17T18:49:37.042633Z",
     "start_time": "2025-05-17T18:49:34.769232Z"
    }
   },
   "cell_type": "code",
   "source": [
    "tokenizer = Tokenizer()\n",
    "tokenizer.fit_on_texts(xtr)\n",
    "vocab_size = len(tokenizer.word_index) + 1\n",
    "\n",
    "embedding_matrix = np.zeros((vocab_size, model.vector_size))\n",
    "for word, i in tokenizer.word_index.items():\n",
    "    if word in model.wv:\n",
    "        embedding_matrix[i] = model.wv[word]"
   ],
   "id": "3446dba9c7636e05",
   "outputs": [],
   "execution_count": 183
  },
  {
   "metadata": {
    "ExecuteTime": {
     "end_time": "2025-05-17T20:57:46.605986Z",
     "start_time": "2025-05-17T20:57:46.583429Z"
    }
   },
   "cell_type": "code",
   "source": [
    "embedding_dim = model.vector_size\n",
    "\n",
    "lstm = Sequential()\n",
    "embedding_layer = Embedding(\n",
    "    input_dim=vocab_size,   \n",
    "    output_dim=embedding_dim, \n",
    "    embeddings_initializer=Constant(embedding_matrix),\n",
    "    input_length=125,\n",
    "    trainable=True,     # дообучение эмбеддингов\n",
    "    mask_zero=True\n",
    ")\n",
    "lstm.add(embedding_layer)\n",
    "lstm.add(SpatialDropout1D(0.2))\n",
    "lstm.add(LSTM(128,dropout=0.2, recurrent_dropout=0.2))\n",
    "lstm.add(Dense(4, activation='softmax'))  # Для бинарной классификации\n",
    "\n",
    "lstm.compile(loss='categorical_crossentropy', optimizer=Adam(learning_rate=0.01),\n",
    "metrics=[F1Score(average='macro')])\n",
    "lstm.summary()"
   ],
   "id": "6d7cf2329468eb3b",
   "outputs": [
    {
     "data": {
      "text/plain": [
       "\u001B[1mModel: \"sequential_14\"\u001B[0m\n"
      ],
      "text/html": [
       "<pre style=\"white-space:pre;overflow-x:auto;line-height:normal;font-family:Menlo,'DejaVu Sans Mono',consolas,'Courier New',monospace\"><span style=\"font-weight: bold\">Model: \"sequential_14\"</span>\n",
       "</pre>\n"
      ]
     },
     "metadata": {},
     "output_type": "display_data"
    },
    {
     "data": {
      "text/plain": [
       "┏━━━━━━━━━━━━━━━━━━━━━━━━━━━━━━━━━┳━━━━━━━━━━━━━━━━━━━━━━━━┳━━━━━━━━━━━━━━━┓\n",
       "┃\u001B[1m \u001B[0m\u001B[1mLayer (type)                   \u001B[0m\u001B[1m \u001B[0m┃\u001B[1m \u001B[0m\u001B[1mOutput Shape          \u001B[0m\u001B[1m \u001B[0m┃\u001B[1m \u001B[0m\u001B[1m      Param #\u001B[0m\u001B[1m \u001B[0m┃\n",
       "┡━━━━━━━━━━━━━━━━━━━━━━━━━━━━━━━━━╇━━━━━━━━━━━━━━━━━━━━━━━━╇━━━━━━━━━━━━━━━┩\n",
       "│ embedding_80 (\u001B[38;5;33mEmbedding\u001B[0m)        │ ?                      │   \u001B[38;5;34m0\u001B[0m (unbuilt) │\n",
       "├─────────────────────────────────┼────────────────────────┼───────────────┤\n",
       "│ spatial_dropout1d_31            │ ?                      │             \u001B[38;5;34m0\u001B[0m │\n",
       "│ (\u001B[38;5;33mSpatialDropout1D\u001B[0m)              │                        │               │\n",
       "├─────────────────────────────────┼────────────────────────┼───────────────┤\n",
       "│ lstm_38 (\u001B[38;5;33mLSTM\u001B[0m)                  │ ?                      │   \u001B[38;5;34m0\u001B[0m (unbuilt) │\n",
       "├─────────────────────────────────┼────────────────────────┼───────────────┤\n",
       "│ dense_33 (\u001B[38;5;33mDense\u001B[0m)                │ ?                      │   \u001B[38;5;34m0\u001B[0m (unbuilt) │\n",
       "└─────────────────────────────────┴────────────────────────┴───────────────┘\n"
      ],
      "text/html": [
       "<pre style=\"white-space:pre;overflow-x:auto;line-height:normal;font-family:Menlo,'DejaVu Sans Mono',consolas,'Courier New',monospace\">┏━━━━━━━━━━━━━━━━━━━━━━━━━━━━━━━━━┳━━━━━━━━━━━━━━━━━━━━━━━━┳━━━━━━━━━━━━━━━┓\n",
       "┃<span style=\"font-weight: bold\"> Layer (type)                    </span>┃<span style=\"font-weight: bold\"> Output Shape           </span>┃<span style=\"font-weight: bold\">       Param # </span>┃\n",
       "┡━━━━━━━━━━━━━━━━━━━━━━━━━━━━━━━━━╇━━━━━━━━━━━━━━━━━━━━━━━━╇━━━━━━━━━━━━━━━┩\n",
       "│ embedding_80 (<span style=\"color: #0087ff; text-decoration-color: #0087ff\">Embedding</span>)        │ ?                      │   <span style=\"color: #00af00; text-decoration-color: #00af00\">0</span> (unbuilt) │\n",
       "├─────────────────────────────────┼────────────────────────┼───────────────┤\n",
       "│ spatial_dropout1d_31            │ ?                      │             <span style=\"color: #00af00; text-decoration-color: #00af00\">0</span> │\n",
       "│ (<span style=\"color: #0087ff; text-decoration-color: #0087ff\">SpatialDropout1D</span>)              │                        │               │\n",
       "├─────────────────────────────────┼────────────────────────┼───────────────┤\n",
       "│ lstm_38 (<span style=\"color: #0087ff; text-decoration-color: #0087ff\">LSTM</span>)                  │ ?                      │   <span style=\"color: #00af00; text-decoration-color: #00af00\">0</span> (unbuilt) │\n",
       "├─────────────────────────────────┼────────────────────────┼───────────────┤\n",
       "│ dense_33 (<span style=\"color: #0087ff; text-decoration-color: #0087ff\">Dense</span>)                │ ?                      │   <span style=\"color: #00af00; text-decoration-color: #00af00\">0</span> (unbuilt) │\n",
       "└─────────────────────────────────┴────────────────────────┴───────────────┘\n",
       "</pre>\n"
      ]
     },
     "metadata": {},
     "output_type": "display_data"
    },
    {
     "data": {
      "text/plain": [
       "\u001B[1m Total params: \u001B[0m\u001B[38;5;34m0\u001B[0m (0.00 B)\n"
      ],
      "text/html": [
       "<pre style=\"white-space:pre;overflow-x:auto;line-height:normal;font-family:Menlo,'DejaVu Sans Mono',consolas,'Courier New',monospace\"><span style=\"font-weight: bold\"> Total params: </span><span style=\"color: #00af00; text-decoration-color: #00af00\">0</span> (0.00 B)\n",
       "</pre>\n"
      ]
     },
     "metadata": {},
     "output_type": "display_data"
    },
    {
     "data": {
      "text/plain": [
       "\u001B[1m Trainable params: \u001B[0m\u001B[38;5;34m0\u001B[0m (0.00 B)\n"
      ],
      "text/html": [
       "<pre style=\"white-space:pre;overflow-x:auto;line-height:normal;font-family:Menlo,'DejaVu Sans Mono',consolas,'Courier New',monospace\"><span style=\"font-weight: bold\"> Trainable params: </span><span style=\"color: #00af00; text-decoration-color: #00af00\">0</span> (0.00 B)\n",
       "</pre>\n"
      ]
     },
     "metadata": {},
     "output_type": "display_data"
    },
    {
     "data": {
      "text/plain": [
       "\u001B[1m Non-trainable params: \u001B[0m\u001B[38;5;34m0\u001B[0m (0.00 B)\n"
      ],
      "text/html": [
       "<pre style=\"white-space:pre;overflow-x:auto;line-height:normal;font-family:Menlo,'DejaVu Sans Mono',consolas,'Courier New',monospace\"><span style=\"font-weight: bold\"> Non-trainable params: </span><span style=\"color: #00af00; text-decoration-color: #00af00\">0</span> (0.00 B)\n",
       "</pre>\n"
      ]
     },
     "metadata": {},
     "output_type": "display_data"
    }
   ],
   "execution_count": 212
  },
  {
   "metadata": {
    "ExecuteTime": {
     "end_time": "2025-05-17T20:57:50.326696Z",
     "start_time": "2025-05-17T20:57:48.448088Z"
    }
   },
   "cell_type": "code",
   "source": [
    "X = tokenizer.texts_to_sequences(xtr)\n",
    "X = pad_sequences(X, maxlen=125, padding='post')"
   ],
   "id": "6699b9bb692d262e",
   "outputs": [],
   "execution_count": 213
  },
  {
   "metadata": {
    "ExecuteTime": {
     "end_time": "2025-05-17T20:57:50.436522Z",
     "start_time": "2025-05-17T20:57:50.330711Z"
    }
   },
   "cell_type": "code",
   "source": [
    "XT = tokenizer.texts_to_sequences(xte)\n",
    "XT = pad_sequences(XT, maxlen=125, padding='post')"
   ],
   "id": "7fefcccc0897e549",
   "outputs": [],
   "execution_count": 214
  },
  {
   "metadata": {
    "ExecuteTime": {
     "end_time": "2025-05-17T20:57:50.450215Z",
     "start_time": "2025-05-17T20:57:50.446246Z"
    }
   },
   "cell_type": "code",
   "source": "print(X[0])",
   "id": "62451a0bc55a9fa0",
   "outputs": [
    {
     "name": "stdout",
     "output_type": "stream",
     "text": [
      "[ 1799 19137   348   688  2194  1337   254   793    98  1799  1546    29\n",
      "   468    55   714   820   489   580     0     0     0     0     0     0\n",
      "     0     0     0     0     0     0     0     0     0     0     0     0\n",
      "     0     0     0     0     0     0     0     0     0     0     0     0\n",
      "     0     0     0     0     0     0     0     0     0     0     0     0\n",
      "     0     0     0     0     0     0     0     0     0     0     0     0\n",
      "     0     0     0     0     0     0     0     0     0     0     0     0\n",
      "     0     0     0     0     0     0     0     0     0     0     0     0\n",
      "     0     0     0     0     0     0     0     0     0     0     0     0\n",
      "     0     0     0     0     0     0     0     0     0     0     0     0\n",
      "     0     0     0     0     0]\n"
     ]
    }
   ],
   "execution_count": 215
  },
  {
   "metadata": {
    "ExecuteTime": {
     "end_time": "2025-05-17T20:57:50.553360Z",
     "start_time": "2025-05-17T20:57:50.532001Z"
    }
   },
   "cell_type": "code",
   "source": [
    "le = LabelBinarizer()\n",
    "y_train1 = le.fit_transform(np.array(y_train).reshape(-1,1))\n",
    "y_train1 = np.array(y_train1)"
   ],
   "id": "7acfdcafc1b09554",
   "outputs": [],
   "execution_count": 216
  },
  {
   "metadata": {
    "ExecuteTime": {
     "end_time": "2025-05-17T20:57:50.599587Z",
     "start_time": "2025-05-17T20:57:50.593824Z"
    }
   },
   "cell_type": "code",
   "source": "y_test1 = le.transform(np.array(y_test).reshape(-1,1))",
   "id": "9dabd3553399f3a2",
   "outputs": [],
   "execution_count": 217
  },
  {
   "metadata": {
    "ExecuteTime": {
     "end_time": "2025-05-17T20:57:50.943434Z",
     "start_time": "2025-05-17T20:57:50.939807Z"
    }
   },
   "cell_type": "code",
   "source": "print(y_train1[:5])",
   "id": "730cd9ea40b76e7a",
   "outputs": [
    {
     "name": "stdout",
     "output_type": "stream",
     "text": [
      "[[1 0 0 0]\n",
      " [0 1 0 0]\n",
      " [1 0 0 0]\n",
      " [0 0 0 1]\n",
      " [1 0 0 0]]\n"
     ]
    }
   ],
   "execution_count": 218
  },
  {
   "metadata": {
    "ExecuteTime": {
     "end_time": "2025-05-17T21:06:16.810679Z",
     "start_time": "2025-05-17T20:57:53.414257Z"
    }
   },
   "cell_type": "code",
   "source": "lstm.fit(X, y_train1, epochs=3, batch_size=128, validation_split=0.1)",
   "id": "18ba92f1a4233b39",
   "outputs": [
    {
     "name": "stdout",
     "output_type": "stream",
     "text": [
      "Epoch 1/3\n",
      "\u001B[1m844/844\u001B[0m \u001B[32m━━━━━━━━━━━━━━━━━━━━\u001B[0m\u001B[37m\u001B[0m \u001B[1m171s\u001B[0m 197ms/step - f1_score: 0.8658 - loss: 0.3911 - val_f1_score: 0.9109 - val_loss: 0.2716\n",
      "Epoch 2/3\n",
      "\u001B[1m844/844\u001B[0m \u001B[32m━━━━━━━━━━━━━━━━━━━━\u001B[0m\u001B[37m\u001B[0m \u001B[1m164s\u001B[0m 195ms/step - f1_score: 0.9261 - loss: 0.2291 - val_f1_score: 0.9129 - val_loss: 0.2797\n",
      "Epoch 3/3\n",
      "\u001B[1m844/844\u001B[0m \u001B[32m━━━━━━━━━━━━━━━━━━━━\u001B[0m\u001B[37m\u001B[0m \u001B[1m168s\u001B[0m 199ms/step - f1_score: 0.9401 - loss: 0.1813 - val_f1_score: 0.9103 - val_loss: 0.3027\n"
     ]
    },
    {
     "data": {
      "text/plain": [
       "<keras.src.callbacks.history.History at 0x1c361cb42c0>"
      ]
     },
     "execution_count": 219,
     "metadata": {},
     "output_type": "execute_result"
    }
   ],
   "execution_count": 219
  },
  {
   "metadata": {
    "ExecuteTime": {
     "end_time": "2025-05-17T21:06:27.324819Z",
     "start_time": "2025-05-17T21:06:22.124573Z"
    }
   },
   "cell_type": "code",
   "source": "y_pred = lstm.predict(XT)",
   "id": "778d8aebe83449c3",
   "outputs": [
    {
     "name": "stdout",
     "output_type": "stream",
     "text": [
      "\u001B[1m238/238\u001B[0m \u001B[32m━━━━━━━━━━━━━━━━━━━━\u001B[0m\u001B[37m\u001B[0m \u001B[1m5s\u001B[0m 21ms/step\n"
     ]
    }
   ],
   "execution_count": 220
  },
  {
   "metadata": {
    "ExecuteTime": {
     "end_time": "2025-05-17T21:06:27.335838Z",
     "start_time": "2025-05-17T21:06:27.331839Z"
    }
   },
   "cell_type": "code",
   "source": [
    "y_predtr = le.inverse_transform(y_pred)\n",
    "print(y_predtr.shape)"
   ],
   "id": "8fdfe50a8003a0b4",
   "outputs": [
    {
     "name": "stdout",
     "output_type": "stream",
     "text": [
      "(7600,)\n"
     ]
    }
   ],
   "execution_count": 221
  },
  {
   "cell_type": "code",
   "id": "initial_id",
   "metadata": {
    "collapsed": true,
    "ExecuteTime": {
     "end_time": "2025-05-17T21:06:27.429851Z",
     "start_time": "2025-05-17T21:06:27.421247Z"
    }
   },
   "source": [
    "f1 = f1_score(y_predtr, y_test, average='macro')\n",
    "print(\"F1-score:\", f1)"
   ],
   "outputs": [
    {
     "name": "stdout",
     "output_type": "stream",
     "text": [
      "F1-score: 0.9075636728452149\n"
     ]
    }
   ],
   "execution_count": 222
  },
  {
   "metadata": {
    "ExecuteTime": {
     "end_time": "2025-05-17T20:57:09.354763Z",
     "start_time": "2025-05-17T20:57:09.351282Z"
    }
   },
   "cell_type": "code",
   "source": [
    "# Без до обучения - [883, 888] 1 эпоха, 3 эпохи\n",
    "# С дообучением - [907, 909] 3 эпохи, 1 эпоха"
   ],
   "id": "1181b14702ec2060",
   "outputs": [],
   "execution_count": 211
  },
  {
   "metadata": {},
   "cell_type": "code",
   "outputs": [],
   "execution_count": null,
   "source": "",
   "id": "15db354bdba6a0ee"
  }
 ],
 "metadata": {
  "kernelspec": {
   "display_name": "Python 3",
   "language": "python",
   "name": "python3"
  },
  "language_info": {
   "codemirror_mode": {
    "name": "ipython",
    "version": 2
   },
   "file_extension": ".py",
   "mimetype": "text/x-python",
   "name": "python",
   "nbconvert_exporter": "python",
   "pygments_lexer": "ipython2",
   "version": "2.7.6"
  }
 },
 "nbformat": 4,
 "nbformat_minor": 5
}
