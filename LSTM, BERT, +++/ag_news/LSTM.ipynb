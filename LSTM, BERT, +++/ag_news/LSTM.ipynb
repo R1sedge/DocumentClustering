{
 "cells": [
  {
   "metadata": {
    "ExecuteTime": {
     "end_time": "2025-05-17T18:32:47.568348Z",
     "start_time": "2025-05-17T18:32:39.338728Z"
    }
   },
   "cell_type": "code",
   "source": [
    "import numpy as np\n",
    "import pandas as pd\n",
    "import tensorflow as tf\n",
    "from keras.src.layers import Softmax\n",
    "from tensorflow.keras.preprocessing.sequence import pad_sequences\n",
    "from tensorflow.keras.preprocessing.text import Tokenizer\n",
    "from tensorflow.keras.models import Sequential\n",
    "from tensorflow.keras.layers import Embedding, LSTM, Dense, SpatialDropout1D\n",
    "from tensorflow.keras.optimizers import Adam\n",
    "from tensorflow.keras.metrics import F1Score\n",
    "from sklearn.model_selection import train_test_split\n",
    "from sklearn.metrics import f1_score\n",
    "from sklearn.preprocessing import LabelEncoder, OneHotEncoder, LabelBinarizer\n",
    "\n",
    "import nltk\n",
    "import string\n",
    "from datasets import load_dataset\n",
    "import re\n",
    "from nltk.corpus import stopwords\n",
    "from nltk import pos_tag\n",
    "import mlflow\n",
    "from sklearnex import patch_sklearn\n",
    "from warnings import filterwarnings\n",
    "patch_sklearn()"
   ],
   "id": "f324388cb9d4e53f",
   "outputs": [
    {
     "name": "stderr",
     "output_type": "stream",
     "text": [
      "Extension for Scikit-learn* enabled (https://github.com/uxlfoundation/scikit-learn-intelex)\n"
     ]
    }
   ],
   "execution_count": 1
  },
  {
   "metadata": {
    "ExecuteTime": {
     "end_time": "2025-05-17T18:32:47.753372Z",
     "start_time": "2025-05-17T18:32:47.750350Z"
    }
   },
   "cell_type": "code",
   "source": "filterwarnings(\"ignore\")",
   "id": "717016dc67ead65a",
   "outputs": [],
   "execution_count": 2
  },
  {
   "metadata": {
    "ExecuteTime": {
     "end_time": "2025-05-17T18:33:06.396176Z",
     "start_time": "2025-05-17T18:32:47.760367Z"
    }
   },
   "cell_type": "code",
   "source": [
    "dataset = \"ag_news\"\n",
    "data = load_dataset(dataset)\n",
    "stop_words = set(stopwords.words(\"english\"))"
   ],
   "id": "d1b80413abf3d305",
   "outputs": [],
   "execution_count": 3
  },
  {
   "metadata": {
    "ExecuteTime": {
     "end_time": "2025-05-17T18:33:06.406784Z",
     "start_time": "2025-05-17T18:33:06.403163Z"
    }
   },
   "cell_type": "code",
   "source": [
    "def base_preprocess(text):\n",
    "    tokens = text.lower()\n",
    "\n",
    "    # Удаление спец слов\n",
    "    if dataset == 'ag_news':\n",
    "        special_words = ['reuters', 'afp', 'ap', 'usatoday.com', 'forbes.com', 'target=/stocks/quickinfo/fullquote\"' ]\n",
    "        for word in special_words:\n",
    "            tokens = tokens.replace(word, '')\n",
    "        \n",
    "        pattern = r'[&lt][^<>]*&gt'\n",
    "        tokens = re.sub(pattern, '', tokens)\n",
    "    elif dataset == 'imdb':\n",
    "        special_words = ['<br /><br />'] \n",
    "        for word in special_words:\n",
    "            tokens = tokens.replace(word, '')\n",
    "    \n",
    "    # Удаление пунктуации\n",
    "    tokens = ''.join(i if i not in set(string.punctuation)  else ' ' for i in tokens)\n",
    "    \n",
    "    return tokens"
   ],
   "id": "aeab1008c7fb25bb",
   "outputs": [],
   "execution_count": 4
  },
  {
   "metadata": {
    "ExecuteTime": {
     "end_time": "2025-05-17T18:33:06.562797Z",
     "start_time": "2025-05-17T18:33:06.414723Z"
    }
   },
   "cell_type": "code",
   "source": [
    "txt1 = base_preprocess(data['train']['text'][0])\n",
    "print(txt1)"
   ],
   "id": "78b8e66fb5c0860c",
   "outputs": [
    {
     "name": "stdout",
     "output_type": "stream",
     "text": [
      "wall st  bears claw back into the black       short sellers  wall street s dwindling band of ultra cynics  are seeing green again \n"
     ]
    }
   ],
   "execution_count": 5
  },
  {
   "metadata": {
    "ExecuteTime": {
     "end_time": "2025-05-17T18:33:06.586503Z",
     "start_time": "2025-05-17T18:33:06.579506Z"
    }
   },
   "cell_type": "code",
   "source": [
    "def different_preprocess(tokens, preprocess_type, words_class):\n",
    "    tokenizer = nltk.tokenize.TreebankWordTokenizer()\n",
    "    tokens = tokenizer.tokenize(tokens)\n",
    "    \n",
    "    # Обработка стоп-слов\n",
    "    tokens = [token for token in tokens if token not in stop_words]\n",
    "    \n",
    "    # Обработка частей речи\n",
    "    if words_class != 'ALL':\n",
    "        tokens = pos_tag(tokens)\n",
    "        if words_class == 'N':\n",
    "            tokens = [word for word, tag in tokens if tag.startswith('N')]\n",
    "        elif words_class == 'NJ':\n",
    "            tokens = [word for word, tag in tokens if tag.startswith('N') or tag.startswith('J')]\n",
    "        elif words_class == 'NJV':\n",
    "            tokens = [word for word, tag in tokens if tag.startswith('N') or tag.startswith('J') or tag.startswith('V')]\n",
    "    \n",
    "    # Обработка слов\n",
    "    if preprocess_type == 'лемматизация':\n",
    "        lemmatizer = nltk.WordNetLemmatizer()\n",
    "        tokens = [lemmatizer.lemmatize(token) for token in tokens]\n",
    "    elif preprocess_type == 'стемминг':\n",
    "        stemmer = nltk.PorterStemmer()\n",
    "        tokens = [stemmer.stem(token) for token in tokens]\n",
    "    \n",
    "    return ' '.join(tokens)  "
   ],
   "id": "1574ac3174ec2595",
   "outputs": [],
   "execution_count": 6
  },
  {
   "metadata": {
    "ExecuteTime": {
     "end_time": "2025-05-17T18:33:08.891656Z",
     "start_time": "2025-05-17T18:33:06.596806Z"
    }
   },
   "cell_type": "code",
   "source": [
    "txt2 = different_preprocess(txt1,'лемматизация', 'ALL')\n",
    "print(txt2)"
   ],
   "id": "fbbb7289e9324e21",
   "outputs": [
    {
     "name": "stdout",
     "output_type": "stream",
     "text": [
      "wall st bear claw back black short seller wall street dwindling band ultra cynic seeing green\n"
     ]
    }
   ],
   "execution_count": 7
  },
  {
   "metadata": {
    "ExecuteTime": {
     "end_time": "2025-05-17T18:33:46.737009Z",
     "start_time": "2025-05-17T18:33:08.924679Z"
    }
   },
   "cell_type": "code",
   "source": [
    "dataset1 = data \n",
    "preprocess_type = 'лемматизация'\n",
    "words_class = 'ALL'\n",
    "\n",
    "# Подготовка данных\n",
    "shuffled_train = data[\"train\"].shuffle(seed=42)\n",
    "x_train = shuffled_train['text']\n",
    "y_train = shuffled_train['label']\n",
    "    \n",
    "x_test = dataset1['test']['text']\n",
    "y_test = dataset1['test']['label']\n",
    "    \n",
    "# Базовая обработка\n",
    "xtr = [base_preprocess(text) for text in x_train]\n",
    "xte = [base_preprocess(text) for text in x_test]\n",
    "    \n",
    "# Части речи + приведение\n",
    "xtr = [different_preprocess(tokens, preprocess_type, words_class) for tokens in xtr]\n",
    "xte = [different_preprocess(tokens, preprocess_type, words_class) for tokens in xte]"
   ],
   "id": "58576e866ce88aab",
   "outputs": [],
   "execution_count": 10
  },
  {
   "metadata": {
    "ExecuteTime": {
     "end_time": "2025-05-17T18:33:46.854010Z",
     "start_time": "2025-05-17T18:33:46.744430Z"
    }
   },
   "cell_type": "code",
   "source": [
    "xtr = np.array(xtr)\n",
    "xte = np.array(xte)"
   ],
   "id": "76034f84b5b708ea",
   "outputs": [],
   "execution_count": 11
  },
  {
   "metadata": {
    "ExecuteTime": {
     "end_time": "2025-05-17T18:33:46.867581Z",
     "start_time": "2025-05-17T18:33:46.863579Z"
    }
   },
   "cell_type": "code",
   "source": "print(xtr[0])",
   "id": "8489ca8229ccde74",
   "outputs": [
    {
     "name": "stdout",
     "output_type": "stream",
     "text": [
      "bangladesh paralysed strike opposition activist brought many town city bangladesh halt day 18 people died explosion political rally\n"
     ]
    }
   ],
   "execution_count": 12
  },
  {
   "metadata": {
    "ExecuteTime": {
     "end_time": "2025-05-17T18:33:51.392206Z",
     "start_time": "2025-05-17T18:33:46.890737Z"
    }
   },
   "cell_type": "code",
   "source": [
    "tokenizer = Tokenizer()\n",
    "tokenizer.fit_on_texts(xtr)\n",
    "x = tokenizer.texts_to_sequences(xtr)\n",
    "x = pad_sequences(x, maxlen=125)\n",
    "\n",
    "print(x.shape)"
   ],
   "id": "8642fef4fbe57bb2",
   "outputs": [
    {
     "name": "stdout",
     "output_type": "stream",
     "text": [
      "(120000, 125)\n"
     ]
    }
   ],
   "execution_count": 13
  },
  {
   "metadata": {
    "ExecuteTime": {
     "end_time": "2025-05-17T18:33:51.526373Z",
     "start_time": "2025-05-17T18:33:51.402931Z"
    }
   },
   "cell_type": "code",
   "source": [
    "x_test = tokenizer.texts_to_sequences(xte)\n",
    "x_test = pad_sequences(x_test, maxlen=125)"
   ],
   "id": "9f35cb624009ad60",
   "outputs": [],
   "execution_count": 14
  },
  {
   "metadata": {
    "ExecuteTime": {
     "end_time": "2025-05-17T18:33:51.543587Z",
     "start_time": "2025-05-17T18:33:51.539373Z"
    }
   },
   "cell_type": "code",
   "source": "print(x[1])",
   "id": "77d0cc2cc4ae43fc",
   "outputs": [
    {
     "name": "stdout",
     "output_type": "stream",
     "text": [
      "[    0     0     0     0     0     0     0     0     0     0     0     0\n",
      "     0     0     0     0     0     0     0     0     0     0     0     0\n",
      "     0     0     0     0     0     0     0     0     0     0     0     0\n",
      "     0     0     0     0     0     0     0     0     0     0     0     0\n",
      "     0     0     0     0     0     0     0     0     0     0     0     0\n",
      "     0     0     0     0     0     0     0     0     0     0     0     0\n",
      "     0     0     0     0     0     0     0     0     0     0     0     0\n",
      "     0     0     0     0     0     0     0     0     0     0     0     0\n",
      "     0     0     0     0     0     0     0     0     0     0     0     0\n",
      "     0 38708  4215  1887   153  2116  4479  1169   150  5306   358  5048\n",
      "   341 31256  4036  4215   122]\n"
     ]
    }
   ],
   "execution_count": 15
  },
  {
   "metadata": {
    "ExecuteTime": {
     "end_time": "2025-05-17T18:33:51.582394Z",
     "start_time": "2025-05-17T18:33:51.577117Z"
    }
   },
   "cell_type": "code",
   "source": "print(y_train[:100])",
   "id": "5ace8bef72435f97",
   "outputs": [
    {
     "name": "stdout",
     "output_type": "stream",
     "text": [
      "[0, 1, 0, 3, 0, 3, 0, 3, 3, 2, 1, 2, 3, 0, 2, 1, 1, 2, 2, 3, 3, 2, 3, 2, 0, 1, 3, 2, 1, 1, 3, 1, 0, 1, 2, 0, 0, 0, 2, 2, 0, 3, 1, 1, 2, 0, 0, 0, 0, 1, 2, 1, 0, 3, 1, 1, 2, 2, 3, 2, 3, 3, 0, 0, 1, 3, 1, 1, 1, 2, 0, 2, 2, 3, 2, 1, 1, 3, 1, 0, 0, 0, 2, 0, 1, 2, 0, 3, 1, 0, 1, 0, 3, 3, 2, 1, 2, 1, 2, 1]\n"
     ]
    }
   ],
   "execution_count": 16
  },
  {
   "metadata": {
    "ExecuteTime": {
     "end_time": "2025-05-17T18:33:51.642876Z",
     "start_time": "2025-05-17T18:33:51.617921Z"
    }
   },
   "cell_type": "code",
   "source": [
    "le = LabelBinarizer()\n",
    "y_train2 = le.fit_transform(np.array(y_train).reshape(-1,1))\n",
    "y_train2 = np.array(y_train2)"
   ],
   "id": "7acfdcafc1b09554",
   "outputs": [],
   "execution_count": 17
  },
  {
   "metadata": {
    "ExecuteTime": {
     "end_time": "2025-05-17T18:33:51.659896Z",
     "start_time": "2025-05-17T18:33:51.654641Z"
    }
   },
   "cell_type": "code",
   "source": "y_test2 = le.transform(np.array(y_test).reshape(-1,1))",
   "id": "9dabd3553399f3a2",
   "outputs": [],
   "execution_count": 18
  },
  {
   "metadata": {
    "ExecuteTime": {
     "end_time": "2025-05-17T18:33:51.677450Z",
     "start_time": "2025-05-17T18:33:51.672445Z"
    }
   },
   "cell_type": "code",
   "source": "print(y_train2[:5])",
   "id": "730cd9ea40b76e7a",
   "outputs": [
    {
     "name": "stdout",
     "output_type": "stream",
     "text": [
      "[[1 0 0 0]\n",
      " [0 1 0 0]\n",
      " [1 0 0 0]\n",
      " [0 0 0 1]\n",
      " [1 0 0 0]]\n"
     ]
    }
   ],
   "execution_count": 19
  },
  {
   "metadata": {
    "ExecuteTime": {
     "end_time": "2025-05-17T18:37:27.138115Z",
     "start_time": "2025-05-17T18:37:27.114120Z"
    }
   },
   "cell_type": "code",
   "source": [
    "# Build the LSTM model\n",
    "model = Sequential([\n",
    "    Embedding(len(tokenizer.word_index) + 1, output_dim = 100, input_length=125),\n",
    "    SpatialDropout1D(0.2),\n",
    "    LSTM(128, dropout=0.2, recurrent_dropout=0.2),\n",
    "    Dense(4, activation='softmax'),\n",
    "])\n",
    "\n",
    "model.compile(loss='categorical_crossentropy', optimizer=Adam(learning_rate=0.01),\n",
    "metrics=[F1Score(average='macro')])\n",
    "model.summary()"
   ],
   "id": "9125ff4c1e72a48a",
   "outputs": [
    {
     "data": {
      "text/plain": [
       "\u001B[1mModel: \"sequential_1\"\u001B[0m\n"
      ],
      "text/html": [
       "<pre style=\"white-space:pre;overflow-x:auto;line-height:normal;font-family:Menlo,'DejaVu Sans Mono',consolas,'Courier New',monospace\"><span style=\"font-weight: bold\">Model: \"sequential_1\"</span>\n",
       "</pre>\n"
      ]
     },
     "metadata": {},
     "output_type": "display_data"
    },
    {
     "data": {
      "text/plain": [
       "┏━━━━━━━━━━━━━━━━━━━━━━━━━━━━━━━━━┳━━━━━━━━━━━━━━━━━━━━━━━━┳━━━━━━━━━━━━━━━┓\n",
       "┃\u001B[1m \u001B[0m\u001B[1mLayer (type)                   \u001B[0m\u001B[1m \u001B[0m┃\u001B[1m \u001B[0m\u001B[1mOutput Shape          \u001B[0m\u001B[1m \u001B[0m┃\u001B[1m \u001B[0m\u001B[1m      Param #\u001B[0m\u001B[1m \u001B[0m┃\n",
       "┡━━━━━━━━━━━━━━━━━━━━━━━━━━━━━━━━━╇━━━━━━━━━━━━━━━━━━━━━━━━╇━━━━━━━━━━━━━━━┩\n",
       "│ embedding_1 (\u001B[38;5;33mEmbedding\u001B[0m)         │ ?                      │   \u001B[38;5;34m0\u001B[0m (unbuilt) │\n",
       "├─────────────────────────────────┼────────────────────────┼───────────────┤\n",
       "│ spatial_dropout1d_1             │ ?                      │             \u001B[38;5;34m0\u001B[0m │\n",
       "│ (\u001B[38;5;33mSpatialDropout1D\u001B[0m)              │                        │               │\n",
       "├─────────────────────────────────┼────────────────────────┼───────────────┤\n",
       "│ lstm_1 (\u001B[38;5;33mLSTM\u001B[0m)                   │ ?                      │   \u001B[38;5;34m0\u001B[0m (unbuilt) │\n",
       "├─────────────────────────────────┼────────────────────────┼───────────────┤\n",
       "│ dense_1 (\u001B[38;5;33mDense\u001B[0m)                 │ ?                      │   \u001B[38;5;34m0\u001B[0m (unbuilt) │\n",
       "└─────────────────────────────────┴────────────────────────┴───────────────┘\n"
      ],
      "text/html": [
       "<pre style=\"white-space:pre;overflow-x:auto;line-height:normal;font-family:Menlo,'DejaVu Sans Mono',consolas,'Courier New',monospace\">┏━━━━━━━━━━━━━━━━━━━━━━━━━━━━━━━━━┳━━━━━━━━━━━━━━━━━━━━━━━━┳━━━━━━━━━━━━━━━┓\n",
       "┃<span style=\"font-weight: bold\"> Layer (type)                    </span>┃<span style=\"font-weight: bold\"> Output Shape           </span>┃<span style=\"font-weight: bold\">       Param # </span>┃\n",
       "┡━━━━━━━━━━━━━━━━━━━━━━━━━━━━━━━━━╇━━━━━━━━━━━━━━━━━━━━━━━━╇━━━━━━━━━━━━━━━┩\n",
       "│ embedding_1 (<span style=\"color: #0087ff; text-decoration-color: #0087ff\">Embedding</span>)         │ ?                      │   <span style=\"color: #00af00; text-decoration-color: #00af00\">0</span> (unbuilt) │\n",
       "├─────────────────────────────────┼────────────────────────┼───────────────┤\n",
       "│ spatial_dropout1d_1             │ ?                      │             <span style=\"color: #00af00; text-decoration-color: #00af00\">0</span> │\n",
       "│ (<span style=\"color: #0087ff; text-decoration-color: #0087ff\">SpatialDropout1D</span>)              │                        │               │\n",
       "├─────────────────────────────────┼────────────────────────┼───────────────┤\n",
       "│ lstm_1 (<span style=\"color: #0087ff; text-decoration-color: #0087ff\">LSTM</span>)                   │ ?                      │   <span style=\"color: #00af00; text-decoration-color: #00af00\">0</span> (unbuilt) │\n",
       "├─────────────────────────────────┼────────────────────────┼───────────────┤\n",
       "│ dense_1 (<span style=\"color: #0087ff; text-decoration-color: #0087ff\">Dense</span>)                 │ ?                      │   <span style=\"color: #00af00; text-decoration-color: #00af00\">0</span> (unbuilt) │\n",
       "└─────────────────────────────────┴────────────────────────┴───────────────┘\n",
       "</pre>\n"
      ]
     },
     "metadata": {},
     "output_type": "display_data"
    },
    {
     "data": {
      "text/plain": [
       "\u001B[1m Total params: \u001B[0m\u001B[38;5;34m0\u001B[0m (0.00 B)\n"
      ],
      "text/html": [
       "<pre style=\"white-space:pre;overflow-x:auto;line-height:normal;font-family:Menlo,'DejaVu Sans Mono',consolas,'Courier New',monospace\"><span style=\"font-weight: bold\"> Total params: </span><span style=\"color: #00af00; text-decoration-color: #00af00\">0</span> (0.00 B)\n",
       "</pre>\n"
      ]
     },
     "metadata": {},
     "output_type": "display_data"
    },
    {
     "data": {
      "text/plain": [
       "\u001B[1m Trainable params: \u001B[0m\u001B[38;5;34m0\u001B[0m (0.00 B)\n"
      ],
      "text/html": [
       "<pre style=\"white-space:pre;overflow-x:auto;line-height:normal;font-family:Menlo,'DejaVu Sans Mono',consolas,'Courier New',monospace\"><span style=\"font-weight: bold\"> Trainable params: </span><span style=\"color: #00af00; text-decoration-color: #00af00\">0</span> (0.00 B)\n",
       "</pre>\n"
      ]
     },
     "metadata": {},
     "output_type": "display_data"
    },
    {
     "data": {
      "text/plain": [
       "\u001B[1m Non-trainable params: \u001B[0m\u001B[38;5;34m0\u001B[0m (0.00 B)\n"
      ],
      "text/html": [
       "<pre style=\"white-space:pre;overflow-x:auto;line-height:normal;font-family:Menlo,'DejaVu Sans Mono',consolas,'Courier New',monospace\"><span style=\"font-weight: bold\"> Non-trainable params: </span><span style=\"color: #00af00; text-decoration-color: #00af00\">0</span> (0.00 B)\n",
       "</pre>\n"
      ]
     },
     "metadata": {},
     "output_type": "display_data"
    }
   ],
   "execution_count": 26
  },
  {
   "metadata": {
    "ExecuteTime": {
     "end_time": "2025-05-17T18:45:41.476284Z",
     "start_time": "2025-05-17T18:37:27.706155Z"
    }
   },
   "cell_type": "code",
   "source": [
    "# Train the model\n",
    "model.fit(x, y_train2, epochs=3, batch_size=128, validation_split=0.1)"
   ],
   "id": "18ba92f1a4233b39",
   "outputs": [
    {
     "name": "stdout",
     "output_type": "stream",
     "text": [
      "Epoch 1/3\n",
      "\u001B[1m844/844\u001B[0m \u001B[32m━━━━━━━━━━━━━━━━━━━━\u001B[0m\u001B[37m\u001B[0m \u001B[1m168s\u001B[0m 197ms/step - f1_score: 0.8393 - loss: 0.4510 - val_f1_score: 0.9151 - val_loss: 0.2740\n",
      "Epoch 2/3\n",
      "\u001B[1m844/844\u001B[0m \u001B[32m━━━━━━━━━━━━━━━━━━━━\u001B[0m\u001B[37m\u001B[0m \u001B[1m164s\u001B[0m 194ms/step - f1_score: 0.9358 - loss: 0.1977 - val_f1_score: 0.9134 - val_loss: 0.2781\n",
      "Epoch 3/3\n",
      "\u001B[1m844/844\u001B[0m \u001B[32m━━━━━━━━━━━━━━━━━━━━\u001B[0m\u001B[37m\u001B[0m \u001B[1m161s\u001B[0m 191ms/step - f1_score: 0.9476 - loss: 0.1532 - val_f1_score: 0.9023 - val_loss: 0.3287\n"
     ]
    },
    {
     "data": {
      "text/plain": [
       "<keras.src.callbacks.history.History at 0x11a1b2dd460>"
      ]
     },
     "execution_count": 27,
     "metadata": {},
     "output_type": "execute_result"
    }
   ],
   "execution_count": 27
  },
  {
   "metadata": {
    "ExecuteTime": {
     "end_time": "2025-05-17T18:45:46.507950Z",
     "start_time": "2025-05-17T18:45:41.550276Z"
    }
   },
   "cell_type": "code",
   "source": [
    "#Step 4: Evaluate the Model with F1-Score\n",
    "# Predict on test data\n",
    "y_pred = model.predict(x_test)"
   ],
   "id": "778d8aebe83449c3",
   "outputs": [
    {
     "name": "stdout",
     "output_type": "stream",
     "text": [
      "\u001B[1m238/238\u001B[0m \u001B[32m━━━━━━━━━━━━━━━━━━━━\u001B[0m\u001B[37m\u001B[0m \u001B[1m5s\u001B[0m 19ms/step\n"
     ]
    }
   ],
   "execution_count": 28
  },
  {
   "metadata": {
    "ExecuteTime": {
     "end_time": "2025-05-17T18:45:46.523691Z",
     "start_time": "2025-05-17T18:45:46.520040Z"
    }
   },
   "cell_type": "code",
   "source": [
    "y_predtr = le.inverse_transform(y_pred)\n",
    "print(y_predtr.shape)"
   ],
   "id": "8fdfe50a8003a0b4",
   "outputs": [
    {
     "name": "stdout",
     "output_type": "stream",
     "text": [
      "(7600,)\n"
     ]
    }
   ],
   "execution_count": 29
  },
  {
   "cell_type": "code",
   "id": "initial_id",
   "metadata": {
    "collapsed": true,
    "ExecuteTime": {
     "end_time": "2025-05-17T18:45:46.611772Z",
     "start_time": "2025-05-17T18:45:46.603749Z"
    }
   },
   "source": [
    "# Calculate F1 Score\n",
    "f1 = f1_score(y_predtr, y_test, average='macro')\n",
    "print(\"F1-score:\", f1)"
   ],
   "outputs": [
    {
     "name": "stdout",
     "output_type": "stream",
     "text": [
      "F1-score: 0.9061861295149627\n"
     ]
    }
   ],
   "execution_count": 30
  },
  {
   "metadata": {
    "ExecuteTime": {
     "end_time": "2025-05-17T18:45:46.705369Z",
     "start_time": "2025-05-17T18:45:46.699787Z"
    }
   },
   "cell_type": "code",
   "source": "[901, 905, 907, 908, 912] # 912 после перемешивания ",
   "id": "1181b14702ec2060",
   "outputs": [
    {
     "data": {
      "text/plain": [
       "[901, 905, 907, 908, 912]"
      ]
     },
     "execution_count": 31,
     "metadata": {},
     "output_type": "execute_result"
    }
   ],
   "execution_count": 31
  },
  {
   "metadata": {},
   "cell_type": "code",
   "outputs": [],
   "execution_count": null,
   "source": "",
   "id": "2913520dc9c57408"
  }
 ],
 "metadata": {
  "kernelspec": {
   "display_name": "Python 3",
   "language": "python",
   "name": "python3"
  },
  "language_info": {
   "codemirror_mode": {
    "name": "ipython",
    "version": 2
   },
   "file_extension": ".py",
   "mimetype": "text/x-python",
   "name": "python",
   "nbconvert_exporter": "python",
   "pygments_lexer": "ipython2",
   "version": "2.7.6"
  }
 },
 "nbformat": 4,
 "nbformat_minor": 5
}
