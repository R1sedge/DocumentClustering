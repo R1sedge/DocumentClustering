{
 "cells": [
  {
   "cell_type": "code",
   "id": "initial_id",
   "metadata": {
    "collapsed": true,
    "ExecuteTime": {
     "end_time": "2025-04-22T07:03:50.359699Z",
     "start_time": "2025-04-22T07:03:37.497730Z"
    }
   },
   "source": [
    "from datasets import load_dataset\n",
    "import numpy as np\n",
    "import pandas as pd\n",
    "from sklearn.model_selection import train_test_split\n",
    "from sklearn.feature_extraction.text import TfidfVectorizer\n",
    "from sklearn.linear_model import LogisticRegression\n",
    "from sklearn.metrics import classification_report, f1_score\n",
    "from gensim.models import Word2Vec, FastText\n",
    "from tensorflow.keras.models import Sequential\n",
    "from tensorflow.keras.layers import LSTM, Dense, Embedding, Input, Lambda\n",
    "from tensorflow.keras.preprocessing.text import Tokenizer\n",
    "from tensorflow.keras.preprocessing.sequence import pad_sequences\n",
    "import tensorflow as tf\n",
    "import tensorflow_hub as hub\n",
    "#import tensorflow_text as text\n",
    "import matplotlib.pyplot as plt\n",
    "\n",
    "# Загрузка AG News\n",
    "dataset = load_dataset(\"ag_news\")\n",
    "train_df = pd.DataFrame(dataset[\"train\"])\n",
    "test_df = pd.DataFrame(dataset[\"test\"])\n",
    "\n",
    "# Тексты и метки (классы 0-3)\n",
    "X_train = train_df[\"text\"].values\n",
    "y_train = train_df[\"label\"].values\n",
    "X_test = test_df[\"text\"].values\n",
    "y_test = test_df[\"label\"].values"
   ],
   "outputs": [],
   "execution_count": 25
  },
  {
   "metadata": {
    "ExecuteTime": {
     "end_time": "2025-04-22T05:59:49.978980Z",
     "start_time": "2025-04-22T05:59:42.929854Z"
    }
   },
   "cell_type": "code",
   "source": [
    "# Векторизация текстов\n",
    "tfidf = TfidfVectorizer(max_features=15000, stop_words=\"english\")\n",
    "X_train_tfidf = tfidf.fit_transform(X_train)\n",
    "X_test_tfidf = tfidf.transform(X_test)\n",
    "\n",
    "# Обучение модели\n",
    "lr = LogisticRegression(max_iter=500, n_jobs=-1)\n",
    "lr.fit(X_train_tfidf, y_train)\n",
    "\n",
    "# Оценка\n",
    "y_pred_tfidf = lr.predict(X_test_tfidf)\n",
    "print(\"TF-IDF + Logistic Regression:\")\n",
    "print(classification_report(y_test, y_pred_tfidf, target_names=['World', 'Sports', 'Business', 'Sci/Tech']))"
   ],
   "id": "8b09efbd49101d2f",
   "outputs": [
    {
     "name": "stdout",
     "output_type": "stream",
     "text": [
      "TF-IDF + Logistic Regression:\n",
      "              precision    recall  f1-score   support\n",
      "\n",
      "       World       0.93      0.90      0.92      1900\n",
      "      Sports       0.96      0.98      0.97      1900\n",
      "    Business       0.88      0.88      0.88      1900\n",
      "    Sci/Tech       0.89      0.89      0.89      1900\n",
      "\n",
      "    accuracy                           0.91      7600\n",
      "   macro avg       0.91      0.91      0.91      7600\n",
      "weighted avg       0.91      0.91      0.91      7600\n",
      "\n"
     ]
    }
   ],
   "execution_count": 20
  },
  {
   "metadata": {
    "ExecuteTime": {
     "end_time": "2025-04-22T05:59:50.057139Z",
     "start_time": "2025-04-22T05:59:50.050543Z"
    }
   },
   "cell_type": "code",
   "source": [
    "score = f1_score(y_test, y_pred_tfidf, average='macro')\n",
    "print(f\"F1_macroScore = {score}\")"
   ],
   "id": "46f27c6b0c63b8a3",
   "outputs": [
    {
     "name": "stdout",
     "output_type": "stream",
     "text": [
      "F1_macroScore = 0.9144246384732445\n"
     ]
    }
   ],
   "execution_count": 21
  },
  {
   "metadata": {
    "ExecuteTime": {
     "end_time": "2025-04-22T07:24:49.599241Z",
     "start_time": "2025-04-22T07:18:01.807857Z"
    }
   },
   "cell_type": "code",
   "source": [
    "# Токенизация текстов\n",
    "tokenizer = Tokenizer()\n",
    "tokenizer.fit_on_texts(X_train)\n",
    "X_train_seq = tokenizer.texts_to_sequences(X_train)\n",
    "X_test_seq = tokenizer.texts_to_sequences(X_test)\n",
    "\n",
    "# Паддинг до одинаковой длины\n",
    "max_len = 100\n",
    "X_train_pad = pad_sequences(X_train_seq, maxlen=max_len)\n",
    "X_test_pad = pad_sequences(X_test_seq, maxlen=max_len)\n",
    "\n",
    "# Обучение Word2Vec\n",
    "sentences = [text.split() for text in X_train]\n",
    "w2v_model = Word2Vec(sentences, vector_size=100, window=5, min_count=3, workers=4)\n",
    "\n",
    "# Матрица эмбеддингов\n",
    "embedding_matrix = np.zeros((len(tokenizer.word_index) + 1, 100))\n",
    "for word, i in tokenizer.word_index.items():\n",
    "    if word in w2v_model.wv:\n",
    "        embedding_matrix[i] = w2v_model.wv[word]\n",
    "\n",
    "# Модель LSTM\n",
    "model = Sequential([\n",
    "    Embedding(input_dim=len(tokenizer.word_index) + 1,\n",
    "              output_dim=100,\n",
    "              weights=[embedding_matrix],\n",
    "              trainable=False),\n",
    "    LSTM(128),\n",
    "    Dense(4, activation=\"softmax\")\n",
    "])\n",
    "model.compile(optimizer=\"adam\", loss=\"sparse_categorical_crossentropy\", metrics=[\"accuracy\"])\n",
    "\n",
    "# Обучение\n",
    "history = model.fit(X_train_pad, y_train, epochs=5, batch_size=64, validation_split=0.1)\n",
    "\n",
    "# Оценка\n",
    "y_pred_w2v = model.predict(X_test_pad).argmax(axis=1)\n",
    "print(\"\\nWord2Vec + LSTM:\")\n",
    "print(classification_report(y_test, y_pred_w2v, target_names=['World', 'Sports', 'Business', 'Sci/Tech']))"
   ],
   "id": "dda957335b3612eb",
   "outputs": [
    {
     "name": "stdout",
     "output_type": "stream",
     "text": [
      "Epoch 1/5\n",
      "\u001B[1m1688/1688\u001B[0m \u001B[32m━━━━━━━━━━━━━━━━━━━━\u001B[0m\u001B[37m\u001B[0m \u001B[1m79s\u001B[0m 46ms/step - accuracy: 0.8222 - loss: 0.5013 - val_accuracy: 0.8602 - val_loss: 0.3833\n",
      "Epoch 2/5\n",
      "\u001B[1m1688/1688\u001B[0m \u001B[32m━━━━━━━━━━━━━━━━━━━━\u001B[0m\u001B[37m\u001B[0m \u001B[1m76s\u001B[0m 45ms/step - accuracy: 0.8748 - loss: 0.3609 - val_accuracy: 0.8694 - val_loss: 0.3564\n",
      "Epoch 3/5\n",
      "\u001B[1m1688/1688\u001B[0m \u001B[32m━━━━━━━━━━━━━━━━━━━━\u001B[0m\u001B[37m\u001B[0m \u001B[1m77s\u001B[0m 46ms/step - accuracy: 0.8883 - loss: 0.3202 - val_accuracy: 0.8785 - val_loss: 0.3456\n",
      "Epoch 4/5\n",
      "\u001B[1m1688/1688\u001B[0m \u001B[32m━━━━━━━━━━━━━━━━━━━━\u001B[0m\u001B[37m\u001B[0m \u001B[1m80s\u001B[0m 48ms/step - accuracy: 0.8979 - loss: 0.2895 - val_accuracy: 0.8826 - val_loss: 0.3323\n",
      "Epoch 5/5\n",
      "\u001B[1m1688/1688\u001B[0m \u001B[32m━━━━━━━━━━━━━━━━━━━━\u001B[0m\u001B[37m\u001B[0m \u001B[1m78s\u001B[0m 46ms/step - accuracy: 0.9080 - loss: 0.2590 - val_accuracy: 0.8788 - val_loss: 0.3469\n",
      "\u001B[1m238/238\u001B[0m \u001B[32m━━━━━━━━━━━━━━━━━━━━\u001B[0m\u001B[37m\u001B[0m \u001B[1m3s\u001B[0m 11ms/step\n",
      "\n",
      "Word2Vec + LSTM:\n",
      "              precision    recall  f1-score   support\n",
      "\n",
      "       World       0.91      0.86      0.88      1900\n",
      "      Sports       0.92      0.96      0.94      1900\n",
      "    Business       0.84      0.83      0.83      1900\n",
      "    Sci/Tech       0.84      0.86      0.85      1900\n",
      "\n",
      "    accuracy                           0.88      7600\n",
      "   macro avg       0.88      0.88      0.88      7600\n",
      "weighted avg       0.88      0.88      0.88      7600\n",
      "\n"
     ]
    }
   ],
   "execution_count": 28
  },
  {
   "metadata": {
    "ExecuteTime": {
     "end_time": "2025-04-21T20:27:03.003405Z",
     "start_time": "2025-04-21T20:19:15.619693Z"
    }
   },
   "cell_type": "code",
   "source": [
    "# Обучение FastText\n",
    "ft_model = FastText(sentences, vector_size=100, window=5, min_count=3, workers=4)\n",
    "\n",
    "# Матрица эмбеддингов\n",
    "embedding_matrix_ft = np.zeros((len(tokenizer.word_index) + 1, 100))\n",
    "for word, i in tokenizer.word_index.items():\n",
    "    if word in ft_model.wv:\n",
    "        embedding_matrix_ft[i] = ft_model.wv[word]\n",
    "\n",
    "# Модель LSTM с FastText\n",
    "model_ft = Sequential([\n",
    "    Embedding(input_dim=len(tokenizer.word_index) + 1,\n",
    "              output_dim=100,\n",
    "              weights=[embedding_matrix_ft],\n",
    "              trainable=False),\n",
    "    LSTM(128),\n",
    "    Dense(4, activation=\"softmax\")\n",
    "])\n",
    "model_ft.compile(optimizer=\"adam\", loss=\"sparse_categorical_crossentropy\", metrics=[\"accuracy\"])\n",
    "\n",
    "# Обучение\n",
    "history_ft = model_ft.fit(X_train_pad, y_train, epochs=5, batch_size=64, validation_split=0.1)\n",
    "\n",
    "# Оценка\n",
    "y_pred_ft = model_ft.predict(X_test_pad).argmax(axis=1)\n",
    "print(\"\\nFastText + LSTM:\")\n",
    "print(classification_report(y_test, y_pred_ft, target_names=['World', 'Sports', 'Business', 'Sci/Tech']))"
   ],
   "id": "773737d264a79a5d",
   "outputs": [
    {
     "name": "stdout",
     "output_type": "stream",
     "text": [
      "Epoch 1/5\n",
      "\u001B[1m1688/1688\u001B[0m \u001B[32m━━━━━━━━━━━━━━━━━━━━\u001B[0m\u001B[37m\u001B[0m \u001B[1m80s\u001B[0m 47ms/step - accuracy: 0.8165 - loss: 0.5064 - val_accuracy: 0.8741 - val_loss: 0.3436\n",
      "Epoch 2/5\n",
      "\u001B[1m1688/1688\u001B[0m \u001B[32m━━━━━━━━━━━━━━━━━━━━\u001B[0m\u001B[37m\u001B[0m \u001B[1m76s\u001B[0m 45ms/step - accuracy: 0.8824 - loss: 0.3351 - val_accuracy: 0.8743 - val_loss: 0.3398\n",
      "Epoch 3/5\n",
      "\u001B[1m1688/1688\u001B[0m \u001B[32m━━━━━━━━━━━━━━━━━━━━\u001B[0m\u001B[37m\u001B[0m \u001B[1m80s\u001B[0m 47ms/step - accuracy: 0.8952 - loss: 0.2982 - val_accuracy: 0.8823 - val_loss: 0.3279\n",
      "Epoch 4/5\n",
      "\u001B[1m1688/1688\u001B[0m \u001B[32m━━━━━━━━━━━━━━━━━━━━\u001B[0m\u001B[37m\u001B[0m \u001B[1m97s\u001B[0m 57ms/step - accuracy: 0.9082 - loss: 0.2614 - val_accuracy: 0.8909 - val_loss: 0.3047\n",
      "Epoch 5/5\n",
      "\u001B[1m1688/1688\u001B[0m \u001B[32m━━━━━━━━━━━━━━━━━━━━\u001B[0m\u001B[37m\u001B[0m \u001B[1m82s\u001B[0m 48ms/step - accuracy: 0.9170 - loss: 0.2338 - val_accuracy: 0.8913 - val_loss: 0.3128\n",
      "\u001B[1m238/238\u001B[0m \u001B[32m━━━━━━━━━━━━━━━━━━━━\u001B[0m\u001B[37m\u001B[0m \u001B[1m3s\u001B[0m 11ms/step\n",
      "\n",
      "FastText + LSTM:\n",
      "              precision    recall  f1-score   support\n",
      "\n",
      "       World       0.92      0.87      0.89      1900\n",
      "      Sports       0.95      0.96      0.95      1900\n",
      "    Business       0.84      0.86      0.85      1900\n",
      "    Sci/Tech       0.86      0.87      0.86      1900\n",
      "\n",
      "    accuracy                           0.89      7600\n",
      "   macro avg       0.89      0.89      0.89      7600\n",
      "weighted avg       0.89      0.89      0.89      7600\n",
      "\n"
     ]
    }
   ],
   "execution_count": 9
  },
  {
   "metadata": {
    "ExecuteTime": {
     "end_time": "2025-04-21T20:27:03.136876Z",
     "start_time": "2025-04-21T20:27:03.036875Z"
    }
   },
   "cell_type": "code",
   "source": [
    "results = {\n",
    "    \"Model\": [\"TF-IDF + LogisticRegression\", \"Word2Vec + LSTM\", \"FastText + LSTM\"],\n",
    "    \"Accuracy\": [\n",
    "        np.mean(y_pred_tfidf == y_test),\n",
    "        np.mean(y_pred_w2v == y_test),\n",
    "        np.mean(y_pred_ft == y_test)\n",
    "    ]\n",
    "}\n",
    "\n",
    "pd.DataFrame(results).set_index(\"Model\").plot(kind=\"bar\", figsize=(10, 5))\n",
    "plt.title(\"Сравнение моделей на AG News (Hugging Face Dataset)\")\n",
    "plt.ylabel(\"Accuracy\")\n",
    "plt.ylim(0.8, 0.9)\n",
    "plt.show()"
   ],
   "id": "1c9d25fd561e3f71",
   "outputs": [
    {
     "data": {
      "text/plain": [
       "<Figure size 1000x500 with 1 Axes>"
      ],
      "image/png": "[encoded data removed]"
     },
     "metadata": {},
     "output_type": "display_data"
    }
   ],
   "execution_count": 10
  },
  {
   "metadata": {},
   "cell_type": "code",
   "outputs": [],
   "execution_count": null,
   "source": "",
   "id": "17cd8f349ab1c2f3"
  }
 ],
 "metadata": {
  "kernelspec": {
   "display_name": "Python 3",
   "language": "python",
   "name": "python3"
  },
  "language_info": {
   "codemirror_mode": {
    "name": "ipython",
    "version": 2
   },
   "file_extension": ".py",
   "mimetype": "text/x-python",
   "name": "python",
   "nbconvert_exporter": "python",
   "pygments_lexer": "ipython2",
   "version": "2.7.6"
  }
 },
 "nbformat": 4,
 "nbformat_minor": 5
}
