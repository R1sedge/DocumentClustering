{
 "cells": [
  {
   "metadata": {
    "ExecuteTime": {
     "end_time": "2025-04-21T20:41:26.342280Z",
     "start_time": "2025-04-21T20:41:17.510831Z"
    }
   },
   "cell_type": "code",
   "source": [
    "from datasets import load_dataset\n",
    "import numpy as np\n",
    "import pandas as pd\n",
    "from sklearn.model_selection import train_test_split\n",
    "from sklearn.feature_extraction.text import TfidfVectorizer\n",
    "from sklearn.linear_model import LogisticRegression\n",
    "from sklearn.metrics import classification_report, accuracy_score\n",
    "from gensim.models import Word2Vec, FastText\n",
    "from tensorflow.keras.models import Sequential\n",
    "from tensorflow.keras.layers import LSTM, Dense, Embedding, Input, Lambda\n",
    "from tensorflow.keras.preprocessing.text import Tokenizer\n",
    "from tensorflow.keras.preprocessing.sequence import pad_sequences\n",
    "import tensorflow as tf\n",
    "import tensorflow_hub as hub\n",
    "#import tensorflow_text as text\n",
    "import matplotlib.pyplot as plt\n",
    "\n",
    "# Загрузка IMDB\n",
    "dataset = load_dataset(\"imdb\")\n",
    "train_df = pd.DataFrame(dataset[\"train\"])\n",
    "test_df = pd.DataFrame(dataset[\"test\"])\n",
    "\n",
    "# Для ускорения возьмём подвыборку\n",
    "#train_df = train_df.sample(5000, random_state=42)\n",
    "#test_df = test_df.sample(2000, random_state=42)\n",
    "\n",
    "# Тексты и метки (0 = негативный, 1 = позитивный)\n",
    "X_train = train_df[\"text\"].values\n",
    "y_train = train_df[\"label\"].values\n",
    "X_test = test_df[\"text\"].values\n",
    "y_test = test_df[\"label\"].values"
   ],
   "id": "19d6cdd3885bce83",
   "outputs": [],
   "execution_count": 13
  },
  {
   "metadata": {
    "ExecuteTime": {
     "end_time": "2025-04-21T20:29:06.353253Z",
     "start_time": "2025-04-21T20:28:59.954664Z"
    }
   },
   "cell_type": "code",
   "source": [
    "# Векторизация текстов\n",
    "tfidf = TfidfVectorizer(max_features=10000, stop_words=\"english\")\n",
    "X_train_tfidf = tfidf.fit_transform(X_train)\n",
    "X_test_tfidf = tfidf.transform(X_test)\n",
    "\n",
    "# Обучение модели\n",
    "lr = LogisticRegression(max_iter=500)\n",
    "lr.fit(X_train_tfidf, y_train)\n",
    "\n",
    "# Оценка\n",
    "y_pred_tfidf = lr.predict(X_test_tfidf)\n",
    "print(\"TF-IDF + Logistic Regression:\")\n",
    "print(classification_report(y_test, y_pred_tfidf, target_names=[\"Negative\", \"Positive\"]))\n",
    "print(f\"Accuracy: {accuracy_score(y_test, y_pred_tfidf):.4f}\")"
   ],
   "id": "aa6c5d8d9d365664",
   "outputs": [
    {
     "name": "stdout",
     "output_type": "stream",
     "text": [
      "TF-IDF + Logistic Regression:\n",
      "              precision    recall  f1-score   support\n",
      "\n",
      "    Negative       0.88      0.88      0.88     12500\n",
      "    Positive       0.88      0.88      0.88     12500\n",
      "\n",
      "    accuracy                           0.88     25000\n",
      "   macro avg       0.88      0.88      0.88     25000\n",
      "weighted avg       0.88      0.88      0.88     25000\n",
      "\n",
      "Accuracy: 0.8792\n"
     ]
    }
   ],
   "execution_count": 3
  },
  {
   "metadata": {
    "ExecuteTime": {
     "end_time": "2025-04-21T20:32:45.817535Z",
     "start_time": "2025-04-21T20:29:06.382622Z"
    }
   },
   "cell_type": "code",
   "source": [
    "# Токенизация текстов\n",
    "tokenizer = Tokenizer()\n",
    "tokenizer.fit_on_texts(X_train)\n",
    "X_train_seq = tokenizer.texts_to_sequences(X_train)\n",
    "X_test_seq = tokenizer.texts_to_sequences(X_test)\n",
    "\n",
    "# Паддинг до одинаковой длины\n",
    "max_len = 200  # Увеличим длину для IMDB\n",
    "X_train_pad = pad_sequences(X_train_seq, maxlen=max_len)\n",
    "X_test_pad = pad_sequences(X_test_seq, maxlen=max_len)\n",
    "\n",
    "# Обучение Word2Vec\n",
    "sentences = [text.split() for text in X_train]\n",
    "w2v_model = Word2Vec(sentences, vector_size=100, window=5, min_count=3, workers=4)\n",
    "\n",
    "# Матрица эмбеддингов\n",
    "embedding_matrix = np.zeros((len(tokenizer.word_index) + 1, 100))\n",
    "for word, i in tokenizer.word_index.items():\n",
    "    if word in w2v_model.wv:\n",
    "        embedding_matrix[i] = w2v_model.wv[word]\n",
    "\n",
    "# Модель LSTM\n",
    "model = Sequential([\n",
    "    Embedding(input_dim=len(tokenizer.word_index) + 1,\n",
    "              output_dim=100,\n",
    "              weights=[embedding_matrix],\n",
    "              input_length=max_len,\n",
    "              trainable=False),\n",
    "    LSTM(128),\n",
    "    Dense(1, activation=\"sigmoid\")  # Бинарная классификация\n",
    "])\n",
    "model.compile(optimizer=\"adam\", loss=\"binary_crossentropy\", metrics=[\"accuracy\"])\n",
    "\n",
    "# Обучение\n",
    "history = model.fit(X_train_pad, y_train, epochs=5, batch_size=64, validation_split=0.1)\n",
    "\n",
    "# Оценка\n",
    "y_pred_w2v = (model.predict(X_test_pad) > 0.5).astype(\"int32\")\n",
    "print(\"\\nWord2Vec + LSTM:\")\n",
    "print(classification_report(y_test, y_pred_w2v, target_names=[\"Negative\", \"Positive\"]))\n",
    "print(f\"Accuracy: {accuracy_score(y_test, y_pred_w2v):.4f}\")"
   ],
   "id": "518381fa3862b350",
   "outputs": [
    {
     "name": "stdout",
     "output_type": "stream",
     "text": [
      "Epoch 1/5\n"
     ]
    },
    {
     "name": "stderr",
     "output_type": "stream",
     "text": [
      "C:\\Users\\R1sed\\PycharmProjects\\pythonProject\\.venv\\Lib\\site-packages\\keras\\src\\layers\\core\\embedding.py:90: UserWarning: Argument `input_length` is deprecated. Just remove it.\n",
      "  warnings.warn(\n"
     ]
    },
    {
     "name": "stdout",
     "output_type": "stream",
     "text": [
      "\u001B[1m352/352\u001B[0m \u001B[32m━━━━━━━━━━━━━━━━━━━━\u001B[0m\u001B[37m\u001B[0m \u001B[1m34s\u001B[0m 93ms/step - accuracy: 0.6545 - loss: 0.6222 - val_accuracy: 0.5444 - val_loss: 0.7178\n",
      "Epoch 2/5\n",
      "\u001B[1m352/352\u001B[0m \u001B[32m━━━━━━━━━━━━━━━━━━━━\u001B[0m\u001B[37m\u001B[0m \u001B[1m35s\u001B[0m 101ms/step - accuracy: 0.7942 - loss: 0.4440 - val_accuracy: 0.8428 - val_loss: 0.3943\n",
      "Epoch 3/5\n",
      "\u001B[1m352/352\u001B[0m \u001B[32m━━━━━━━━━━━━━━━━━━━━\u001B[0m\u001B[37m\u001B[0m \u001B[1m36s\u001B[0m 102ms/step - accuracy: 0.8592 - loss: 0.3263 - val_accuracy: 0.7920 - val_loss: 0.4563\n",
      "Epoch 4/5\n",
      "\u001B[1m352/352\u001B[0m \u001B[32m━━━━━━━━━━━━━━━━━━━━\u001B[0m\u001B[37m\u001B[0m \u001B[1m32s\u001B[0m 90ms/step - accuracy: 0.8756 - loss: 0.2927 - val_accuracy: 0.8880 - val_loss: 0.2950\n",
      "Epoch 5/5\n",
      "\u001B[1m352/352\u001B[0m \u001B[32m━━━━━━━━━━━━━━━━━━━━\u001B[0m\u001B[37m\u001B[0m \u001B[1m45s\u001B[0m 127ms/step - accuracy: 0.8976 - loss: 0.2448 - val_accuracy: 0.8044 - val_loss: 0.4673\n",
      "\u001B[1m782/782\u001B[0m \u001B[32m━━━━━━━━━━━━━━━━━━━━\u001B[0m\u001B[37m\u001B[0m \u001B[1m16s\u001B[0m 20ms/step\n",
      "\n",
      "Word2Vec + LSTM:\n",
      "              precision    recall  f1-score   support\n",
      "\n",
      "    Negative       0.83      0.93      0.87     12500\n",
      "    Positive       0.92      0.80      0.86     12500\n",
      "\n",
      "    accuracy                           0.86     25000\n",
      "   macro avg       0.87      0.86      0.86     25000\n",
      "weighted avg       0.87      0.86      0.86     25000\n",
      "\n",
      "Accuracy: 0.8648\n"
     ]
    }
   ],
   "execution_count": 4
  },
  {
   "metadata": {
    "ExecuteTime": {
     "end_time": "2025-04-21T20:36:48.438352Z",
     "start_time": "2025-04-21T20:32:45.840533Z"
    }
   },
   "cell_type": "code",
   "source": [
    "# Обучение FastText\n",
    "ft_model = FastText(sentences, vector_size=100, window=5, min_count=3, workers=4)\n",
    "\n",
    "# Матрица эмбеддингов\n",
    "embedding_matrix_ft = np.zeros((len(tokenizer.word_index) + 1, 100))\n",
    "for word, i in tokenizer.word_index.items():\n",
    "    if word in ft_model.wv:\n",
    "        embedding_matrix_ft[i] = ft_model.wv[word]\n",
    "\n",
    "# Модель LSTM с FastText\n",
    "model_ft = Sequential([\n",
    "    Embedding(input_dim=len(tokenizer.word_index) + 1,\n",
    "              output_dim=100,\n",
    "              weights=[embedding_matrix_ft],\n",
    "              input_length=max_len,\n",
    "              trainable=False),\n",
    "    LSTM(128),\n",
    "    Dense(1, activation=\"sigmoid\")\n",
    "])\n",
    "model_ft.compile(optimizer=\"adam\", loss=\"binary_crossentropy\", metrics=[\"accuracy\"])\n",
    "\n",
    "# Обучение\n",
    "history_ft = model_ft.fit(X_train_pad, y_train, epochs=5, batch_size=64, validation_split=0.1)\n",
    "\n",
    "# Оценка\n",
    "y_pred_ft = (model_ft.predict(X_test_pad) > 0.5).astype(\"int32\")\n",
    "print(\"\\nFastText + LSTM:\")\n",
    "print(classification_report(y_test, y_pred_ft, target_names=[\"Negative\", \"Positive\"]))\n",
    "print(f\"Accuracy: {accuracy_score(y_test, y_pred_ft):.4f}\")"
   ],
   "id": "bb5113ab751575a5",
   "outputs": [
    {
     "name": "stdout",
     "output_type": "stream",
     "text": [
      "Epoch 1/5\n"
     ]
    },
    {
     "name": "stderr",
     "output_type": "stream",
     "text": [
      "C:\\Users\\R1sed\\PycharmProjects\\pythonProject\\.venv\\Lib\\site-packages\\keras\\src\\layers\\core\\embedding.py:90: UserWarning: Argument `input_length` is deprecated. Just remove it.\n",
      "  warnings.warn(\n"
     ]
    },
    {
     "name": "stdout",
     "output_type": "stream",
     "text": [
      "\u001B[1m352/352\u001B[0m \u001B[32m━━━━━━━━━━━━━━━━━━━━\u001B[0m\u001B[37m\u001B[0m \u001B[1m38s\u001B[0m 104ms/step - accuracy: 0.6453 - loss: 0.6144 - val_accuracy: 0.7336 - val_loss: 0.5342\n",
      "Epoch 2/5\n",
      "\u001B[1m352/352\u001B[0m \u001B[32m━━━━━━━━━━━━━━━━━━━━\u001B[0m\u001B[37m\u001B[0m \u001B[1m31s\u001B[0m 89ms/step - accuracy: 0.8004 - loss: 0.4353 - val_accuracy: 0.8220 - val_loss: 0.4358\n",
      "Epoch 3/5\n",
      "\u001B[1m352/352\u001B[0m \u001B[32m━━━━━━━━━━━━━━━━━━━━\u001B[0m\u001B[37m\u001B[0m \u001B[1m31s\u001B[0m 89ms/step - accuracy: 0.8486 - loss: 0.3483 - val_accuracy: 0.8368 - val_loss: 0.4023\n",
      "Epoch 4/5\n",
      "\u001B[1m352/352\u001B[0m \u001B[32m━━━━━━━━━━━━━━━━━━━━\u001B[0m\u001B[37m\u001B[0m \u001B[1m31s\u001B[0m 88ms/step - accuracy: 0.8700 - loss: 0.3084 - val_accuracy: 0.8536 - val_loss: 0.3520\n",
      "Epoch 5/5\n",
      "\u001B[1m352/352\u001B[0m \u001B[32m━━━━━━━━━━━━━━━━━━━━\u001B[0m\u001B[37m\u001B[0m \u001B[1m32s\u001B[0m 90ms/step - accuracy: 0.8889 - loss: 0.2697 - val_accuracy: 0.9252 - val_loss: 0.2114\n",
      "\u001B[1m782/782\u001B[0m \u001B[32m━━━━━━━━━━━━━━━━━━━━\u001B[0m\u001B[37m\u001B[0m \u001B[1m16s\u001B[0m 21ms/step\n",
      "\n",
      "FastText + LSTM:\n",
      "              precision    recall  f1-score   support\n",
      "\n",
      "    Negative       0.91      0.74      0.81     12500\n",
      "    Positive       0.78      0.93      0.85     12500\n",
      "\n",
      "    accuracy                           0.83     25000\n",
      "   macro avg       0.84      0.83      0.83     25000\n",
      "weighted avg       0.84      0.83      0.83     25000\n",
      "\n",
      "Accuracy: 0.8304\n"
     ]
    }
   ],
   "execution_count": 5
  },
  {
   "metadata": {
    "ExecuteTime": {
     "end_time": "2025-04-21T20:37:06.027187Z",
     "start_time": "2025-04-21T20:37:05.887732Z"
    }
   },
   "cell_type": "code",
   "source": [
    "results = {\n",
    "    \"Model\": [\"TF-IDF + LogisticRegression\", \"Word2Vec + LSTM\", \"FastText + LSTM\"],\n",
    "    \"Accuracy\": [\n",
    "        accuracy_score(y_test, y_pred_tfidf),\n",
    "        accuracy_score(y_test, y_pred_w2v),\n",
    "        accuracy_score(y_test, y_pred_ft)\n",
    "    ]\n",
    "}\n",
    "\n",
    "pd.DataFrame(results).set_index(\"Model\").plot(kind=\"bar\", figsize=(10, 5))\n",
    "plt.title(\"Сравнение моделей на IMDB\")\n",
    "plt.ylabel(\"Accuracy\")\n",
    "plt.ylim(0.8, 0.9)\n",
    "plt.show()"
   ],
   "id": "3010f744daf975f",
   "outputs": [
    {
     "data": {
      "text/plain": [
       "<Figure size 1000x500 with 1 Axes>"
      ],
      "image/png": "[encoded data removed]"
     },
     "metadata": {},
     "output_type": "display_data"
    }
   ],
   "execution_count": 6
  },
  {
   "metadata": {
    "ExecuteTime": {
     "end_time": "2025-04-21T20:38:30.807898Z",
     "start_time": "2025-04-21T20:38:30.753499Z"
    }
   },
   "cell_type": "code",
   "source": [
    "# Загрузка предобученных GloVe векторов (100d)\n",
    "!wget http://nlp.stanford.edu/data/glove.6B.zip\n",
    "!unzip glove.6B.zip\n",
    "\n",
    "embeddings_index = {}\n",
    "with open(\"glove.6B.100d.txt\", \"r\", encoding=\"utf-8\") as f:\n",
    "    for line in f:\n",
    "        values = line.split()\n",
    "        word = values[0]\n",
    "        coefs = np.asarray(values[1:], dtype=\"float32\")\n",
    "        embeddings_index[word] = coefs\n",
    "\n",
    "# Матрица эмбеддингов для GloVe\n",
    "embedding_matrix_glove = np.zeros((len(tokenizer.word_index) + 1, 100))\n",
    "for word, i in tokenizer.word_index.items():\n",
    "    if word in embeddings_index:\n",
    "        embedding_matrix_glove[i] = embeddings_index[word]\n",
    "\n",
    "# Модель LSTM с GloVe\n",
    "model_glove = Sequential([\n",
    "    Embedding(input_dim=len(tokenizer.word_index) + 1,\n",
    "              output_dim=100,\n",
    "              weights=[embedding_matrix_glove],\n",
    "              input_length=max_len,\n",
    "              trainable=False),\n",
    "    LSTM(128),\n",
    "    Dense(1, activation=\"sigmoid\")\n",
    "])\n",
    "model_glove.compile(optimizer=\"adam\", loss=\"binary_crossentropy\", metrics=[\"accuracy\"])\n",
    "model_glove.fit(X_train_pad, y_train, epochs=5, batch_size=64, validation_split=0.1)\n",
    "\n",
    "y_pred_glove = (model_glove.predict(X_test_pad) > 0.5).astype(\"int32\")\n",
    "print(\"\\nGloVe + LSTM:\")\n",
    "print(classification_report(y_test, y_pred_glove, target_names=[\"Negative\", \"Positive\"]))\n",
    "print(f\"Accuracy: {accuracy_score(y_test, y_pred_glove):.4f}\")"
   ],
   "id": "d120d89e6ec65b1e",
   "outputs": [
    {
     "name": "stderr",
     "output_type": "stream",
     "text": [
      "\"wget\" ­Ґ пў«пҐвбп ў­гваҐ­­Ґ© Ё«Ё ў­Ґи­Ґ©\n",
      "Є®¬ ­¤®©, ЁбЇ®«­пҐ¬®© Їа®Ја ¬¬®© Ё«Ё Ї ЄҐв­л¬ д ©«®¬.\n",
      "\"unzip\" ­Ґ пў«пҐвбп ў­гваҐ­­Ґ© Ё«Ё ў­Ґи­Ґ©\n",
      "Є®¬ ­¤®©, ЁбЇ®«­пҐ¬®© Їа®Ја ¬¬®© Ё«Ё Ї ЄҐв­л¬ д ©«®¬.\n"
     ]
    },
    {
     "ename": "FileNotFoundError",
     "evalue": "[Errno 2] No such file or directory: 'glove.6B.100d.txt'",
     "output_type": "error",
     "traceback": [
      "\u001B[1;31m---------------------------------------------------------------------------\u001B[0m",
      "\u001B[1;31mFileNotFoundError\u001B[0m                         Traceback (most recent call last)",
      "Cell \u001B[1;32mIn[8], line 6\u001B[0m\n\u001B[0;32m      3\u001B[0m get_ipython()\u001B[38;5;241m.\u001B[39msystem(\u001B[38;5;124m'\u001B[39m\u001B[38;5;124munzip glove.6B.zip\u001B[39m\u001B[38;5;124m'\u001B[39m)\n\u001B[0;32m      5\u001B[0m embeddings_index \u001B[38;5;241m=\u001B[39m {}\n\u001B[1;32m----> 6\u001B[0m \u001B[38;5;28;01mwith\u001B[39;00m \u001B[38;5;28;43mopen\u001B[39;49m\u001B[43m(\u001B[49m\u001B[38;5;124;43m\"\u001B[39;49m\u001B[38;5;124;43mglove.6B.100d.txt\u001B[39;49m\u001B[38;5;124;43m\"\u001B[39;49m\u001B[43m,\u001B[49m\u001B[43m \u001B[49m\u001B[38;5;124;43m\"\u001B[39;49m\u001B[38;5;124;43mr\u001B[39;49m\u001B[38;5;124;43m\"\u001B[39;49m\u001B[43m,\u001B[49m\u001B[43m \u001B[49m\u001B[43mencoding\u001B[49m\u001B[38;5;241;43m=\u001B[39;49m\u001B[38;5;124;43m\"\u001B[39;49m\u001B[38;5;124;43mutf-8\u001B[39;49m\u001B[38;5;124;43m\"\u001B[39;49m\u001B[43m)\u001B[49m \u001B[38;5;28;01mas\u001B[39;00m f:\n\u001B[0;32m      7\u001B[0m     \u001B[38;5;28;01mfor\u001B[39;00m line \u001B[38;5;129;01min\u001B[39;00m f:\n\u001B[0;32m      8\u001B[0m         values \u001B[38;5;241m=\u001B[39m line\u001B[38;5;241m.\u001B[39msplit()\n",
      "File \u001B[1;32m~\\PycharmProjects\\pythonProject\\.venv\\Lib\\site-packages\\IPython\\core\\interactiveshell.py:324\u001B[0m, in \u001B[0;36m_modified_open\u001B[1;34m(file, *args, **kwargs)\u001B[0m\n\u001B[0;32m    317\u001B[0m \u001B[38;5;28;01mif\u001B[39;00m file \u001B[38;5;129;01min\u001B[39;00m {\u001B[38;5;241m0\u001B[39m, \u001B[38;5;241m1\u001B[39m, \u001B[38;5;241m2\u001B[39m}:\n\u001B[0;32m    318\u001B[0m     \u001B[38;5;28;01mraise\u001B[39;00m \u001B[38;5;167;01mValueError\u001B[39;00m(\n\u001B[0;32m    319\u001B[0m         \u001B[38;5;124mf\u001B[39m\u001B[38;5;124m\"\u001B[39m\u001B[38;5;124mIPython won\u001B[39m\u001B[38;5;124m'\u001B[39m\u001B[38;5;124mt let you open fd=\u001B[39m\u001B[38;5;132;01m{\u001B[39;00mfile\u001B[38;5;132;01m}\u001B[39;00m\u001B[38;5;124m by default \u001B[39m\u001B[38;5;124m\"\u001B[39m\n\u001B[0;32m    320\u001B[0m         \u001B[38;5;124m\"\u001B[39m\u001B[38;5;124mas it is likely to crash IPython. If you know what you are doing, \u001B[39m\u001B[38;5;124m\"\u001B[39m\n\u001B[0;32m    321\u001B[0m         \u001B[38;5;124m\"\u001B[39m\u001B[38;5;124myou can use builtins\u001B[39m\u001B[38;5;124m'\u001B[39m\u001B[38;5;124m open.\u001B[39m\u001B[38;5;124m\"\u001B[39m\n\u001B[0;32m    322\u001B[0m     )\n\u001B[1;32m--> 324\u001B[0m \u001B[38;5;28;01mreturn\u001B[39;00m \u001B[43mio_open\u001B[49m\u001B[43m(\u001B[49m\u001B[43mfile\u001B[49m\u001B[43m,\u001B[49m\u001B[43m \u001B[49m\u001B[38;5;241;43m*\u001B[39;49m\u001B[43margs\u001B[49m\u001B[43m,\u001B[49m\u001B[43m \u001B[49m\u001B[38;5;241;43m*\u001B[39;49m\u001B[38;5;241;43m*\u001B[39;49m\u001B[43mkwargs\u001B[49m\u001B[43m)\u001B[49m\n",
      "\u001B[1;31mFileNotFoundError\u001B[0m: [Errno 2] No such file or directory: 'glove.6B.100d.txt'"
     ]
    }
   ],
   "execution_count": 8
  },
  {
   "metadata": {
    "ExecuteTime": {
     "end_time": "2025-04-21T20:42:04.473568Z",
     "start_time": "2025-04-21T20:41:30.361845Z"
    }
   },
   "cell_type": "code",
   "source": [
    "# Загрузка ELMo из TensorFlow Hub\n",
    "elmo = hub.KerasLayer(\"https://tfhub.dev/google/elmo/3\", trainable=False, signature=\"default\", output_key=\"default\")\n",
    "\n",
    "# Модель с ELMo\n",
    "input_text = Input(shape=(), dtype=tf.string)\n",
    "elmo_embedding = elmo(input_text)\n",
    "dense = Dense(1, activation=\"sigmoid\")(elmo_embedding)\n",
    "model_elmo = tf.keras.Model(inputs=[input_text], outputs=[dense])\n",
    "model_elmo.compile(optimizer=\"adam\", loss=\"binary_crossentropy\", metrics=[\"accuracy\"])\n",
    "\n",
    "# Обучение\n",
    "model_elmo.fit(X_train, y_train, epochs=5, batch_size=32, validation_split=0.1)\n",
    "\n",
    "y_pred_elmo = (model_elmo.predict(X_test) > 0.5).astype(\"int32\")\n",
    "print(\"\\nELMo + Dense:\")\n",
    "print(classification_report(y_test, y_pred_elmo, target_names=[\"Negative\", \"Positive\"]))\n",
    "print(f\"Accuracy: {accuracy_score(y_test, y_pred_elmo):.4f}\")"
   ],
   "id": "6357f50ef150b22d",
   "outputs": [
    {
     "name": "stdout",
     "output_type": "stream",
     "text": [
      "WARNING:tensorflow:From C:\\Users\\R1sed\\PycharmProjects\\pythonProject\\.venv\\Lib\\site-packages\\tensorflow_hub\\resolver.py:120: The name tf.gfile.MakeDirs is deprecated. Please use tf.io.gfile.makedirs instead.\n",
      "\n"
     ]
    },
    {
     "name": "stderr",
     "output_type": "stream",
     "text": [
      "WARNING:tensorflow:From C:\\Users\\R1sed\\PycharmProjects\\pythonProject\\.venv\\Lib\\site-packages\\tensorflow_hub\\resolver.py:120: The name tf.gfile.MakeDirs is deprecated. Please use tf.io.gfile.makedirs instead.\n",
      "\n"
     ]
    },
    {
     "name": "stdout",
     "output_type": "stream",
     "text": [
      "WARNING:tensorflow:From C:\\Users\\R1sed\\PycharmProjects\\pythonProject\\.venv\\Lib\\site-packages\\tensorflow_hub\\module_v2.py:126: The name tf.saved_model.load_v2 is deprecated. Please use tf.compat.v2.saved_model.load instead.\n",
      "\n"
     ]
    },
    {
     "name": "stderr",
     "output_type": "stream",
     "text": [
      "WARNING:tensorflow:From C:\\Users\\R1sed\\PycharmProjects\\pythonProject\\.venv\\Lib\\site-packages\\tensorflow_hub\\module_v2.py:126: The name tf.saved_model.load_v2 is deprecated. Please use tf.compat.v2.saved_model.load instead.\n",
      "\n"
     ]
    },
    {
     "name": "stdout",
     "output_type": "stream",
     "text": [
      "WARNING:tensorflow:From C:\\Users\\R1sed\\PycharmProjects\\pythonProject\\.venv\\Lib\\site-packages\\tf_keras\\src\\backend.py:873: The name tf.get_default_graph is deprecated. Please use tf.compat.v1.get_default_graph instead.\n",
      "\n"
     ]
    },
    {
     "name": "stderr",
     "output_type": "stream",
     "text": [
      "WARNING:tensorflow:From C:\\Users\\R1sed\\PycharmProjects\\pythonProject\\.venv\\Lib\\site-packages\\tf_keras\\src\\backend.py:873: The name tf.get_default_graph is deprecated. Please use tf.compat.v1.get_default_graph instead.\n",
      "\n"
     ]
    },
    {
     "ename": "TypeError",
     "evalue": "Exception encountered when calling layer 'keras_layer' (type KerasLayer).\n\nBinding inputs to tf.function failed due to `A KerasTensor cannot be used as input to a TensorFlow function. A KerasTensor is a symbolic placeholder for a shape and dtype, used when constructing Keras Functional models or Keras Functions. You can only use it as input to a Keras layer or a Keras operation (from the namespaces `keras.layers` and `keras.ops`). You are likely doing something like:\n\n```\nx = Input(...)\n...\ntf_fn(x)  # Invalid.\n```\n\nWhat you should do instead is wrap `tf_fn` in a layer:\n\n```\nclass MyLayer(Layer):\n    def call(self, x):\n        return tf_fn(x)\n\nx = MyLayer()(x)\n```\n`. Received args: (<KerasTensor shape=(None,), dtype=string, sparse=False, ragged=False, name=keras_tensor_8>,) and kwargs: {} for signature: (text: TensorSpec(shape=(None,), dtype=tf.string, name='text')) -> Dict[['lstm_outputs1', TensorSpec(shape=(None, None, 1024), dtype=tf.float32, name=None)], ['lstm_outputs2', TensorSpec(shape=(None, None, 1024), dtype=tf.float32, name=None)], ['word_emb', TensorSpec(shape=(None, None, 512), dtype=tf.float32, name=None)], ['elmo', TensorSpec(shape=(None, None, 1024), dtype=tf.float32, name=None)], ['sequence_len', TensorSpec(shape=(None,), dtype=tf.int32, name=None)], ['default', TensorSpec(shape=(None, 1024), dtype=tf.float32, name=None)]].\nFallback to flat signature also failed due to: pruned(text): expected argument #0(zero-based) to be a Tensor; got KerasTensor (<KerasTensor shape=(None,), dtype=string, sparse=False, ragged=False, name=keras_tensor_8>).\n\nCall arguments received by layer 'keras_layer' (type KerasLayer):\n  • inputs=<KerasTensor shape=(None,), dtype=string, sparse=False, ragged=False, name=keras_tensor_8>\n  • training=None",
     "output_type": "error",
     "traceback": [
      "\u001B[1;31m---------------------------------------------------------------------------\u001B[0m",
      "\u001B[1;31mTypeError\u001B[0m                                 Traceback (most recent call last)",
      "Cell \u001B[1;32mIn[14], line 6\u001B[0m\n\u001B[0;32m      4\u001B[0m \u001B[38;5;66;03m# Модель с ELMo\u001B[39;00m\n\u001B[0;32m      5\u001B[0m input_text \u001B[38;5;241m=\u001B[39m Input(shape\u001B[38;5;241m=\u001B[39m(), dtype\u001B[38;5;241m=\u001B[39mtf\u001B[38;5;241m.\u001B[39mstring)\n\u001B[1;32m----> 6\u001B[0m elmo_embedding \u001B[38;5;241m=\u001B[39m \u001B[43melmo\u001B[49m\u001B[43m(\u001B[49m\u001B[43minput_text\u001B[49m\u001B[43m)\u001B[49m\n\u001B[0;32m      7\u001B[0m dense \u001B[38;5;241m=\u001B[39m Dense(\u001B[38;5;241m1\u001B[39m, activation\u001B[38;5;241m=\u001B[39m\u001B[38;5;124m\"\u001B[39m\u001B[38;5;124msigmoid\u001B[39m\u001B[38;5;124m\"\u001B[39m)(elmo_embedding)\n\u001B[0;32m      8\u001B[0m model_elmo \u001B[38;5;241m=\u001B[39m tf\u001B[38;5;241m.\u001B[39mkeras\u001B[38;5;241m.\u001B[39mModel(inputs\u001B[38;5;241m=\u001B[39m[input_text], outputs\u001B[38;5;241m=\u001B[39m[dense])\n",
      "File \u001B[1;32m~\\PycharmProjects\\pythonProject\\.venv\\Lib\\site-packages\\tf_keras\\src\\utils\\traceback_utils.py:70\u001B[0m, in \u001B[0;36mfilter_traceback.<locals>.error_handler\u001B[1;34m(*args, **kwargs)\u001B[0m\n\u001B[0;32m     67\u001B[0m     filtered_tb \u001B[38;5;241m=\u001B[39m _process_traceback_frames(e\u001B[38;5;241m.\u001B[39m__traceback__)\n\u001B[0;32m     68\u001B[0m     \u001B[38;5;66;03m# To get the full stack trace, call:\u001B[39;00m\n\u001B[0;32m     69\u001B[0m     \u001B[38;5;66;03m# `tf.debugging.disable_traceback_filtering()`\u001B[39;00m\n\u001B[1;32m---> 70\u001B[0m     \u001B[38;5;28;01mraise\u001B[39;00m e\u001B[38;5;241m.\u001B[39mwith_traceback(filtered_tb) \u001B[38;5;28;01mfrom\u001B[39;00m \u001B[38;5;28;01mNone\u001B[39;00m\n\u001B[0;32m     71\u001B[0m \u001B[38;5;28;01mfinally\u001B[39;00m:\n\u001B[0;32m     72\u001B[0m     \u001B[38;5;28;01mdel\u001B[39;00m filtered_tb\n",
      "File \u001B[1;32m~\\PycharmProjects\\pythonProject\\.venv\\Lib\\site-packages\\tensorflow_hub\\keras_layer.py:242\u001B[0m, in \u001B[0;36mKerasLayer.call\u001B[1;34m(self, inputs, training)\u001B[0m\n\u001B[0;32m    236\u001B[0m \u001B[38;5;66;03m# ...but we may also have to pass a Python boolean for `training`, which\u001B[39;00m\n\u001B[0;32m    237\u001B[0m \u001B[38;5;66;03m# is the logical \"and\" of this layer's trainability and what the surrounding\u001B[39;00m\n\u001B[0;32m    238\u001B[0m \u001B[38;5;66;03m# model is doing (analogous to keras.layers.BatchNormalization in TF2).\u001B[39;00m\n\u001B[0;32m    239\u001B[0m \u001B[38;5;66;03m# For the latter, we have to look in two places: the `training` argument,\u001B[39;00m\n\u001B[0;32m    240\u001B[0m \u001B[38;5;66;03m# or else Keras' global `learning_phase`, which might actually be a tensor.\u001B[39;00m\n\u001B[0;32m    241\u001B[0m \u001B[38;5;28;01mif\u001B[39;00m \u001B[38;5;129;01mnot\u001B[39;00m \u001B[38;5;28mself\u001B[39m\u001B[38;5;241m.\u001B[39m_has_training_argument:\n\u001B[1;32m--> 242\u001B[0m   result \u001B[38;5;241m=\u001B[39m \u001B[43mf\u001B[49m\u001B[43m(\u001B[49m\u001B[43m)\u001B[49m\n\u001B[0;32m    243\u001B[0m \u001B[38;5;28;01melse\u001B[39;00m:\n\u001B[0;32m    244\u001B[0m   \u001B[38;5;28;01mif\u001B[39;00m \u001B[38;5;28mself\u001B[39m\u001B[38;5;241m.\u001B[39mtrainable:\n",
      "\u001B[1;31mTypeError\u001B[0m: Exception encountered when calling layer 'keras_layer' (type KerasLayer).\n\nBinding inputs to tf.function failed due to `A KerasTensor cannot be used as input to a TensorFlow function. A KerasTensor is a symbolic placeholder for a shape and dtype, used when constructing Keras Functional models or Keras Functions. You can only use it as input to a Keras layer or a Keras operation (from the namespaces `keras.layers` and `keras.ops`). You are likely doing something like:\n\n```\nx = Input(...)\n...\ntf_fn(x)  # Invalid.\n```\n\nWhat you should do instead is wrap `tf_fn` in a layer:\n\n```\nclass MyLayer(Layer):\n    def call(self, x):\n        return tf_fn(x)\n\nx = MyLayer()(x)\n```\n`. Received args: (<KerasTensor shape=(None,), dtype=string, sparse=False, ragged=False, name=keras_tensor_8>,) and kwargs: {} for signature: (text: TensorSpec(shape=(None,), dtype=tf.string, name='text')) -> Dict[['lstm_outputs1', TensorSpec(shape=(None, None, 1024), dtype=tf.float32, name=None)], ['lstm_outputs2', TensorSpec(shape=(None, None, 1024), dtype=tf.float32, name=None)], ['word_emb', TensorSpec(shape=(None, None, 512), dtype=tf.float32, name=None)], ['elmo', TensorSpec(shape=(None, None, 1024), dtype=tf.float32, name=None)], ['sequence_len', TensorSpec(shape=(None,), dtype=tf.int32, name=None)], ['default', TensorSpec(shape=(None, 1024), dtype=tf.float32, name=None)]].\nFallback to flat signature also failed due to: pruned(text): expected argument #0(zero-based) to be a Tensor; got KerasTensor (<KerasTensor shape=(None,), dtype=string, sparse=False, ragged=False, name=keras_tensor_8>).\n\nCall arguments received by layer 'keras_layer' (type KerasLayer):\n  • inputs=<KerasTensor shape=(None,), dtype=string, sparse=False, ragged=False, name=keras_tensor_8>\n  • training=None"
     ]
    }
   ],
   "execution_count": 14
  },
  {
   "metadata": {},
   "cell_type": "code",
   "outputs": [],
   "execution_count": null,
   "source": "",
   "id": "53b2854c8505b9fd"
  }
 ],
 "metadata": {
  "kernelspec": {
   "display_name": "Python 3",
   "language": "python",
   "name": "python3"
  },
  "language_info": {
   "codemirror_mode": {
    "name": "ipython",
    "version": 2
   },
   "file_extension": ".py",
   "mimetype": "text/x-python",
   "name": "python",
   "nbconvert_exporter": "python",
   "pygments_lexer": "ipython2",
   "version": "2.7.6"
  }
 },
 "nbformat": 4,
 "nbformat_minor": 5
}
