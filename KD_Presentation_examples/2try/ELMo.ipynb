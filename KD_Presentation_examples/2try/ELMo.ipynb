{
 "cells": [
  {
   "cell_type": "code",
   "id": "initial_id",
   "metadata": {
    "collapsed": true,
    "ExecuteTime": {
     "end_time": "2025-04-23T04:55:08.215685Z",
     "start_time": "2025-04-23T04:54:56.532571Z"
    }
   },
   "source": [
    "from datasets import load_dataset\n",
    "import numpy as np\n",
    "from sklearn.linear_model import LogisticRegression\n",
    "from sklearn.metrics import f1_score\n",
    "import tensorflow as tf\n",
    "import tensorflow_hub as hub\n",
    "from nltk.tokenize import word_tokenize\n",
    "import re\n",
    "import string"
   ],
   "outputs": [
    {
     "name": "stdout",
     "output_type": "stream",
     "text": [
      "WARNING:tensorflow:From C:\\Users\\R1sed\\PycharmProjects\\pythonProject\\.venv\\Lib\\site-packages\\tf_keras\\src\\losses.py:2976: The name tf.losses.sparse_softmax_cross_entropy is deprecated. Please use tf.compat.v1.losses.sparse_softmax_cross_entropy instead.\n",
      "\n"
     ]
    }
   ],
   "execution_count": 1
  },
  {
   "metadata": {
    "ExecuteTime": {
     "end_time": "2025-04-23T04:55:08.233683Z",
     "start_time": "2025-04-23T04:55:08.228686Z"
    }
   },
   "cell_type": "code",
   "source": [
    "def preprocess_text(text):\n",
    "    # Приведение к нижнему регистру\n",
    "    text = text.lower()\n",
    "    \n",
    "    # Удаление HTML-тегов\n",
    "    text = re.sub(r'<[^>]+>', '', text)\n",
    "    \n",
    "    # Удаление цифр\n",
    "    text = re.sub(r'\\d+', '', text)\n",
    "    \n",
    "    # Удаление пунктуации\n",
    "    text = text.translate(str.maketrans('', '', string.punctuation))\n",
    "    \n",
    "    # Токенизация\n",
    "    tokens = word_tokenize(text)\n",
    "    \n",
    "    # Удаление пустых токенов\n",
    "    tokens = [token for token in tokens if token.strip()]\n",
    "    \n",
    "    return tokens"
   ],
   "id": "2f9e517c1206f65c",
   "outputs": [],
   "execution_count": 2
  },
  {
   "metadata": {
    "ExecuteTime": {
     "end_time": "2025-04-23T04:55:22.317407Z",
     "start_time": "2025-04-23T04:55:08.238683Z"
    }
   },
   "cell_type": "code",
   "source": [
    "# Загрузка датасета\n",
    "dataset = load_dataset(\"ag_news\")\n",
    "train_data = dataset[\"train\"]\n",
    "test_data = dataset[\"test\"]"
   ],
   "id": "9291fe4c46626123",
   "outputs": [
    {
     "name": "stderr",
     "output_type": "stream",
     "text": [
      "Using the latest cached version of the dataset since ag_news couldn't be found on the Hugging Face Hub\n",
      "Found the latest cached dataset configuration 'default' at C:\\Users\\R1sed\\.cache\\huggingface\\datasets\\ag_news\\default\\0.0.0\\eb185aade064a813bc0b7f42de02595523103ca4 (last modified on Wed Feb 12 18:02:31 2025).\n"
     ]
    }
   ],
   "execution_count": 3
  },
  {
   "metadata": {
    "ExecuteTime": {
     "end_time": "2025-04-23T05:13:17.289748Z",
     "start_time": "2025-04-23T05:13:16.985220Z"
    }
   },
   "cell_type": "code",
   "source": [
    "# Подготовка данных\n",
    "X_train = train_data[\"text\"][:5000]  # Берем подмножество для экономии времени\n",
    "X_test = test_data[\"text\"][:500]\n",
    "y_train = train_data[\"label\"][:5000]\n",
    "y_test = test_data[\"label\"][:500]"
   ],
   "id": "b60e45e50d67257f",
   "outputs": [],
   "execution_count": 29
  },
  {
   "metadata": {
    "ExecuteTime": {
     "end_time": "2025-04-23T05:13:18.401741Z",
     "start_time": "2025-04-23T05:13:17.791756Z"
    }
   },
   "cell_type": "code",
   "source": [
    "X_train_tokenized = [preprocess_text(text) for text in X_train]\n",
    "X_test_tokenized = [preprocess_text(text) for text in X_test]"
   ],
   "id": "667a592e420a2ecb",
   "outputs": [],
   "execution_count": 30
  },
  {
   "metadata": {
    "ExecuteTime": {
     "end_time": "2025-04-23T05:13:18.860600Z",
     "start_time": "2025-04-23T05:13:18.856867Z"
    }
   },
   "cell_type": "code",
   "source": [
    "print(X_train[0])\n",
    "\n",
    "print(len(X_train_tokenized[0]))\n",
    "print(X_train_tokenized[0])"
   ],
   "id": "6bb00295aab2cd8b",
   "outputs": [
    {
     "name": "stdout",
     "output_type": "stream",
     "text": [
      "Wall St. Bears Claw Back Into the Black (Reuters) Reuters - Short-sellers, Wall Street's dwindling\\band of ultra-cynics, are seeing green again.\n",
      "20\n",
      "['wall', 'st', 'bears', 'claw', 'back', 'into', 'the', 'black', 'reuters', 'reuters', 'shortsellers', 'wall', 'streets', 'dwindlingband', 'of', 'ultracynics', 'are', 'seeing', 'green', 'again']\n"
     ]
    }
   ],
   "execution_count": 31
  },
  {
   "metadata": {
    "ExecuteTime": {
     "end_time": "2025-04-23T05:13:22.196755Z",
     "start_time": "2025-04-23T05:13:19.358284Z"
    }
   },
   "cell_type": "code",
   "source": [
    "# Загрузка ELMo\n",
    "elmo = hub.load(\"https://tfhub.dev/google/elmo/3\")\n",
    "\n",
    "# Функция для получения эмбеддингов\n",
    "def get_elmo_embeddings(texts):\n",
    "    return elmo.signatures[\"default\"](tf.constant(texts))[\"default\"]"
   ],
   "id": "a3848ac0f89b2d1",
   "outputs": [],
   "execution_count": 32
  },
  {
   "metadata": {
    "ExecuteTime": {
     "end_time": "2025-04-23T05:13:24.574958Z",
     "start_time": "2025-04-23T05:13:24.190897Z"
    }
   },
   "cell_type": "code",
   "source": [
    "# Эмбеддинги слов\n",
    "x0 = get_elmo_embeddings(X_train_tokenized[0])\n",
    "print(x0)"
   ],
   "id": "2c530253cc8aa9bd",
   "outputs": [
    {
     "name": "stdout",
     "output_type": "stream",
     "text": [
      "tf.Tensor(\n",
      "[[ 0.03788491  0.27737054 -0.6391735  ... -0.11237262  0.434619\n",
      "   0.46560812]\n",
      " [ 0.5537806   0.22365248 -0.1768304  ... -0.41267446 -0.05352611\n",
      "   0.59317315]\n",
      " [ 0.25039792 -0.0692119   0.5968957  ...  0.30382812  0.72532606\n",
      "   0.5239556 ]\n",
      " ...\n",
      " [ 0.0783847   0.08138861 -0.38448554 ...  0.40558958 -0.01340143\n",
      "   0.33473802]\n",
      " [ 0.0835043   0.01787048  0.11163118 ...  0.5311339   0.13082975\n",
      "   0.06012309]\n",
      " [ 0.04651073  0.399118    0.03651373 ... -0.2595333  -0.17497617\n",
      "   0.36145782]], shape=(20, 1024), dtype=float32)\n"
     ]
    }
   ],
   "execution_count": 33
  },
  {
   "metadata": {
    "ExecuteTime": {
     "end_time": "2025-04-23T05:13:25.724759Z",
     "start_time": "2025-04-23T05:13:25.719676Z"
    }
   },
   "cell_type": "code",
   "source": "print(tf.reduce_sum(x0, axis=0))",
   "id": "2ff8fc08ec79307f",
   "outputs": [
    {
     "name": "stdout",
     "output_type": "stream",
     "text": [
      "tf.Tensor(\n",
      "[-0.65209734  1.742501    3.2368598  ...  2.409593    3.3246903\n",
      "  6.907042  ], shape=(1024,), dtype=float32)\n"
     ]
    }
   ],
   "execution_count": 34
  },
  {
   "metadata": {
    "ExecuteTime": {
     "end_time": "2025-04-23T05:13:29.444477Z",
     "start_time": "2025-04-23T05:13:29.127478Z"
    }
   },
   "cell_type": "code",
   "source": [
    "# Эмбеддинг текста\n",
    "get_elmo_embeddings([X_train[0]])"
   ],
   "id": "f7cba78600771506",
   "outputs": [
    {
     "data": {
      "text/plain": [
       "<tf.Tensor: shape=(1, 1024), dtype=float32, numpy=\n",
       "array([[-0.08138489, -0.22403522,  0.06073161, ..., -0.11337185,\n",
       "         0.397245  , -0.0678893 ]], dtype=float32)>"
      ]
     },
     "execution_count": 35,
     "metadata": {},
     "output_type": "execute_result"
    }
   ],
   "execution_count": 35
  },
  {
   "metadata": {
    "ExecuteTime": {
     "end_time": "2025-04-23T05:13:32.919152Z",
     "start_time": "2025-04-23T05:13:32.914972Z"
    }
   },
   "cell_type": "code",
   "source": [
    "# Получение эмбеддингов\n",
    "def get_elmo_embeddings(texts, batch_size=64):\n",
    "    embeddings = []\n",
    "    for i in range(0, len(texts), batch_size):\n",
    "        batch = texts[i:i + batch_size]\n",
    "        emb = elmo.signatures[\"default\"](tf.constant(batch))[\"default\"]\n",
    "        embeddings.append(emb.numpy())\n",
    "    return np.concatenate(embeddings)"
   ],
   "id": "447f95efb06699bb",
   "outputs": [],
   "execution_count": 36
  },
  {
   "metadata": {
    "ExecuteTime": {
     "end_time": "2025-04-23T05:21:42.981622Z",
     "start_time": "2025-04-23T05:13:34.437010Z"
    }
   },
   "cell_type": "code",
   "source": "X_train_elmo = get_elmo_embeddings(X_train)",
   "id": "896c8f18a73deca0",
   "outputs": [],
   "execution_count": 37
  },
  {
   "metadata": {
    "ExecuteTime": {
     "end_time": "2025-04-23T05:23:48.494347Z",
     "start_time": "2025-04-23T05:22:53.962617Z"
    }
   },
   "cell_type": "code",
   "source": "X_test_elmo = get_elmo_embeddings(X_test)",
   "id": "7fe8f7e7b3776ad4",
   "outputs": [],
   "execution_count": 38
  },
  {
   "metadata": {
    "ExecuteTime": {
     "end_time": "2025-04-23T05:23:49.960741Z",
     "start_time": "2025-04-23T05:23:48.527630Z"
    }
   },
   "cell_type": "code",
   "source": [
    "# Обучение LogisticRegression\n",
    "model = LogisticRegression(max_iter=500)\n",
    "model.fit(X_train_elmo, y_train)\n",
    "\n",
    "# Предсказание и оценка\n",
    "y_pred = model.predict(X_test_elmo)\n",
    "f1 = f1_score(y_test, y_pred, average='macro')\n",
    "\n",
    "print(f\"F1-score (ELMo + LogisticRegression): {f1:.4f}\") #для 1000 было 0,81"
   ],
   "id": "bb8b315baf6fa9f5",
   "outputs": [
    {
     "name": "stdout",
     "output_type": "stream",
     "text": [
      "F1-score (ELMo + LogisticRegression): 0.8847\n"
     ]
    }
   ],
   "execution_count": 40
  },
  {
   "metadata": {
    "ExecuteTime": {
     "end_time": "2025-04-23T05:55:55.486375Z",
     "start_time": "2025-04-23T05:55:55.482497Z"
    }
   },
   "cell_type": "code",
   "source": [
    "\"\"\"\n",
    "sentences = [\n",
    "    \"I deposited money in the bank.\",  # Финансовый \"bank\"\n",
    "    \"The boat sank near the bank.\"     # Речной \"bank\"\n",
    "]\"\"\""
   ],
   "id": "af95e4ed086f3a55",
   "outputs": [],
   "execution_count": 59
  },
  {
   "metadata": {
    "ExecuteTime": {
     "end_time": "2025-04-23T05:57:11.792887Z",
     "start_time": "2025-04-23T05:57:11.615357Z"
    }
   },
   "cell_type": "code",
   "source": [
    "\"\"\"# Получение эмбеддингов (включая токенизацию)\n",
    "outputs = elmo.signatures[\"default\"](tf.constant(sentences))\n",
    "embeddings = outputs[\"word_emb\"]  # Тензор формы [2, max_length, 1024]\n",
    "\n",
    "print(embeddings)\"\"\""
   ],
   "id": "4081b084a42152f7",
   "outputs": [
    {
     "name": "stdout",
     "output_type": "stream",
     "text": [
      "tf.Tensor(\n",
      "[[[ 0.69227165 -0.32613114  0.22827524 ...  0.17574832  0.26598704\n",
      "   -0.10131966]\n",
      "  [-0.1733603   0.6513147   0.46616495 ... -0.02883309  0.04836473\n",
      "   -0.08957538]\n",
      "  [ 0.27699882 -0.3316144   0.00927745 ... -0.26881605 -0.36677992\n",
      "    0.06983681]\n",
      "  [-0.25692382  0.4148302  -0.41116154 ... -0.1983385  -0.02607471\n",
      "    0.16813873]\n",
      "  [-0.06904853  0.1126154   0.23713255 ...  0.08062498  0.09338938\n",
      "   -0.18999371]\n",
      "  [ 0.05600581 -0.03165206 -1.3951159  ... -0.81375486 -0.39511025\n",
      "   -1.1125754 ]]\n",
      "\n",
      " [[-0.32884765  0.20216238 -0.5940115  ...  0.17375435  0.13352706\n",
      "    0.2505604 ]\n",
      "  [ 0.05043833 -0.1829463  -0.10682116 ... -0.06665179  0.49769396\n",
      "    0.11925097]\n",
      "  [-0.65117186 -0.2416502  -0.36178517 ...  0.14649315  0.4681933\n",
      "    0.8126171 ]\n",
      "  [-0.06230947 -0.27355105 -0.66885203 ... -0.4796688  -0.52628994\n",
      "   -0.17827176]\n",
      "  [-0.06904853  0.1126154   0.23713255 ...  0.08062498  0.09338938\n",
      "   -0.18999371]\n",
      "  [ 0.05600581 -0.03165206 -1.3951159  ... -0.81375486 -0.39511025\n",
      "   -1.1125754 ]]], shape=(2, 6, 512), dtype=float32)\n"
     ]
    }
   ],
   "execution_count": 62
  },
  {
   "metadata": {
    "ExecuteTime": {
     "end_time": "2025-04-23T05:57:54.636661Z",
     "start_time": "2025-04-23T05:57:54.633134Z"
    }
   },
   "cell_type": "code",
   "source": [
    "# Находим позиции \"bank\" вручную (если нужно)\n",
    "\"\"\"tokens_list = [\n",
    "    [\"[CLS]\"] + sentence.split() + [\"[SEP]\"] \n",
    "    for sentence in sentences\n",
    "]\n",
    "\n",
    "print(tokens_list)\"\"\""
   ],
   "id": "b62c39fe94f01361",
   "outputs": [
    {
     "name": "stdout",
     "output_type": "stream",
     "text": [
      "[['[CLS]', 'I', 'deposited', 'money', 'in', 'the', 'bank.', '[SEP]'], ['[CLS]', 'The', 'boat', 'sank', 'near', 'the', 'bank.', '[SEP]']]\n"
     ]
    }
   ],
   "execution_count": 64
  },
  {
   "metadata": {
    "ExecuteTime": {
     "end_time": "2025-04-23T05:58:15.431713Z",
     "start_time": "2025-04-23T05:58:15.427701Z"
    }
   },
   "cell_type": "code",
   "source": [
    "\"\"\"positions = [\n",
    "    tokens_list[i].index(\"bank.\") for i in range(len(sentences))\n",
    "]\n",
    "print(positions)\"\"\""
   ],
   "id": "926cf0d0e4d13e64",
   "outputs": [
    {
     "name": "stdout",
     "output_type": "stream",
     "text": [
      "[6, 6]\n"
     ]
    }
   ],
   "execution_count": 67
  },
  {
   "metadata": {
    "ExecuteTime": {
     "end_time": "2025-04-23T06:03:09.075886Z",
     "start_time": "2025-04-23T06:03:09.072160Z"
    }
   },
   "cell_type": "code",
   "source": [
    "\"\"\"# Извлечение эмбеддингов для \"bank\"\n",
    "bank_financial = embeddings[0, positions[0] - 1]\n",
    "bank_river = embeddings[1, positions[1] - 1]\"\"\""
   ],
   "id": "334c48a063bb05e5",
   "outputs": [],
   "execution_count": 83
  },
  {
   "metadata": {
    "ExecuteTime": {
     "end_time": "2025-04-23T06:03:11.815035Z",
     "start_time": "2025-04-23T06:03:11.809310Z"
    }
   },
   "cell_type": "code",
   "source": [
    "\"\"\"# Косинусная близость\n",
    "cosine_sim = tf.reduce_sum(\n",
    "    tf.nn.l2_normalize(bank_financial, axis=0) * \n",
    "    tf.nn.l2_normalize(bank_river, axis=0)\n",
    ").numpy()\n",
    "\n",
    "print(f\"Косинусная близость: {cosine_sim:.3f}\")\"\"\""
   ],
   "id": "2f917908d390fa78",
   "outputs": [
    {
     "name": "stdout",
     "output_type": "stream",
     "text": [
      "Косинусная близость: 1.000\n"
     ]
    }
   ],
   "execution_count": 84
  },
  {
   "metadata": {},
   "cell_type": "code",
   "outputs": [],
   "execution_count": null,
   "source": "",
   "id": "526f45e73da802a3"
  }
 ],
 "metadata": {
  "kernelspec": {
   "display_name": "Python 3",
   "language": "python",
   "name": "python3"
  },
  "language_info": {
   "codemirror_mode": {
    "name": "ipython",
    "version": 2
   },
   "file_extension": ".py",
   "mimetype": "text/x-python",
   "name": "python",
   "nbconvert_exporter": "python",
   "pygments_lexer": "ipython2",
   "version": "2.7.6"
  }
 },
 "nbformat": 4,
 "nbformat_minor": 5
}
