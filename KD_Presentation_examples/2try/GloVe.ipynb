{
 "cells": [
  {
   "cell_type": "code",
   "id": "initial_id",
   "metadata": {
    "collapsed": true,
    "ExecuteTime": {
     "end_time": "2025-04-22T20:13:50.114656Z",
     "start_time": "2025-04-22T20:13:47.127737Z"
    }
   },
   "source": [
    "from datasets import load_dataset\n",
    "import numpy as np\n",
    "from nltk.tokenize import word_tokenize\n",
    "import nltk\n",
    "from sklearn.linear_model import LogisticRegression\n",
    "from sklearn.metrics import f1_score"
   ],
   "outputs": [],
   "execution_count": 1
  },
  {
   "metadata": {
    "ExecuteTime": {
     "end_time": "2025-04-22T20:14:22.292040Z",
     "start_time": "2025-04-22T20:13:50.118632Z"
    }
   },
   "cell_type": "code",
   "source": [
    "# Загрузка токенизатора NLTK\n",
    "nltk.download('punkt')\n",
    "\n",
    "# Загрузка датасета AG News\n",
    "dataset = load_dataset(\"ag_news\")\n",
    "train_data = dataset[\"train\"]\n",
    "test_data = dataset[\"test\"]\n",
    "\n",
    "# Токенизация текстов\n",
    "X_train = [word_tokenize(text.lower()) for text in train_data[\"text\"]]\n",
    "X_test = [word_tokenize(text.lower()) for text in test_data[\"text\"]]\n",
    "y_train = train_data[\"label\"]\n",
    "y_test = test_data[\"label\"]"
   ],
   "id": "f77c15598be4ef94",
   "outputs": [
    {
     "name": "stderr",
     "output_type": "stream",
     "text": [
      "[nltk_data] Downloading package punkt to\n",
      "[nltk_data]     C:\\Users\\R1sed\\AppData\\Roaming\\nltk_data...\n",
      "[nltk_data]   Package punkt is already up-to-date!\n"
     ]
    }
   ],
   "execution_count": 2
  },
  {
   "metadata": {
    "ExecuteTime": {
     "end_time": "2025-04-22T20:24:23.474625Z",
     "start_time": "2025-04-22T20:24:02.027503Z"
    }
   },
   "cell_type": "code",
   "source": [
    "from gensim.models import KeyedVectors\n",
    "\n",
    "# Загрузка GloVe (преобразуем в формат Word2Vec)\n",
    "glove_path = \"glove.6B.100d.txt\"\n",
    "glove_model = KeyedVectors.load_word2vec_format(glove_path, binary=False, no_header=True)"
   ],
   "id": "e8e8b7643668ebf4",
   "outputs": [],
   "execution_count": 3
  },
  {
   "metadata": {
    "ExecuteTime": {
     "end_time": "2025-04-22T20:24:41.499646Z",
     "start_time": "2025-04-22T20:24:31.166340Z"
    }
   },
   "cell_type": "code",
   "source": [
    "def text_to_glove_vector(tokens, model, vector_size=100):\n",
    "    vector = np.zeros(vector_size)\n",
    "    count = 0\n",
    "    for word in tokens:\n",
    "        if word in model:\n",
    "            vector += model[word]\n",
    "            count += 1\n",
    "    if count > 0:\n",
    "        vector /= count  # Усреднение\n",
    "    return vector\n",
    "\n",
    "# Преобразование текстов в векторы\n",
    "X_train_glove = np.array([text_to_glove_vector(text, glove_model) for text in X_train])\n",
    "X_test_glove = np.array([text_to_glove_vector(text, glove_model) for text in X_test])"
   ],
   "id": "e7c18a8e71987a65",
   "outputs": [],
   "execution_count": 4
  },
  {
   "metadata": {
    "ExecuteTime": {
     "end_time": "2025-04-22T20:24:47.894797Z",
     "start_time": "2025-04-22T20:24:41.511670Z"
    }
   },
   "cell_type": "code",
   "source": [
    "# Обучение LogisticRegression\n",
    "model = LogisticRegression(max_iter=500)\n",
    "model.fit(X_train_glove, y_train)\n",
    "\n",
    "# Предсказание и оценка\n",
    "y_pred = model.predict(X_test_glove)\n",
    "f1 = f1_score(y_test, y_pred, average='macro')\n",
    "\n",
    "print(f\"F1-score (GloVe + LogisticRegression): {f1:.4f}\")"
   ],
   "id": "3ff6c91aaa18549",
   "outputs": [
    {
     "name": "stdout",
     "output_type": "stream",
     "text": [
      "F1-score (GloVe + LogisticRegression): 0.8833\n"
     ]
    }
   ],
   "execution_count": 5
  },
  {
   "metadata": {},
   "cell_type": "code",
   "outputs": [],
   "execution_count": null,
   "source": "",
   "id": "4738f897affc6cf5"
  }
 ],
 "metadata": {
  "kernelspec": {
   "display_name": "Python 3",
   "language": "python",
   "name": "python3"
  },
  "language_info": {
   "codemirror_mode": {
    "name": "ipython",
    "version": 2
   },
   "file_extension": ".py",
   "mimetype": "text/x-python",
   "name": "python",
   "nbconvert_exporter": "python",
   "pygments_lexer": "ipython2",
   "version": "2.7.6"
  }
 },
 "nbformat": 4,
 "nbformat_minor": 5
}
