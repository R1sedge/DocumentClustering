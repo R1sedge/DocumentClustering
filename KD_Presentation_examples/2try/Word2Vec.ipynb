{
 "cells": [
  {
   "cell_type": "code",
   "id": "initial_id",
   "metadata": {
    "collapsed": true,
    "ExecuteTime": {
     "end_time": "2025-04-23T10:20:37.081056Z",
     "start_time": "2025-04-23T10:20:26.951243Z"
    }
   },
   "source": [
    "from datasets import load_dataset\n",
    "import numpy as np\n",
    "from gensim.models import Word2Vec\n",
    "from sklearn.linear_model import LogisticRegression\n",
    "from sklearn.metrics import f1_score\n",
    "from nltk.tokenize import word_tokenize\n",
    "import nltk"
   ],
   "outputs": [],
   "execution_count": 1
  },
  {
   "metadata": {
    "ExecuteTime": {
     "end_time": "2025-04-23T10:21:17.938075Z",
     "start_time": "2025-04-23T10:20:37.092064Z"
    }
   },
   "cell_type": "code",
   "source": [
    "# Загрузка токенизатора NLTK (если не установлен)\n",
    "nltk.download('punkt')\n",
    "\n",
    "# Загрузка датасета AG News\n",
    "dataset = load_dataset(\"ag_news\")\n",
    "train_data = dataset[\"train\"]\n",
    "test_data = dataset[\"test\"]\n",
    "\n",
    "# Токенизация текстов\n",
    "X_train = [word_tokenize(text.lower()) for text in train_data[\"text\"]]\n",
    "X_test = [word_tokenize(text.lower()) for text in test_data[\"text\"]]\n",
    "y_train = train_data[\"label\"]\n",
    "y_test = test_data[\"label\"]"
   ],
   "id": "7cbac4eb8a2f719c",
   "outputs": [
    {
     "name": "stderr",
     "output_type": "stream",
     "text": [
      "[nltk_data] Downloading package punkt to\n",
      "[nltk_data]     C:\\Users\\R1sed\\AppData\\Roaming\\nltk_data...\n",
      "[nltk_data]   Package punkt is already up-to-date!\n"
     ]
    }
   ],
   "execution_count": 2
  },
  {
   "metadata": {
    "ExecuteTime": {
     "end_time": "2025-04-23T10:21:31.789249Z",
     "start_time": "2025-04-23T10:21:18.347906Z"
    }
   },
   "cell_type": "code",
   "source": [
    "# Параметры Word2Vec\n",
    "vector_size = 100  # Размерность вектора\n",
    "window = 5         # Размер окна контекста\n",
    "min_count = 2      # Минимальная частота слова\n",
    "\n",
    "# Обучение модели Word2Vec\n",
    "word2vec_model = Word2Vec(\n",
    "    sentences=X_train,\n",
    "    vector_size=vector_size,\n",
    "    window=window,\n",
    "    min_count=min_count,\n",
    "    workers=4\n",
    ")"
   ],
   "id": "dc9902830c914fc6",
   "outputs": [],
   "execution_count": 3
  },
  {
   "metadata": {
    "ExecuteTime": {
     "end_time": "2025-04-23T10:21:41.984803Z",
     "start_time": "2025-04-23T10:21:31.796122Z"
    }
   },
   "cell_type": "code",
   "source": [
    "def text_to_vector(tokens, model, vector_size):\n",
    "    # Инициализируем нулевой вектор\n",
    "    vector = np.zeros(vector_size)\n",
    "    count = 0\n",
    "    \n",
    "    # Суммируем векторы всех слов в тексте\n",
    "    for word in tokens:\n",
    "        if word in model.wv:\n",
    "            vector += model.wv[word]\n",
    "            count += 1\n",
    "    \n",
    "    # Усредняем (чтобы избежать влияния длины текста)\n",
    "    if count > 0:\n",
    "        vector /= count\n",
    "    \n",
    "    return vector\n",
    "\n",
    "# Преобразуем все тексты в векторы\n",
    "X_train_vec = np.array([text_to_vector(text, word2vec_model, vector_size) for text in X_train])\n",
    "X_test_vec = np.array([text_to_vector(text, word2vec_model, vector_size) for text in X_test])"
   ],
   "id": "b345cc9824770061",
   "outputs": [],
   "execution_count": 4
  },
  {
   "metadata": {
    "ExecuteTime": {
     "end_time": "2025-04-23T10:21:45.809947Z",
     "start_time": "2025-04-23T10:21:42.006918Z"
    }
   },
   "cell_type": "code",
   "source": [
    "# Обучение LogisticRegression\n",
    "model = LogisticRegression(max_iter=500)\n",
    "model.fit(X_train_vec, y_train)\n",
    "\n",
    "# Предсказание и оценка\n",
    "y_pred = model.predict(X_test_vec)\n",
    "f1 = f1_score(y_test, y_pred, average='macro')\n",
    "\n",
    "print(f\"F1-score (Word2Vec + LogisticRegression): {f1:.4f}\")"
   ],
   "id": "bc74e61b84fd1118",
   "outputs": [
    {
     "name": "stdout",
     "output_type": "stream",
     "text": [
      "F1-score (Word2Vec + LogisticRegression): 0.8772\n"
     ]
    }
   ],
   "execution_count": 5
  },
  {
   "metadata": {
    "ExecuteTime": {
     "end_time": "2025-04-23T10:33:12.912951Z",
     "start_time": "2025-04-23T10:33:12.905539Z"
    }
   },
   "cell_type": "code",
   "source": [
    "word = \"space\"\n",
    "similar_words = word2vec_model.wv.most_similar(\n",
    "                positive=[word],\n",
    "                topn=5,\n",
    "                restrict_vocab=None\n",
    "            )"
   ],
   "id": "c33a5be8d31c7fba",
   "outputs": [],
   "execution_count": 43
  },
  {
   "metadata": {
    "ExecuteTime": {
     "end_time": "2025-04-23T10:33:13.437148Z",
     "start_time": "2025-04-23T10:33:13.419916Z"
    }
   },
   "cell_type": "code",
   "source": [
    "print(f\"\\nСлово: '{word}'\")\n",
    "print(\"Топ-5 ближайших:\")\n",
    "for similar_word, similarity in similar_words:\n",
    "    print(f\"{similar_word}: {similarity:.3f}\")"
   ],
   "id": "3939a471a1508c84",
   "outputs": [
    {
     "name": "stdout",
     "output_type": "stream",
     "text": [
      "\n",
      "Слово: 'space'\n",
      "Топ-5 ближайших:\n",
      "spacecraft: 0.826\n",
      "orbit: 0.786\n",
      "nasa: 0.784\n",
      "craft: 0.769\n",
      "shuttle: 0.767\n"
     ]
    }
   ],
   "execution_count": 44
  },
  {
   "metadata": {},
   "cell_type": "code",
   "outputs": [],
   "execution_count": null,
   "source": "",
   "id": "e9522a17751e1bd3"
  }
 ],
 "metadata": {
  "kernelspec": {
   "display_name": "Python 3",
   "language": "python",
   "name": "python3"
  },
  "language_info": {
   "codemirror_mode": {
    "name": "ipython",
    "version": 2
   },
   "file_extension": ".py",
   "mimetype": "text/x-python",
   "name": "python",
   "nbconvert_exporter": "python",
   "pygments_lexer": "ipython2",
   "version": "2.7.6"
  }
 },
 "nbformat": 4,
 "nbformat_minor": 5
}
