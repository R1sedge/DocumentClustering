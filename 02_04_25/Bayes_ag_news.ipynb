{
 "cells": [
  {
   "cell_type": "code",
   "id": "initial_id",
   "metadata": {
    "collapsed": true,
    "ExecuteTime": {
     "end_time": "2025-04-30T09:25:44.435764Z",
     "start_time": "2025-04-30T09:25:32.194869Z"
    }
   },
   "source": [
    "from sklearn.naive_bayes import GaussianNB, BernoulliNB, MultinomialNB, ComplementNB \n",
    "import nltk\n",
    "import string\n",
    "from datasets import load_dataset\n",
    "import re\n",
    "from nltk.corpus import stopwords\n",
    "from nltk import pos_tag\n",
    "import numpy as np\n",
    "from sklearn.decomposition import TruncatedSVD\n",
    "from sklearn.metrics import f1_score\n",
    "from sklearn.feature_extraction.text import TfidfVectorizer\n",
    "import mlflow\n",
    "from sklearnex import patch_sklearn\n",
    "from warnings import filterwarnings\n",
    "patch_sklearn()"
   ],
   "outputs": [
    {
     "name": "stderr",
     "output_type": "stream",
     "text": [
      "Intel(R) Extension for Scikit-learn* enabled (https://github.com/uxlfoundation/scikit-learn-intelex)\n"
     ]
    }
   ],
   "execution_count": 1
  },
  {
   "metadata": {
    "ExecuteTime": {
     "end_time": "2025-04-30T09:25:44.444756Z",
     "start_time": "2025-04-30T09:25:44.440756Z"
    }
   },
   "cell_type": "code",
   "source": "filterwarnings(\"ignore\")",
   "id": "b5e4ac9e67c6449a",
   "outputs": [],
   "execution_count": 2
  },
  {
   "metadata": {
    "ExecuteTime": {
     "end_time": "2025-04-30T09:25:51.839540Z",
     "start_time": "2025-04-30T09:25:44.867592Z"
    }
   },
   "cell_type": "code",
   "source": [
    "ag_news_dataset = load_dataset(\"ag_news\")\n",
    "stop_words = set(stopwords.words(\"english\"))"
   ],
   "id": "809fe67c5612ae46",
   "outputs": [],
   "execution_count": 3
  },
  {
   "metadata": {
    "ExecuteTime": {
     "end_time": "2025-04-30T09:25:51.850270Z",
     "start_time": "2025-04-30T09:25:51.846573Z"
    }
   },
   "cell_type": "code",
   "source": [
    "text_preprocess_types = [None, 'стемминг', 'лемматизация']\n",
    "#text_preprocess_types = ['лемматизация']\n",
    "\n",
    "#words_classes = ['N', 'NJ', 'NJV', 'ALL']\n",
    "words_classes = ['ALL']\n",
    "\n",
    "#frequency_filtration_types = [None, 'low', 'high', 'both']\n",
    "frequency_filtration_types = [None, 'low']\n",
    "\n",
    "n_components = [150, 250, 375, 500, 750]\n",
    "\n",
    "#hidden_layer_size = [375, 500, 750]"
   ],
   "id": "b0f5eb2b934583c6",
   "outputs": [],
   "execution_count": 4
  },
  {
   "metadata": {
    "ExecuteTime": {
     "end_time": "2025-04-30T09:25:51.867226Z",
     "start_time": "2025-04-30T09:25:51.862850Z"
    }
   },
   "cell_type": "code",
   "source": [
    "def base_ag_news_preprocess(text):\n",
    "    tokens = text.lower()\n",
    "\n",
    "    # Удаление спец слов\n",
    "    special_words = ['reuters', 'afp', 'ap', 'usatoday.com', 'forbes.com', 'target=/stocks/quickinfo/fullquote\"' ]\n",
    "    for word in special_words:\n",
    "        tokens = tokens.replace(word, '')\n",
    "    \n",
    "    pattern = r'[&lt][^<>]*&gt'\n",
    "    tokens = re.sub(pattern, '', tokens)\n",
    "    \n",
    "    # Удаление пунктуации и цифр\n",
    "    #tokens = ''.join(i if i not in set(string.punctuation) - set('-') | set(string.digits) else ' ' for i in tokens)\n",
    "    tokens = ''.join(i if i not in set(string.punctuation)  | set(string.digits) else ' ' for i in tokens)\n",
    "    \n",
    "    # Токенизация\n",
    "    tokens = nltk.word_tokenize(tokens)\n",
    "    \n",
    "    # Удаление стоп слов\n",
    "    #stop_wordsL = stop_words - {'no','not'}\n",
    "    stop_wordsL = stop_words\n",
    "    tokens = [word for word in tokens if (word not in stop_wordsL and word != '-')]\n",
    "    return tokens"
   ],
   "id": "c272bda0b7773b9c",
   "outputs": [],
   "execution_count": 5
  },
  {
   "metadata": {
    "ExecuteTime": {
     "end_time": "2025-04-30T09:25:51.880327Z",
     "start_time": "2025-04-30T09:25:51.875189Z"
    }
   },
   "cell_type": "code",
   "source": [
    "def different_ag_news_preprocess(tokens, preprocess_type, words_class):\n",
    "    \n",
    "    # Обработка слов\n",
    "    if preprocess_type == 'лемматизация':\n",
    "        lemmatizer = nltk.WordNetLemmatizer()\n",
    "        tokens = [lemmatizer.lemmatize(token) for token in tokens]\n",
    "    elif preprocess_type == 'стемминг':\n",
    "        stemmer = nltk.PorterStemmer()\n",
    "        tokens = [stemmer.stem(token) for token in tokens]\n",
    "    \n",
    "    # Обработка частей речи\n",
    "    tokens = pos_tag(tokens)\n",
    "    if words_class == 'N':\n",
    "        tokens = [word for word, tag in tokens if tag.startswith('N')]\n",
    "    elif words_class == 'NJ':\n",
    "        tokens = [word for word, tag in tokens if tag.startswith('N') or tag.startswith('J')]\n",
    "    elif words_class == 'NJV':\n",
    "        tokens = [word for word, tag in tokens if tag.startswith('N') or tag.startswith('J') or tag.startswith('V')]\n",
    "    elif words_class == 'ALL':\n",
    "        tokens = [word for word, _ in tokens]\n",
    "    \n",
    "    return tokens  "
   ],
   "id": "e2fa68cedc7b2928",
   "outputs": [],
   "execution_count": 6
  },
  {
   "metadata": {
    "ExecuteTime": {
     "end_time": "2025-04-30T09:25:51.891386Z",
     "start_time": "2025-04-30T09:25:51.887323Z"
    }
   },
   "cell_type": "code",
   "source": [
    "def frequency_filtration(words_dictionary, frequency_filtration_type):\n",
    "    if frequency_filtration_type == 'low':\n",
    "        return dict([(key, value) for key, value in words_dictionary.items() if value >= 10 ])\n",
    "    elif frequency_filtration_type == 'high':\n",
    "        return dict([(key, value) for key, value in words_dictionary.items() if value <= 3000])\n",
    "    elif frequency_filtration_type == 'both':\n",
    "        return dict([(key, value) for key, value in words_dictionary.items() if 10 <= value <= 3000])\n",
    "    else:\n",
    "        return words_dictionary"
   ],
   "id": "bc56988c9cf93cac",
   "outputs": [],
   "execution_count": 7
  },
  {
   "metadata": {
    "ExecuteTime": {
     "end_time": "2025-04-30T09:25:51.900864Z",
     "start_time": "2025-04-30T09:25:51.898147Z"
    }
   },
   "cell_type": "code",
   "source": [
    "def dummy(doc):\n",
    "    return doc"
   ],
   "id": "31a22dde3a78eed3",
   "outputs": [],
   "execution_count": 8
  },
  {
   "metadata": {
    "ExecuteTime": {
     "end_time": "2025-04-30T09:25:51.916851Z",
     "start_time": "2025-04-30T09:25:51.907854Z"
    }
   },
   "cell_type": "code",
   "source": [
    "def final_ag_news_preprocess(dataset, model_type):\n",
    "    # Подготовка данных\n",
    "    x_train = dataset['train']['text']\n",
    "    y_train = dataset['train']['label']\n",
    "    \n",
    "    x_test = dataset['test']['text']\n",
    "    y_test = dataset['test']['label']\n",
    "    \n",
    "    # Базовая обработка\n",
    "    for i, text in enumerate(x_train):\n",
    "        x_train[i] = base_ag_news_preprocess(text)\n",
    "        \n",
    "    for i, text in enumerate(x_test):\n",
    "        x_test[i] = base_ag_news_preprocess(text)\n",
    "    \n",
    "    index = 0\n",
    "    # Вариативная обработка\n",
    "    for preprocess_type in text_preprocess_types: \n",
    "        for words_class in words_classes:         \n",
    "            words = {}\n",
    "            xtr = x_train\n",
    "            xte = x_test\n",
    "            \n",
    "            # Обработка текстов\n",
    "            for i, tokens in enumerate(xtr):\n",
    "                final_tokens = different_ag_news_preprocess(tokens, preprocess_type, words_class)\n",
    "                xtr[i] = final_tokens\n",
    "                \n",
    "                # Заполнение словаря\n",
    "                for token in final_tokens:\n",
    "                    if token not in words:\n",
    "                        words[token] = 1\n",
    "                    else:\n",
    "                        words[token] += 1\n",
    "            \n",
    "            xte = [different_ag_news_preprocess(tokens, preprocess_type, words_class) for tokens in xte]\n",
    "                    \n",
    "            # Фильтрация по частоте\n",
    "            for frequency_filtration_type in frequency_filtration_types: \n",
    "                filtered_words = frequency_filtration(words, frequency_filtration_type)\n",
    "                token_length = len(filtered_words)\n",
    "                \n",
    "                # Векторизация слов\n",
    "                word_list = sorted(filtered_words.keys())\n",
    "                # Присвоение словам индексов\n",
    "                words_indexed = {}\n",
    "                for idx, word in enumerate(word_list):\n",
    "                    words_indexed[word] = idx\n",
    "                \n",
    "                # TF-IDF\n",
    "                vectorizer_TFIDF = TfidfVectorizer(vocabulary=words_indexed, preprocessor=dummy, tokenizer=dummy, dtype=np.float32)\n",
    "                x_train_TFIDF = vectorizer_TFIDF.fit_transform(xtr)\n",
    "                x_test_TFIDF = vectorizer_TFIDF.transform(xte)\n",
    "                \n",
    "                #LSI\n",
    "                #for n_num in n_components:\n",
    "                    #SVD_TFIDF = TruncatedSVD(n_components=n_num)\n",
    "                    \n",
    "                    #SVD_TFIDF.fit(x_train_TFIDF)\n",
    "                    \n",
    "                    #x_train_TFIDF_SVD = SVD_TFIDF.transform(x_train_TFIDF)\n",
    "                    #x_test_TFIDF_SVD = SVD_TFIDF.transform(x_test_TFIDF)\n",
    "\n",
    "                    # Построение классификаторов\n",
    "                if frequency_filtration_type is not None:\n",
    "                    clf_G = GaussianNB()\n",
    "                    \n",
    "                    # Обучение классификаторов\n",
    "                    clf_G.fit(x_train_TFIDF.toarray(), y_train)\n",
    "             \n",
    "                    # Тестирование\n",
    "                    prediction_G = clf_G.predict(x_test_TFIDF.toarray())\n",
    "                        \n",
    "                    # Метрики\n",
    "                    score_G = f1_score(y_test, prediction_G, average='macro')\n",
    "                            \n",
    "                    mlflow.start_run(run_name=f'Gaussian_TFIDF_{preprocess_type}_{words_class}_{frequency_filtration_type}')\n",
    "                    mlflow.log_param('model', clf_G.__class__.__name__)\n",
    "                    mlflow.log_param('preprocess_type', preprocess_type)\n",
    "                    mlflow.log_param('words_class', words_class)\n",
    "                    mlflow.log_param('frequency_filtration_type', frequency_filtration_type)\n",
    "                    mlflow.log_param('token_length', token_length)\n",
    "                    #mlflow.log_param('n_components', n_num)\n",
    "                    mlflow.log_param('word vectorizer', 'TFIDF')\n",
    "                    mlflow.log_metric('macro_score', score_G)\n",
    "                    mlflow.end_run()\n",
    "                \n",
    "                clf_B = BernoulliNB()\n",
    "                clf_B.fit(x_train_TFIDF, y_train)\n",
    "                prediction_B = clf_B.predict(x_test_TFIDF)\n",
    "                score_B = f1_score(y_test, prediction_B, average='macro')\n",
    "                \n",
    "                mlflow.start_run(run_name=f'Bernoulli_TFIDF_{preprocess_type}_{words_class}_{frequency_filtration_type}')\n",
    "                mlflow.log_param('model', clf_B.__class__.__name__)\n",
    "                mlflow.log_param('preprocess_type', preprocess_type)\n",
    "                mlflow.log_param('words_class', words_class)\n",
    "                mlflow.log_param('frequency_filtration_type', frequency_filtration_type)\n",
    "                mlflow.log_param('token_length', token_length)\n",
    "                #mlflow.log_param('n_components', n_num)\n",
    "                mlflow.log_param('word vectorizer', 'TFIDF')\n",
    "                mlflow.log_metric('macro_score', score_B)\n",
    "                mlflow.end_run()\n",
    "                    \n",
    "                index += 1\n",
    "                print(f'Итерация {index}')"
   ],
   "id": "1cf13e9858ba68ee",
   "outputs": [],
   "execution_count": 9
  },
  {
   "metadata": {
    "ExecuteTime": {
     "end_time": "2025-04-08T14:47:33.205285Z",
     "start_time": "2025-04-08T14:47:13.616700Z"
    }
   },
   "cell_type": "code",
   "source": [
    "mlflow.set_tracking_uri(\"http://127.0.0.1:5000\")\n",
    "mlflow.set_experiment(experiment_name=\"agNews_NB\")"
   ],
   "id": "4247f6bd9189f45d",
   "outputs": [
    {
     "name": "stderr",
     "output_type": "stream",
     "text": [
      "2025/04/08 17:47:33 INFO mlflow.tracking.fluent: Experiment with name 'agNews_NB' does not exist. Creating a new experiment.\n"
     ]
    },
    {
     "data": {
      "text/plain": [
       "<Experiment: artifact_location='mlflow-artifacts:/729937831637931560', creation_time=1744123653173, experiment_id='729937831637931560', last_update_time=1744123653173, lifecycle_stage='active', name='agNews_NB', tags={}>"
      ]
     },
     "execution_count": 99,
     "metadata": {},
     "output_type": "execute_result"
    }
   ],
   "execution_count": 99
  },
  {
   "metadata": {
    "ExecuteTime": {
     "end_time": "2025-04-08T18:17:21.397779Z",
     "start_time": "2025-04-08T18:07:41.050259Z"
    }
   },
   "cell_type": "code",
   "source": "final_ag_news_preprocess(ag_news_dataset, 'MLP')",
   "id": "8d3d9440e1a02313",
   "outputs": [
    {
     "name": "stdout",
     "output_type": "stream",
     "text": [
      "🏃 View run Bernoulli_TFIDF_None_ALL_None at: http://127.0.0.1:5000/#/experiments/729937831637931560/runs/1ff0c2286500450b950740b5d881cb67\n",
      "🧪 View experiment at: http://127.0.0.1:5000/#/experiments/729937831637931560\n",
      "Итерация 1\n",
      "🏃 View run Gaussian_TFIDF_None_ALL_low at: http://127.0.0.1:5000/#/experiments/729937831637931560/runs/8e138d84148f4e9594f90ea7bd91e151\n",
      "🧪 View experiment at: http://127.0.0.1:5000/#/experiments/729937831637931560\n",
      "🏃 View run Bernoulli_TFIDF_None_ALL_low at: http://127.0.0.1:5000/#/experiments/729937831637931560/runs/363c7deb881b43e9bbe0f2be76a09839\n",
      "🧪 View experiment at: http://127.0.0.1:5000/#/experiments/729937831637931560\n",
      "Итерация 2\n",
      "🏃 View run Bernoulli_TFIDF_стемминг_ALL_None at: http://127.0.0.1:5000/#/experiments/729937831637931560/runs/cf8c1d19761949a487c76d650d078ba2\n",
      "🧪 View experiment at: http://127.0.0.1:5000/#/experiments/729937831637931560\n",
      "Итерация 3\n",
      "🏃 View run Gaussian_TFIDF_стемминг_ALL_low at: http://127.0.0.1:5000/#/experiments/729937831637931560/runs/5a4e216995e541c4bdaa43c0597d2dc8\n",
      "🧪 View experiment at: http://127.0.0.1:5000/#/experiments/729937831637931560\n",
      "🏃 View run Bernoulli_TFIDF_стемминг_ALL_low at: http://127.0.0.1:5000/#/experiments/729937831637931560/runs/b9c8419b0d9d43e3bd9c11edf5477322\n",
      "🧪 View experiment at: http://127.0.0.1:5000/#/experiments/729937831637931560\n",
      "Итерация 4\n",
      "🏃 View run Bernoulli_TFIDF_лемматизация_ALL_None at: http://127.0.0.1:5000/#/experiments/729937831637931560/runs/c66cd369e5d44ab6ae42bdf259e3be4c\n",
      "🧪 View experiment at: http://127.0.0.1:5000/#/experiments/729937831637931560\n",
      "Итерация 5\n",
      "🏃 View run Gaussian_TFIDF_лемматизация_ALL_low at: http://127.0.0.1:5000/#/experiments/729937831637931560/runs/e9cbc3e47e0c46a6ba0156fa66c71e58\n",
      "🧪 View experiment at: http://127.0.0.1:5000/#/experiments/729937831637931560\n",
      "🏃 View run Bernoulli_TFIDF_лемматизация_ALL_low at: http://127.0.0.1:5000/#/experiments/729937831637931560/runs/4ed9df6085624a9ba5debfdbd83a2d05\n",
      "🧪 View experiment at: http://127.0.0.1:5000/#/experiments/729937831637931560\n",
      "Итерация 6\n"
     ]
    }
   ],
   "execution_count": 138
  },
  {
   "metadata": {},
   "cell_type": "markdown",
   "source": "Ручные тесты\n",
   "id": "d8ddd64f40cd4d00"
  },
  {
   "metadata": {
    "ExecuteTime": {
     "end_time": "2025-04-30T09:41:11.727667Z",
     "start_time": "2025-04-30T09:38:53.229599Z"
    }
   },
   "cell_type": "code",
   "source": [
    "dataset = ag_news_dataset\n",
    "preprocess_type = None\n",
    "words_class = 'ALL'\n",
    "frequency_filtration_type = None\n",
    "\n",
    "# Подготовка данных\n",
    "x_train = dataset['train']['text']\n",
    "y_train = dataset['train']['label']\n",
    "    \n",
    "x_test = dataset['test']['text']\n",
    "y_test = dataset['test']['label']\n",
    "    \n",
    "# Базовая обработка\n",
    "for i, text in enumerate(x_train):\n",
    "    x_train[i] = base_ag_news_preprocess(text)\n",
    "        \n",
    "for i, text in enumerate(x_test):\n",
    "    x_test[i] = base_ag_news_preprocess(text)\n",
    "    \n",
    "words = {}\n",
    "xtr = x_train\n",
    "xte = x_test\n",
    "            \n",
    "# Обработка текстов\n",
    "for i, tokens in enumerate(xtr):\n",
    "    final_tokens = different_ag_news_preprocess(tokens, preprocess_type, words_class)\n",
    "    xtr[i] = final_tokens\n",
    "                \n",
    "    # Заполнение словаря\n",
    "    for token in final_tokens:\n",
    "        if token not in words:\n",
    "            words[token] = 1\n",
    "        else:\n",
    "            words[token] += 1\n",
    "            \n",
    "xte = [different_ag_news_preprocess(tokens, preprocess_type, words_class) for tokens in xte]\n",
    "                    \n",
    "# Фильтрация по частоте\n",
    "filtered_words = frequency_filtration(words, frequency_filtration_type)\n",
    "token_length = len(filtered_words)\n",
    "                \n",
    "# Векторизация слов\n",
    "word_list = sorted(filtered_words.keys())\n",
    "# Присвоение словам индексов\n",
    "words_indexed = {}\n",
    "for idx, word in enumerate(word_list):\n",
    "    words_indexed[word] = idx\n",
    "    \n",
    "# TF-IDF\n",
    "vectorizer_TFIDF = TfidfVectorizer(vocabulary=words_indexed,max_features=5000, preprocessor=dummy, tokenizer=dummy, dtype=np.float32)\n",
    "x_train_TFIDF = vectorizer_TFIDF.fit_transform(xtr)\n",
    "x_test_TFIDF = vectorizer_TFIDF.transform(xte)\n",
    "\n"
   ],
   "id": "144901c33cafc99",
   "outputs": [],
   "execution_count": 27
  },
  {
   "metadata": {
    "ExecuteTime": {
     "end_time": "2025-04-30T09:41:33.485202Z",
     "start_time": "2025-04-30T09:41:33.481351Z"
    }
   },
   "cell_type": "code",
   "source": [
    "from sklearn.model_selection import GridSearchCV\n",
    "from sklearn.metrics import make_scorer"
   ],
   "id": "82c04e6ef0cc2e78",
   "outputs": [],
   "execution_count": 28
  },
  {
   "metadata": {
    "ExecuteTime": {
     "end_time": "2025-04-30T09:41:35.372048Z",
     "start_time": "2025-04-30T09:41:35.369391Z"
    }
   },
   "cell_type": "code",
   "source": "f1_macro_scorer = make_scorer(f1_score, average='macro')",
   "id": "92997edc159d680c",
   "outputs": [],
   "execution_count": 30
  },
  {
   "metadata": {
    "ExecuteTime": {
     "end_time": "2025-04-30T09:42:47.890201Z",
     "start_time": "2025-04-30T09:42:47.886332Z"
    }
   },
   "cell_type": "code",
   "source": "clf = MultinomialNB()",
   "id": "8aca75185ce59ac9",
   "outputs": [],
   "execution_count": 36
  },
  {
   "metadata": {
    "ExecuteTime": {
     "end_time": "2025-04-30T09:42:49.636352Z",
     "start_time": "2025-04-30T09:42:49.591914Z"
    }
   },
   "cell_type": "code",
   "source": "clf = clf.fit(x_train_TFIDF, y_train)",
   "id": "1d2c285ab4b92871",
   "outputs": [],
   "execution_count": 37
  },
  {
   "metadata": {
    "ExecuteTime": {
     "end_time": "2025-04-30T09:42:52.443926Z",
     "start_time": "2025-04-30T09:42:49.642333Z"
    }
   },
   "cell_type": "code",
   "source": [
    "predictions = clf.predict(x_test_TFIDF.toarray())\n",
    "macro_score = f1_score(y_test, predictions, average='macro')"
   ],
   "id": "7ae25e3df18788f0",
   "outputs": [],
   "execution_count": 38
  },
  {
   "metadata": {
    "ExecuteTime": {
     "end_time": "2025-04-30T09:42:54.480073Z",
     "start_time": "2025-04-30T09:42:54.476062Z"
    }
   },
   "cell_type": "code",
   "source": "print(macro_score)",
   "id": "7e37753273a59743",
   "outputs": [
    {
     "name": "stdout",
     "output_type": "stream",
     "text": [
      "0.8984204774199408\n"
     ]
    }
   ],
   "execution_count": 39
  },
  {
   "metadata": {
    "ExecuteTime": {
     "end_time": "2025-04-30T09:43:33.200287Z",
     "start_time": "2025-04-30T09:43:33.196965Z"
    }
   },
   "cell_type": "code",
   "source": "clf = ComplementNB()",
   "id": "736049ca4d8394b7",
   "outputs": [],
   "execution_count": 40
  },
  {
   "metadata": {
    "ExecuteTime": {
     "end_time": "2025-04-30T09:43:34.764658Z",
     "start_time": "2025-04-30T09:43:34.717755Z"
    }
   },
   "cell_type": "code",
   "source": "clf = clf.fit(x_train_TFIDF, y_train)",
   "id": "c057bdf0830b8c3b",
   "outputs": [],
   "execution_count": 41
  },
  {
   "metadata": {
    "ExecuteTime": {
     "end_time": "2025-04-30T09:43:36.979761Z",
     "start_time": "2025-04-30T09:43:34.771204Z"
    }
   },
   "cell_type": "code",
   "source": [
    "predictions = clf.predict(x_test_TFIDF.toarray())\n",
    "macro_score = f1_score(y_test, predictions, average='macro')"
   ],
   "id": "db3e2a5bb2c46737",
   "outputs": [],
   "execution_count": 42
  },
  {
   "metadata": {
    "ExecuteTime": {
     "end_time": "2025-04-30T09:43:38.799370Z",
     "start_time": "2025-04-30T09:43:38.794380Z"
    }
   },
   "cell_type": "code",
   "source": "print(macro_score)",
   "id": "805e434df335ae3e",
   "outputs": [
    {
     "name": "stdout",
     "output_type": "stream",
     "text": [
      "0.9011009276712132\n"
     ]
    }
   ],
   "execution_count": 43
  },
  {
   "metadata": {
    "ExecuteTime": {
     "end_time": "2025-04-30T09:41:35.360320Z",
     "start_time": "2025-04-30T09:41:35.357476Z"
    }
   },
   "cell_type": "code",
   "outputs": [],
   "execution_count": 29,
   "source": [
    "parameters = {\n",
    "    'alpha':[0.01, 0.1, 0.5, 1.0]\n",
    "}"
   ],
   "id": "ca0c7d881f1cd45b"
  },
  {
   "metadata": {
    "ExecuteTime": {
     "end_time": "2025-04-30T09:45:58.020391Z",
     "start_time": "2025-04-30T09:45:58.016655Z"
    }
   },
   "cell_type": "code",
   "source": [
    "# Инициализация RandomizedSearchCV\n",
    "search = GridSearchCV(\n",
    "    ComplementNB(),\n",
    "    param_grid=parameters,\n",
    "    scoring=f1_macro_scorer,          # Метрика\n",
    "    n_jobs=-1,                  # Использовать все ядра\n",
    ")"
   ],
   "id": "a163980047b3b4cb",
   "outputs": [],
   "execution_count": 45
  },
  {
   "metadata": {
    "ExecuteTime": {
     "end_time": "2025-04-30T09:46:10.871580Z",
     "start_time": "2025-04-30T09:46:05.000418Z"
    }
   },
   "cell_type": "code",
   "source": "search.fit(x_train_TFIDF, y_train)",
   "id": "443c975730aa10b0",
   "outputs": [
    {
     "data": {
      "text/plain": [
       "GridSearchCV(estimator=ComplementNB(), n_jobs=-1,\n",
       "             param_grid={'alpha': [0.01, 0.1, 0.5, 1.0]},\n",
       "             scoring=make_scorer(f1_score, response_method='predict', average=macro))"
      ],
      "text/html": [
       "<style>#sk-container-id-2 {\n",
       "  /* Definition of color scheme common for light and dark mode */\n",
       "  --sklearn-color-text: #000;\n",
       "  --sklearn-color-text-muted: #666;\n",
       "  --sklearn-color-line: gray;\n",
       "  /* Definition of color scheme for unfitted estimators */\n",
       "  --sklearn-color-unfitted-level-0: #fff5e6;\n",
       "  --sklearn-color-unfitted-level-1: #f6e4d2;\n",
       "  --sklearn-color-unfitted-level-2: #ffe0b3;\n",
       "  --sklearn-color-unfitted-level-3: chocolate;\n",
       "  /* Definition of color scheme for fitted estimators */\n",
       "  --sklearn-color-fitted-level-0: #f0f8ff;\n",
       "  --sklearn-color-fitted-level-1: #d4ebff;\n",
       "  --sklearn-color-fitted-level-2: #b3dbfd;\n",
       "  --sklearn-color-fitted-level-3: cornflowerblue;\n",
       "\n",
       "  /* Specific color for light theme */\n",
       "  --sklearn-color-text-on-default-background: var(--sg-text-color, var(--theme-code-foreground, var(--jp-content-font-color1, black)));\n",
       "  --sklearn-color-background: var(--sg-background-color, var(--theme-background, var(--jp-layout-color0, white)));\n",
       "  --sklearn-color-border-box: var(--sg-text-color, var(--theme-code-foreground, var(--jp-content-font-color1, black)));\n",
       "  --sklearn-color-icon: #696969;\n",
       "\n",
       "  @media (prefers-color-scheme: dark) {\n",
       "    /* Redefinition of color scheme for dark theme */\n",
       "    --sklearn-color-text-on-default-background: var(--sg-text-color, var(--theme-code-foreground, var(--jp-content-font-color1, white)));\n",
       "    --sklearn-color-background: var(--sg-background-color, var(--theme-background, var(--jp-layout-color0, #111)));\n",
       "    --sklearn-color-border-box: var(--sg-text-color, var(--theme-code-foreground, var(--jp-content-font-color1, white)));\n",
       "    --sklearn-color-icon: #878787;\n",
       "  }\n",
       "}\n",
       "\n",
       "#sk-container-id-2 {\n",
       "  color: var(--sklearn-color-text);\n",
       "}\n",
       "\n",
       "#sk-container-id-2 pre {\n",
       "  padding: 0;\n",
       "}\n",
       "\n",
       "#sk-container-id-2 input.sk-hidden--visually {\n",
       "  border: 0;\n",
       "  clip: rect(1px 1px 1px 1px);\n",
       "  clip: rect(1px, 1px, 1px, 1px);\n",
       "  height: 1px;\n",
       "  margin: -1px;\n",
       "  overflow: hidden;\n",
       "  padding: 0;\n",
       "  position: absolute;\n",
       "  width: 1px;\n",
       "}\n",
       "\n",
       "#sk-container-id-2 div.sk-dashed-wrapped {\n",
       "  border: 1px dashed var(--sklearn-color-line);\n",
       "  margin: 0 0.4em 0.5em 0.4em;\n",
       "  box-sizing: border-box;\n",
       "  padding-bottom: 0.4em;\n",
       "  background-color: var(--sklearn-color-background);\n",
       "}\n",
       "\n",
       "#sk-container-id-2 div.sk-container {\n",
       "  /* jupyter's `normalize.less` sets `[hidden] { display: none; }`\n",
       "     but bootstrap.min.css set `[hidden] { display: none !important; }`\n",
       "     so we also need the `!important` here to be able to override the\n",
       "     default hidden behavior on the sphinx rendered scikit-learn.org.\n",
       "     See: https://github.com/scikit-learn/scikit-learn/issues/21755 */\n",
       "  display: inline-block !important;\n",
       "  position: relative;\n",
       "}\n",
       "\n",
       "#sk-container-id-2 div.sk-text-repr-fallback {\n",
       "  display: none;\n",
       "}\n",
       "\n",
       "div.sk-parallel-item,\n",
       "div.sk-serial,\n",
       "div.sk-item {\n",
       "  /* draw centered vertical line to link estimators */\n",
       "  background-image: linear-gradient(var(--sklearn-color-text-on-default-background), var(--sklearn-color-text-on-default-background));\n",
       "  background-size: 2px 100%;\n",
       "  background-repeat: no-repeat;\n",
       "  background-position: center center;\n",
       "}\n",
       "\n",
       "/* Parallel-specific style estimator block */\n",
       "\n",
       "#sk-container-id-2 div.sk-parallel-item::after {\n",
       "  content: \"\";\n",
       "  width: 100%;\n",
       "  border-bottom: 2px solid var(--sklearn-color-text-on-default-background);\n",
       "  flex-grow: 1;\n",
       "}\n",
       "\n",
       "#sk-container-id-2 div.sk-parallel {\n",
       "  display: flex;\n",
       "  align-items: stretch;\n",
       "  justify-content: center;\n",
       "  background-color: var(--sklearn-color-background);\n",
       "  position: relative;\n",
       "}\n",
       "\n",
       "#sk-container-id-2 div.sk-parallel-item {\n",
       "  display: flex;\n",
       "  flex-direction: column;\n",
       "}\n",
       "\n",
       "#sk-container-id-2 div.sk-parallel-item:first-child::after {\n",
       "  align-self: flex-end;\n",
       "  width: 50%;\n",
       "}\n",
       "\n",
       "#sk-container-id-2 div.sk-parallel-item:last-child::after {\n",
       "  align-self: flex-start;\n",
       "  width: 50%;\n",
       "}\n",
       "\n",
       "#sk-container-id-2 div.sk-parallel-item:only-child::after {\n",
       "  width: 0;\n",
       "}\n",
       "\n",
       "/* Serial-specific style estimator block */\n",
       "\n",
       "#sk-container-id-2 div.sk-serial {\n",
       "  display: flex;\n",
       "  flex-direction: column;\n",
       "  align-items: center;\n",
       "  background-color: var(--sklearn-color-background);\n",
       "  padding-right: 1em;\n",
       "  padding-left: 1em;\n",
       "}\n",
       "\n",
       "\n",
       "/* Toggleable style: style used for estimator/Pipeline/ColumnTransformer box that is\n",
       "clickable and can be expanded/collapsed.\n",
       "- Pipeline and ColumnTransformer use this feature and define the default style\n",
       "- Estimators will overwrite some part of the style using the `sk-estimator` class\n",
       "*/\n",
       "\n",
       "/* Pipeline and ColumnTransformer style (default) */\n",
       "\n",
       "#sk-container-id-2 div.sk-toggleable {\n",
       "  /* Default theme specific background. It is overwritten whether we have a\n",
       "  specific estimator or a Pipeline/ColumnTransformer */\n",
       "  background-color: var(--sklearn-color-background);\n",
       "}\n",
       "\n",
       "/* Toggleable label */\n",
       "#sk-container-id-2 label.sk-toggleable__label {\n",
       "  cursor: pointer;\n",
       "  display: flex;\n",
       "  width: 100%;\n",
       "  margin-bottom: 0;\n",
       "  padding: 0.5em;\n",
       "  box-sizing: border-box;\n",
       "  text-align: center;\n",
       "  align-items: start;\n",
       "  justify-content: space-between;\n",
       "  gap: 0.5em;\n",
       "}\n",
       "\n",
       "#sk-container-id-2 label.sk-toggleable__label .caption {\n",
       "  font-size: 0.6rem;\n",
       "  font-weight: lighter;\n",
       "  color: var(--sklearn-color-text-muted);\n",
       "}\n",
       "\n",
       "#sk-container-id-2 label.sk-toggleable__label-arrow:before {\n",
       "  /* Arrow on the left of the label */\n",
       "  content: \"▸\";\n",
       "  float: left;\n",
       "  margin-right: 0.25em;\n",
       "  color: var(--sklearn-color-icon);\n",
       "}\n",
       "\n",
       "#sk-container-id-2 label.sk-toggleable__label-arrow:hover:before {\n",
       "  color: var(--sklearn-color-text);\n",
       "}\n",
       "\n",
       "/* Toggleable content - dropdown */\n",
       "\n",
       "#sk-container-id-2 div.sk-toggleable__content {\n",
       "  max-height: 0;\n",
       "  max-width: 0;\n",
       "  overflow: hidden;\n",
       "  text-align: left;\n",
       "  /* unfitted */\n",
       "  background-color: var(--sklearn-color-unfitted-level-0);\n",
       "}\n",
       "\n",
       "#sk-container-id-2 div.sk-toggleable__content.fitted {\n",
       "  /* fitted */\n",
       "  background-color: var(--sklearn-color-fitted-level-0);\n",
       "}\n",
       "\n",
       "#sk-container-id-2 div.sk-toggleable__content pre {\n",
       "  margin: 0.2em;\n",
       "  border-radius: 0.25em;\n",
       "  color: var(--sklearn-color-text);\n",
       "  /* unfitted */\n",
       "  background-color: var(--sklearn-color-unfitted-level-0);\n",
       "}\n",
       "\n",
       "#sk-container-id-2 div.sk-toggleable__content.fitted pre {\n",
       "  /* unfitted */\n",
       "  background-color: var(--sklearn-color-fitted-level-0);\n",
       "}\n",
       "\n",
       "#sk-container-id-2 input.sk-toggleable__control:checked~div.sk-toggleable__content {\n",
       "  /* Expand drop-down */\n",
       "  max-height: 200px;\n",
       "  max-width: 100%;\n",
       "  overflow: auto;\n",
       "}\n",
       "\n",
       "#sk-container-id-2 input.sk-toggleable__control:checked~label.sk-toggleable__label-arrow:before {\n",
       "  content: \"▾\";\n",
       "}\n",
       "\n",
       "/* Pipeline/ColumnTransformer-specific style */\n",
       "\n",
       "#sk-container-id-2 div.sk-label input.sk-toggleable__control:checked~label.sk-toggleable__label {\n",
       "  color: var(--sklearn-color-text);\n",
       "  background-color: var(--sklearn-color-unfitted-level-2);\n",
       "}\n",
       "\n",
       "#sk-container-id-2 div.sk-label.fitted input.sk-toggleable__control:checked~label.sk-toggleable__label {\n",
       "  background-color: var(--sklearn-color-fitted-level-2);\n",
       "}\n",
       "\n",
       "/* Estimator-specific style */\n",
       "\n",
       "/* Colorize estimator box */\n",
       "#sk-container-id-2 div.sk-estimator input.sk-toggleable__control:checked~label.sk-toggleable__label {\n",
       "  /* unfitted */\n",
       "  background-color: var(--sklearn-color-unfitted-level-2);\n",
       "}\n",
       "\n",
       "#sk-container-id-2 div.sk-estimator.fitted input.sk-toggleable__control:checked~label.sk-toggleable__label {\n",
       "  /* fitted */\n",
       "  background-color: var(--sklearn-color-fitted-level-2);\n",
       "}\n",
       "\n",
       "#sk-container-id-2 div.sk-label label.sk-toggleable__label,\n",
       "#sk-container-id-2 div.sk-label label {\n",
       "  /* The background is the default theme color */\n",
       "  color: var(--sklearn-color-text-on-default-background);\n",
       "}\n",
       "\n",
       "/* On hover, darken the color of the background */\n",
       "#sk-container-id-2 div.sk-label:hover label.sk-toggleable__label {\n",
       "  color: var(--sklearn-color-text);\n",
       "  background-color: var(--sklearn-color-unfitted-level-2);\n",
       "}\n",
       "\n",
       "/* Label box, darken color on hover, fitted */\n",
       "#sk-container-id-2 div.sk-label.fitted:hover label.sk-toggleable__label.fitted {\n",
       "  color: var(--sklearn-color-text);\n",
       "  background-color: var(--sklearn-color-fitted-level-2);\n",
       "}\n",
       "\n",
       "/* Estimator label */\n",
       "\n",
       "#sk-container-id-2 div.sk-label label {\n",
       "  font-family: monospace;\n",
       "  font-weight: bold;\n",
       "  display: inline-block;\n",
       "  line-height: 1.2em;\n",
       "}\n",
       "\n",
       "#sk-container-id-2 div.sk-label-container {\n",
       "  text-align: center;\n",
       "}\n",
       "\n",
       "/* Estimator-specific */\n",
       "#sk-container-id-2 div.sk-estimator {\n",
       "  font-family: monospace;\n",
       "  border: 1px dotted var(--sklearn-color-border-box);\n",
       "  border-radius: 0.25em;\n",
       "  box-sizing: border-box;\n",
       "  margin-bottom: 0.5em;\n",
       "  /* unfitted */\n",
       "  background-color: var(--sklearn-color-unfitted-level-0);\n",
       "}\n",
       "\n",
       "#sk-container-id-2 div.sk-estimator.fitted {\n",
       "  /* fitted */\n",
       "  background-color: var(--sklearn-color-fitted-level-0);\n",
       "}\n",
       "\n",
       "/* on hover */\n",
       "#sk-container-id-2 div.sk-estimator:hover {\n",
       "  /* unfitted */\n",
       "  background-color: var(--sklearn-color-unfitted-level-2);\n",
       "}\n",
       "\n",
       "#sk-container-id-2 div.sk-estimator.fitted:hover {\n",
       "  /* fitted */\n",
       "  background-color: var(--sklearn-color-fitted-level-2);\n",
       "}\n",
       "\n",
       "/* Specification for estimator info (e.g. \"i\" and \"?\") */\n",
       "\n",
       "/* Common style for \"i\" and \"?\" */\n",
       "\n",
       ".sk-estimator-doc-link,\n",
       "a:link.sk-estimator-doc-link,\n",
       "a:visited.sk-estimator-doc-link {\n",
       "  float: right;\n",
       "  font-size: smaller;\n",
       "  line-height: 1em;\n",
       "  font-family: monospace;\n",
       "  background-color: var(--sklearn-color-background);\n",
       "  border-radius: 1em;\n",
       "  height: 1em;\n",
       "  width: 1em;\n",
       "  text-decoration: none !important;\n",
       "  margin-left: 0.5em;\n",
       "  text-align: center;\n",
       "  /* unfitted */\n",
       "  border: var(--sklearn-color-unfitted-level-1) 1pt solid;\n",
       "  color: var(--sklearn-color-unfitted-level-1);\n",
       "}\n",
       "\n",
       ".sk-estimator-doc-link.fitted,\n",
       "a:link.sk-estimator-doc-link.fitted,\n",
       "a:visited.sk-estimator-doc-link.fitted {\n",
       "  /* fitted */\n",
       "  border: var(--sklearn-color-fitted-level-1) 1pt solid;\n",
       "  color: var(--sklearn-color-fitted-level-1);\n",
       "}\n",
       "\n",
       "/* On hover */\n",
       "div.sk-estimator:hover .sk-estimator-doc-link:hover,\n",
       ".sk-estimator-doc-link:hover,\n",
       "div.sk-label-container:hover .sk-estimator-doc-link:hover,\n",
       ".sk-estimator-doc-link:hover {\n",
       "  /* unfitted */\n",
       "  background-color: var(--sklearn-color-unfitted-level-3);\n",
       "  color: var(--sklearn-color-background);\n",
       "  text-decoration: none;\n",
       "}\n",
       "\n",
       "div.sk-estimator.fitted:hover .sk-estimator-doc-link.fitted:hover,\n",
       ".sk-estimator-doc-link.fitted:hover,\n",
       "div.sk-label-container:hover .sk-estimator-doc-link.fitted:hover,\n",
       ".sk-estimator-doc-link.fitted:hover {\n",
       "  /* fitted */\n",
       "  background-color: var(--sklearn-color-fitted-level-3);\n",
       "  color: var(--sklearn-color-background);\n",
       "  text-decoration: none;\n",
       "}\n",
       "\n",
       "/* Span, style for the box shown on hovering the info icon */\n",
       ".sk-estimator-doc-link span {\n",
       "  display: none;\n",
       "  z-index: 9999;\n",
       "  position: relative;\n",
       "  font-weight: normal;\n",
       "  right: .2ex;\n",
       "  padding: .5ex;\n",
       "  margin: .5ex;\n",
       "  width: min-content;\n",
       "  min-width: 20ex;\n",
       "  max-width: 50ex;\n",
       "  color: var(--sklearn-color-text);\n",
       "  box-shadow: 2pt 2pt 4pt #999;\n",
       "  /* unfitted */\n",
       "  background: var(--sklearn-color-unfitted-level-0);\n",
       "  border: .5pt solid var(--sklearn-color-unfitted-level-3);\n",
       "}\n",
       "\n",
       ".sk-estimator-doc-link.fitted span {\n",
       "  /* fitted */\n",
       "  background: var(--sklearn-color-fitted-level-0);\n",
       "  border: var(--sklearn-color-fitted-level-3);\n",
       "}\n",
       "\n",
       ".sk-estimator-doc-link:hover span {\n",
       "  display: block;\n",
       "}\n",
       "\n",
       "/* \"?\"-specific style due to the `<a>` HTML tag */\n",
       "\n",
       "#sk-container-id-2 a.estimator_doc_link {\n",
       "  float: right;\n",
       "  font-size: 1rem;\n",
       "  line-height: 1em;\n",
       "  font-family: monospace;\n",
       "  background-color: var(--sklearn-color-background);\n",
       "  border-radius: 1rem;\n",
       "  height: 1rem;\n",
       "  width: 1rem;\n",
       "  text-decoration: none;\n",
       "  /* unfitted */\n",
       "  color: var(--sklearn-color-unfitted-level-1);\n",
       "  border: var(--sklearn-color-unfitted-level-1) 1pt solid;\n",
       "}\n",
       "\n",
       "#sk-container-id-2 a.estimator_doc_link.fitted {\n",
       "  /* fitted */\n",
       "  border: var(--sklearn-color-fitted-level-1) 1pt solid;\n",
       "  color: var(--sklearn-color-fitted-level-1);\n",
       "}\n",
       "\n",
       "/* On hover */\n",
       "#sk-container-id-2 a.estimator_doc_link:hover {\n",
       "  /* unfitted */\n",
       "  background-color: var(--sklearn-color-unfitted-level-3);\n",
       "  color: var(--sklearn-color-background);\n",
       "  text-decoration: none;\n",
       "}\n",
       "\n",
       "#sk-container-id-2 a.estimator_doc_link.fitted:hover {\n",
       "  /* fitted */\n",
       "  background-color: var(--sklearn-color-fitted-level-3);\n",
       "}\n",
       "</style><div id=\"sk-container-id-2\" class=\"sk-top-container\"><div class=\"sk-text-repr-fallback\"><pre>GridSearchCV(estimator=ComplementNB(), n_jobs=-1,\n",
       "             param_grid={&#x27;alpha&#x27;: [0.01, 0.1, 0.5, 1.0]},\n",
       "             scoring=make_scorer(f1_score, response_method=&#x27;predict&#x27;, average=macro))</pre><b>In a Jupyter environment, please rerun this cell to show the HTML representation or trust the notebook. <br />On GitHub, the HTML representation is unable to render, please try loading this page with nbviewer.org.</b></div><div class=\"sk-container\" hidden><div class=\"sk-item sk-dashed-wrapped\"><div class=\"sk-label-container\"><div class=\"sk-label fitted sk-toggleable\"><input class=\"sk-toggleable__control sk-hidden--visually\" id=\"sk-estimator-id-2\" type=\"checkbox\" ><label for=\"sk-estimator-id-2\" class=\"sk-toggleable__label fitted sk-toggleable__label-arrow\"><div><div>GridSearchCV</div></div><div><a class=\"sk-estimator-doc-link fitted\" rel=\"noreferrer\" target=\"_blank\" href=\"https://scikit-learn.org/1.6/modules/generated/sklearn.model_selection.GridSearchCV.html\">?<span>Documentation for GridSearchCV</span></a><span class=\"sk-estimator-doc-link fitted\">i<span>Fitted</span></span></div></label><div class=\"sk-toggleable__content fitted\"><pre>GridSearchCV(estimator=ComplementNB(), n_jobs=-1,\n",
       "             param_grid={&#x27;alpha&#x27;: [0.01, 0.1, 0.5, 1.0]},\n",
       "             scoring=make_scorer(f1_score, response_method=&#x27;predict&#x27;, average=macro))</pre></div> </div></div><div class=\"sk-parallel\"><div class=\"sk-parallel-item\"><div class=\"sk-item\"><div class=\"sk-label-container\"><div class=\"sk-label fitted sk-toggleable\"><input class=\"sk-toggleable__control sk-hidden--visually\" id=\"sk-estimator-id-3\" type=\"checkbox\" ><label for=\"sk-estimator-id-3\" class=\"sk-toggleable__label fitted sk-toggleable__label-arrow\"><div><div>best_estimator_: ComplementNB</div></div></label><div class=\"sk-toggleable__content fitted\"><pre>ComplementNB(alpha=0.5)</pre></div> </div></div><div class=\"sk-serial\"><div class=\"sk-item\"><div class=\"sk-estimator fitted sk-toggleable\"><input class=\"sk-toggleable__control sk-hidden--visually\" id=\"sk-estimator-id-4\" type=\"checkbox\" ><label for=\"sk-estimator-id-4\" class=\"sk-toggleable__label fitted sk-toggleable__label-arrow\"><div><div>ComplementNB</div></div><div><a class=\"sk-estimator-doc-link fitted\" rel=\"noreferrer\" target=\"_blank\" href=\"https://scikit-learn.org/1.6/modules/generated/sklearn.naive_bayes.ComplementNB.html\">?<span>Documentation for ComplementNB</span></a></div></label><div class=\"sk-toggleable__content fitted\"><pre>ComplementNB(alpha=0.5)</pre></div> </div></div></div></div></div></div></div></div></div>"
      ]
     },
     "execution_count": 46,
     "metadata": {},
     "output_type": "execute_result"
    }
   ],
   "execution_count": 46
  },
  {
   "metadata": {
    "ExecuteTime": {
     "end_time": "2025-04-30T09:46:37.825435Z",
     "start_time": "2025-04-30T09:46:37.820633Z"
    }
   },
   "cell_type": "code",
   "source": [
    "print(\"Лучшие параметры:\", search.best_params_)\n",
    "print()\n",
    "print(\"Лучший F1 macro score:\", search.best_score_)\n"
   ],
   "id": "48f1a90c813c3061",
   "outputs": [
    {
     "name": "stdout",
     "output_type": "stream",
     "text": [
      "Лучшие параметры: {'alpha': 0.5}\n",
      "\n",
      "Лучший F1 macro score: 0.8934474245948845\n"
     ]
    }
   ],
   "execution_count": 47
  },
  {
   "metadata": {},
   "cell_type": "code",
   "outputs": [],
   "execution_count": null,
   "source": "",
   "id": "b3518750bc965848"
  }
 ],
 "metadata": {
  "kernelspec": {
   "display_name": "Python 3",
   "language": "python",
   "name": "python3"
  },
  "language_info": {
   "codemirror_mode": {
    "name": "ipython",
    "version": 2
   },
   "file_extension": ".py",
   "mimetype": "text/x-python",
   "name": "python",
   "nbconvert_exporter": "python",
   "pygments_lexer": "ipython2",
   "version": "2.7.6"
  }
 },
 "nbformat": 4,
 "nbformat_minor": 5
}
