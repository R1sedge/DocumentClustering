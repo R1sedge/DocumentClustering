{
 "cells": [
  {
   "metadata": {
    "ExecuteTime": {
     "end_time": "2025-02-19T08:26:57.305687Z",
     "start_time": "2025-02-19T08:26:50.727787Z"
    }
   },
   "cell_type": "code",
   "source": [
    "import nltk\n",
    "import string\n",
    "from datasets import load_dataset"
   ],
   "id": "3df2cbf6a0ee8180",
   "outputs": [],
   "execution_count": 1
  },
  {
   "metadata": {
    "ExecuteTime": {
     "end_time": "2025-02-19T08:26:57.843951Z",
     "start_time": "2025-02-19T08:26:57.337686Z"
    }
   },
   "cell_type": "code",
   "source": "nltk.download('punkt_tab')",
   "id": "ef12aea8550e0d03",
   "outputs": [
    {
     "name": "stderr",
     "output_type": "stream",
     "text": [
      "[nltk_data] Downloading package punkt_tab to\n",
      "[nltk_data]     C:\\Users\\R1sed\\AppData\\Roaming\\nltk_data...\n",
      "[nltk_data]   Package punkt_tab is already up-to-date!\n"
     ]
    },
    {
     "data": {
      "text/plain": [
       "True"
      ]
     },
     "execution_count": 2,
     "metadata": {},
     "output_type": "execute_result"
    }
   ],
   "execution_count": 2
  },
  {
   "metadata": {
    "ExecuteTime": {
     "end_time": "2025-02-19T08:26:58.598946Z",
     "start_time": "2025-02-19T08:26:58.351946Z"
    }
   },
   "cell_type": "code",
   "source": [
    "# Загрузка нужных данных NLTK:\n",
    "nltk.download('punkt') # Для токенизации\n",
    "nltk.download('wordnet') # Для лемматизации\n",
    "nltk.download('omw-1.4') # Часто нужно для корректной лемматизации (WordNet)"
   ],
   "id": "5c2e220da3e17c0f",
   "outputs": [
    {
     "name": "stderr",
     "output_type": "stream",
     "text": [
      "[nltk_data] Downloading package punkt to\n",
      "[nltk_data]     C:\\Users\\R1sed\\AppData\\Roaming\\nltk_data...\n",
      "[nltk_data]   Package punkt is already up-to-date!\n",
      "[nltk_data] Downloading package wordnet to\n",
      "[nltk_data]     C:\\Users\\R1sed\\AppData\\Roaming\\nltk_data...\n",
      "[nltk_data]   Package wordnet is already up-to-date!\n",
      "[nltk_data] Downloading package omw-1.4 to\n",
      "[nltk_data]     C:\\Users\\R1sed\\AppData\\Roaming\\nltk_data...\n",
      "[nltk_data]   Package omw-1.4 is already up-to-date!\n"
     ]
    },
    {
     "data": {
      "text/plain": [
       "True"
      ]
     },
     "execution_count": 3,
     "metadata": {},
     "output_type": "execute_result"
    }
   ],
   "execution_count": 3
  },
  {
   "metadata": {
    "ExecuteTime": {
     "end_time": "2025-02-19T08:27:06.398424Z",
     "start_time": "2025-02-19T08:26:58.759982Z"
    }
   },
   "cell_type": "code",
   "source": [
    "# Загружаем датасет ag_news (Hugging Face Datasets)\n",
    "dataset = load_dataset(\"ag_news\")"
   ],
   "id": "146b523360f4983b",
   "outputs": [],
   "execution_count": 4
  },
  {
   "metadata": {
    "ExecuteTime": {
     "end_time": "2025-02-19T08:27:06.446533Z",
     "start_time": "2025-02-19T08:27:06.441442Z"
    }
   },
   "cell_type": "code",
   "source": [
    "# Берём первый пример из обучающей выборки\n",
    "first_example = dataset[\"train\"][0]\n",
    "first_text = first_example[\"text\"]\n",
    "print(\"Исходный текст:\")\n",
    "print(first_text)"
   ],
   "id": "9a3f0627792c2065",
   "outputs": [
    {
     "name": "stdout",
     "output_type": "stream",
     "text": [
      "Исходный текст:\n",
      "Wall St. Bears Claw Back Into the Black (Reuters) Reuters - Short-sellers, Wall Street's dwindling\\band of ultra-cynics, are seeing green again.\n"
     ]
    }
   ],
   "execution_count": 5
  },
  {
   "metadata": {
    "ExecuteTime": {
     "end_time": "2025-02-19T08:27:06.602977Z",
     "start_time": "2025-02-19T08:27:06.477530Z"
    }
   },
   "cell_type": "code",
   "source": [
    "# Шаг 1: Токенизация без доп. очистки\n",
    "tokens = nltk.word_tokenize(first_text)\n",
    "print(\"\\nТокены (без дополнительной очистки):\")\n",
    "print(tokens)"
   ],
   "id": "db8b7eb42f955b89",
   "outputs": [
    {
     "name": "stdout",
     "output_type": "stream",
     "text": [
      "\n",
      "Токены (без дополнительной очистки):\n",
      "['Wall', 'St.', 'Bears', 'Claw', 'Back', 'Into', 'the', 'Black', '(', 'Reuters', ')', 'Reuters', '-', 'Short-sellers', ',', 'Wall', 'Street', \"'s\", 'dwindling\\\\band', 'of', 'ultra-cynics', ',', 'are', 'seeing', 'green', 'again', '.']\n"
     ]
    }
   ],
   "execution_count": 6
  },
  {
   "metadata": {
    "ExecuteTime": {
     "end_time": "2025-02-19T08:27:06.639047Z",
     "start_time": "2025-02-19T08:27:06.635047Z"
    }
   },
   "cell_type": "code",
   "source": [
    "# Функция предобработки со стеммингом\n",
    "def preprocess_with_stemming(text): # Обрезание слов без опоры на лексические формы\n",
    "    # Приведение к нижнему регистру\n",
    "    text = text.lower()\n",
    "    # Удаление знаков препинания\n",
    "    text = text.translate(str.maketrans('', '', string.punctuation))\n",
    "    # Токенизация\n",
    "    tokens = nltk.word_tokenize(text)\n",
    "    # Применение стемминга\n",
    "    stemmer = nltk.PorterStemmer()\n",
    "    stemmed_tokens = [stemmer.stem(token) for token in tokens]\n",
    "    return stemmed_tokens"
   ],
   "id": "801ba66b8f9e05b5",
   "outputs": [],
   "execution_count": 7
  },
  {
   "metadata": {
    "ExecuteTime": {
     "end_time": "2025-02-19T08:27:06.656772Z",
     "start_time": "2025-02-19T08:27:06.652960Z"
    }
   },
   "cell_type": "code",
   "source": [
    "# Функция предобработки с лемматизацией\n",
    "def preprocess_with_lemmatization(text): # Обрезание(преобразование) слов с опорой на лексические формы \n",
    "    # Приведение к нижнему регистру\n",
    "    text = text.lower()\n",
    "    # Удаление знаков препинания\n",
    "    text = text.translate(str.maketrans('', '', string.punctuation))\n",
    "    # Токенизация\n",
    "    tokens = nltk.word_tokenize(text)\n",
    "    # Применение лемматизации\n",
    "    lemmatizer = nltk.WordNetLemmatizer()\n",
    "    lemmatized_tokens = [lemmatizer.lemmatize(token) for token in tokens]\n",
    "    return lemmatized_tokens"
   ],
   "id": "7897e6233b487d9b",
   "outputs": [],
   "execution_count": 8
  },
  {
   "metadata": {
    "collapsed": true,
    "ExecuteTime": {
     "end_time": "2025-02-19T08:27:08.673376Z",
     "start_time": "2025-02-19T08:27:06.669270Z"
    }
   },
   "cell_type": "code",
   "source": [
    "# Сравним результаты стемминга и лемматизации\n",
    "stemmed_result = preprocess_with_stemming(first_text)\n",
    "lemmatized_result = preprocess_with_lemmatization(first_text)\n",
    "print(\"\\nТокены после стемминга:\")\n",
    "print(stemmed_result)\n",
    "print(\"\\nТокены после лемматизации:\")\n",
    "print(lemmatized_result)"
   ],
   "id": "initial_id",
   "outputs": [
    {
     "name": "stdout",
     "output_type": "stream",
     "text": [
      "\n",
      "Токены после стемминга:\n",
      "['wall', 'st', 'bear', 'claw', 'back', 'into', 'the', 'black', 'reuter', 'reuter', 'shortsel', 'wall', 'street', 'dwindlingband', 'of', 'ultracyn', 'are', 'see', 'green', 'again']\n",
      "\n",
      "Токены после лемматизации:\n",
      "['wall', 'st', 'bear', 'claw', 'back', 'into', 'the', 'black', 'reuters', 'reuters', 'shortsellers', 'wall', 'street', 'dwindlingband', 'of', 'ultracynics', 'are', 'seeing', 'green', 'again']\n"
     ]
    }
   ],
   "execution_count": 9
  },
  {
   "metadata": {
    "ExecuteTime": {
     "end_time": "2025-02-19T08:27:08.834177Z",
     "start_time": "2025-02-19T08:27:08.688370Z"
    }
   },
   "cell_type": "code",
   "source": [
    "demo_texts = dataset[\"train\"][\"text\"][1:6]\n",
    "print(demo_texts[0])"
   ],
   "id": "b8417ead6c0f4aeb",
   "outputs": [
    {
     "name": "stdout",
     "output_type": "stream",
     "text": [
      "Carlyle Looks Toward Commercial Aerospace (Reuters) Reuters - Private investment firm Carlyle Group,\\which has a reputation for making well-timed and occasionally\\controversial plays in the defense industry, has quietly placed\\its bets on another part of the market.\n"
     ]
    }
   ],
   "execution_count": 10
  },
  {
   "metadata": {
    "ExecuteTime": {
     "end_time": "2025-02-19T08:27:08.861750Z",
     "start_time": "2025-02-19T08:27:08.855750Z"
    }
   },
   "cell_type": "code",
   "source": "stemmed_result = [preprocess_with_stemming(text) for text in demo_texts]",
   "id": "1c97d925932a19c7",
   "outputs": [],
   "execution_count": 11
  },
  {
   "metadata": {
    "ExecuteTime": {
     "end_time": "2025-02-19T08:27:08.901508Z",
     "start_time": "2025-02-19T08:27:08.896511Z"
    }
   },
   "cell_type": "code",
   "source": "lemmatized_result = [preprocess_with_lemmatization(text) for text in demo_texts]",
   "id": "f997c383d871c2fe",
   "outputs": [],
   "execution_count": 12
  },
  {
   "metadata": {
    "ExecuteTime": {
     "end_time": "2025-02-19T08:27:08.923419Z",
     "start_time": "2025-02-19T08:27:08.919508Z"
    }
   },
   "cell_type": "code",
   "source": [
    "def base_preprocess(text): \n",
    "    text = text.lower()\n",
    "    text = text.translate(str.maketrans('', '', string.punctuation))\n",
    "    return text.split()"
   ],
   "id": "64cab63ec24d3240",
   "outputs": [],
   "execution_count": 13
  },
  {
   "metadata": {
    "ExecuteTime": {
     "end_time": "2025-02-19T08:27:08.959636Z",
     "start_time": "2025-02-19T08:27:08.956399Z"
    }
   },
   "cell_type": "code",
   "source": "base_result = [base_preprocess(text) for text in demo_texts]",
   "id": "1d7e50ba19f8f93",
   "outputs": [],
   "execution_count": 14
  },
  {
   "metadata": {
    "ExecuteTime": {
     "end_time": "2025-02-19T08:27:09.006187Z",
     "start_time": "2025-02-19T08:27:09.000634Z"
    }
   },
   "cell_type": "code",
   "source": [
    "for i in range(len(stemmed_result)):\n",
    "    print(\"Необработанные токены:\")\n",
    "    print(base_result[i])\n",
    "    print(\"Stemmed токены:\")\n",
    "    print(stemmed_result[i])\n",
    "    print(\"Lemmatized Токены:\")\n",
    "    print(lemmatized_result[i])"
   ],
   "id": "1f87c3c1e915d69f",
   "outputs": [
    {
     "name": "stdout",
     "output_type": "stream",
     "text": [
      "Необработанные токены:\n",
      "['carlyle', 'looks', 'toward', 'commercial', 'aerospace', 'reuters', 'reuters', 'private', 'investment', 'firm', 'carlyle', 'groupwhich', 'has', 'a', 'reputation', 'for', 'making', 'welltimed', 'and', 'occasionallycontroversial', 'plays', 'in', 'the', 'defense', 'industry', 'has', 'quietly', 'placedits', 'bets', 'on', 'another', 'part', 'of', 'the', 'market']\n",
      "Stemmed токены:\n",
      "['carlyl', 'look', 'toward', 'commerci', 'aerospac', 'reuter', 'reuter', 'privat', 'invest', 'firm', 'carlyl', 'groupwhich', 'ha', 'a', 'reput', 'for', 'make', 'welltim', 'and', 'occasionallycontroversi', 'play', 'in', 'the', 'defens', 'industri', 'ha', 'quietli', 'placedit', 'bet', 'on', 'anoth', 'part', 'of', 'the', 'market']\n",
      "Lemmatized Токены:\n",
      "['carlyle', 'look', 'toward', 'commercial', 'aerospace', 'reuters', 'reuters', 'private', 'investment', 'firm', 'carlyle', 'groupwhich', 'ha', 'a', 'reputation', 'for', 'making', 'welltimed', 'and', 'occasionallycontroversial', 'play', 'in', 'the', 'defense', 'industry', 'ha', 'quietly', 'placedits', 'bet', 'on', 'another', 'part', 'of', 'the', 'market']\n",
      "Необработанные токены:\n",
      "['oil', 'and', 'economy', 'cloud', 'stocks', 'outlook', 'reuters', 'reuters', 'soaring', 'crude', 'prices', 'plus', 'worriesabout', 'the', 'economy', 'and', 'the', 'outlook', 'for', 'earnings', 'are', 'expected', 'tohang', 'over', 'the', 'stock', 'market', 'next', 'week', 'during', 'the', 'depth', 'of', 'thesummer', 'doldrums']\n",
      "Stemmed токены:\n",
      "['oil', 'and', 'economi', 'cloud', 'stock', 'outlook', 'reuter', 'reuter', 'soar', 'crude', 'price', 'plu', 'worriesabout', 'the', 'economi', 'and', 'the', 'outlook', 'for', 'earn', 'are', 'expect', 'tohang', 'over', 'the', 'stock', 'market', 'next', 'week', 'dure', 'the', 'depth', 'of', 'thesumm', 'doldrum']\n",
      "Lemmatized Токены:\n",
      "['oil', 'and', 'economy', 'cloud', 'stock', 'outlook', 'reuters', 'reuters', 'soaring', 'crude', 'price', 'plus', 'worriesabout', 'the', 'economy', 'and', 'the', 'outlook', 'for', 'earnings', 'are', 'expected', 'tohang', 'over', 'the', 'stock', 'market', 'next', 'week', 'during', 'the', 'depth', 'of', 'thesummer', 'doldrums']\n",
      "Необработанные токены:\n",
      "['iraq', 'halts', 'oil', 'exports', 'from', 'main', 'southern', 'pipeline', 'reuters', 'reuters', 'authorities', 'have', 'halted', 'oil', 'exportflows', 'from', 'the', 'main', 'pipeline', 'in', 'southern', 'iraq', 'afterintelligence', 'showed', 'a', 'rebel', 'militia', 'could', 'strikeinfrastructure', 'an', 'oil', 'official', 'said', 'on', 'saturday']\n",
      "Stemmed токены:\n",
      "['iraq', 'halt', 'oil', 'export', 'from', 'main', 'southern', 'pipelin', 'reuter', 'reuter', 'author', 'have', 'halt', 'oil', 'exportflow', 'from', 'the', 'main', 'pipelin', 'in', 'southern', 'iraq', 'afterintellig', 'show', 'a', 'rebel', 'militia', 'could', 'strikeinfrastructur', 'an', 'oil', 'offici', 'said', 'on', 'saturday']\n",
      "Lemmatized Токены:\n",
      "['iraq', 'halt', 'oil', 'export', 'from', 'main', 'southern', 'pipeline', 'reuters', 'reuters', 'authority', 'have', 'halted', 'oil', 'exportflows', 'from', 'the', 'main', 'pipeline', 'in', 'southern', 'iraq', 'afterintelligence', 'showed', 'a', 'rebel', 'militia', 'could', 'strikeinfrastructure', 'an', 'oil', 'official', 'said', 'on', 'saturday']\n",
      "Необработанные токены:\n",
      "['oil', 'prices', 'soar', 'to', 'alltime', 'record', 'posing', 'new', 'menace', 'to', 'us', 'economy', 'afp', 'afp', 'tearaway', 'world', 'oil', 'prices', 'toppling', 'records', 'and', 'straining', 'wallets', 'present', 'a', 'new', 'economic', 'menace', 'barely', 'three', 'months', 'before', 'the', 'us', 'presidential', 'elections']\n",
      "Stemmed токены:\n",
      "['oil', 'price', 'soar', 'to', 'alltim', 'record', 'pose', 'new', 'menac', 'to', 'us', 'economi', 'afp', 'afp', 'tearaway', 'world', 'oil', 'price', 'toppl', 'record', 'and', 'strain', 'wallet', 'present', 'a', 'new', 'econom', 'menac', 'bare', 'three', 'month', 'befor', 'the', 'us', 'presidenti', 'elect']\n",
      "Lemmatized Токены:\n",
      "['oil', 'price', 'soar', 'to', 'alltime', 'record', 'posing', 'new', 'menace', 'to', 'u', 'economy', 'afp', 'afp', 'tearaway', 'world', 'oil', 'price', 'toppling', 'record', 'and', 'straining', 'wallet', 'present', 'a', 'new', 'economic', 'menace', 'barely', 'three', 'month', 'before', 'the', 'u', 'presidential', 'election']\n",
      "Необработанные токены:\n",
      "['stocks', 'end', 'up', 'but', 'near', 'year', 'lows', 'reuters', 'reuters', 'stocks', 'ended', 'slightly', 'higher', 'on', 'fridaybut', 'stayed', 'near', 'lows', 'for', 'the', 'year', 'as', 'oil', 'prices', 'surged', 'past', '3646a', 'barrel', 'offsetting', 'a', 'positive', 'outlook', 'from', 'computer', 'makerdell', 'inc', 'dello']\n",
      "Stemmed токены:\n",
      "['stock', 'end', 'up', 'but', 'near', 'year', 'low', 'reuter', 'reuter', 'stock', 'end', 'slightli', 'higher', 'on', 'fridaybut', 'stay', 'near', 'low', 'for', 'the', 'year', 'as', 'oil', 'price', 'surg', 'past', '3646a', 'barrel', 'offset', 'a', 'posit', 'outlook', 'from', 'comput', 'makerdel', 'inc', 'dello']\n",
      "Lemmatized Токены:\n",
      "['stock', 'end', 'up', 'but', 'near', 'year', 'low', 'reuters', 'reuters', 'stock', 'ended', 'slightly', 'higher', 'on', 'fridaybut', 'stayed', 'near', 'low', 'for', 'the', 'year', 'a', 'oil', 'price', 'surged', 'past', '3646a', 'barrel', 'offsetting', 'a', 'positive', 'outlook', 'from', 'computer', 'makerdell', 'inc', 'dello']\n"
     ]
    }
   ],
   "execution_count": 15
  },
  {
   "metadata": {},
   "cell_type": "markdown",
   "source": "Видно, что Стемминг грубо обрезает слова создавая несуществующие, лемматизация работает лучше.",
   "id": "ea4f423e6dbf9ede"
  },
  {
   "metadata": {
    "ExecuteTime": {
     "end_time": "2025-02-19T08:27:09.040317Z",
     "start_time": "2025-02-19T08:27:09.035307Z"
    }
   },
   "cell_type": "code",
   "source": [
    "def find_difference(base, stemmed, lemmatized):\n",
    "    print(\"Слово\\tСтемминг\\tЛемматизация\")\n",
    "    for i, token in enumerate(base):\n",
    "        if stemmed[i] != lemmatized[i]:\n",
    "            print(token + ' ' + stemmed[i] + ' ' + lemmatized[i])"
   ],
   "id": "b02aa91bb1dcd8b7",
   "outputs": [],
   "execution_count": 16
  },
  {
   "metadata": {
    "ExecuteTime": {
     "end_time": "2025-02-19T08:27:09.059714Z",
     "start_time": "2025-02-19T08:27:09.055699Z"
    }
   },
   "cell_type": "code",
   "source": "find_difference(base_result[0], stemmed_result[0], lemmatized_result[0])",
   "id": "331b3bfc2a9951b7",
   "outputs": [
    {
     "name": "stdout",
     "output_type": "stream",
     "text": [
      "Слово\tСтемминг\tЛемматизация\n",
      "carlyle carlyl carlyle\n",
      "commercial commerci commercial\n",
      "aerospace aerospac aerospace\n",
      "reuters reuter reuters\n",
      "reuters reuter reuters\n",
      "private privat private\n",
      "investment invest investment\n",
      "carlyle carlyl carlyle\n",
      "reputation reput reputation\n",
      "making make making\n",
      "welltimed welltim welltimed\n",
      "occasionallycontroversial occasionallycontroversi occasionallycontroversial\n",
      "defense defens defense\n",
      "industry industri industry\n",
      "quietly quietli quietly\n",
      "placedits placedit placedits\n",
      "another anoth another\n"
     ]
    }
   ],
   "execution_count": 17
  },
  {
   "metadata": {},
   "cell_type": "markdown",
   "source": "#### Тоже самое для датасета IMDB Movie Reviews",
   "id": "99cb5087b58419ec"
  },
  {
   "metadata": {
    "ExecuteTime": {
     "end_time": "2025-02-19T08:27:17.597412Z",
     "start_time": "2025-02-19T08:27:09.084796Z"
    }
   },
   "cell_type": "code",
   "source": [
    "imdb_dataset = load_dataset(\"imdb\")\n",
    "print(imdb_dataset)"
   ],
   "id": "7f49e31cdaeade54",
   "outputs": [
    {
     "name": "stdout",
     "output_type": "stream",
     "text": [
      "DatasetDict({\n",
      "    train: Dataset({\n",
      "        features: ['text', 'label'],\n",
      "        num_rows: 25000\n",
      "    })\n",
      "    test: Dataset({\n",
      "        features: ['text', 'label'],\n",
      "        num_rows: 25000\n",
      "    })\n",
      "    unsupervised: Dataset({\n",
      "        features: ['text', 'label'],\n",
      "        num_rows: 50000\n",
      "    })\n",
      "})\n"
     ]
    }
   ],
   "execution_count": 18
  },
  {
   "metadata": {
    "ExecuteTime": {
     "end_time": "2025-02-19T08:27:17.670872Z",
     "start_time": "2025-02-19T08:27:17.607872Z"
    }
   },
   "cell_type": "code",
   "source": [
    "imdb_texts = imdb_dataset[\"train\"][\"text\"][:5]\n",
    "print(imdb_texts[0])"
   ],
   "id": "2890b17d661b57c7",
   "outputs": [
    {
     "name": "stdout",
     "output_type": "stream",
     "text": [
      "I rented I AM CURIOUS-YELLOW from my video store because of all the controversy that surrounded it when it was first released in 1967. I also heard that at first it was seized by U.S. customs if it ever tried to enter this country, therefore being a fan of films considered \"controversial\" I really had to see this for myself.<br /><br />The plot is centered around a young Swedish drama student named Lena who wants to learn everything she can about life. In particular she wants to focus her attentions to making some sort of documentary on what the average Swede thought about certain political issues such as the Vietnam War and race issues in the United States. In between asking politicians and ordinary denizens of Stockholm about their opinions on politics, she has sex with her drama teacher, classmates, and married men.<br /><br />What kills me about I AM CURIOUS-YELLOW is that 40 years ago, this was considered pornographic. Really, the sex and nudity scenes are few and far between, even then it's not shot like some cheaply made porno. While my countrymen mind find it shocking, in reality sex and nudity are a major staple in Swedish cinema. Even Ingmar Bergman, arguably their answer to good old boy John Ford, had sex scenes in his films.<br /><br />I do commend the filmmakers for the fact that any sex shown in the film is shown for artistic purposes rather than just to shock people and make money to be shown in pornographic theaters in America. I AM CURIOUS-YELLOW is a good film for anyone wanting to study the meat and potatoes (no pun intended) of Swedish cinema. But really, this film doesn't have much of a plot.\n"
     ]
    }
   ],
   "execution_count": 19
  },
  {
   "metadata": {
    "ExecuteTime": {
     "end_time": "2025-02-19T08:27:17.713019Z",
     "start_time": "2025-02-19T08:27:17.689209Z"
    }
   },
   "cell_type": "code",
   "source": [
    "imdb_base_result = [base_preprocess(text) for text in imdb_texts]\n",
    "imdb_stemmed_result = [preprocess_with_stemming(text) for text in imdb_texts]\n",
    "imdb_lemmatized_result = [preprocess_with_lemmatization(text) for text in imdb_texts]"
   ],
   "id": "cdeba88c09b4d7db",
   "outputs": [],
   "execution_count": 20
  },
  {
   "metadata": {
    "ExecuteTime": {
     "end_time": "2025-02-19T08:27:17.723571Z",
     "start_time": "2025-02-19T08:27:17.719015Z"
    }
   },
   "cell_type": "code",
   "source": [
    "for i in range(len(imdb_stemmed_result)):\n",
    "    print(\"Необработанные токены:\")\n",
    "    print(imdb_base_result[i])\n",
    "    print(\"Stemmed токены:\")\n",
    "    print(imdb_stemmed_result[i])\n",
    "    print(\"Lemmatized Токены:\")\n",
    "    print(imdb_lemmatized_result[i])"
   ],
   "id": "20e0a839d553fcf1",
   "outputs": [
    {
     "name": "stdout",
     "output_type": "stream",
     "text": [
      "Необработанные токены:\n",
      "['i', 'rented', 'i', 'am', 'curiousyellow', 'from', 'my', 'video', 'store', 'because', 'of', 'all', 'the', 'controversy', 'that', 'surrounded', 'it', 'when', 'it', 'was', 'first', 'released', 'in', '1967', 'i', 'also', 'heard', 'that', 'at', 'first', 'it', 'was', 'seized', 'by', 'us', 'customs', 'if', 'it', 'ever', 'tried', 'to', 'enter', 'this', 'country', 'therefore', 'being', 'a', 'fan', 'of', 'films', 'considered', 'controversial', 'i', 'really', 'had', 'to', 'see', 'this', 'for', 'myselfbr', 'br', 'the', 'plot', 'is', 'centered', 'around', 'a', 'young', 'swedish', 'drama', 'student', 'named', 'lena', 'who', 'wants', 'to', 'learn', 'everything', 'she', 'can', 'about', 'life', 'in', 'particular', 'she', 'wants', 'to', 'focus', 'her', 'attentions', 'to', 'making', 'some', 'sort', 'of', 'documentary', 'on', 'what', 'the', 'average', 'swede', 'thought', 'about', 'certain', 'political', 'issues', 'such', 'as', 'the', 'vietnam', 'war', 'and', 'race', 'issues', 'in', 'the', 'united', 'states', 'in', 'between', 'asking', 'politicians', 'and', 'ordinary', 'denizens', 'of', 'stockholm', 'about', 'their', 'opinions', 'on', 'politics', 'she', 'has', 'sex', 'with', 'her', 'drama', 'teacher', 'classmates', 'and', 'married', 'menbr', 'br', 'what', 'kills', 'me', 'about', 'i', 'am', 'curiousyellow', 'is', 'that', '40', 'years', 'ago', 'this', 'was', 'considered', 'pornographic', 'really', 'the', 'sex', 'and', 'nudity', 'scenes', 'are', 'few', 'and', 'far', 'between', 'even', 'then', 'its', 'not', 'shot', 'like', 'some', 'cheaply', 'made', 'porno', 'while', 'my', 'countrymen', 'mind', 'find', 'it', 'shocking', 'in', 'reality', 'sex', 'and', 'nudity', 'are', 'a', 'major', 'staple', 'in', 'swedish', 'cinema', 'even', 'ingmar', 'bergman', 'arguably', 'their', 'answer', 'to', 'good', 'old', 'boy', 'john', 'ford', 'had', 'sex', 'scenes', 'in', 'his', 'filmsbr', 'br', 'i', 'do', 'commend', 'the', 'filmmakers', 'for', 'the', 'fact', 'that', 'any', 'sex', 'shown', 'in', 'the', 'film', 'is', 'shown', 'for', 'artistic', 'purposes', 'rather', 'than', 'just', 'to', 'shock', 'people', 'and', 'make', 'money', 'to', 'be', 'shown', 'in', 'pornographic', 'theaters', 'in', 'america', 'i', 'am', 'curiousyellow', 'is', 'a', 'good', 'film', 'for', 'anyone', 'wanting', 'to', 'study', 'the', 'meat', 'and', 'potatoes', 'no', 'pun', 'intended', 'of', 'swedish', 'cinema', 'but', 'really', 'this', 'film', 'doesnt', 'have', 'much', 'of', 'a', 'plot']\n",
      "Stemmed токены:\n",
      "['i', 'rent', 'i', 'am', 'curiousyellow', 'from', 'my', 'video', 'store', 'becaus', 'of', 'all', 'the', 'controversi', 'that', 'surround', 'it', 'when', 'it', 'wa', 'first', 'releas', 'in', '1967', 'i', 'also', 'heard', 'that', 'at', 'first', 'it', 'wa', 'seiz', 'by', 'us', 'custom', 'if', 'it', 'ever', 'tri', 'to', 'enter', 'thi', 'countri', 'therefor', 'be', 'a', 'fan', 'of', 'film', 'consid', 'controversi', 'i', 'realli', 'had', 'to', 'see', 'thi', 'for', 'myselfbr', 'br', 'the', 'plot', 'is', 'center', 'around', 'a', 'young', 'swedish', 'drama', 'student', 'name', 'lena', 'who', 'want', 'to', 'learn', 'everyth', 'she', 'can', 'about', 'life', 'in', 'particular', 'she', 'want', 'to', 'focu', 'her', 'attent', 'to', 'make', 'some', 'sort', 'of', 'documentari', 'on', 'what', 'the', 'averag', 'swede', 'thought', 'about', 'certain', 'polit', 'issu', 'such', 'as', 'the', 'vietnam', 'war', 'and', 'race', 'issu', 'in', 'the', 'unit', 'state', 'in', 'between', 'ask', 'politician', 'and', 'ordinari', 'denizen', 'of', 'stockholm', 'about', 'their', 'opinion', 'on', 'polit', 'she', 'ha', 'sex', 'with', 'her', 'drama', 'teacher', 'classmat', 'and', 'marri', 'menbr', 'br', 'what', 'kill', 'me', 'about', 'i', 'am', 'curiousyellow', 'is', 'that', '40', 'year', 'ago', 'thi', 'wa', 'consid', 'pornograph', 'realli', 'the', 'sex', 'and', 'nuditi', 'scene', 'are', 'few', 'and', 'far', 'between', 'even', 'then', 'it', 'not', 'shot', 'like', 'some', 'cheapli', 'made', 'porno', 'while', 'my', 'countrymen', 'mind', 'find', 'it', 'shock', 'in', 'realiti', 'sex', 'and', 'nuditi', 'are', 'a', 'major', 'stapl', 'in', 'swedish', 'cinema', 'even', 'ingmar', 'bergman', 'arguabl', 'their', 'answer', 'to', 'good', 'old', 'boy', 'john', 'ford', 'had', 'sex', 'scene', 'in', 'hi', 'filmsbr', 'br', 'i', 'do', 'commend', 'the', 'filmmak', 'for', 'the', 'fact', 'that', 'ani', 'sex', 'shown', 'in', 'the', 'film', 'is', 'shown', 'for', 'artist', 'purpos', 'rather', 'than', 'just', 'to', 'shock', 'peopl', 'and', 'make', 'money', 'to', 'be', 'shown', 'in', 'pornograph', 'theater', 'in', 'america', 'i', 'am', 'curiousyellow', 'is', 'a', 'good', 'film', 'for', 'anyon', 'want', 'to', 'studi', 'the', 'meat', 'and', 'potato', 'no', 'pun', 'intend', 'of', 'swedish', 'cinema', 'but', 'realli', 'thi', 'film', 'doesnt', 'have', 'much', 'of', 'a', 'plot']\n",
      "Lemmatized Токены:\n",
      "['i', 'rented', 'i', 'am', 'curiousyellow', 'from', 'my', 'video', 'store', 'because', 'of', 'all', 'the', 'controversy', 'that', 'surrounded', 'it', 'when', 'it', 'wa', 'first', 'released', 'in', '1967', 'i', 'also', 'heard', 'that', 'at', 'first', 'it', 'wa', 'seized', 'by', 'u', 'custom', 'if', 'it', 'ever', 'tried', 'to', 'enter', 'this', 'country', 'therefore', 'being', 'a', 'fan', 'of', 'film', 'considered', 'controversial', 'i', 'really', 'had', 'to', 'see', 'this', 'for', 'myselfbr', 'br', 'the', 'plot', 'is', 'centered', 'around', 'a', 'young', 'swedish', 'drama', 'student', 'named', 'lena', 'who', 'want', 'to', 'learn', 'everything', 'she', 'can', 'about', 'life', 'in', 'particular', 'she', 'want', 'to', 'focus', 'her', 'attention', 'to', 'making', 'some', 'sort', 'of', 'documentary', 'on', 'what', 'the', 'average', 'swede', 'thought', 'about', 'certain', 'political', 'issue', 'such', 'a', 'the', 'vietnam', 'war', 'and', 'race', 'issue', 'in', 'the', 'united', 'state', 'in', 'between', 'asking', 'politician', 'and', 'ordinary', 'denizen', 'of', 'stockholm', 'about', 'their', 'opinion', 'on', 'politics', 'she', 'ha', 'sex', 'with', 'her', 'drama', 'teacher', 'classmate', 'and', 'married', 'menbr', 'br', 'what', 'kill', 'me', 'about', 'i', 'am', 'curiousyellow', 'is', 'that', '40', 'year', 'ago', 'this', 'wa', 'considered', 'pornographic', 'really', 'the', 'sex', 'and', 'nudity', 'scene', 'are', 'few', 'and', 'far', 'between', 'even', 'then', 'it', 'not', 'shot', 'like', 'some', 'cheaply', 'made', 'porno', 'while', 'my', 'countryman', 'mind', 'find', 'it', 'shocking', 'in', 'reality', 'sex', 'and', 'nudity', 'are', 'a', 'major', 'staple', 'in', 'swedish', 'cinema', 'even', 'ingmar', 'bergman', 'arguably', 'their', 'answer', 'to', 'good', 'old', 'boy', 'john', 'ford', 'had', 'sex', 'scene', 'in', 'his', 'filmsbr', 'br', 'i', 'do', 'commend', 'the', 'filmmaker', 'for', 'the', 'fact', 'that', 'any', 'sex', 'shown', 'in', 'the', 'film', 'is', 'shown', 'for', 'artistic', 'purpose', 'rather', 'than', 'just', 'to', 'shock', 'people', 'and', 'make', 'money', 'to', 'be', 'shown', 'in', 'pornographic', 'theater', 'in', 'america', 'i', 'am', 'curiousyellow', 'is', 'a', 'good', 'film', 'for', 'anyone', 'wanting', 'to', 'study', 'the', 'meat', 'and', 'potato', 'no', 'pun', 'intended', 'of', 'swedish', 'cinema', 'but', 'really', 'this', 'film', 'doesnt', 'have', 'much', 'of', 'a', 'plot']\n",
      "Необработанные токены:\n",
      "['i', 'am', 'curious', 'yellow', 'is', 'a', 'risible', 'and', 'pretentious', 'steaming', 'pile', 'it', 'doesnt', 'matter', 'what', 'ones', 'political', 'views', 'are', 'because', 'this', 'film', 'can', 'hardly', 'be', 'taken', 'seriously', 'on', 'any', 'level', 'as', 'for', 'the', 'claim', 'that', 'frontal', 'male', 'nudity', 'is', 'an', 'automatic', 'nc17', 'that', 'isnt', 'true', 'ive', 'seen', 'rrated', 'films', 'with', 'male', 'nudity', 'granted', 'they', 'only', 'offer', 'some', 'fleeting', 'views', 'but', 'where', 'are', 'the', 'rrated', 'films', 'with', 'gaping', 'vulvas', 'and', 'flapping', 'labia', 'nowhere', 'because', 'they', 'dont', 'exist', 'the', 'same', 'goes', 'for', 'those', 'crappy', 'cable', 'shows', 'schlongs', 'swinging', 'in', 'the', 'breeze', 'but', 'not', 'a', 'clitoris', 'in', 'sight', 'and', 'those', 'pretentious', 'indie', 'movies', 'like', 'the', 'brown', 'bunny', 'in', 'which', 'were', 'treated', 'to', 'the', 'site', 'of', 'vincent', 'gallos', 'throbbing', 'johnson', 'but', 'not', 'a', 'trace', 'of', 'pink', 'visible', 'on', 'chloe', 'sevigny', 'before', 'crying', 'or', 'implying', 'doublestandard', 'in', 'matters', 'of', 'nudity', 'the', 'mentally', 'obtuse', 'should', 'take', 'into', 'account', 'one', 'unavoidably', 'obvious', 'anatomical', 'difference', 'between', 'men', 'and', 'women', 'there', 'are', 'no', 'genitals', 'on', 'display', 'when', 'actresses', 'appears', 'nude', 'and', 'the', 'same', 'cannot', 'be', 'said', 'for', 'a', 'man', 'in', 'fact', 'you', 'generally', 'wont', 'see', 'female', 'genitals', 'in', 'an', 'american', 'film', 'in', 'anything', 'short', 'of', 'porn', 'or', 'explicit', 'erotica', 'this', 'alleged', 'doublestandard', 'is', 'less', 'a', 'double', 'standard', 'than', 'an', 'admittedly', 'depressing', 'ability', 'to', 'come', 'to', 'terms', 'culturally', 'with', 'the', 'insides', 'of', 'womens', 'bodies']\n",
      "Stemmed токены:\n",
      "['i', 'am', 'curiou', 'yellow', 'is', 'a', 'risibl', 'and', 'pretenti', 'steam', 'pile', 'it', 'doesnt', 'matter', 'what', 'one', 'polit', 'view', 'are', 'becaus', 'thi', 'film', 'can', 'hardli', 'be', 'taken', 'serious', 'on', 'ani', 'level', 'as', 'for', 'the', 'claim', 'that', 'frontal', 'male', 'nuditi', 'is', 'an', 'automat', 'nc17', 'that', 'isnt', 'true', 'ive', 'seen', 'rrate', 'film', 'with', 'male', 'nuditi', 'grant', 'they', 'onli', 'offer', 'some', 'fleet', 'view', 'but', 'where', 'are', 'the', 'rrate', 'film', 'with', 'gape', 'vulva', 'and', 'flap', 'labia', 'nowher', 'becaus', 'they', 'dont', 'exist', 'the', 'same', 'goe', 'for', 'those', 'crappi', 'cabl', 'show', 'schlong', 'swing', 'in', 'the', 'breez', 'but', 'not', 'a', 'clitori', 'in', 'sight', 'and', 'those', 'pretenti', 'indi', 'movi', 'like', 'the', 'brown', 'bunni', 'in', 'which', 'were', 'treat', 'to', 'the', 'site', 'of', 'vincent', 'gallo', 'throb', 'johnson', 'but', 'not', 'a', 'trace', 'of', 'pink', 'visibl', 'on', 'chloe', 'sevigni', 'befor', 'cri', 'or', 'impli', 'doublestandard', 'in', 'matter', 'of', 'nuditi', 'the', 'mental', 'obtus', 'should', 'take', 'into', 'account', 'one', 'unavoid', 'obviou', 'anatom', 'differ', 'between', 'men', 'and', 'women', 'there', 'are', 'no', 'genit', 'on', 'display', 'when', 'actress', 'appear', 'nude', 'and', 'the', 'same', 'can', 'not', 'be', 'said', 'for', 'a', 'man', 'in', 'fact', 'you', 'gener', 'wont', 'see', 'femal', 'genit', 'in', 'an', 'american', 'film', 'in', 'anyth', 'short', 'of', 'porn', 'or', 'explicit', 'erotica', 'thi', 'alleg', 'doublestandard', 'is', 'less', 'a', 'doubl', 'standard', 'than', 'an', 'admittedli', 'depress', 'abil', 'to', 'come', 'to', 'term', 'cultur', 'with', 'the', 'insid', 'of', 'women', 'bodi']\n",
      "Lemmatized Токены:\n",
      "['i', 'am', 'curious', 'yellow', 'is', 'a', 'risible', 'and', 'pretentious', 'steaming', 'pile', 'it', 'doesnt', 'matter', 'what', 'one', 'political', 'view', 'are', 'because', 'this', 'film', 'can', 'hardly', 'be', 'taken', 'seriously', 'on', 'any', 'level', 'a', 'for', 'the', 'claim', 'that', 'frontal', 'male', 'nudity', 'is', 'an', 'automatic', 'nc17', 'that', 'isnt', 'true', 'ive', 'seen', 'rrated', 'film', 'with', 'male', 'nudity', 'granted', 'they', 'only', 'offer', 'some', 'fleeting', 'view', 'but', 'where', 'are', 'the', 'rrated', 'film', 'with', 'gaping', 'vulva', 'and', 'flapping', 'labium', 'nowhere', 'because', 'they', 'dont', 'exist', 'the', 'same', 'go', 'for', 'those', 'crappy', 'cable', 'show', 'schlongs', 'swinging', 'in', 'the', 'breeze', 'but', 'not', 'a', 'clitoris', 'in', 'sight', 'and', 'those', 'pretentious', 'indie', 'movie', 'like', 'the', 'brown', 'bunny', 'in', 'which', 'were', 'treated', 'to', 'the', 'site', 'of', 'vincent', 'gallos', 'throbbing', 'johnson', 'but', 'not', 'a', 'trace', 'of', 'pink', 'visible', 'on', 'chloe', 'sevigny', 'before', 'cry', 'or', 'implying', 'doublestandard', 'in', 'matter', 'of', 'nudity', 'the', 'mentally', 'obtuse', 'should', 'take', 'into', 'account', 'one', 'unavoidably', 'obvious', 'anatomical', 'difference', 'between', 'men', 'and', 'woman', 'there', 'are', 'no', 'genitals', 'on', 'display', 'when', 'actress', 'appears', 'nude', 'and', 'the', 'same', 'can', 'not', 'be', 'said', 'for', 'a', 'man', 'in', 'fact', 'you', 'generally', 'wont', 'see', 'female', 'genitals', 'in', 'an', 'american', 'film', 'in', 'anything', 'short', 'of', 'porn', 'or', 'explicit', 'erotica', 'this', 'alleged', 'doublestandard', 'is', 'less', 'a', 'double', 'standard', 'than', 'an', 'admittedly', 'depressing', 'ability', 'to', 'come', 'to', 'term', 'culturally', 'with', 'the', 'inside', 'of', 'womens', 'body']\n",
      "Необработанные токены:\n",
      "['if', 'only', 'to', 'avoid', 'making', 'this', 'type', 'of', 'film', 'in', 'the', 'future', 'this', 'film', 'is', 'interesting', 'as', 'an', 'experiment', 'but', 'tells', 'no', 'cogent', 'storybr', 'br', 'one', 'might', 'feel', 'virtuous', 'for', 'sitting', 'thru', 'it', 'because', 'it', 'touches', 'on', 'so', 'many', 'important', 'issues', 'but', 'it', 'does', 'so', 'without', 'any', 'discernable', 'motive', 'the', 'viewer', 'comes', 'away', 'with', 'no', 'new', 'perspectives', 'unless', 'one', 'comes', 'up', 'with', 'one', 'while', 'ones', 'mind', 'wanders', 'as', 'it', 'will', 'invariably', 'do', 'during', 'this', 'pointless', 'filmbr', 'br', 'one', 'might', 'better', 'spend', 'ones', 'time', 'staring', 'out', 'a', 'window', 'at', 'a', 'tree', 'growingbr', 'br']\n",
      "Stemmed токены:\n",
      "['if', 'onli', 'to', 'avoid', 'make', 'thi', 'type', 'of', 'film', 'in', 'the', 'futur', 'thi', 'film', 'is', 'interest', 'as', 'an', 'experi', 'but', 'tell', 'no', 'cogent', 'storybr', 'br', 'one', 'might', 'feel', 'virtuou', 'for', 'sit', 'thru', 'it', 'becaus', 'it', 'touch', 'on', 'so', 'mani', 'import', 'issu', 'but', 'it', 'doe', 'so', 'without', 'ani', 'discern', 'motiv', 'the', 'viewer', 'come', 'away', 'with', 'no', 'new', 'perspect', 'unless', 'one', 'come', 'up', 'with', 'one', 'while', 'one', 'mind', 'wander', 'as', 'it', 'will', 'invari', 'do', 'dure', 'thi', 'pointless', 'filmbr', 'br', 'one', 'might', 'better', 'spend', 'one', 'time', 'stare', 'out', 'a', 'window', 'at', 'a', 'tree', 'growingbr', 'br']\n",
      "Lemmatized Токены:\n",
      "['if', 'only', 'to', 'avoid', 'making', 'this', 'type', 'of', 'film', 'in', 'the', 'future', 'this', 'film', 'is', 'interesting', 'a', 'an', 'experiment', 'but', 'tell', 'no', 'cogent', 'storybr', 'br', 'one', 'might', 'feel', 'virtuous', 'for', 'sitting', 'thru', 'it', 'because', 'it', 'touch', 'on', 'so', 'many', 'important', 'issue', 'but', 'it', 'doe', 'so', 'without', 'any', 'discernable', 'motive', 'the', 'viewer', 'come', 'away', 'with', 'no', 'new', 'perspective', 'unless', 'one', 'come', 'up', 'with', 'one', 'while', 'one', 'mind', 'wanders', 'a', 'it', 'will', 'invariably', 'do', 'during', 'this', 'pointless', 'filmbr', 'br', 'one', 'might', 'better', 'spend', 'one', 'time', 'staring', 'out', 'a', 'window', 'at', 'a', 'tree', 'growingbr', 'br']\n",
      "Необработанные токены:\n",
      "['this', 'film', 'was', 'probably', 'inspired', 'by', 'godards', 'masculin', 'féminin', 'and', 'i', 'urge', 'you', 'to', 'see', 'that', 'film', 'insteadbr', 'br', 'the', 'film', 'has', 'two', 'strong', 'elements', 'and', 'those', 'are', '1', 'the', 'realistic', 'acting', '2', 'the', 'impressive', 'undeservedly', 'good', 'photo', 'apart', 'from', 'that', 'what', 'strikes', 'me', 'most', 'is', 'the', 'endless', 'stream', 'of', 'silliness', 'lena', 'nyman', 'has', 'to', 'be', 'most', 'annoying', 'actress', 'in', 'the', 'world', 'she', 'acts', 'so', 'stupid', 'and', 'with', 'all', 'the', 'nudity', 'in', 'this', 'filmits', 'unattractive', 'comparing', 'to', 'godards', 'film', 'intellectuality', 'has', 'been', 'replaced', 'with', 'stupidity', 'without', 'going', 'too', 'far', 'on', 'this', 'subject', 'i', 'would', 'say', 'that', 'follows', 'from', 'the', 'difference', 'in', 'ideals', 'between', 'the', 'french', 'and', 'the', 'swedish', 'societybr', 'br', 'a', 'movie', 'of', 'its', 'time', 'and', 'place', '210']\n",
      "Stemmed токены:\n",
      "['thi', 'film', 'wa', 'probabl', 'inspir', 'by', 'godard', 'masculin', 'féminin', 'and', 'i', 'urg', 'you', 'to', 'see', 'that', 'film', 'insteadbr', 'br', 'the', 'film', 'ha', 'two', 'strong', 'element', 'and', 'those', 'are', '1', 'the', 'realist', 'act', '2', 'the', 'impress', 'undeservedli', 'good', 'photo', 'apart', 'from', 'that', 'what', 'strike', 'me', 'most', 'is', 'the', 'endless', 'stream', 'of', 'silli', 'lena', 'nyman', 'ha', 'to', 'be', 'most', 'annoy', 'actress', 'in', 'the', 'world', 'she', 'act', 'so', 'stupid', 'and', 'with', 'all', 'the', 'nuditi', 'in', 'thi', 'filmit', 'unattract', 'compar', 'to', 'godard', 'film', 'intellectu', 'ha', 'been', 'replac', 'with', 'stupid', 'without', 'go', 'too', 'far', 'on', 'thi', 'subject', 'i', 'would', 'say', 'that', 'follow', 'from', 'the', 'differ', 'in', 'ideal', 'between', 'the', 'french', 'and', 'the', 'swedish', 'societybr', 'br', 'a', 'movi', 'of', 'it', 'time', 'and', 'place', '210']\n",
      "Lemmatized Токены:\n",
      "['this', 'film', 'wa', 'probably', 'inspired', 'by', 'godard', 'masculin', 'féminin', 'and', 'i', 'urge', 'you', 'to', 'see', 'that', 'film', 'insteadbr', 'br', 'the', 'film', 'ha', 'two', 'strong', 'element', 'and', 'those', 'are', '1', 'the', 'realistic', 'acting', '2', 'the', 'impressive', 'undeservedly', 'good', 'photo', 'apart', 'from', 'that', 'what', 'strike', 'me', 'most', 'is', 'the', 'endless', 'stream', 'of', 'silliness', 'lena', 'nyman', 'ha', 'to', 'be', 'most', 'annoying', 'actress', 'in', 'the', 'world', 'she', 'act', 'so', 'stupid', 'and', 'with', 'all', 'the', 'nudity', 'in', 'this', 'filmits', 'unattractive', 'comparing', 'to', 'godard', 'film', 'intellectuality', 'ha', 'been', 'replaced', 'with', 'stupidity', 'without', 'going', 'too', 'far', 'on', 'this', 'subject', 'i', 'would', 'say', 'that', 'follows', 'from', 'the', 'difference', 'in', 'ideal', 'between', 'the', 'french', 'and', 'the', 'swedish', 'societybr', 'br', 'a', 'movie', 'of', 'it', 'time', 'and', 'place', '210']\n",
      "Необработанные токены:\n",
      "['oh', 'brotherafter', 'hearing', 'about', 'this', 'ridiculous', 'film', 'for', 'umpteen', 'years', 'all', 'i', 'can', 'think', 'of', 'is', 'that', 'old', 'peggy', 'lee', 'songbr', 'br', 'is', 'that', 'all', 'there', 'is', 'i', 'was', 'just', 'an', 'early', 'teen', 'when', 'this', 'smoked', 'fish', 'hit', 'the', 'us', 'i', 'was', 'too', 'young', 'to', 'get', 'in', 'the', 'theater', 'although', 'i', 'did', 'manage', 'to', 'sneak', 'into', 'goodbye', 'columbus', 'then', 'a', 'screening', 'at', 'a', 'local', 'film', 'museum', 'beckoned', 'finally', 'i', 'could', 'see', 'this', 'film', 'except', 'now', 'i', 'was', 'as', 'old', 'as', 'my', 'parents', 'were', 'when', 'they', 'schlepped', 'to', 'see', 'itbr', 'br', 'the', 'only', 'reason', 'this', 'film', 'was', 'not', 'condemned', 'to', 'the', 'anonymous', 'sands', 'of', 'time', 'was', 'because', 'of', 'the', 'obscenity', 'case', 'sparked', 'by', 'its', 'us', 'release', 'millions', 'of', 'people', 'flocked', 'to', 'this', 'stinker', 'thinking', 'they', 'were', 'going', 'to', 'see', 'a', 'sex', 'filminstead', 'they', 'got', 'lots', 'of', 'closeups', 'of', 'gnarly', 'repulsive', 'swedes', 'onstreet', 'interviews', 'in', 'bland', 'shopping', 'malls', 'asinie', 'political', 'pretensionand', 'feeble', 'whocares', 'simulated', 'sex', 'scenes', 'with', 'saggy', 'pale', 'actorsbr', 'br', 'cultural', 'icon', 'holy', 'grail', 'historic', 'artifactwhatever', 'this', 'thing', 'was', 'shred', 'it', 'burn', 'it', 'then', 'stuff', 'the', 'ashes', 'in', 'a', 'lead', 'boxbr', 'br', 'elite', 'esthetes', 'still', 'scrape', 'to', 'find', 'value', 'in', 'its', 'boring', 'pseudo', 'revolutionary', 'political', 'spewingsbut', 'if', 'it', 'werent', 'for', 'the', 'censorship', 'scandal', 'it', 'would', 'have', 'been', 'ignored', 'then', 'forgottenbr', 'br', 'instead', 'the', 'i', 'am', 'blank', 'blank', 'rhythymed', 'title', 'was', 'repeated', 'endlessly', 'for', 'years', 'as', 'a', 'titilation', 'for', 'porno', 'films', 'i', 'am', 'curious', 'lavender', 'for', 'gay', 'films', 'i', 'am', 'curious', 'black', 'for', 'blaxploitation', 'films', 'etc', 'and', 'every', 'ten', 'years', 'or', 'so', 'the', 'thing', 'rises', 'from', 'the', 'dead', 'to', 'be', 'viewed', 'by', 'a', 'new', 'generation', 'of', 'suckers', 'who', 'want', 'to', 'see', 'that', 'naughty', 'sex', 'film', 'that', 'revolutionized', 'the', 'film', 'industrybr', 'br', 'yeesh', 'avoid', 'like', 'the', 'plagueor', 'if', 'you', 'must', 'see', 'it', 'rent', 'the', 'video', 'and', 'fast', 'forward', 'to', 'the', 'dirty', 'parts', 'just', 'to', 'get', 'it', 'over', 'withbr', 'br']\n",
      "Stemmed токены:\n",
      "['oh', 'brotheraft', 'hear', 'about', 'thi', 'ridicul', 'film', 'for', 'umpteen', 'year', 'all', 'i', 'can', 'think', 'of', 'is', 'that', 'old', 'peggi', 'lee', 'songbr', 'br', 'is', 'that', 'all', 'there', 'is', 'i', 'wa', 'just', 'an', 'earli', 'teen', 'when', 'thi', 'smoke', 'fish', 'hit', 'the', 'us', 'i', 'wa', 'too', 'young', 'to', 'get', 'in', 'the', 'theater', 'although', 'i', 'did', 'manag', 'to', 'sneak', 'into', 'goodby', 'columbu', 'then', 'a', 'screen', 'at', 'a', 'local', 'film', 'museum', 'beckon', 'final', 'i', 'could', 'see', 'thi', 'film', 'except', 'now', 'i', 'wa', 'as', 'old', 'as', 'my', 'parent', 'were', 'when', 'they', 'schlep', 'to', 'see', 'itbr', 'br', 'the', 'onli', 'reason', 'thi', 'film', 'wa', 'not', 'condemn', 'to', 'the', 'anonym', 'sand', 'of', 'time', 'wa', 'becaus', 'of', 'the', 'obscen', 'case', 'spark', 'by', 'it', 'us', 'releas', 'million', 'of', 'peopl', 'flock', 'to', 'thi', 'stinker', 'think', 'they', 'were', 'go', 'to', 'see', 'a', 'sex', 'filminstead', 'they', 'got', 'lot', 'of', 'closeup', 'of', 'gnarli', 'repuls', 'swede', 'onstreet', 'interview', 'in', 'bland', 'shop', 'mall', 'asini', 'polit', 'pretensionand', 'feebl', 'whocar', 'simul', 'sex', 'scene', 'with', 'saggi', 'pale', 'actorsbr', 'br', 'cultur', 'icon', 'holi', 'grail', 'histor', 'artifactwhatev', 'thi', 'thing', 'wa', 'shred', 'it', 'burn', 'it', 'then', 'stuff', 'the', 'ash', 'in', 'a', 'lead', 'boxbr', 'br', 'elit', 'esthet', 'still', 'scrape', 'to', 'find', 'valu', 'in', 'it', 'bore', 'pseudo', 'revolutionari', 'polit', 'spewingsbut', 'if', 'it', 'werent', 'for', 'the', 'censorship', 'scandal', 'it', 'would', 'have', 'been', 'ignor', 'then', 'forgottenbr', 'br', 'instead', 'the', 'i', 'am', 'blank', 'blank', 'rhythym', 'titl', 'wa', 'repeat', 'endlessli', 'for', 'year', 'as', 'a', 'titil', 'for', 'porno', 'film', 'i', 'am', 'curiou', 'lavend', 'for', 'gay', 'film', 'i', 'am', 'curiou', 'black', 'for', 'blaxploit', 'film', 'etc', 'and', 'everi', 'ten', 'year', 'or', 'so', 'the', 'thing', 'rise', 'from', 'the', 'dead', 'to', 'be', 'view', 'by', 'a', 'new', 'gener', 'of', 'sucker', 'who', 'want', 'to', 'see', 'that', 'naughti', 'sex', 'film', 'that', 'revolution', 'the', 'film', 'industrybr', 'br', 'yeesh', 'avoid', 'like', 'the', 'plagueor', 'if', 'you', 'must', 'see', 'it', 'rent', 'the', 'video', 'and', 'fast', 'forward', 'to', 'the', 'dirti', 'part', 'just', 'to', 'get', 'it', 'over', 'withbr', 'br']\n",
      "Lemmatized Токены:\n",
      "['oh', 'brotherafter', 'hearing', 'about', 'this', 'ridiculous', 'film', 'for', 'umpteen', 'year', 'all', 'i', 'can', 'think', 'of', 'is', 'that', 'old', 'peggy', 'lee', 'songbr', 'br', 'is', 'that', 'all', 'there', 'is', 'i', 'wa', 'just', 'an', 'early', 'teen', 'when', 'this', 'smoked', 'fish', 'hit', 'the', 'u', 'i', 'wa', 'too', 'young', 'to', 'get', 'in', 'the', 'theater', 'although', 'i', 'did', 'manage', 'to', 'sneak', 'into', 'goodbye', 'columbus', 'then', 'a', 'screening', 'at', 'a', 'local', 'film', 'museum', 'beckoned', 'finally', 'i', 'could', 'see', 'this', 'film', 'except', 'now', 'i', 'wa', 'a', 'old', 'a', 'my', 'parent', 'were', 'when', 'they', 'schlepped', 'to', 'see', 'itbr', 'br', 'the', 'only', 'reason', 'this', 'film', 'wa', 'not', 'condemned', 'to', 'the', 'anonymous', 'sand', 'of', 'time', 'wa', 'because', 'of', 'the', 'obscenity', 'case', 'sparked', 'by', 'it', 'u', 'release', 'million', 'of', 'people', 'flocked', 'to', 'this', 'stinker', 'thinking', 'they', 'were', 'going', 'to', 'see', 'a', 'sex', 'filminstead', 'they', 'got', 'lot', 'of', 'closeup', 'of', 'gnarly', 'repulsive', 'swede', 'onstreet', 'interview', 'in', 'bland', 'shopping', 'mall', 'asinie', 'political', 'pretensionand', 'feeble', 'whocares', 'simulated', 'sex', 'scene', 'with', 'saggy', 'pale', 'actorsbr', 'br', 'cultural', 'icon', 'holy', 'grail', 'historic', 'artifactwhatever', 'this', 'thing', 'wa', 'shred', 'it', 'burn', 'it', 'then', 'stuff', 'the', 'ash', 'in', 'a', 'lead', 'boxbr', 'br', 'elite', 'esthete', 'still', 'scrape', 'to', 'find', 'value', 'in', 'it', 'boring', 'pseudo', 'revolutionary', 'political', 'spewingsbut', 'if', 'it', 'werent', 'for', 'the', 'censorship', 'scandal', 'it', 'would', 'have', 'been', 'ignored', 'then', 'forgottenbr', 'br', 'instead', 'the', 'i', 'am', 'blank', 'blank', 'rhythymed', 'title', 'wa', 'repeated', 'endlessly', 'for', 'year', 'a', 'a', 'titilation', 'for', 'porno', 'film', 'i', 'am', 'curious', 'lavender', 'for', 'gay', 'film', 'i', 'am', 'curious', 'black', 'for', 'blaxploitation', 'film', 'etc', 'and', 'every', 'ten', 'year', 'or', 'so', 'the', 'thing', 'rise', 'from', 'the', 'dead', 'to', 'be', 'viewed', 'by', 'a', 'new', 'generation', 'of', 'sucker', 'who', 'want', 'to', 'see', 'that', 'naughty', 'sex', 'film', 'that', 'revolutionized', 'the', 'film', 'industrybr', 'br', 'yeesh', 'avoid', 'like', 'the', 'plagueor', 'if', 'you', 'must', 'see', 'it', 'rent', 'the', 'video', 'and', 'fast', 'forward', 'to', 'the', 'dirty', 'part', 'just', 'to', 'get', 'it', 'over', 'withbr', 'br']\n"
     ]
    }
   ],
   "execution_count": 21
  },
  {
   "metadata": {
    "ExecuteTime": {
     "end_time": "2025-02-19T08:27:17.759797Z",
     "start_time": "2025-02-19T08:27:17.755650Z"
    }
   },
   "cell_type": "code",
   "source": "find_difference(imdb_base_result[0], imdb_stemmed_result[0], imdb_lemmatized_result[0])",
   "id": "cedb1ba644535148",
   "outputs": [
    {
     "name": "stdout",
     "output_type": "stream",
     "text": [
      "Слово\tСтемминг\tЛемматизация\n",
      "rented rent rented\n",
      "because becaus because\n",
      "controversy controversi controversy\n",
      "surrounded surround surrounded\n",
      "released releas released\n",
      "seized seiz seized\n",
      "us us u\n",
      "tried tri tried\n",
      "this thi this\n",
      "country countri country\n",
      "therefore therefor therefore\n",
      "being be being\n",
      "considered consid considered\n",
      "controversial controversi controversial\n",
      "really realli really\n",
      "this thi this\n",
      "centered center centered\n",
      "named name named\n",
      "everything everyth everything\n",
      "focus focu focus\n",
      "attentions attent attention\n",
      "making make making\n",
      "documentary documentari documentary\n",
      "average averag average\n",
      "political polit political\n",
      "issues issu issue\n",
      "as as a\n",
      "issues issu issue\n",
      "united unit united\n",
      "asking ask asking\n",
      "ordinary ordinari ordinary\n",
      "politics polit politics\n",
      "classmates classmat classmate\n",
      "married marri married\n",
      "this thi this\n",
      "considered consid considered\n",
      "pornographic pornograph pornographic\n",
      "really realli really\n",
      "nudity nuditi nudity\n",
      "cheaply cheapli cheaply\n",
      "countrymen countrymen countryman\n",
      "shocking shock shocking\n",
      "reality realiti reality\n",
      "nudity nuditi nudity\n",
      "staple stapl staple\n",
      "arguably arguabl arguably\n",
      "his hi his\n",
      "filmmakers filmmak filmmaker\n",
      "any ani any\n",
      "artistic artist artistic\n",
      "purposes purpos purpose\n",
      "people peopl people\n",
      "pornographic pornograph pornographic\n",
      "anyone anyon anyone\n",
      "wanting want wanting\n",
      "study studi study\n",
      "intended intend intended\n",
      "really realli really\n",
      "this thi this\n"
     ]
    }
   ],
   "execution_count": 22
  },
  {
   "metadata": {},
   "cell_type": "markdown",
   "source": "### Очистка от стоп слов",
   "id": "5413946c51953d14"
  },
  {
   "metadata": {
    "ExecuteTime": {
     "end_time": "2025-02-19T08:27:18.024848Z",
     "start_time": "2025-02-19T08:27:17.787786Z"
    }
   },
   "cell_type": "code",
   "source": [
    "nltk.download('stopwords')\n",
    "from nltk.corpus import stopwords\n",
    "stop_words = set(stopwords.words(\"english\"))"
   ],
   "id": "4c4c803b4de2b7f",
   "outputs": [
    {
     "name": "stderr",
     "output_type": "stream",
     "text": [
      "[nltk_data] Downloading package stopwords to\n",
      "[nltk_data]     C:\\Users\\R1sed\\AppData\\Roaming\\nltk_data...\n",
      "[nltk_data]   Unzipping corpora\\stopwords.zip.\n"
     ]
    }
   ],
   "execution_count": 23
  },
  {
   "metadata": {
    "ExecuteTime": {
     "end_time": "2025-02-19T08:37:21.484121Z",
     "start_time": "2025-02-19T08:37:21.479231Z"
    }
   },
   "cell_type": "code",
   "source": "print(sorted(list(stop_words)))",
   "id": "de465b5e9a4aa580",
   "outputs": [
    {
     "name": "stdout",
     "output_type": "stream",
     "text": [
      "['a', 'about', 'above', 'after', 'again', 'against', 'ain', 'all', 'am', 'an', 'and', 'any', 'are', 'aren', \"aren't\", 'as', 'at', 'be', 'because', 'been', 'before', 'being', 'below', 'between', 'both', 'but', 'by', 'can', 'couldn', \"couldn't\", 'd', 'did', 'didn', \"didn't\", 'do', 'does', 'doesn', \"doesn't\", 'doing', 'don', \"don't\", 'down', 'during', 'each', 'few', 'for', 'from', 'further', 'had', 'hadn', \"hadn't\", 'has', 'hasn', \"hasn't\", 'have', 'haven', \"haven't\", 'having', 'he', 'her', 'here', 'hers', 'herself', 'him', 'himself', 'his', 'how', 'i', 'if', 'in', 'into', 'is', 'isn', \"isn't\", 'it', \"it's\", 'its', 'itself', 'just', 'll', 'm', 'ma', 'me', 'mightn', \"mightn't\", 'more', 'most', 'mustn', \"mustn't\", 'my', 'myself', 'needn', \"needn't\", 'no', 'nor', 'not', 'now', 'o', 'of', 'off', 'on', 'once', 'only', 'or', 'other', 'our', 'ours', 'ourselves', 'out', 'over', 'own', 're', 's', 'same', 'shan', \"shan't\", 'she', \"she's\", 'should', \"should've\", 'shouldn', \"shouldn't\", 'so', 'some', 'such', 't', 'than', 'that', \"that'll\", 'the', 'their', 'theirs', 'them', 'themselves', 'then', 'there', 'these', 'they', 'this', 'those', 'through', 'to', 'too', 'under', 'until', 'up', 've', 'very', 'was', 'wasn', \"wasn't\", 'we', 'were', 'weren', \"weren't\", 'what', 'when', 'where', 'which', 'while', 'who', 'whom', 'why', 'will', 'with', 'won', \"won't\", 'wouldn', \"wouldn't\", 'y', 'you', \"you'd\", \"you'll\", \"you're\", \"you've\", 'your', 'yours', 'yourself', 'yourselves']\n"
     ]
    }
   ],
   "execution_count": 30
  },
  {
   "metadata": {
    "ExecuteTime": {
     "end_time": "2025-02-19T08:27:18.198173Z",
     "start_time": "2025-02-19T08:27:18.066643Z"
    }
   },
   "cell_type": "code",
   "source": [
    "example1 = dataset[\"train\"][\"text\"][0]\n",
    "print(example1)"
   ],
   "id": "9e614edc17075439",
   "outputs": [
    {
     "name": "stdout",
     "output_type": "stream",
     "text": [
      "Wall St. Bears Claw Back Into the Black (Reuters) Reuters - Short-sellers, Wall Street's dwindling\\band of ultra-cynics, are seeing green again.\n"
     ]
    }
   ],
   "execution_count": 25
  },
  {
   "metadata": {
    "ExecuteTime": {
     "end_time": "2025-02-19T08:40:13.349132Z",
     "start_time": "2025-02-19T08:40:13.344045Z"
    }
   },
   "cell_type": "code",
   "outputs": [
    {
     "name": "stdout",
     "output_type": "stream",
     "text": [
      "{'$', '.', '#', '|', '*', ':', ';', '[', '!', \"'\", ']', '&', '~', '+', '%', '>', '_', '@', '\\\\', '{', ')', '}', '<', '(', '=', '^', '/', '`', '-', '?', ',', '\"'}\n"
     ]
    }
   ],
   "execution_count": 31,
   "source": "print(set(string.punctuation))",
   "id": "f9d4b81505e4e181"
  },
  {
   "metadata": {
    "ExecuteTime": {
     "end_time": "2025-02-19T09:08:03.600072Z",
     "start_time": "2025-02-19T09:08:03.595407Z"
    }
   },
   "cell_type": "code",
   "source": [
    "def stopwords_preprocess(text): \n",
    "    text = text.lower()\n",
    "    text = nltk.word_tokenize(text)\n",
    "    text = [word for word in text if (word not in stop_words and word not in set(string.punctuation))] # удаление стоп-слов и пунктуации\n",
    "    text = [word for word in text if (set(word) - set(string.punctuation)) != set()]\n",
    "    return text"
   ],
   "id": "7217f657102bf856",
   "outputs": [],
   "execution_count": 44
  },
  {
   "metadata": {
    "ExecuteTime": {
     "end_time": "2025-02-19T09:19:27.003023Z",
     "start_time": "2025-02-19T09:19:26.999011Z"
    }
   },
   "cell_type": "code",
   "source": [
    "def stopwords_preprocess2(text): \n",
    "    text = text.lower().split()\n",
    "    text = [word for word in text if word not in stop_words] # удаление стоп-слов\n",
    "    text = ' '.join(text)\n",
    "    text = nltk.word_tokenize(text)\n",
    "    text = [word for word in text if (set(word) - set(string.punctuation)) != set()]\n",
    "    return text"
   ],
   "id": "b0df89b399a93726",
   "outputs": [],
   "execution_count": 52
  },
  {
   "metadata": {
    "ExecuteTime": {
     "end_time": "2025-02-19T09:08:05.251368Z",
     "start_time": "2025-02-19T09:08:05.245282Z"
    }
   },
   "cell_type": "code",
   "source": "stopwords_preprocess(example1)",
   "id": "a28467f94784dc97",
   "outputs": [
    {
     "data": {
      "text/plain": [
       "['wall',\n",
       " 'st.',\n",
       " 'bears',\n",
       " 'claw',\n",
       " 'back',\n",
       " 'black',\n",
       " 'reuters',\n",
       " 'reuters',\n",
       " 'short-sellers',\n",
       " 'wall',\n",
       " 'street',\n",
       " \"'s\",\n",
       " 'dwindling\\\\band',\n",
       " 'ultra-cynics',\n",
       " 'seeing',\n",
       " 'green']"
      ]
     },
     "execution_count": 45,
     "metadata": {},
     "output_type": "execute_result"
    }
   ],
   "execution_count": 45
  },
  {
   "metadata": {
    "ExecuteTime": {
     "end_time": "2025-02-19T09:08:07.715444Z",
     "start_time": "2025-02-19T09:08:07.655123Z"
    }
   },
   "cell_type": "code",
   "source": [
    "example2 = imdb_dataset[\"test\"][\"text\"][0]\n",
    "print(example2)"
   ],
   "id": "82f79f9cb4bc2827",
   "outputs": [
    {
     "name": "stdout",
     "output_type": "stream",
     "text": [
      "I love sci-fi and am willing to put up with a lot. Sci-fi movies/TV are usually underfunded, under-appreciated and misunderstood. I tried to like this, I really did, but it is to good TV sci-fi as Babylon 5 is to Star Trek (the original). Silly prosthetics, cheap cardboard sets, stilted dialogues, CG that doesn't match the background, and painfully one-dimensional characters cannot be overcome with a 'sci-fi' setting. (I'm sure there are those of you out there who think Babylon 5 is good sci-fi TV. It's not. It's clichéd and uninspiring.) While US viewers might like emotion and character development, sci-fi is a genre that does not take itself seriously (cf. Star Trek). It may treat important issues, yet not as a serious philosophy. It's really difficult to care about the characters here as they are not simply foolish, just missing a spark of life. Their actions and reactions are wooden and predictable, often painful to watch. The makers of Earth KNOW it's rubbish as they have to always say \"Gene Roddenberry's Earth...\" otherwise people would not continue watching. Roddenberry's ashes must be turning in their orbit as this dull, cheap, poorly edited (watching it without advert breaks really brings this home) trudging Trabant of a show lumbers into space. Spoiler. So, kill off a main character. And then bring him back as another actor. Jeeez! Dallas all over again.\n"
     ]
    }
   ],
   "execution_count": 46
  },
  {
   "metadata": {
    "ExecuteTime": {
     "end_time": "2025-02-19T09:08:07.970369Z",
     "start_time": "2025-02-19T09:08:07.963252Z"
    }
   },
   "cell_type": "code",
   "source": "stopwords_preprocess(example2)",
   "id": "bbce0ab9ccb492e5",
   "outputs": [
    {
     "data": {
      "text/plain": [
       "['love',\n",
       " 'sci-fi',\n",
       " 'willing',\n",
       " 'put',\n",
       " 'lot',\n",
       " 'sci-fi',\n",
       " 'movies/tv',\n",
       " 'usually',\n",
       " 'underfunded',\n",
       " 'under-appreciated',\n",
       " 'misunderstood',\n",
       " 'tried',\n",
       " 'like',\n",
       " 'really',\n",
       " 'good',\n",
       " 'tv',\n",
       " 'sci-fi',\n",
       " 'babylon',\n",
       " '5',\n",
       " 'star',\n",
       " 'trek',\n",
       " 'original',\n",
       " 'silly',\n",
       " 'prosthetics',\n",
       " 'cheap',\n",
       " 'cardboard',\n",
       " 'sets',\n",
       " 'stilted',\n",
       " 'dialogues',\n",
       " 'cg',\n",
       " \"n't\",\n",
       " 'match',\n",
       " 'background',\n",
       " 'painfully',\n",
       " 'one-dimensional',\n",
       " 'characters',\n",
       " 'overcome',\n",
       " \"'sci-fi\",\n",
       " 'setting',\n",
       " \"'m\",\n",
       " 'sure',\n",
       " 'think',\n",
       " 'babylon',\n",
       " '5',\n",
       " 'good',\n",
       " 'sci-fi',\n",
       " 'tv',\n",
       " \"'s\",\n",
       " \"'s\",\n",
       " 'clichéd',\n",
       " 'uninspiring',\n",
       " 'us',\n",
       " 'viewers',\n",
       " 'might',\n",
       " 'like',\n",
       " 'emotion',\n",
       " 'character',\n",
       " 'development',\n",
       " 'sci-fi',\n",
       " 'genre',\n",
       " 'take',\n",
       " 'seriously',\n",
       " 'cf',\n",
       " 'star',\n",
       " 'trek',\n",
       " 'may',\n",
       " 'treat',\n",
       " 'important',\n",
       " 'issues',\n",
       " 'yet',\n",
       " 'serious',\n",
       " 'philosophy',\n",
       " \"'s\",\n",
       " 'really',\n",
       " 'difficult',\n",
       " 'care',\n",
       " 'characters',\n",
       " 'simply',\n",
       " 'foolish',\n",
       " 'missing',\n",
       " 'spark',\n",
       " 'life',\n",
       " 'actions',\n",
       " 'reactions',\n",
       " 'wooden',\n",
       " 'predictable',\n",
       " 'often',\n",
       " 'painful',\n",
       " 'watch',\n",
       " 'makers',\n",
       " 'earth',\n",
       " 'know',\n",
       " \"'s\",\n",
       " 'rubbish',\n",
       " 'always',\n",
       " 'say',\n",
       " 'gene',\n",
       " 'roddenberry',\n",
       " \"'s\",\n",
       " 'earth',\n",
       " 'otherwise',\n",
       " 'people',\n",
       " 'would',\n",
       " 'continue',\n",
       " 'watching',\n",
       " 'roddenberry',\n",
       " \"'s\",\n",
       " 'ashes',\n",
       " 'must',\n",
       " 'turning',\n",
       " 'orbit',\n",
       " 'dull',\n",
       " 'cheap',\n",
       " 'poorly',\n",
       " 'edited',\n",
       " 'watching',\n",
       " 'without',\n",
       " 'advert',\n",
       " 'breaks',\n",
       " 'really',\n",
       " 'brings',\n",
       " 'home',\n",
       " 'trudging',\n",
       " 'trabant',\n",
       " 'show',\n",
       " 'lumbers',\n",
       " 'space',\n",
       " 'spoiler',\n",
       " 'kill',\n",
       " 'main',\n",
       " 'character',\n",
       " 'bring',\n",
       " 'back',\n",
       " 'another',\n",
       " 'actor',\n",
       " 'jeeez',\n",
       " 'dallas']"
      ]
     },
     "execution_count": 47,
     "metadata": {},
     "output_type": "execute_result"
    }
   ],
   "execution_count": 47
  },
  {
   "metadata": {
    "ExecuteTime": {
     "end_time": "2025-02-19T09:19:30.592078Z",
     "start_time": "2025-02-19T09:19:30.585077Z"
    }
   },
   "cell_type": "code",
   "source": "stopwords_preprocess2(example2)",
   "id": "78c8268f8eb7c721",
   "outputs": [
    {
     "data": {
      "text/plain": [
       "['love',\n",
       " 'sci-fi',\n",
       " 'willing',\n",
       " 'put',\n",
       " 'lot',\n",
       " 'sci-fi',\n",
       " 'movies/tv',\n",
       " 'usually',\n",
       " 'underfunded',\n",
       " 'under-appreciated',\n",
       " 'misunderstood',\n",
       " 'tried',\n",
       " 'like',\n",
       " 'this',\n",
       " 'really',\n",
       " 'did',\n",
       " 'good',\n",
       " 'tv',\n",
       " 'sci-fi',\n",
       " 'babylon',\n",
       " '5',\n",
       " 'star',\n",
       " 'trek',\n",
       " 'the',\n",
       " 'original',\n",
       " 'silly',\n",
       " 'prosthetics',\n",
       " 'cheap',\n",
       " 'cardboard',\n",
       " 'sets',\n",
       " 'stilted',\n",
       " 'dialogues',\n",
       " 'cg',\n",
       " 'match',\n",
       " 'background',\n",
       " 'painfully',\n",
       " 'one-dimensional',\n",
       " 'characters',\n",
       " 'can',\n",
       " 'not',\n",
       " 'overcome',\n",
       " \"'sci-fi\",\n",
       " 'setting',\n",
       " 'i',\n",
       " \"'m\",\n",
       " 'sure',\n",
       " 'think',\n",
       " 'babylon',\n",
       " '5',\n",
       " 'good',\n",
       " 'sci-fi',\n",
       " 'tv',\n",
       " 'not',\n",
       " 'clichéd',\n",
       " 'uninspiring',\n",
       " 'us',\n",
       " 'viewers',\n",
       " 'might',\n",
       " 'like',\n",
       " 'emotion',\n",
       " 'character',\n",
       " 'development',\n",
       " 'sci-fi',\n",
       " 'genre',\n",
       " 'take',\n",
       " 'seriously',\n",
       " 'cf',\n",
       " 'star',\n",
       " 'trek',\n",
       " 'may',\n",
       " 'treat',\n",
       " 'important',\n",
       " 'issues',\n",
       " 'yet',\n",
       " 'serious',\n",
       " 'philosophy',\n",
       " 'really',\n",
       " 'difficult',\n",
       " 'care',\n",
       " 'characters',\n",
       " 'simply',\n",
       " 'foolish',\n",
       " 'missing',\n",
       " 'spark',\n",
       " 'life',\n",
       " 'actions',\n",
       " 'reactions',\n",
       " 'wooden',\n",
       " 'predictable',\n",
       " 'often',\n",
       " 'painful',\n",
       " 'watch',\n",
       " 'makers',\n",
       " 'earth',\n",
       " 'know',\n",
       " 'rubbish',\n",
       " 'always',\n",
       " 'say',\n",
       " 'gene',\n",
       " 'roddenberry',\n",
       " \"'s\",\n",
       " 'earth',\n",
       " 'otherwise',\n",
       " 'people',\n",
       " 'would',\n",
       " 'continue',\n",
       " 'watching',\n",
       " 'roddenberry',\n",
       " \"'s\",\n",
       " 'ashes',\n",
       " 'must',\n",
       " 'turning',\n",
       " 'orbit',\n",
       " 'dull',\n",
       " 'cheap',\n",
       " 'poorly',\n",
       " 'edited',\n",
       " 'watching',\n",
       " 'without',\n",
       " 'advert',\n",
       " 'breaks',\n",
       " 'really',\n",
       " 'brings',\n",
       " 'home',\n",
       " 'trudging',\n",
       " 'trabant',\n",
       " 'show',\n",
       " 'lumbers',\n",
       " 'space',\n",
       " 'spoiler',\n",
       " 'so',\n",
       " 'kill',\n",
       " 'main',\n",
       " 'character',\n",
       " 'bring',\n",
       " 'back',\n",
       " 'another',\n",
       " 'actor',\n",
       " 'jeeez',\n",
       " 'dallas',\n",
       " 'again']"
      ]
     },
     "execution_count": 53,
     "metadata": {},
     "output_type": "execute_result"
    }
   ],
   "execution_count": 53
  },
  {
   "metadata": {},
   "cell_type": "code",
   "outputs": [],
   "execution_count": null,
   "source": "",
   "id": "4f61357496c8ce64"
  }
 ],
 "metadata": {
  "kernelspec": {
   "display_name": "Python 3",
   "language": "python",
   "name": "python3"
  },
  "language_info": {
   "codemirror_mode": {
    "name": "ipython",
    "version": 2
   },
   "file_extension": ".py",
   "mimetype": "text/x-python",
   "name": "python",
   "nbconvert_exporter": "python",
   "pygments_lexer": "ipython2",
   "version": "2.7.6"
  }
 },
 "nbformat": 4,
 "nbformat_minor": 5
}
